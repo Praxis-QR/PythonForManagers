{
  "nbformat": 4,
  "nbformat_minor": 0,
  "metadata": {
    "colab": {
      "provenance": [],
      "include_colab_link": true
    },
    "kernelspec": {
      "name": "python3",
      "display_name": "Python 3"
    },
    "language_info": {
      "name": "python"
    }
  },
  "cells": [
    {
      "cell_type": "markdown",
      "metadata": {
        "id": "view-in-github",
        "colab_type": "text"
      },
      "source": [
        "<a href=\"https://colab.research.google.com/github/Praxis-QR/PythonForManagers/blob/main/ChatGPT_Retail_Sales_Data_Analysis.ipynb\" target=\"_parent\"><img src=\"https://colab.research.google.com/assets/colab-badge.svg\" alt=\"Open In Colab\"/></a>"
      ]
    },
    {
      "cell_type": "markdown",
      "source": [
        "![CC-BY-SA](https://licensebuttons.net/l/by-sa/3.0/88x31.png)<br>\n",
        "<hr>\n",
        "\n",
        "![alt text](https://github.com/Praxis-QR/RDWH/raw/main/images/YantraJaalBanner.png)<br>\n",
        "\n",
        "\n",
        "<hr>\n",
        "\n",
        "[Prithwis Mukerjee](http://www.linkedin.com/in/prithwis)<br>"
      ],
      "metadata": {
        "id": "G9CBag5kEtXb"
      }
    },
    {
      "cell_type": "markdown",
      "source": [
        "# Analysis of Retail Sales Data\n",
        "In this Colab Notebook, we demonstrate the usage of basic Pandas functions to explore data in a relative large dataset available with [Kaggle](https://www.kaggle.com/datasets/laibaanwer/superstore-sales-dataset?resource=download)<br>\n",
        "\n",
        "This is  [Exercise # 1](https://pymanager.blogspot.com/p/superstore-sales-analysis.html) used in the textbook [Python for Business Managers](https://pymanager.blogspot.com/p/welcome.html).\n"
      ],
      "metadata": {
        "id": "axubZ3xff1fU"
      }
    },
    {
      "cell_type": "code",
      "execution_count": 1,
      "metadata": {
        "id": "q8ez41aCz50y",
        "colab": {
          "base_uri": "https://localhost:8080/",
          "height": 35
        },
        "outputId": "83118fb1-cadb-413a-b228-eccad5e496ab"
      },
      "outputs": [
        {
          "output_type": "execute_result",
          "data": {
            "text/plain": [
              "'02 March 2024'"
            ],
            "application/vnd.google.colaboratory.intrinsic+json": {
              "type": "string"
            }
          },
          "metadata": {},
          "execution_count": 1
        }
      ],
      "source": [
        "#\n",
        "# The first step is to import the all-important pandas module\n",
        "#\n",
        "import pandas as pd                               #\n",
        "pd.to_datetime(\"today\").strftime(\"%d %B %Y\")      # get today's date and format it as required\n",
        "                                                  # other formats https://www.geeksforgeeks.org/python-strftime-function/"
      ]
    },
    {
      "cell_type": "markdown",
      "source": [
        "# Data Acquisition"
      ],
      "metadata": {
        "id": "44cJscpkuogL"
      }
    },
    {
      "cell_type": "code",
      "source": [
        "#\n",
        "# the data is available in both CSV format as well as XLSX format\n",
        "# prior conversion to XLSX format, if possible, makes the analysis easier because Excel handles many of the data conversion from string to date etc\n",
        "# however, we will demonstrate the usage of the CSV format because it is more likely to be found in real world situation\n",
        "#\n",
        "dataURL1 = 'https://github.com/Praxis-QR/PythonForManagers/raw/main/Data/SuperStoreSalesKaggle.zip'   # zipped CSV file\n",
        "dataURL2 = 'https://github.com/Praxis-QR/PythonForManagers/raw/main/Data/KaggleRetailSales.xlsx'      # xlsx file\n",
        "df = pd.read_csv(dataURL1)                              # Pandas can read a zipped, CSV file from a remote location\n",
        "#df = pd.read_excel(dataURL2)                             # Can also read the corresponding excel file .xlsx\n",
        "df.shape                                           # Each row in this dataset represents data about ONE sale transaction"
      ],
      "metadata": {
        "id": "sPyv6Xig0dEt",
        "colab": {
          "base_uri": "https://localhost:8080/"
        },
        "outputId": "7cb94671-5bc9-4f44-b121-068a6eab0e8c"
      },
      "execution_count": 2,
      "outputs": [
        {
          "output_type": "execute_result",
          "data": {
            "text/plain": [
              "(51290, 21)"
            ]
          },
          "metadata": {},
          "execution_count": 2
        }
      ]
    },
    {
      "cell_type": "code",
      "source": [
        "df.head(3)"
      ],
      "metadata": {
        "id": "yCZ2yKF4bFJ_",
        "outputId": "fd14e229-fdbb-40d1-9f1f-1b4eb40bb721",
        "colab": {
          "base_uri": "https://localhost:8080/",
          "height": 262
        }
      },
      "execution_count": 3,
      "outputs": [
        {
          "output_type": "execute_result",
          "data": {
            "text/plain": [
              "        order_id order_date ship_date       ship_mode    customer_name  \\\n",
              "0   AG-2011-2040   1/1/2011  6/1/2011  Standard Class  Toby Braunhardt   \n",
              "1  IN-2011-47883   1/1/2011  8/1/2011  Standard Class      Joseph Holt   \n",
              "2   HU-2011-1220   1/1/2011  5/1/2011    Second Class    Annie Thurman   \n",
              "\n",
              "    segment            state    country  market   region  ...  \\\n",
              "0  Consumer      Constantine    Algeria  Africa   Africa  ...   \n",
              "1  Consumer  New South Wales  Australia    APAC  Oceania  ...   \n",
              "2  Consumer         Budapest    Hungary    EMEA     EMEA  ...   \n",
              "\n",
              "          category sub_category              product_name sales quantity  \\\n",
              "0  Office Supplies      Storage       Tenex Lockers, Blue   408        2   \n",
              "1  Office Supplies     Supplies  Acme Trimmer, High Speed   120        3   \n",
              "2  Office Supplies      Storage   Tenex Box, Single Width    66        4   \n",
              "\n",
              "   discount   profit  shipping_cost  order_priority  year  \n",
              "0       0.0  106.140          35.46          Medium  2011  \n",
              "1       0.1   36.036           9.72          Medium  2011  \n",
              "2       0.0   29.640           8.17            High  2011  \n",
              "\n",
              "[3 rows x 21 columns]"
            ],
            "text/html": [
              "\n",
              "  <div id=\"df-3bdba3fc-bb93-46ab-ad0a-6d3c471f500a\" class=\"colab-df-container\">\n",
              "    <div>\n",
              "<style scoped>\n",
              "    .dataframe tbody tr th:only-of-type {\n",
              "        vertical-align: middle;\n",
              "    }\n",
              "\n",
              "    .dataframe tbody tr th {\n",
              "        vertical-align: top;\n",
              "    }\n",
              "\n",
              "    .dataframe thead th {\n",
              "        text-align: right;\n",
              "    }\n",
              "</style>\n",
              "<table border=\"1\" class=\"dataframe\">\n",
              "  <thead>\n",
              "    <tr style=\"text-align: right;\">\n",
              "      <th></th>\n",
              "      <th>order_id</th>\n",
              "      <th>order_date</th>\n",
              "      <th>ship_date</th>\n",
              "      <th>ship_mode</th>\n",
              "      <th>customer_name</th>\n",
              "      <th>segment</th>\n",
              "      <th>state</th>\n",
              "      <th>country</th>\n",
              "      <th>market</th>\n",
              "      <th>region</th>\n",
              "      <th>...</th>\n",
              "      <th>category</th>\n",
              "      <th>sub_category</th>\n",
              "      <th>product_name</th>\n",
              "      <th>sales</th>\n",
              "      <th>quantity</th>\n",
              "      <th>discount</th>\n",
              "      <th>profit</th>\n",
              "      <th>shipping_cost</th>\n",
              "      <th>order_priority</th>\n",
              "      <th>year</th>\n",
              "    </tr>\n",
              "  </thead>\n",
              "  <tbody>\n",
              "    <tr>\n",
              "      <th>0</th>\n",
              "      <td>AG-2011-2040</td>\n",
              "      <td>1/1/2011</td>\n",
              "      <td>6/1/2011</td>\n",
              "      <td>Standard Class</td>\n",
              "      <td>Toby Braunhardt</td>\n",
              "      <td>Consumer</td>\n",
              "      <td>Constantine</td>\n",
              "      <td>Algeria</td>\n",
              "      <td>Africa</td>\n",
              "      <td>Africa</td>\n",
              "      <td>...</td>\n",
              "      <td>Office Supplies</td>\n",
              "      <td>Storage</td>\n",
              "      <td>Tenex Lockers, Blue</td>\n",
              "      <td>408</td>\n",
              "      <td>2</td>\n",
              "      <td>0.0</td>\n",
              "      <td>106.140</td>\n",
              "      <td>35.46</td>\n",
              "      <td>Medium</td>\n",
              "      <td>2011</td>\n",
              "    </tr>\n",
              "    <tr>\n",
              "      <th>1</th>\n",
              "      <td>IN-2011-47883</td>\n",
              "      <td>1/1/2011</td>\n",
              "      <td>8/1/2011</td>\n",
              "      <td>Standard Class</td>\n",
              "      <td>Joseph Holt</td>\n",
              "      <td>Consumer</td>\n",
              "      <td>New South Wales</td>\n",
              "      <td>Australia</td>\n",
              "      <td>APAC</td>\n",
              "      <td>Oceania</td>\n",
              "      <td>...</td>\n",
              "      <td>Office Supplies</td>\n",
              "      <td>Supplies</td>\n",
              "      <td>Acme Trimmer, High Speed</td>\n",
              "      <td>120</td>\n",
              "      <td>3</td>\n",
              "      <td>0.1</td>\n",
              "      <td>36.036</td>\n",
              "      <td>9.72</td>\n",
              "      <td>Medium</td>\n",
              "      <td>2011</td>\n",
              "    </tr>\n",
              "    <tr>\n",
              "      <th>2</th>\n",
              "      <td>HU-2011-1220</td>\n",
              "      <td>1/1/2011</td>\n",
              "      <td>5/1/2011</td>\n",
              "      <td>Second Class</td>\n",
              "      <td>Annie Thurman</td>\n",
              "      <td>Consumer</td>\n",
              "      <td>Budapest</td>\n",
              "      <td>Hungary</td>\n",
              "      <td>EMEA</td>\n",
              "      <td>EMEA</td>\n",
              "      <td>...</td>\n",
              "      <td>Office Supplies</td>\n",
              "      <td>Storage</td>\n",
              "      <td>Tenex Box, Single Width</td>\n",
              "      <td>66</td>\n",
              "      <td>4</td>\n",
              "      <td>0.0</td>\n",
              "      <td>29.640</td>\n",
              "      <td>8.17</td>\n",
              "      <td>High</td>\n",
              "      <td>2011</td>\n",
              "    </tr>\n",
              "  </tbody>\n",
              "</table>\n",
              "<p>3 rows × 21 columns</p>\n",
              "</div>\n",
              "    <div class=\"colab-df-buttons\">\n",
              "\n",
              "  <div class=\"colab-df-container\">\n",
              "    <button class=\"colab-df-convert\" onclick=\"convertToInteractive('df-3bdba3fc-bb93-46ab-ad0a-6d3c471f500a')\"\n",
              "            title=\"Convert this dataframe to an interactive table.\"\n",
              "            style=\"display:none;\">\n",
              "\n",
              "  <svg xmlns=\"http://www.w3.org/2000/svg\" height=\"24px\" viewBox=\"0 -960 960 960\">\n",
              "    <path d=\"M120-120v-720h720v720H120Zm60-500h600v-160H180v160Zm220 220h160v-160H400v160Zm0 220h160v-160H400v160ZM180-400h160v-160H180v160Zm440 0h160v-160H620v160ZM180-180h160v-160H180v160Zm440 0h160v-160H620v160Z\"/>\n",
              "  </svg>\n",
              "    </button>\n",
              "\n",
              "  <style>\n",
              "    .colab-df-container {\n",
              "      display:flex;\n",
              "      gap: 12px;\n",
              "    }\n",
              "\n",
              "    .colab-df-convert {\n",
              "      background-color: #E8F0FE;\n",
              "      border: none;\n",
              "      border-radius: 50%;\n",
              "      cursor: pointer;\n",
              "      display: none;\n",
              "      fill: #1967D2;\n",
              "      height: 32px;\n",
              "      padding: 0 0 0 0;\n",
              "      width: 32px;\n",
              "    }\n",
              "\n",
              "    .colab-df-convert:hover {\n",
              "      background-color: #E2EBFA;\n",
              "      box-shadow: 0px 1px 2px rgba(60, 64, 67, 0.3), 0px 1px 3px 1px rgba(60, 64, 67, 0.15);\n",
              "      fill: #174EA6;\n",
              "    }\n",
              "\n",
              "    .colab-df-buttons div {\n",
              "      margin-bottom: 4px;\n",
              "    }\n",
              "\n",
              "    [theme=dark] .colab-df-convert {\n",
              "      background-color: #3B4455;\n",
              "      fill: #D2E3FC;\n",
              "    }\n",
              "\n",
              "    [theme=dark] .colab-df-convert:hover {\n",
              "      background-color: #434B5C;\n",
              "      box-shadow: 0px 1px 3px 1px rgba(0, 0, 0, 0.15);\n",
              "      filter: drop-shadow(0px 1px 2px rgba(0, 0, 0, 0.3));\n",
              "      fill: #FFFFFF;\n",
              "    }\n",
              "  </style>\n",
              "\n",
              "    <script>\n",
              "      const buttonEl =\n",
              "        document.querySelector('#df-3bdba3fc-bb93-46ab-ad0a-6d3c471f500a button.colab-df-convert');\n",
              "      buttonEl.style.display =\n",
              "        google.colab.kernel.accessAllowed ? 'block' : 'none';\n",
              "\n",
              "      async function convertToInteractive(key) {\n",
              "        const element = document.querySelector('#df-3bdba3fc-bb93-46ab-ad0a-6d3c471f500a');\n",
              "        const dataTable =\n",
              "          await google.colab.kernel.invokeFunction('convertToInteractive',\n",
              "                                                    [key], {});\n",
              "        if (!dataTable) return;\n",
              "\n",
              "        const docLinkHtml = 'Like what you see? Visit the ' +\n",
              "          '<a target=\"_blank\" href=https://colab.research.google.com/notebooks/data_table.ipynb>data table notebook</a>'\n",
              "          + ' to learn more about interactive tables.';\n",
              "        element.innerHTML = '';\n",
              "        dataTable['output_type'] = 'display_data';\n",
              "        await google.colab.output.renderOutput(dataTable, element);\n",
              "        const docLink = document.createElement('div');\n",
              "        docLink.innerHTML = docLinkHtml;\n",
              "        element.appendChild(docLink);\n",
              "      }\n",
              "    </script>\n",
              "  </div>\n",
              "\n",
              "\n",
              "<div id=\"df-1543e682-6c1b-4986-a2ee-5b108934b3f8\">\n",
              "  <button class=\"colab-df-quickchart\" onclick=\"quickchart('df-1543e682-6c1b-4986-a2ee-5b108934b3f8')\"\n",
              "            title=\"Suggest charts\"\n",
              "            style=\"display:none;\">\n",
              "\n",
              "<svg xmlns=\"http://www.w3.org/2000/svg\" height=\"24px\"viewBox=\"0 0 24 24\"\n",
              "     width=\"24px\">\n",
              "    <g>\n",
              "        <path d=\"M19 3H5c-1.1 0-2 .9-2 2v14c0 1.1.9 2 2 2h14c1.1 0 2-.9 2-2V5c0-1.1-.9-2-2-2zM9 17H7v-7h2v7zm4 0h-2V7h2v10zm4 0h-2v-4h2v4z\"/>\n",
              "    </g>\n",
              "</svg>\n",
              "  </button>\n",
              "\n",
              "<style>\n",
              "  .colab-df-quickchart {\n",
              "      --bg-color: #E8F0FE;\n",
              "      --fill-color: #1967D2;\n",
              "      --hover-bg-color: #E2EBFA;\n",
              "      --hover-fill-color: #174EA6;\n",
              "      --disabled-fill-color: #AAA;\n",
              "      --disabled-bg-color: #DDD;\n",
              "  }\n",
              "\n",
              "  [theme=dark] .colab-df-quickchart {\n",
              "      --bg-color: #3B4455;\n",
              "      --fill-color: #D2E3FC;\n",
              "      --hover-bg-color: #434B5C;\n",
              "      --hover-fill-color: #FFFFFF;\n",
              "      --disabled-bg-color: #3B4455;\n",
              "      --disabled-fill-color: #666;\n",
              "  }\n",
              "\n",
              "  .colab-df-quickchart {\n",
              "    background-color: var(--bg-color);\n",
              "    border: none;\n",
              "    border-radius: 50%;\n",
              "    cursor: pointer;\n",
              "    display: none;\n",
              "    fill: var(--fill-color);\n",
              "    height: 32px;\n",
              "    padding: 0;\n",
              "    width: 32px;\n",
              "  }\n",
              "\n",
              "  .colab-df-quickchart:hover {\n",
              "    background-color: var(--hover-bg-color);\n",
              "    box-shadow: 0 1px 2px rgba(60, 64, 67, 0.3), 0 1px 3px 1px rgba(60, 64, 67, 0.15);\n",
              "    fill: var(--button-hover-fill-color);\n",
              "  }\n",
              "\n",
              "  .colab-df-quickchart-complete:disabled,\n",
              "  .colab-df-quickchart-complete:disabled:hover {\n",
              "    background-color: var(--disabled-bg-color);\n",
              "    fill: var(--disabled-fill-color);\n",
              "    box-shadow: none;\n",
              "  }\n",
              "\n",
              "  .colab-df-spinner {\n",
              "    border: 2px solid var(--fill-color);\n",
              "    border-color: transparent;\n",
              "    border-bottom-color: var(--fill-color);\n",
              "    animation:\n",
              "      spin 1s steps(1) infinite;\n",
              "  }\n",
              "\n",
              "  @keyframes spin {\n",
              "    0% {\n",
              "      border-color: transparent;\n",
              "      border-bottom-color: var(--fill-color);\n",
              "      border-left-color: var(--fill-color);\n",
              "    }\n",
              "    20% {\n",
              "      border-color: transparent;\n",
              "      border-left-color: var(--fill-color);\n",
              "      border-top-color: var(--fill-color);\n",
              "    }\n",
              "    30% {\n",
              "      border-color: transparent;\n",
              "      border-left-color: var(--fill-color);\n",
              "      border-top-color: var(--fill-color);\n",
              "      border-right-color: var(--fill-color);\n",
              "    }\n",
              "    40% {\n",
              "      border-color: transparent;\n",
              "      border-right-color: var(--fill-color);\n",
              "      border-top-color: var(--fill-color);\n",
              "    }\n",
              "    60% {\n",
              "      border-color: transparent;\n",
              "      border-right-color: var(--fill-color);\n",
              "    }\n",
              "    80% {\n",
              "      border-color: transparent;\n",
              "      border-right-color: var(--fill-color);\n",
              "      border-bottom-color: var(--fill-color);\n",
              "    }\n",
              "    90% {\n",
              "      border-color: transparent;\n",
              "      border-bottom-color: var(--fill-color);\n",
              "    }\n",
              "  }\n",
              "</style>\n",
              "\n",
              "  <script>\n",
              "    async function quickchart(key) {\n",
              "      const quickchartButtonEl =\n",
              "        document.querySelector('#' + key + ' button');\n",
              "      quickchartButtonEl.disabled = true;  // To prevent multiple clicks.\n",
              "      quickchartButtonEl.classList.add('colab-df-spinner');\n",
              "      try {\n",
              "        const charts = await google.colab.kernel.invokeFunction(\n",
              "            'suggestCharts', [key], {});\n",
              "      } catch (error) {\n",
              "        console.error('Error during call to suggestCharts:', error);\n",
              "      }\n",
              "      quickchartButtonEl.classList.remove('colab-df-spinner');\n",
              "      quickchartButtonEl.classList.add('colab-df-quickchart-complete');\n",
              "    }\n",
              "    (() => {\n",
              "      let quickchartButtonEl =\n",
              "        document.querySelector('#df-1543e682-6c1b-4986-a2ee-5b108934b3f8 button');\n",
              "      quickchartButtonEl.style.display =\n",
              "        google.colab.kernel.accessAllowed ? 'block' : 'none';\n",
              "    })();\n",
              "  </script>\n",
              "</div>\n",
              "    </div>\n",
              "  </div>\n"
            ],
            "application/vnd.google.colaboratory.intrinsic+json": {
              "type": "dataframe",
              "variable_name": "df"
            }
          },
          "metadata": {},
          "execution_count": 3
        }
      ]
    },
    {
      "cell_type": "code",
      "source": [
        "df.tail(3)"
      ],
      "metadata": {
        "id": "YToFflOSGvj3",
        "outputId": "5ceff111-5cb3-4cf5-b729-edf0fa6f41f7",
        "colab": {
          "base_uri": "https://localhost:8080/",
          "height": 297
        }
      },
      "execution_count": 4,
      "outputs": [
        {
          "output_type": "execute_result",
          "data": {
            "text/plain": [
              "             order_id  order_date ship_date       ship_mode     customer_name  \\\n",
              "51287  MX-2014-110527  31-12-2014  2/1/2015    Second Class  Charlotte Melton   \n",
              "51288  MX-2014-114783  31-12-2014  6/1/2015  Standard Class     Tamara Dahlen   \n",
              "51289  CA-2014-156720  31-12-2014  4/1/2015  Standard Class     Jill Matthias   \n",
              "\n",
              "        segment      state        country market   region  ...  \\\n",
              "51287  Consumer    Managua      Nicaragua  LATAM  Central  ...   \n",
              "51288  Consumer  Chihuahua         Mexico  LATAM    North  ...   \n",
              "51289  Consumer   Colorado  United States     US     West  ...   \n",
              "\n",
              "              category sub_category                            product_name  \\\n",
              "51287  Office Supplies       Labels  Hon Color Coded Labels, 5000 Label Set   \n",
              "51288  Office Supplies       Labels  Hon Legal Exhibit Labels, Alphabetical   \n",
              "51289  Office Supplies    Fasteners                     Bagged Rubber Bands   \n",
              "\n",
              "      sales quantity  discount   profit  shipping_cost  order_priority  year  \n",
              "51287    26        3       0.0  12.3600           0.35          Medium  2014  \n",
              "51288     7        1       0.0   0.5600           0.20          Medium  2014  \n",
              "51289     3        3       0.2  -0.6048           0.17          Medium  2014  \n",
              "\n",
              "[3 rows x 21 columns]"
            ],
            "text/html": [
              "\n",
              "  <div id=\"df-02249e5f-2704-444e-8c32-cdc9ff40e185\" class=\"colab-df-container\">\n",
              "    <div>\n",
              "<style scoped>\n",
              "    .dataframe tbody tr th:only-of-type {\n",
              "        vertical-align: middle;\n",
              "    }\n",
              "\n",
              "    .dataframe tbody tr th {\n",
              "        vertical-align: top;\n",
              "    }\n",
              "\n",
              "    .dataframe thead th {\n",
              "        text-align: right;\n",
              "    }\n",
              "</style>\n",
              "<table border=\"1\" class=\"dataframe\">\n",
              "  <thead>\n",
              "    <tr style=\"text-align: right;\">\n",
              "      <th></th>\n",
              "      <th>order_id</th>\n",
              "      <th>order_date</th>\n",
              "      <th>ship_date</th>\n",
              "      <th>ship_mode</th>\n",
              "      <th>customer_name</th>\n",
              "      <th>segment</th>\n",
              "      <th>state</th>\n",
              "      <th>country</th>\n",
              "      <th>market</th>\n",
              "      <th>region</th>\n",
              "      <th>...</th>\n",
              "      <th>category</th>\n",
              "      <th>sub_category</th>\n",
              "      <th>product_name</th>\n",
              "      <th>sales</th>\n",
              "      <th>quantity</th>\n",
              "      <th>discount</th>\n",
              "      <th>profit</th>\n",
              "      <th>shipping_cost</th>\n",
              "      <th>order_priority</th>\n",
              "      <th>year</th>\n",
              "    </tr>\n",
              "  </thead>\n",
              "  <tbody>\n",
              "    <tr>\n",
              "      <th>51287</th>\n",
              "      <td>MX-2014-110527</td>\n",
              "      <td>31-12-2014</td>\n",
              "      <td>2/1/2015</td>\n",
              "      <td>Second Class</td>\n",
              "      <td>Charlotte Melton</td>\n",
              "      <td>Consumer</td>\n",
              "      <td>Managua</td>\n",
              "      <td>Nicaragua</td>\n",
              "      <td>LATAM</td>\n",
              "      <td>Central</td>\n",
              "      <td>...</td>\n",
              "      <td>Office Supplies</td>\n",
              "      <td>Labels</td>\n",
              "      <td>Hon Color Coded Labels, 5000 Label Set</td>\n",
              "      <td>26</td>\n",
              "      <td>3</td>\n",
              "      <td>0.0</td>\n",
              "      <td>12.3600</td>\n",
              "      <td>0.35</td>\n",
              "      <td>Medium</td>\n",
              "      <td>2014</td>\n",
              "    </tr>\n",
              "    <tr>\n",
              "      <th>51288</th>\n",
              "      <td>MX-2014-114783</td>\n",
              "      <td>31-12-2014</td>\n",
              "      <td>6/1/2015</td>\n",
              "      <td>Standard Class</td>\n",
              "      <td>Tamara Dahlen</td>\n",
              "      <td>Consumer</td>\n",
              "      <td>Chihuahua</td>\n",
              "      <td>Mexico</td>\n",
              "      <td>LATAM</td>\n",
              "      <td>North</td>\n",
              "      <td>...</td>\n",
              "      <td>Office Supplies</td>\n",
              "      <td>Labels</td>\n",
              "      <td>Hon Legal Exhibit Labels, Alphabetical</td>\n",
              "      <td>7</td>\n",
              "      <td>1</td>\n",
              "      <td>0.0</td>\n",
              "      <td>0.5600</td>\n",
              "      <td>0.20</td>\n",
              "      <td>Medium</td>\n",
              "      <td>2014</td>\n",
              "    </tr>\n",
              "    <tr>\n",
              "      <th>51289</th>\n",
              "      <td>CA-2014-156720</td>\n",
              "      <td>31-12-2014</td>\n",
              "      <td>4/1/2015</td>\n",
              "      <td>Standard Class</td>\n",
              "      <td>Jill Matthias</td>\n",
              "      <td>Consumer</td>\n",
              "      <td>Colorado</td>\n",
              "      <td>United States</td>\n",
              "      <td>US</td>\n",
              "      <td>West</td>\n",
              "      <td>...</td>\n",
              "      <td>Office Supplies</td>\n",
              "      <td>Fasteners</td>\n",
              "      <td>Bagged Rubber Bands</td>\n",
              "      <td>3</td>\n",
              "      <td>3</td>\n",
              "      <td>0.2</td>\n",
              "      <td>-0.6048</td>\n",
              "      <td>0.17</td>\n",
              "      <td>Medium</td>\n",
              "      <td>2014</td>\n",
              "    </tr>\n",
              "  </tbody>\n",
              "</table>\n",
              "<p>3 rows × 21 columns</p>\n",
              "</div>\n",
              "    <div class=\"colab-df-buttons\">\n",
              "\n",
              "  <div class=\"colab-df-container\">\n",
              "    <button class=\"colab-df-convert\" onclick=\"convertToInteractive('df-02249e5f-2704-444e-8c32-cdc9ff40e185')\"\n",
              "            title=\"Convert this dataframe to an interactive table.\"\n",
              "            style=\"display:none;\">\n",
              "\n",
              "  <svg xmlns=\"http://www.w3.org/2000/svg\" height=\"24px\" viewBox=\"0 -960 960 960\">\n",
              "    <path d=\"M120-120v-720h720v720H120Zm60-500h600v-160H180v160Zm220 220h160v-160H400v160Zm0 220h160v-160H400v160ZM180-400h160v-160H180v160Zm440 0h160v-160H620v160ZM180-180h160v-160H180v160Zm440 0h160v-160H620v160Z\"/>\n",
              "  </svg>\n",
              "    </button>\n",
              "\n",
              "  <style>\n",
              "    .colab-df-container {\n",
              "      display:flex;\n",
              "      gap: 12px;\n",
              "    }\n",
              "\n",
              "    .colab-df-convert {\n",
              "      background-color: #E8F0FE;\n",
              "      border: none;\n",
              "      border-radius: 50%;\n",
              "      cursor: pointer;\n",
              "      display: none;\n",
              "      fill: #1967D2;\n",
              "      height: 32px;\n",
              "      padding: 0 0 0 0;\n",
              "      width: 32px;\n",
              "    }\n",
              "\n",
              "    .colab-df-convert:hover {\n",
              "      background-color: #E2EBFA;\n",
              "      box-shadow: 0px 1px 2px rgba(60, 64, 67, 0.3), 0px 1px 3px 1px rgba(60, 64, 67, 0.15);\n",
              "      fill: #174EA6;\n",
              "    }\n",
              "\n",
              "    .colab-df-buttons div {\n",
              "      margin-bottom: 4px;\n",
              "    }\n",
              "\n",
              "    [theme=dark] .colab-df-convert {\n",
              "      background-color: #3B4455;\n",
              "      fill: #D2E3FC;\n",
              "    }\n",
              "\n",
              "    [theme=dark] .colab-df-convert:hover {\n",
              "      background-color: #434B5C;\n",
              "      box-shadow: 0px 1px 3px 1px rgba(0, 0, 0, 0.15);\n",
              "      filter: drop-shadow(0px 1px 2px rgba(0, 0, 0, 0.3));\n",
              "      fill: #FFFFFF;\n",
              "    }\n",
              "  </style>\n",
              "\n",
              "    <script>\n",
              "      const buttonEl =\n",
              "        document.querySelector('#df-02249e5f-2704-444e-8c32-cdc9ff40e185 button.colab-df-convert');\n",
              "      buttonEl.style.display =\n",
              "        google.colab.kernel.accessAllowed ? 'block' : 'none';\n",
              "\n",
              "      async function convertToInteractive(key) {\n",
              "        const element = document.querySelector('#df-02249e5f-2704-444e-8c32-cdc9ff40e185');\n",
              "        const dataTable =\n",
              "          await google.colab.kernel.invokeFunction('convertToInteractive',\n",
              "                                                    [key], {});\n",
              "        if (!dataTable) return;\n",
              "\n",
              "        const docLinkHtml = 'Like what you see? Visit the ' +\n",
              "          '<a target=\"_blank\" href=https://colab.research.google.com/notebooks/data_table.ipynb>data table notebook</a>'\n",
              "          + ' to learn more about interactive tables.';\n",
              "        element.innerHTML = '';\n",
              "        dataTable['output_type'] = 'display_data';\n",
              "        await google.colab.output.renderOutput(dataTable, element);\n",
              "        const docLink = document.createElement('div');\n",
              "        docLink.innerHTML = docLinkHtml;\n",
              "        element.appendChild(docLink);\n",
              "      }\n",
              "    </script>\n",
              "  </div>\n",
              "\n",
              "\n",
              "<div id=\"df-1ef6507b-b1cf-4f71-9304-cf7be708a99f\">\n",
              "  <button class=\"colab-df-quickchart\" onclick=\"quickchart('df-1ef6507b-b1cf-4f71-9304-cf7be708a99f')\"\n",
              "            title=\"Suggest charts\"\n",
              "            style=\"display:none;\">\n",
              "\n",
              "<svg xmlns=\"http://www.w3.org/2000/svg\" height=\"24px\"viewBox=\"0 0 24 24\"\n",
              "     width=\"24px\">\n",
              "    <g>\n",
              "        <path d=\"M19 3H5c-1.1 0-2 .9-2 2v14c0 1.1.9 2 2 2h14c1.1 0 2-.9 2-2V5c0-1.1-.9-2-2-2zM9 17H7v-7h2v7zm4 0h-2V7h2v10zm4 0h-2v-4h2v4z\"/>\n",
              "    </g>\n",
              "</svg>\n",
              "  </button>\n",
              "\n",
              "<style>\n",
              "  .colab-df-quickchart {\n",
              "      --bg-color: #E8F0FE;\n",
              "      --fill-color: #1967D2;\n",
              "      --hover-bg-color: #E2EBFA;\n",
              "      --hover-fill-color: #174EA6;\n",
              "      --disabled-fill-color: #AAA;\n",
              "      --disabled-bg-color: #DDD;\n",
              "  }\n",
              "\n",
              "  [theme=dark] .colab-df-quickchart {\n",
              "      --bg-color: #3B4455;\n",
              "      --fill-color: #D2E3FC;\n",
              "      --hover-bg-color: #434B5C;\n",
              "      --hover-fill-color: #FFFFFF;\n",
              "      --disabled-bg-color: #3B4455;\n",
              "      --disabled-fill-color: #666;\n",
              "  }\n",
              "\n",
              "  .colab-df-quickchart {\n",
              "    background-color: var(--bg-color);\n",
              "    border: none;\n",
              "    border-radius: 50%;\n",
              "    cursor: pointer;\n",
              "    display: none;\n",
              "    fill: var(--fill-color);\n",
              "    height: 32px;\n",
              "    padding: 0;\n",
              "    width: 32px;\n",
              "  }\n",
              "\n",
              "  .colab-df-quickchart:hover {\n",
              "    background-color: var(--hover-bg-color);\n",
              "    box-shadow: 0 1px 2px rgba(60, 64, 67, 0.3), 0 1px 3px 1px rgba(60, 64, 67, 0.15);\n",
              "    fill: var(--button-hover-fill-color);\n",
              "  }\n",
              "\n",
              "  .colab-df-quickchart-complete:disabled,\n",
              "  .colab-df-quickchart-complete:disabled:hover {\n",
              "    background-color: var(--disabled-bg-color);\n",
              "    fill: var(--disabled-fill-color);\n",
              "    box-shadow: none;\n",
              "  }\n",
              "\n",
              "  .colab-df-spinner {\n",
              "    border: 2px solid var(--fill-color);\n",
              "    border-color: transparent;\n",
              "    border-bottom-color: var(--fill-color);\n",
              "    animation:\n",
              "      spin 1s steps(1) infinite;\n",
              "  }\n",
              "\n",
              "  @keyframes spin {\n",
              "    0% {\n",
              "      border-color: transparent;\n",
              "      border-bottom-color: var(--fill-color);\n",
              "      border-left-color: var(--fill-color);\n",
              "    }\n",
              "    20% {\n",
              "      border-color: transparent;\n",
              "      border-left-color: var(--fill-color);\n",
              "      border-top-color: var(--fill-color);\n",
              "    }\n",
              "    30% {\n",
              "      border-color: transparent;\n",
              "      border-left-color: var(--fill-color);\n",
              "      border-top-color: var(--fill-color);\n",
              "      border-right-color: var(--fill-color);\n",
              "    }\n",
              "    40% {\n",
              "      border-color: transparent;\n",
              "      border-right-color: var(--fill-color);\n",
              "      border-top-color: var(--fill-color);\n",
              "    }\n",
              "    60% {\n",
              "      border-color: transparent;\n",
              "      border-right-color: var(--fill-color);\n",
              "    }\n",
              "    80% {\n",
              "      border-color: transparent;\n",
              "      border-right-color: var(--fill-color);\n",
              "      border-bottom-color: var(--fill-color);\n",
              "    }\n",
              "    90% {\n",
              "      border-color: transparent;\n",
              "      border-bottom-color: var(--fill-color);\n",
              "    }\n",
              "  }\n",
              "</style>\n",
              "\n",
              "  <script>\n",
              "    async function quickchart(key) {\n",
              "      const quickchartButtonEl =\n",
              "        document.querySelector('#' + key + ' button');\n",
              "      quickchartButtonEl.disabled = true;  // To prevent multiple clicks.\n",
              "      quickchartButtonEl.classList.add('colab-df-spinner');\n",
              "      try {\n",
              "        const charts = await google.colab.kernel.invokeFunction(\n",
              "            'suggestCharts', [key], {});\n",
              "      } catch (error) {\n",
              "        console.error('Error during call to suggestCharts:', error);\n",
              "      }\n",
              "      quickchartButtonEl.classList.remove('colab-df-spinner');\n",
              "      quickchartButtonEl.classList.add('colab-df-quickchart-complete');\n",
              "    }\n",
              "    (() => {\n",
              "      let quickchartButtonEl =\n",
              "        document.querySelector('#df-1ef6507b-b1cf-4f71-9304-cf7be708a99f button');\n",
              "      quickchartButtonEl.style.display =\n",
              "        google.colab.kernel.accessAllowed ? 'block' : 'none';\n",
              "    })();\n",
              "  </script>\n",
              "</div>\n",
              "    </div>\n",
              "  </div>\n"
            ],
            "application/vnd.google.colaboratory.intrinsic+json": {
              "type": "dataframe"
            }
          },
          "metadata": {},
          "execution_count": 4
        }
      ]
    },
    {
      "cell_type": "code",
      "source": [
        "#ReqdCols = ['order_id', 'customer_name']\n",
        "#df[ReqdCols].head(3)\n"
      ],
      "metadata": {
        "id": "U1iFHe4K_bP5"
      },
      "execution_count": null,
      "outputs": []
    },
    {
      "cell_type": "markdown",
      "source": [
        "#First Look at Data"
      ],
      "metadata": {
        "id": "WKKotANFxV2D"
      }
    },
    {
      "cell_type": "code",
      "source": [
        "#How many rows, columns\n",
        "df.shape"
      ],
      "metadata": {
        "colab": {
          "base_uri": "https://localhost:8080/"
        },
        "id": "VhlEQVrz0n8S",
        "outputId": "c95cc020-f77d-463d-fb00-27d717278a0c"
      },
      "execution_count": 5,
      "outputs": [
        {
          "output_type": "execute_result",
          "data": {
            "text/plain": [
              "(51290, 21)"
            ]
          },
          "metadata": {},
          "execution_count": 5
        }
      ]
    },
    {
      "cell_type": "code",
      "source": [
        "#\n",
        "#Create a list of all columns\n",
        "#\n",
        "allColumns = list(df.columns)\n",
        "print(allColumns)"
      ],
      "metadata": {
        "id": "fA_F4N2Egtci",
        "outputId": "6ae4da93-f210-4142-a453-a34a083f4152",
        "colab": {
          "base_uri": "https://localhost:8080/"
        }
      },
      "execution_count": 6,
      "outputs": [
        {
          "output_type": "stream",
          "name": "stdout",
          "text": [
            "['order_id', 'order_date', 'ship_date', 'ship_mode', 'customer_name', 'segment', 'state', 'country', 'market', 'region', 'product_id', 'category', 'sub_category', 'product_name', 'sales', 'quantity', 'discount', 'profit', 'shipping_cost', 'order_priority', 'year']\n"
          ]
        }
      ]
    },
    {
      "cell_type": "code",
      "source": [
        "#\n",
        "# Drop two columns, order_id is irrelevant, customer_name for privacy, anonymysing issues\n",
        "#\n",
        "dropColumns = ['order_id',  'customer_name']\n",
        "df.drop(dropColumns, axis=1, inplace= True)\n",
        "df.shape"
      ],
      "metadata": {
        "id": "afJjYvyxzZts",
        "outputId": "80bab654-e0b3-4d94-bea8-b2c970766b52",
        "colab": {
          "base_uri": "https://localhost:8080/"
        }
      },
      "execution_count": 7,
      "outputs": [
        {
          "output_type": "execute_result",
          "data": {
            "text/plain": [
              "(51290, 19)"
            ]
          },
          "metadata": {},
          "execution_count": 7
        }
      ]
    },
    {
      "cell_type": "code",
      "source": [
        "#is there any missing value? In this case, not\n",
        "df.count()"
      ],
      "metadata": {
        "id": "Xbk_6Ps5t7TR",
        "outputId": "0f529004-ae9b-4eb3-8cc7-1f5b94389738",
        "colab": {
          "base_uri": "https://localhost:8080/"
        }
      },
      "execution_count": 8,
      "outputs": [
        {
          "output_type": "execute_result",
          "data": {
            "text/plain": [
              "order_date        51290\n",
              "ship_date         51290\n",
              "ship_mode         51290\n",
              "segment           51290\n",
              "state             51290\n",
              "country           51290\n",
              "market            51290\n",
              "region            51290\n",
              "product_id        51290\n",
              "category          51290\n",
              "sub_category      51290\n",
              "product_name      51290\n",
              "sales             51290\n",
              "quantity          51290\n",
              "discount          51290\n",
              "profit            51290\n",
              "shipping_cost     51290\n",
              "order_priority    51290\n",
              "year              51290\n",
              "dtype: int64"
            ]
          },
          "metadata": {},
          "execution_count": 8
        }
      ]
    },
    {
      "cell_type": "code",
      "source": [
        "#\n",
        "# what are the different datatypes?\n",
        "# sales should be float64 but is object or string. Why? Because it has commas embedded in it\n",
        "# also date is treated as string\n",
        "# this problem may not occur if the original data is in Excel format\n",
        "#\n",
        "df.dtypes"
      ],
      "metadata": {
        "id": "6kGwAgNovxYQ",
        "outputId": "3b30eed2-08b3-4af8-f5ac-310c59e91f15",
        "colab": {
          "base_uri": "https://localhost:8080/"
        }
      },
      "execution_count": 9,
      "outputs": [
        {
          "output_type": "execute_result",
          "data": {
            "text/plain": [
              "order_date         object\n",
              "ship_date          object\n",
              "ship_mode          object\n",
              "segment            object\n",
              "state              object\n",
              "country            object\n",
              "market             object\n",
              "region             object\n",
              "product_id         object\n",
              "category           object\n",
              "sub_category       object\n",
              "product_name       object\n",
              "sales              object\n",
              "quantity            int64\n",
              "discount          float64\n",
              "profit            float64\n",
              "shipping_cost     float64\n",
              "order_priority     object\n",
              "year                int64\n",
              "dtype: object"
            ]
          },
          "metadata": {},
          "execution_count": 9
        }
      ]
    },
    {
      "cell_type": "markdown",
      "source": [
        "##Data Cleaning"
      ],
      "metadata": {
        "id": "PvBvSVOVLNc3"
      }
    },
    {
      "cell_type": "code",
      "source": [
        "#\n",
        "# df.sales has been automatically interpreted as string because of the presence of commma,\n",
        "# so replace comma and convert to numeric\n",
        "#\n",
        "\n",
        "df['sales'] = df['sales'].str.replace(',', '')    # replace , with blank\n",
        "df['sales'] = pd.to_numeric(df['sales'])          # convert column \"a\" of a DataFrame\n",
        "#df.sales"
      ],
      "metadata": {
        "id": "715CRsWAxabe"
      },
      "execution_count": 10,
      "outputs": []
    },
    {
      "cell_type": "code",
      "source": [
        "#\n",
        "# what is the first and last order date ?\n",
        "# we have four years of data, but date format changes ...\n",
        "df['order_date'].describe\n",
        "#df['ship_date'].describe"
      ],
      "metadata": {
        "id": "dJY7-t16uaBa",
        "outputId": "661d3698-441c-4fd3-a857-fbaf64170a1f",
        "colab": {
          "base_uri": "https://localhost:8080/",
          "height": 204
        }
      },
      "execution_count": 11,
      "outputs": [
        {
          "output_type": "execute_result",
          "data": {
            "text/plain": [
              "<bound method NDFrame.describe of 0          1/1/2011\n",
              "1          1/1/2011\n",
              "2          1/1/2011\n",
              "3          1/1/2011\n",
              "4          1/1/2011\n",
              "            ...    \n",
              "51285    31-12-2014\n",
              "51286    31-12-2014\n",
              "51287    31-12-2014\n",
              "51288    31-12-2014\n",
              "51289    31-12-2014\n",
              "Name: order_date, Length: 51290, dtype: object>"
            ],
            "text/html": [
              "<div style=\"max-width:800px; border: 1px solid var(--colab-border-color);\"><style>\n",
              "      pre.function-repr-contents {\n",
              "        overflow-x: auto;\n",
              "        padding: 8px 12px;\n",
              "        max-height: 500px;\n",
              "      }\n",
              "\n",
              "      pre.function-repr-contents.function-repr-contents-collapsed {\n",
              "        cursor: pointer;\n",
              "        max-height: 100px;\n",
              "      }\n",
              "    </style>\n",
              "    <pre style=\"white-space: initial; background:\n",
              "         var(--colab-secondary-surface-color); padding: 8px 12px;\n",
              "         border-bottom: 1px solid var(--colab-border-color);\"><b>pandas.core.generic.NDFrame.describe</b><br/>def describe(percentiles=None, include=None, exclude=None, datetime_is_numeric: bool_t=False) -&gt; NDFrameT</pre><pre class=\"function-repr-contents function-repr-contents-collapsed\" style=\"\"><a class=\"filepath\" style=\"display:none\" href=\"#\">/usr/local/lib/python3.10/dist-packages/pandas/core/generic.py</a>Generate descriptive statistics.\n",
              "\n",
              "Descriptive statistics include those that summarize the central\n",
              "tendency, dispersion and shape of a\n",
              "dataset&#x27;s distribution, excluding ``NaN`` values.\n",
              "\n",
              "Analyzes both numeric and object series, as well\n",
              "as ``DataFrame`` column sets of mixed data types. The output\n",
              "will vary depending on what is provided. Refer to the notes\n",
              "below for more detail.\n",
              "\n",
              "Parameters\n",
              "----------\n",
              "percentiles : list-like of numbers, optional\n",
              "    The percentiles to include in the output. All should\n",
              "    fall between 0 and 1. The default is\n",
              "    ``[.25, .5, .75]``, which returns the 25th, 50th, and\n",
              "    75th percentiles.\n",
              "include : &#x27;all&#x27;, list-like of dtypes or None (default), optional\n",
              "    A white list of data types to include in the result. Ignored\n",
              "    for ``Series``. Here are the options:\n",
              "\n",
              "    - &#x27;all&#x27; : All columns of the input will be included in the output.\n",
              "    - A list-like of dtypes : Limits the results to the\n",
              "      provided data types.\n",
              "      To limit the result to numeric types submit\n",
              "      ``numpy.number``. To limit it instead to object columns submit\n",
              "      the ``numpy.object`` data type. Strings\n",
              "      can also be used in the style of\n",
              "      ``select_dtypes`` (e.g. ``df.describe(include=[&#x27;O&#x27;])``). To\n",
              "      select pandas categorical columns, use ``&#x27;category&#x27;``\n",
              "    - None (default) : The result will include all numeric columns.\n",
              "exclude : list-like of dtypes or None (default), optional,\n",
              "    A black list of data types to omit from the result. Ignored\n",
              "    for ``Series``. Here are the options:\n",
              "\n",
              "    - A list-like of dtypes : Excludes the provided data types\n",
              "      from the result. To exclude numeric types submit\n",
              "      ``numpy.number``. To exclude object columns submit the data\n",
              "      type ``numpy.object``. Strings can also be used in the style of\n",
              "      ``select_dtypes`` (e.g. ``df.describe(exclude=[&#x27;O&#x27;])``). To\n",
              "      exclude pandas categorical columns, use ``&#x27;category&#x27;``\n",
              "    - None (default) : The result will exclude nothing.\n",
              "datetime_is_numeric : bool, default False\n",
              "    Whether to treat datetime dtypes as numeric. This affects statistics\n",
              "    calculated for the column. For DataFrame input, this also\n",
              "    controls whether datetime columns are included by default.\n",
              "\n",
              "    .. versionadded:: 1.1.0\n",
              "\n",
              "Returns\n",
              "-------\n",
              "Series or DataFrame\n",
              "    Summary statistics of the Series or Dataframe provided.\n",
              "\n",
              "See Also\n",
              "--------\n",
              "DataFrame.count: Count number of non-NA/null observations.\n",
              "DataFrame.max: Maximum of the values in the object.\n",
              "DataFrame.min: Minimum of the values in the object.\n",
              "DataFrame.mean: Mean of the values.\n",
              "DataFrame.std: Standard deviation of the observations.\n",
              "DataFrame.select_dtypes: Subset of a DataFrame including/excluding\n",
              "    columns based on their dtype.\n",
              "\n",
              "Notes\n",
              "-----\n",
              "For numeric data, the result&#x27;s index will include ``count``,\n",
              "``mean``, ``std``, ``min``, ``max`` as well as lower, ``50`` and\n",
              "upper percentiles. By default the lower percentile is ``25`` and the\n",
              "upper percentile is ``75``. The ``50`` percentile is the\n",
              "same as the median.\n",
              "\n",
              "For object data (e.g. strings or timestamps), the result&#x27;s index\n",
              "will include ``count``, ``unique``, ``top``, and ``freq``. The ``top``\n",
              "is the most common value. The ``freq`` is the most common value&#x27;s\n",
              "frequency. Timestamps also include the ``first`` and ``last`` items.\n",
              "\n",
              "If multiple object values have the highest count, then the\n",
              "``count`` and ``top`` results will be arbitrarily chosen from\n",
              "among those with the highest count.\n",
              "\n",
              "For mixed data types provided via a ``DataFrame``, the default is to\n",
              "return only an analysis of numeric columns. If the dataframe consists\n",
              "only of object and categorical data without any numeric columns, the\n",
              "default is to return an analysis of both the object and categorical\n",
              "columns. If ``include=&#x27;all&#x27;`` is provided as an option, the result\n",
              "will include a union of attributes of each type.\n",
              "\n",
              "The `include` and `exclude` parameters can be used to limit\n",
              "which columns in a ``DataFrame`` are analyzed for the output.\n",
              "The parameters are ignored when analyzing a ``Series``.\n",
              "\n",
              "Examples\n",
              "--------\n",
              "Describing a numeric ``Series``.\n",
              "\n",
              "&gt;&gt;&gt; s = pd.Series([1, 2, 3])\n",
              "&gt;&gt;&gt; s.describe()\n",
              "count    3.0\n",
              "mean     2.0\n",
              "std      1.0\n",
              "min      1.0\n",
              "25%      1.5\n",
              "50%      2.0\n",
              "75%      2.5\n",
              "max      3.0\n",
              "dtype: float64\n",
              "\n",
              "Describing a categorical ``Series``.\n",
              "\n",
              "&gt;&gt;&gt; s = pd.Series([&#x27;a&#x27;, &#x27;a&#x27;, &#x27;b&#x27;, &#x27;c&#x27;])\n",
              "&gt;&gt;&gt; s.describe()\n",
              "count     4\n",
              "unique    3\n",
              "top       a\n",
              "freq      2\n",
              "dtype: object\n",
              "\n",
              "Describing a timestamp ``Series``.\n",
              "\n",
              "&gt;&gt;&gt; s = pd.Series([\n",
              "...   np.datetime64(&quot;2000-01-01&quot;),\n",
              "...   np.datetime64(&quot;2010-01-01&quot;),\n",
              "...   np.datetime64(&quot;2010-01-01&quot;)\n",
              "... ])\n",
              "&gt;&gt;&gt; s.describe(datetime_is_numeric=True)\n",
              "count                      3\n",
              "mean     2006-09-01 08:00:00\n",
              "min      2000-01-01 00:00:00\n",
              "25%      2004-12-31 12:00:00\n",
              "50%      2010-01-01 00:00:00\n",
              "75%      2010-01-01 00:00:00\n",
              "max      2010-01-01 00:00:00\n",
              "dtype: object\n",
              "\n",
              "Describing a ``DataFrame``. By default only numeric fields\n",
              "are returned.\n",
              "\n",
              "&gt;&gt;&gt; df = pd.DataFrame({&#x27;categorical&#x27;: pd.Categorical([&#x27;d&#x27;,&#x27;e&#x27;,&#x27;f&#x27;]),\n",
              "...                    &#x27;numeric&#x27;: [1, 2, 3],\n",
              "...                    &#x27;object&#x27;: [&#x27;a&#x27;, &#x27;b&#x27;, &#x27;c&#x27;]\n",
              "...                   })\n",
              "&gt;&gt;&gt; df.describe()\n",
              "       numeric\n",
              "count      3.0\n",
              "mean       2.0\n",
              "std        1.0\n",
              "min        1.0\n",
              "25%        1.5\n",
              "50%        2.0\n",
              "75%        2.5\n",
              "max        3.0\n",
              "\n",
              "Describing all columns of a ``DataFrame`` regardless of data type.\n",
              "\n",
              "&gt;&gt;&gt; df.describe(include=&#x27;all&#x27;)  # doctest: +SKIP\n",
              "       categorical  numeric object\n",
              "count            3      3.0      3\n",
              "unique           3      NaN      3\n",
              "top              f      NaN      a\n",
              "freq             1      NaN      1\n",
              "mean           NaN      2.0    NaN\n",
              "std            NaN      1.0    NaN\n",
              "min            NaN      1.0    NaN\n",
              "25%            NaN      1.5    NaN\n",
              "50%            NaN      2.0    NaN\n",
              "75%            NaN      2.5    NaN\n",
              "max            NaN      3.0    NaN\n",
              "\n",
              "Describing a column from a ``DataFrame`` by accessing it as\n",
              "an attribute.\n",
              "\n",
              "&gt;&gt;&gt; df.numeric.describe()\n",
              "count    3.0\n",
              "mean     2.0\n",
              "std      1.0\n",
              "min      1.0\n",
              "25%      1.5\n",
              "50%      2.0\n",
              "75%      2.5\n",
              "max      3.0\n",
              "Name: numeric, dtype: float64\n",
              "\n",
              "Including only numeric columns in a ``DataFrame`` description.\n",
              "\n",
              "&gt;&gt;&gt; df.describe(include=[np.number])\n",
              "       numeric\n",
              "count      3.0\n",
              "mean       2.0\n",
              "std        1.0\n",
              "min        1.0\n",
              "25%        1.5\n",
              "50%        2.0\n",
              "75%        2.5\n",
              "max        3.0\n",
              "\n",
              "Including only string columns in a ``DataFrame`` description.\n",
              "\n",
              "&gt;&gt;&gt; df.describe(include=[object])  # doctest: +SKIP\n",
              "       object\n",
              "count       3\n",
              "unique      3\n",
              "top         a\n",
              "freq        1\n",
              "\n",
              "Including only categorical columns from a ``DataFrame`` description.\n",
              "\n",
              "&gt;&gt;&gt; df.describe(include=[&#x27;category&#x27;])\n",
              "       categorical\n",
              "count            3\n",
              "unique           3\n",
              "top              d\n",
              "freq             1\n",
              "\n",
              "Excluding numeric columns from a ``DataFrame`` description.\n",
              "\n",
              "&gt;&gt;&gt; df.describe(exclude=[np.number])  # doctest: +SKIP\n",
              "       categorical object\n",
              "count            3      3\n",
              "unique           3      3\n",
              "top              f      a\n",
              "freq             1      1\n",
              "\n",
              "Excluding object columns from a ``DataFrame`` description.\n",
              "\n",
              "&gt;&gt;&gt; df.describe(exclude=[object])  # doctest: +SKIP\n",
              "       categorical  numeric\n",
              "count            3      3.0\n",
              "unique           3      NaN\n",
              "top              f      NaN\n",
              "freq             1      NaN\n",
              "mean           NaN      2.0\n",
              "std            NaN      1.0\n",
              "min            NaN      1.0\n",
              "25%            NaN      1.5\n",
              "50%            NaN      2.0\n",
              "75%            NaN      2.5\n",
              "max            NaN      3.0</pre>\n",
              "      <script>\n",
              "      if (google.colab.kernel.accessAllowed && google.colab.files && google.colab.files.view) {\n",
              "        for (const element of document.querySelectorAll('.filepath')) {\n",
              "          element.style.display = 'block'\n",
              "          element.onclick = (event) => {\n",
              "            event.preventDefault();\n",
              "            event.stopPropagation();\n",
              "            google.colab.files.view(element.textContent, 10691);\n",
              "          };\n",
              "        }\n",
              "      }\n",
              "      for (const element of document.querySelectorAll('.function-repr-contents')) {\n",
              "        element.onclick = (event) => {\n",
              "          event.preventDefault();\n",
              "          event.stopPropagation();\n",
              "          element.classList.toggle('function-repr-contents-collapsed');\n",
              "        };\n",
              "      }\n",
              "      </script>\n",
              "      </div>"
            ]
          },
          "metadata": {},
          "execution_count": 11
        }
      ]
    },
    {
      "cell_type": "code",
      "source": [
        "# Some of the dates are string like dd/mm/yyyy while others are dd-mm-yyyy\n",
        "# this will cause problems in converting string to real dates\n",
        "# So we move all dd-mm-yyyy to dd/mm/yyyy -- could have been the other way round also\n",
        "#\n",
        "df['order_date'] = df['order_date'].str.replace('-','/')\n",
        "df['ship_date'] = df['ship_date'].str.replace('-','/')"
      ],
      "metadata": {
        "id": "6yXDxIQoFEOw"
      },
      "execution_count": 12,
      "outputs": []
    },
    {
      "cell_type": "code",
      "source": [
        "# convert all dates to dd/mm/yyyy format\n",
        "#\n",
        "#df['ship_date'] = pd.to_datetime(df['ship_date']).dt.strftime('%d/%m/%Y')\n",
        "#df['order_date'] = pd.to_datetime(df['order_date']).dt.strftime('%d/%m/%Y')\n",
        "#\n",
        "df['ship_date'] = pd.to_datetime(df['ship_date'],format='%d/%m/%Y')\n",
        "df['order_date'] = pd.to_datetime(df['order_date'],format='%d/%m/%Y')\n",
        "#df['order_date'].describe"
      ],
      "metadata": {
        "id": "uCbQql3ayNHk"
      },
      "execution_count": 13,
      "outputs": []
    },
    {
      "cell_type": "code",
      "source": [
        "#Finally, let us see the datatypes\n",
        "df.dtypes"
      ],
      "metadata": {
        "id": "jeKn1ZCiaf0n",
        "outputId": "08080d1c-4239-4922-ccea-81071ec6c787",
        "colab": {
          "base_uri": "https://localhost:8080/"
        }
      },
      "execution_count": 14,
      "outputs": [
        {
          "output_type": "execute_result",
          "data": {
            "text/plain": [
              "order_date        datetime64[ns]\n",
              "ship_date         datetime64[ns]\n",
              "ship_mode                 object\n",
              "segment                   object\n",
              "state                     object\n",
              "country                   object\n",
              "market                    object\n",
              "region                    object\n",
              "product_id                object\n",
              "category                  object\n",
              "sub_category              object\n",
              "product_name              object\n",
              "sales                      int64\n",
              "quantity                   int64\n",
              "discount                 float64\n",
              "profit                   float64\n",
              "shipping_cost            float64\n",
              "order_priority            object\n",
              "year                       int64\n",
              "dtype: object"
            ]
          },
          "metadata": {},
          "execution_count": 14
        }
      ]
    },
    {
      "cell_type": "code",
      "source": [
        "df.to_csv('retail2.csv', sep=',', index=False, encoding='utf-8')"
      ],
      "metadata": {
        "id": "NeSSkvjaWt0a"
      },
      "execution_count": 16,
      "outputs": []
    },
    {
      "cell_type": "markdown",
      "source": [
        "Good morning! Of course, I'd be happy to help. Please provide me with the first few lines of the CSV file, and I'll show you the different kinds of charts you can generate using Python's pandas library. <br>\n",
        "User\n",
        "plt.show() gave an error. how do i fix it?<br>\n"
      ],
      "metadata": {
        "id": "V9oQtFdPfKRZ"
      }
    },
    {
      "cell_type": "code",
      "source": [
        "import pandas as pd\n",
        "import matplotlib.pyplot as plt  # Importing matplotlib's pyplot module\n",
        "\n",
        "# Load the CSV data into a pandas DataFrame\n",
        "#df = pd.read_csv(\"your_file.csv\")\n",
        "\n",
        "# Display the first few rows of the DataFrame\n",
        "#print(df.head())\n",
        "\n",
        "# Now, let's demonstrate some basic charts\n",
        "# Line chart\n",
        "df['sales'].plot(kind='line', title='Sales Trend over Time')\n",
        "\n",
        "# Bar chart\n",
        "df['category'].value_counts().plot(kind='bar', title='Number of Orders by Category')\n",
        "\n",
        "# Histogram\n",
        "df['sales'].plot(kind='hist', bins=20, title='Distribution of Sales')\n",
        "\n",
        "# Pie chart\n",
        "df['market'].value_counts().plot(kind='pie', title='Market Distribution')\n",
        "\n",
        "# Scatter plot\n",
        "df.plot(kind='scatter', x='sales', y='profit', title='Sales vs. Profit')\n",
        "\n",
        "# Box plot\n",
        "df.boxplot(column='sales', by='category')\n",
        "\n",
        "# Show the plots\n",
        "plt.show()\n"
      ],
      "metadata": {
        "colab": {
          "base_uri": "https://localhost:8080/",
          "height": 1000
        },
        "id": "Tdvg6H9aXwnR",
        "outputId": "c40f8140-cdfd-446c-abb3-67051c29f7a8"
      },
      "execution_count": 18,
      "outputs": [
        {
          "output_type": "display_data",
          "data": {
            "text/plain": [
              "<Figure size 640x480 with 1 Axes>"
            ],
            "image/png": "[encoded data removed]"
          },
          "metadata": {}
        },
        {
          "output_type": "display_data",
          "data": {
            "text/plain": [
              "<Figure size 640x480 with 1 Axes>"
            ],
            "image/png": "[encoded data removed]"
          },
          "metadata": {}
        },
        {
          "output_type": "display_data",
          "data": {
            "text/plain": [
              "<Figure size 640x480 with 1 Axes>"
            ],
            "image/png": "[encoded data removed]"
          },
          "metadata": {}
        }
      ]
    },
    {
      "cell_type": "markdown",
      "source": [
        "the plots are all jumbled up one over the other. how to fix it<br>"
      ],
      "metadata": {
        "id": "HWholuvOfws5"
      }
    },
    {
      "cell_type": "code",
      "source": [
        "import pandas as pd\n",
        "import matplotlib.pyplot as plt\n",
        "\n",
        "# Load the CSV data into a pandas DataFrame\n",
        "#df = pd.read_csv(\"your_file.csv\")\n",
        "\n",
        "# Display the first few rows of the DataFrame\n",
        "#print(df.head())\n",
        "\n",
        "# Now, let's demonstrate some basic charts\n",
        "# Line chart\n",
        "plt.figure()  # Create a new figure\n",
        "df['sales'].plot(kind='line', title='Sales Trend over Time')\n",
        "\n",
        "# Bar chart\n",
        "plt.figure()  # Create a new figure\n",
        "df['category'].value_counts().plot(kind='bar', title='Number of Orders by Category')\n",
        "\n",
        "# Histogram\n",
        "plt.figure()  # Create a new figure\n",
        "df['sales'].plot(kind='hist', bins=20, title='Distribution of Sales')\n",
        "\n",
        "# Pie chart\n",
        "plt.figure()  # Create a new figure\n",
        "df['market'].value_counts().plot(kind='pie', title='Market Distribution')\n",
        "\n",
        "# Scatter plot\n",
        "plt.figure()  # Create a new figure\n",
        "df.plot(kind='scatter', x='sales', y='profit', title='Sales vs. Profit')\n",
        "\n",
        "# Box plot\n",
        "plt.figure()  # Create a new figure\n",
        "df.boxplot(column='sales', by='category')\n",
        "\n",
        "# Show the plots\n",
        "plt.show()\n"
      ],
      "metadata": {
        "colab": {
          "base_uri": "https://localhost:8080/",
          "height": 1000
        },
        "id": "xOY-lcXYYuBc",
        "outputId": "0261239a-fcfa-4b27-f767-1a24a8e26223"
      },
      "execution_count": 19,
      "outputs": [
        {
          "output_type": "display_data",
          "data": {
            "text/plain": [
              "<Figure size 640x480 with 1 Axes>"
            ],
            "image/png": "[encoded data removed]"
          },
          "metadata": {}
        },
        {
          "output_type": "display_data",
          "data": {
            "text/plain": [
              "<Figure size 640x480 with 1 Axes>"
            ],
            "image/png": "[encoded data removed]"
          },
          "metadata": {}
        },
        {
          "output_type": "display_data",
          "data": {
            "text/plain": [
              "<Figure size 640x480 with 1 Axes>"
            ],
            "image/png": "[encoded data removed]"
          },
          "metadata": {}
        },
        {
          "output_type": "display_data",
          "data": {
            "text/plain": [
              "<Figure size 640x480 with 1 Axes>"
            ],
            "image/png": "[encoded data removed]"
          },
          "metadata": {}
        },
        {
          "output_type": "display_data",
          "data": {
            "text/plain": [
              "<Figure size 640x480 with 0 Axes>"
            ]
          },
          "metadata": {}
        },
        {
          "output_type": "display_data",
          "data": {
            "text/plain": [
              "<Figure size 640x480 with 1 Axes>"
            ],
            "image/png": "[encoded data removed]"
          },
          "metadata": {}
        },
        {
          "output_type": "display_data",
          "data": {
            "text/plain": [
              "<Figure size 640x480 with 0 Axes>"
            ]
          },
          "metadata": {}
        },
        {
          "output_type": "display_data",
          "data": {
            "text/plain": [
              "<Figure size 640x480 with 1 Axes>"
            ],
            "image/png": "[encoded data removed]"
          },
          "metadata": {}
        }
      ]
    },
    {
      "cell_type": "markdown",
      "source": [
        "can you please suggest some pivot tables that I can generate from this data and give me the code for that"
      ],
      "metadata": {
        "id": "PgdtebyAfoBx"
      }
    },
    {
      "cell_type": "code",
      "source": [
        "import pandas as pd\n",
        "\n",
        "# Load the CSV data into a pandas DataFrame\n",
        "#df = pd.read_csv(\"your_file.csv\")\n",
        "\n",
        "# Pivot table: Total Sales by Year and Market\n",
        "pivot_sales_year_market = df.pivot_table(index='year', columns='market', values='sales', aggfunc='sum')\n",
        "\n",
        "# Pivot table: Average Profit by Category and Region\n",
        "pivot_profit_category_region = df.pivot_table(index='category', columns='region', values='profit', aggfunc='mean')\n",
        "\n",
        "# Pivot table: Quantity Sold by Ship Mode and Segment\n",
        "pivot_quantity_shipmode_segment = df.pivot_table(index='ship_mode', columns='segment', values='quantity', aggfunc='sum')\n",
        "\n",
        "# Pivot table: Total Sales by Sub-Category and Year\n",
        "pivot_sales_subcategory_year = df.pivot_table(index='sub_category', columns='year', values='sales', aggfunc='sum')\n",
        "\n",
        "# Display the pivot tables\n",
        "print(\"Total Sales by Year and Market:\")\n",
        "print(pivot_sales_year_market)\n",
        "print(\"\\nAverage Profit by Category and Region:\")\n",
        "print(pivot_profit_category_region)\n",
        "print(\"\\nQuantity Sold by Ship Mode and Segment:\")\n",
        "print(pivot_quantity_shipmode_segment)\n",
        "print(\"\\nTotal Sales by Sub-Category and Year:\")\n",
        "print(pivot_sales_subcategory_year)\n"
      ],
      "metadata": {
        "colab": {
          "base_uri": "https://localhost:8080/"
        },
        "id": "5CDhVERQeTpm",
        "outputId": "635896d1-26e6-4ecf-f1a0-3d56a76de8bc"
      },
      "execution_count": 21,
      "outputs": [
        {
          "output_type": "stream",
          "name": "stdout",
          "text": [
            "Total Sales by Year and Market:\n",
            "market     APAC  Africa  Canada    EMEA       EU   LATAM      US\n",
            "year                                                            \n",
            "2011     639264  127186    8507  136422   478766  385111  484255\n",
            "2012     762741  144487   16099  163406   655463  464737  470560\n",
            "2013     974618  229069   19162  204654   761686  608148  608523\n",
            "2014    1209210  283034   23164  301702  1042224  706691  734016\n",
            "\n",
            "Average Profit by Category and Region:\n",
            "region              Africa      Canada  Caribbean    Central  Central Asia  \\\n",
            "category                                                                     \n",
            "Furniture        25.771926   62.220000  16.551755  26.662190    102.375967   \n",
            "Office Supplies   9.353055   28.727545  15.229472  17.490588     24.396490   \n",
            "Technology       48.440717  111.486462  39.676202  63.484038    122.962908   \n",
            "\n",
            "region                EMEA       East       North  North Asia    Oceania  \\\n",
            "category                                                                   \n",
            "Furniture        14.979397   5.068496   32.721765   99.964178  45.318644   \n",
            "Office Supplies   4.509976  23.957114   22.101370   30.725304  16.984287   \n",
            "Technology       18.185492  88.714084  107.205714  149.733502  69.813804   \n",
            "\n",
            "region               South  Southeast Asia       West  \n",
            "category                                               \n",
            "Furniture        17.044114      -10.581902  16.272914  \n",
            "Office Supplies  16.686279        2.353780  27.733183  \n",
            "Technology       39.502863       31.313668  73.962687  \n",
            "\n",
            "Quantity Sold by Ship Mode and Segment:\n",
            "segment         Consumer  Corporate  Home Office\n",
            "ship_mode                                       \n",
            "First Class        13595       7781         4663\n",
            "Same Day            4985       2515         1730\n",
            "Second Class       18099      11215         6410\n",
            "Standard Class     55478      32054        19787\n",
            "\n",
            "Total Sales by Sub-Category and Year:\n",
            "year            2011    2012    2013    2014\n",
            "sub_category                                \n",
            "Accessories   113470  172404  209916  253517\n",
            "Appliances    173391  222944  254955  359791\n",
            "Art            64162   82370   98021  127610\n",
            "Binders        87013   93412  121086  160441\n",
            "Bookcases     259388  317950  376037  513184\n",
            "Chairs        285714  295066  427522  493380\n",
            "Copiers       216380  327167  415510  550382\n",
            "Envelopes      27988   38023   50813   54102\n",
            "Fasteners      13605   19485   21603   28561\n",
            "Furnishings    63941   81810  111821  128037\n",
            "Labels         13614   15517   18393   25909\n",
            "Machines      160550  159862  198373  260286\n",
            "Paper          42652   51514   70514   79627\n",
            "Phones        337298  364034  453529  552013\n",
            "Storage       205629  228560  309492  383443\n",
            "Supplies       47588   43288   65916   86298\n",
            "Tables        147128  164087  202359  243460\n"
          ]
        }
      ]
    },
    {
      "cell_type": "markdown",
      "source": [
        "User\n",
        "Oh I need the row and column totals as well .. also can i draw charts for these pivot tables"
      ],
      "metadata": {
        "id": "of9akJCof8IX"
      }
    },
    {
      "cell_type": "code",
      "source": [
        "import pandas as pd\n",
        "import matplotlib.pyplot as plt\n",
        "\n",
        "# Load the CSV data into a pandas DataFrame\n",
        "#df = pd.read_csv(\"your_file.csv\")\n",
        "\n",
        "# Pivot table: Total Sales by Year and Market with row and column totals\n",
        "pivot_sales_year_market = df.pivot_table(index='year', columns='market', values='sales', aggfunc='sum', margins=True)\n",
        "\n",
        "# Pivot table: Average Profit by Category and Region with row and column totals\n",
        "pivot_profit_category_region = df.pivot_table(index='category', columns='region', values='profit', aggfunc='mean', margins=True)\n",
        "\n",
        "# Pivot table: Quantity Sold by Ship Mode and Segment with row and column totals\n",
        "pivot_quantity_shipmode_segment = df.pivot_table(index='ship_mode', columns='segment', values='quantity', aggfunc='sum', margins=True)\n",
        "\n",
        "# Pivot table: Total Sales by Sub-Category and Year with row and column totals\n",
        "pivot_sales_subcategory_year = df.pivot_table(index='sub_category', columns='year', values='sales', aggfunc='sum', margins=True)\n",
        "\n",
        "# Display the pivot tables\n",
        "print(\"Total Sales by Year and Market:\")\n",
        "print(pivot_sales_year_market)\n",
        "print(\"\\nAverage Profit by Category and Region:\")\n",
        "print(pivot_profit_category_region)\n",
        "print(\"\\nQuantity Sold by Ship Mode and Segment:\")\n",
        "print(pivot_quantity_shipmode_segment)\n",
        "print(\"\\nTotal Sales by Sub-Category and Year:\")\n",
        "print(pivot_sales_subcategory_year)\n",
        "\n",
        "# Draw charts from pivot tables\n",
        "# Example: Bar chart for Total Sales by Year and Market\n",
        "pivot_sales_year_market.plot(kind='bar', figsize=(10, 6))\n",
        "plt.title('Total Sales by Year and Market')\n",
        "plt.xlabel('Year')\n",
        "plt.ylabel('Total Sales')\n",
        "plt.xticks(rotation=45)\n",
        "plt.legend(title='Market')\n",
        "plt.show()\n"
      ],
      "metadata": {
        "colab": {
          "base_uri": "https://localhost:8080/",
          "height": 1000
        },
        "id": "7hJZqmJzewwi",
        "outputId": "3869a4ed-b899-4571-9396-87183e8f7168"
      },
      "execution_count": 22,
      "outputs": [
        {
          "output_type": "stream",
          "name": "stdout",
          "text": [
            "Total Sales by Year and Market:\n",
            "market     APAC  Africa  Canada    EMEA       EU    LATAM       US       All\n",
            "year                                                                        \n",
            "2011     639264  127186    8507  136422   478766   385111   484255   2259511\n",
            "2012     762741  144487   16099  163406   655463   464737   470560   2677493\n",
            "2013     974618  229069   19162  204654   761686   608148   608523   3405860\n",
            "2014    1209210  283034   23164  301702  1042224   706691   734016   4300041\n",
            "All     3585833  783776   66932  806184  2938139  2164687  2297354  12642905\n",
            "\n",
            "Average Profit by Category and Region:\n",
            "region              Africa      Canada  Caribbean    Central  Central Asia  \\\n",
            "category                                                                     \n",
            "Furniture        25.771926   62.220000  16.551755  26.662190    102.375967   \n",
            "Office Supplies   9.353055   28.727545  15.229472  17.490588     24.396490   \n",
            "Technology       48.440717  111.486462  39.676202  63.484038    122.962908   \n",
            "All              19.374674   46.399453  20.456403  28.011512     64.687591   \n",
            "\n",
            "region                EMEA       East       North  North Asia    Oceania  \\\n",
            "category                                                                   \n",
            "Furniture        14.979397   5.068496   32.721765   99.964178  45.318644   \n",
            "Office Supplies   4.509976  23.957114   22.101370   30.725304  16.984287   \n",
            "Technology       18.185492  88.714084  107.205714  149.733502  69.813804   \n",
            "All               8.728966  32.135808   40.668329   70.820539  34.891495   \n",
            "\n",
            "region               South  Southeast Asia       West        All  \n",
            "category                                                          \n",
            "Furniture        17.044114      -10.581902  16.272914  29.038300  \n",
            "Office Supplies  16.686279        2.353780  27.733183  16.578961  \n",
            "Technology       39.502863       31.313668  73.962687  65.454958  \n",
            "All              21.122011        5.705442  33.849032  28.641740  \n",
            "\n",
            "Quantity Sold by Ship Mode and Segment:\n",
            "segment         Consumer  Corporate  Home Office     All\n",
            "ship_mode                                               \n",
            "First Class        13595       7781         4663   26039\n",
            "Same Day            4985       2515         1730    9230\n",
            "Second Class       18099      11215         6410   35724\n",
            "Standard Class     55478      32054        19787  107319\n",
            "All                92157      53565        32590  178312\n",
            "\n",
            "Total Sales by Sub-Category and Year:\n",
            "year             2011     2012     2013     2014       All\n",
            "sub_category                                              \n",
            "Accessories    113470   172404   209916   253517    749307\n",
            "Appliances     173391   222944   254955   359791   1011081\n",
            "Art             64162    82370    98021   127610    372163\n",
            "Binders         87013    93412   121086   160441    461952\n",
            "Bookcases      259388   317950   376037   513184   1466559\n",
            "Chairs         285714   295066   427522   493380   1501682\n",
            "Copiers        216380   327167   415510   550382   1509439\n",
            "Envelopes       27988    38023    50813    54102    170926\n",
            "Fasteners       13605    19485    21603    28561     83254\n",
            "Furnishings     63941    81810   111821   128037    385609\n",
            "Labels          13614    15517    18393    25909     73433\n",
            "Machines       160550   159862   198373   260286    779071\n",
            "Paper           42652    51514    70514    79627    244307\n",
            "Phones         337298   364034   453529   552013   1706874\n",
            "Storage        205629   228560   309492   383443   1127124\n",
            "Supplies        47588    43288    65916    86298    243090\n",
            "Tables         147128   164087   202359   243460    757034\n",
            "All           2259511  2677493  3405860  4300041  12642905\n"
          ]
        },
        {
          "output_type": "display_data",
          "data": {
            "text/plain": [
              "<Figure size 1000x600 with 1 Axes>"
            ],
            "image/png": "[encoded data removed]"
          },
          "metadata": {}
        }
      ]
    },
    {
      "cell_type": "markdown",
      "source": [
        "#Chronobooks <br>\n",
        "Two science fiction novels by Prithwis Mukerjee. A dystopian Earth. A technocratic society managed by artificial intelligence. Escape and epiphany on Mars. Can man and machine, carbon and silicon explore and escape into other dimensions of existence? An Indic perspective rooted in Advaita Vedanta and the Divine Feminine.  [More information](http://bit.ly/chronobooks) <br>\n",
        "![alt text](https://github.com/Praxis-QR/RDWH/raw/main/images/CTCYFooter-1.png)"
      ],
      "metadata": {
        "id": "OLoGzD33EzfO"
      }
    }
  ]
}