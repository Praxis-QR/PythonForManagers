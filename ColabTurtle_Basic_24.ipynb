{
  "nbformat": 4,
  "nbformat_minor": 0,
  "metadata": {
    "colab": {
      "provenance": [],
      "include_colab_link": true
    },
    "kernelspec": {
      "name": "python3",
      "display_name": "Python 3"
    }
  },
  "cells": [
    {
      "cell_type": "markdown",
      "metadata": {
        "id": "view-in-github",
        "colab_type": "text"
      },
      "source": [
        "<a href=\"https://colab.research.google.com/github/Praxis-QR/PythonForManagers/blob/main/ColabTurtle_Basic_24.ipynb\" target=\"_parent\"><img src=\"https://colab.research.google.com/assets/colab-badge.svg\" alt=\"Open In Colab\"/></a>"
      ]
    },
    {
      "cell_type": "markdown",
      "source": [
        "![CC-BY-SA](https://licensebuttons.net/l/by-sa/3.0/88x31.png)<br>\n",
        "<hr>\n",
        "\n",
        "![alt text](https://github.com/Praxis-QR/RDWH/raw/main/images/YantraJaalBanner.png)<br>\n",
        "\n",
        "\n",
        "<hr>\n",
        "\n",
        "[Prithwis Mukerjee](http://www.linkedin.com/in/prithwis)<br>"
      ],
      "metadata": {
        "id": "ipegArhzQybs"
      }
    },
    {
      "cell_type": "code",
      "metadata": {
        "id": "2ISLuNPF2LKE",
        "colab": {
          "base_uri": "https://localhost:8080/"
        },
        "outputId": "ef7e2a07-4e45-45d3-c826-b6316e71aff4"
      },
      "source": [
        "!pip3 -q install ColabTurtle    # https://github.com/tolgaatam/ColabTurtle\n",
        "from ColabTurtle.Turtle import *\n",
        "import random\n",
        "import math"
      ],
      "execution_count": 1,
      "outputs": [
        {
          "output_type": "stream",
          "name": "stdout",
          "text": [
            "  Preparing metadata (setup.py) ... \u001b[?25l\u001b[?25hdone\n",
            "  Building wheel for ColabTurtle (setup.py) ... \u001b[?25l\u001b[?25hdone\n"
          ]
        }
      ]
    },
    {
      "cell_type": "code",
      "source": [
        "def cleanSlate(startX, startY):\n",
        "    initializeTurtle(initial_window_size=(900,900))\n",
        "    clear()\n",
        "    bgcolor('white')\n",
        "    color('black')\n",
        "    penup()\n",
        "    goto(startX, startY)\n",
        "    #pendown()"
      ],
      "metadata": {
        "id": "aYl1Itj82h0k"
      },
      "execution_count": 5,
      "outputs": []
    },
    {
      "cell_type": "code",
      "source": [
        "cleanSlate(0,0)\n",
        "sx = 50\n",
        "sy = 100\n",
        "wd = 100\n",
        "ht = wd*1.5\n",
        "goto(sx,sy)\n",
        "right(90)\n",
        "pendown()\n",
        "forward(wd)\n",
        "right(90)\n",
        "forward(ht)\n",
        "right(90)\n",
        "forward(wd)\n",
        "right(90)\n",
        "forward(ht)\n",
        "penup()\n",
        "goto(sx+wd/2, sy)\n",
        "right(198.5) # atan(6)\n",
        "hyp = math.sqrt((wd/2)**2 + ht**2)\n",
        "#print(hyp)\n",
        "pendown()\n",
        "forward(hyp)\n",
        "right(180)\n",
        "penup()\n",
        "forward(hyp)\n",
        "left(18.5)\n",
        "right(161.5)\n",
        "pendown()\n",
        "forward(hyp)\n",
        "right(180)\n",
        "forward(hyp/2)\n",
        "left(71.5)\n",
        "forward(wd/2)\n",
        "left(90)\n",
        "forward(6)\n",
        "left(90)\n",
        "forward(wd/2)\n",
        "penup()\n",
        "goto(sx,sy)\n",
        "left(90)"
      ],
      "metadata": {
        "colab": {
          "base_uri": "https://localhost:8080/",
          "height": 921
        },
        "id": "WV3V6w10mbTs",
        "outputId": "fb290081-9549-4043-d6c9-e42fa26f1307"
      },
      "execution_count": 49,
      "outputs": [
        {
          "output_type": "display_data",
          "data": {
            "text/plain": [
              "<IPython.core.display.HTML object>"
            ],
            "text/html": [
              "\n",
              "      <svg width=\"900\" height=\"900\">\n",
              "        <rect width=\"100%\" height=\"100%\" fill=\"white\"/>\n",
              "        <line x1=\"50\" y1=\"100\" x2=\"150.0\" y2=\"100.0\" stroke-linecap=\"round\" style=\"stroke:black;stroke-width:4\"/><line x1=\"150.0\" y1=\"100.0\" x2=\"150.0\" y2=\"250.0\" stroke-linecap=\"round\" style=\"stroke:black;stroke-width:4\"/><line x1=\"150.0\" y1=\"250.0\" x2=\"50.0\" y2=\"250.0\" stroke-linecap=\"round\" style=\"stroke:black;stroke-width:4\"/><line x1=\"50.0\" y1=\"250.0\" x2=\"50.0\" y2=\"100.0\" stroke-linecap=\"round\" style=\"stroke:black;stroke-width:4\"/><line x1=\"100.0\" y1=\"100\" x2=\"49.83\" y2=\"249.943\" stroke-linecap=\"round\" style=\"stroke:black;stroke-width:4\"/><line x1=\"100.0\" y1=\"100.0\" x2=\"150.17\" y2=\"249.943\" stroke-linecap=\"round\" style=\"stroke:black;stroke-width:4\"/><line x1=\"150.17\" y1=\"249.943\" x2=\"125.085\" y2=\"174.971\" stroke-linecap=\"round\" style=\"stroke:black;stroke-width:4\"/><line x1=\"125.085\" y1=\"174.971\" x2=\"75.085\" y2=\"174.971\" stroke-linecap=\"round\" style=\"stroke:black;stroke-width:4\"/><line x1=\"75.085\" y1=\"174.971\" x2=\"75.085\" y2=\"180.971\" stroke-linecap=\"round\" style=\"stroke:black;stroke-width:4\"/><line x1=\"75.085\" y1=\"180.971\" x2=\"125.085\" y2=\"180.971\" stroke-linecap=\"round\" style=\"stroke:black;stroke-width:4\"/>\n",
              "        <g visibility=visible transform=\"rotate(360.0,50,100) translate(32, 82)\">\n",
              "<path style=\" stroke:none;fill-rule:evenodd;fill:black;fill-opacity:1;\" d=\"M 18.214844 0.632812 C 16.109375 1.800781 15.011719 4.074219 15.074219 7.132812 L 15.085938 7.652344 L 14.785156 7.496094 C 13.476562 6.824219 11.957031 6.671875 10.40625 7.066406 C 8.46875 7.550781 6.515625 9.15625 4.394531 11.992188 C 3.0625 13.777344 2.679688 14.636719 3.042969 15.027344 L 3.15625 15.152344 L 3.519531 15.152344 C 4.238281 15.152344 4.828125 14.886719 8.1875 13.039062 C 9.386719 12.378906 10.371094 11.839844 10.378906 11.839844 C 10.386719 11.839844 10.355469 11.929688 10.304688 12.035156 C 9.832031 13.09375 9.257812 14.820312 8.96875 16.078125 C 7.914062 20.652344 8.617188 24.53125 11.070312 27.660156 C 11.351562 28.015625 11.363281 27.914062 10.972656 28.382812 C 8.925781 30.84375 7.945312 33.28125 8.238281 35.1875 C 8.289062 35.527344 8.28125 35.523438 8.917969 35.523438 C 10.941406 35.523438 13.074219 34.207031 15.136719 31.6875 C 15.359375 31.417969 15.328125 31.425781 15.5625 31.574219 C 16.292969 32.042969 18.023438 32.964844 18.175781 32.964844 C 18.335938 32.964844 19.941406 32.210938 20.828125 31.71875 C 20.996094 31.625 21.136719 31.554688 21.136719 31.558594 C 21.203125 31.664062 21.898438 32.414062 22.222656 32.730469 C 23.835938 34.300781 25.5625 35.132812 27.582031 35.300781 C 27.90625 35.328125 27.9375 35.308594 28.007812 34.984375 C 28.382812 33.242188 27.625 30.925781 25.863281 28.425781 L 25.542969 27.96875 L 25.699219 27.785156 C 28.945312 23.960938 29.132812 18.699219 26.257812 11.96875 L 26.207031 11.84375 L 27.945312 12.703125 C 31.53125 14.476562 32.316406 14.800781 33.03125 14.800781 C 33.976562 14.800781 33.78125 13.9375 32.472656 12.292969 C 28.519531 7.355469 25.394531 5.925781 21.921875 7.472656 L 21.558594 7.636719 L 21.578125 7.542969 C 21.699219 6.992188 21.761719 5.742188 21.699219 5.164062 C 21.496094 3.296875 20.664062 1.964844 19.003906 0.855469 C 18.480469 0.503906 18.457031 0.5 18.214844 0.632812\"/>\n",
              "</g>\n",
              "      </svg>\n",
              "    "
            ]
          },
          "metadata": {}
        }
      ]
    },
    {
      "cell_type": "code",
      "source": [
        "def writeA(sx, sy, wd):\n",
        "    ht = wd*1.5\n",
        "    goto(sx,sy)\n",
        "    right(90)\n",
        "    pendown()\n",
        "    forward(wd)\n",
        "    right(90)\n",
        "    forward(ht)\n",
        "    right(90)\n",
        "    forward(wd)\n",
        "    right(90)\n",
        "    forward(ht)\n",
        "    penup()\n",
        "    goto(sx+wd/2, sy)\n",
        "    right(198.5) # atan(6)\n",
        "    hyp = math.sqrt((wd/2)**2 + ht**2)\n",
        "    #print(hyp)\n",
        "    pendown()\n",
        "    forward(hyp)\n",
        "    right(180)\n",
        "    penup()\n",
        "    forward(hyp)\n",
        "    left(18.5)\n",
        "    right(161.5)\n",
        "    pendown()\n",
        "    forward(hyp)\n",
        "    right(180)\n",
        "    forward(hyp/2)\n",
        "    left(71.5)\n",
        "    forward(wd/2)\n",
        "    left(90)\n",
        "    forward(6)\n",
        "    left(90)\n",
        "    forward(wd/2)\n",
        "    penup()\n",
        "    goto(sx,sy)\n",
        "    left(90)"
      ],
      "metadata": {
        "id": "XXzZSWHB0AL7"
      },
      "execution_count": 50,
      "outputs": []
    },
    {
      "cell_type": "code",
      "source": [
        "cleanSlate(0,0)\n",
        "writeA(50,100,100)\n",
        "writeA(200, 100, 150)"
      ],
      "metadata": {
        "colab": {
          "base_uri": "https://localhost:8080/",
          "height": 921
        },
        "id": "28acQYws0Rhp",
        "outputId": "3355eb97-8171-434e-d5ee-9d7c1854d2c4"
      },
      "execution_count": 52,
      "outputs": [
        {
          "output_type": "display_data",
          "data": {
            "text/plain": [
              "<IPython.core.display.HTML object>"
            ],
            "text/html": [
              "\n",
              "      <svg width=\"900\" height=\"900\">\n",
              "        <rect width=\"100%\" height=\"100%\" fill=\"white\"/>\n",
              "        <line x1=\"50\" y1=\"100\" x2=\"150.0\" y2=\"100.0\" stroke-linecap=\"round\" style=\"stroke:black;stroke-width:4\"/><line x1=\"150.0\" y1=\"100.0\" x2=\"150.0\" y2=\"250.0\" stroke-linecap=\"round\" style=\"stroke:black;stroke-width:4\"/><line x1=\"150.0\" y1=\"250.0\" x2=\"50.0\" y2=\"250.0\" stroke-linecap=\"round\" style=\"stroke:black;stroke-width:4\"/><line x1=\"50.0\" y1=\"250.0\" x2=\"50.0\" y2=\"100.0\" stroke-linecap=\"round\" style=\"stroke:black;stroke-width:4\"/><line x1=\"100.0\" y1=\"100\" x2=\"49.83\" y2=\"249.943\" stroke-linecap=\"round\" style=\"stroke:black;stroke-width:4\"/><line x1=\"100.0\" y1=\"100.0\" x2=\"150.17\" y2=\"249.943\" stroke-linecap=\"round\" style=\"stroke:black;stroke-width:4\"/><line x1=\"150.17\" y1=\"249.943\" x2=\"125.085\" y2=\"174.971\" stroke-linecap=\"round\" style=\"stroke:black;stroke-width:4\"/><line x1=\"125.085\" y1=\"174.971\" x2=\"75.085\" y2=\"174.971\" stroke-linecap=\"round\" style=\"stroke:black;stroke-width:4\"/><line x1=\"75.085\" y1=\"174.971\" x2=\"75.085\" y2=\"180.971\" stroke-linecap=\"round\" style=\"stroke:black;stroke-width:4\"/><line x1=\"75.085\" y1=\"180.971\" x2=\"125.085\" y2=\"180.971\" stroke-linecap=\"round\" style=\"stroke:black;stroke-width:4\"/><line x1=\"200\" y1=\"100\" x2=\"350.0\" y2=\"100.0\" stroke-linecap=\"round\" style=\"stroke:black;stroke-width:4\"/><line x1=\"350.0\" y1=\"100.0\" x2=\"350.0\" y2=\"325.0\" stroke-linecap=\"round\" style=\"stroke:black;stroke-width:4\"/><line x1=\"350.0\" y1=\"325.0\" x2=\"200.0\" y2=\"325.0\" stroke-linecap=\"round\" style=\"stroke:black;stroke-width:4\"/><line x1=\"200.0\" y1=\"325.0\" x2=\"200.0\" y2=\"100.0\" stroke-linecap=\"round\" style=\"stroke:black;stroke-width:4\"/><line x1=\"275.0\" y1=\"100\" x2=\"199.745\" y2=\"324.915\" stroke-linecap=\"round\" style=\"stroke:black;stroke-width:4\"/><line x1=\"275.0\" y1=\"100.0\" x2=\"350.255\" y2=\"324.915\" stroke-linecap=\"round\" style=\"stroke:black;stroke-width:4\"/><line x1=\"350.255\" y1=\"324.915\" x2=\"312.627\" y2=\"212.458\" stroke-linecap=\"round\" style=\"stroke:black;stroke-width:4\"/><line x1=\"312.627\" y1=\"212.458\" x2=\"237.627\" y2=\"212.458\" stroke-linecap=\"round\" style=\"stroke:black;stroke-width:4\"/><line x1=\"237.627\" y1=\"212.458\" x2=\"237.627\" y2=\"218.458\" stroke-linecap=\"round\" style=\"stroke:black;stroke-width:4\"/><line x1=\"237.627\" y1=\"218.458\" x2=\"312.627\" y2=\"218.458\" stroke-linecap=\"round\" style=\"stroke:black;stroke-width:4\"/>\n",
              "        <g visibility=visible transform=\"rotate(360.0,200,100) translate(182, 82)\">\n",
              "<path style=\" stroke:none;fill-rule:evenodd;fill:black;fill-opacity:1;\" d=\"M 18.214844 0.632812 C 16.109375 1.800781 15.011719 4.074219 15.074219 7.132812 L 15.085938 7.652344 L 14.785156 7.496094 C 13.476562 6.824219 11.957031 6.671875 10.40625 7.066406 C 8.46875 7.550781 6.515625 9.15625 4.394531 11.992188 C 3.0625 13.777344 2.679688 14.636719 3.042969 15.027344 L 3.15625 15.152344 L 3.519531 15.152344 C 4.238281 15.152344 4.828125 14.886719 8.1875 13.039062 C 9.386719 12.378906 10.371094 11.839844 10.378906 11.839844 C 10.386719 11.839844 10.355469 11.929688 10.304688 12.035156 C 9.832031 13.09375 9.257812 14.820312 8.96875 16.078125 C 7.914062 20.652344 8.617188 24.53125 11.070312 27.660156 C 11.351562 28.015625 11.363281 27.914062 10.972656 28.382812 C 8.925781 30.84375 7.945312 33.28125 8.238281 35.1875 C 8.289062 35.527344 8.28125 35.523438 8.917969 35.523438 C 10.941406 35.523438 13.074219 34.207031 15.136719 31.6875 C 15.359375 31.417969 15.328125 31.425781 15.5625 31.574219 C 16.292969 32.042969 18.023438 32.964844 18.175781 32.964844 C 18.335938 32.964844 19.941406 32.210938 20.828125 31.71875 C 20.996094 31.625 21.136719 31.554688 21.136719 31.558594 C 21.203125 31.664062 21.898438 32.414062 22.222656 32.730469 C 23.835938 34.300781 25.5625 35.132812 27.582031 35.300781 C 27.90625 35.328125 27.9375 35.308594 28.007812 34.984375 C 28.382812 33.242188 27.625 30.925781 25.863281 28.425781 L 25.542969 27.96875 L 25.699219 27.785156 C 28.945312 23.960938 29.132812 18.699219 26.257812 11.96875 L 26.207031 11.84375 L 27.945312 12.703125 C 31.53125 14.476562 32.316406 14.800781 33.03125 14.800781 C 33.976562 14.800781 33.78125 13.9375 32.472656 12.292969 C 28.519531 7.355469 25.394531 5.925781 21.921875 7.472656 L 21.558594 7.636719 L 21.578125 7.542969 C 21.699219 6.992188 21.761719 5.742188 21.699219 5.164062 C 21.496094 3.296875 20.664062 1.964844 19.003906 0.855469 C 18.480469 0.503906 18.457031 0.5 18.214844 0.632812\"/>\n",
              "</g>\n",
              "      </svg>\n",
              "    "
            ]
          },
          "metadata": {}
        }
      ]
    },
    {
      "cell_type": "markdown",
      "source": [
        "#Chronobooks <br>\n",
        "Two science fiction novels by Prithwis Mukerjee. A dystopian Earth. A technocratic society managed by artificial intelligence. Escape and epiphany on Mars. Can man and machine, carbon and silicon explore and escape into other dimensions of existence? An Indic perspective rooted in Advaita Vedanta and the Divine Feminine.  [More information](http://bit.ly/chronobooks) <br>\n",
        "![alt text](https://blogger.googleusercontent.com/img/b/R29vZ2xl/AVvXsEg8qElM73l6qtmIS1VTUgsLLhyoGnbWGDq8g-v-g2iW1xr-IRr7FT9WW4tnKDY2sE1rJKPl7sp_p_f6ipEs-__eYU7V0SRuoLlhkopL063bEPqUTiC4lrM4toFMgaf7kpxE2m5niHwn7jZwb9ktv8OdO7OIwPL9xyyF-SiSuQE2SRemLVQRCalwDnQgdg/s16000/CTCYFooter-1.png)"
      ],
      "metadata": {
        "id": "O9QJjT62Q1p8"
      }
    }
  ]
}