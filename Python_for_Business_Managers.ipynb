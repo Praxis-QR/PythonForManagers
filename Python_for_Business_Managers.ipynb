{
  "nbformat": 4,
  "nbformat_minor": 0,
  "metadata": {
    "colab": {
      "name": "Python for Business Managers",
      "provenance": [],
      "collapsed_sections": [
        "fTLwvu6FFzzw",
        "ZxFHRaHAF-Am",
        "MHN2dzusGB8D",
        "txoDUszLouoC",
        "wJMIHmNrntgo",
        "frTmL2_W99wR"
      ],
      "toc_visible": true,
      "include_colab_link": true
    },
    "kernelspec": {
      "name": "python3",
      "display_name": "Python 3"
    }
  },
  "cells": [
    {
      "cell_type": "markdown",
      "metadata": {
        "id": "view-in-github",
        "colab_type": "text"
      },
      "source": [
        "<a href=\"https://colab.research.google.com/github/Praxis-QR/PythonForManagers/blob/main/Python_for_Business_Managers.ipynb\" target=\"_parent\"><img src=\"https://colab.research.google.com/assets/colab-badge.svg\" alt=\"Open In Colab\"/></a>"
      ]
    },
    {
      "cell_type": "markdown",
      "metadata": {
        "id": "vPclXkKXL_YF"
      },
      "source": [
        "#Python for Business Managers"
      ]
    },
    {
      "cell_type": "markdown",
      "metadata": {
        "id": "KGX1ww5hMEOO"
      },
      "source": [
        "#1 Getting Started"
      ]
    },
    {
      "cell_type": "code",
      "metadata": {
        "id": "j5OT-rnVLeGj",
        "colab": {
          "base_uri": "https://localhost:8080/",
          "height": 51
        },
        "outputId": "8cf7556a-fd64-4b00-d195-46fb74d80d2f"
      },
      "source": [
        "print('Hello Python World')\n",
        "print('Welcome to Data Science')"
      ],
      "execution_count": null,
      "outputs": [
        {
          "output_type": "stream",
          "text": [
            "Hello Python World\n",
            "Welcome to Data Science\n"
          ],
          "name": "stdout"
        }
      ]
    },
    {
      "cell_type": "markdown",
      "metadata": {
        "id": "gmBv8j1QMI-5"
      },
      "source": [
        "# 2 Calculation with Variables"
      ]
    },
    {
      "cell_type": "code",
      "metadata": {
        "id": "q3r8OTEhMZEm",
        "colab": {
          "base_uri": "https://localhost:8080/",
          "height": 34
        },
        "outputId": "f042f267-5bd1-4678-805e-44583047e741"
      },
      "source": [
        "samosa = 5\n",
        "cost = 7\n",
        "total = samosa*cost\n",
        "print(total)"
      ],
      "execution_count": null,
      "outputs": [
        {
          "output_type": "stream",
          "text": [
            "35\n"
          ],
          "name": "stdout"
        }
      ]
    },
    {
      "cell_type": "code",
      "metadata": {
        "id": "btp6qil8S55w",
        "colab": {
          "base_uri": "https://localhost:8080/",
          "height": 34
        },
        "outputId": "6bc97083-6135-46bb-fe10-d820de9dbb69"
      },
      "source": [
        "samosa = 5\n",
        "jalebi = 3\n",
        "poorie = 7\n",
        "plate = samosa + 2*jalebi + 4*poorie\n",
        "customer = 5\n",
        "bill = customer * plate\n",
        "print(bill)"
      ],
      "execution_count": null,
      "outputs": [
        {
          "output_type": "stream",
          "text": [
            "195\n"
          ],
          "name": "stdout"
        }
      ]
    },
    {
      "cell_type": "code",
      "metadata": {
        "id": "OooX-C18cYGQ",
        "colab": {
          "base_uri": "https://localhost:8080/",
          "height": 34
        },
        "outputId": "c91bf6a7-5bbe-41ac-e254-fb165c0aac82"
      },
      "source": [
        "bill = customer *(samosa + 2*jalebi + 4*poorie)\n",
        "print(bill)"
      ],
      "execution_count": null,
      "outputs": [
        {
          "output_type": "stream",
          "text": [
            "195\n"
          ],
          "name": "stdout"
        }
      ]
    },
    {
      "cell_type": "code",
      "metadata": {
        "id": "W3kPEUtHMbz4",
        "colab": {
          "base_uri": "https://localhost:8080/",
          "height": 34
        },
        "outputId": "e4966761-5150-408e-a930-4df78a119f6e"
      },
      "source": [
        "plate = samosa + 2*jalebi + 4*poorie\n",
        "itemCount = 1 + 2 + 4\n",
        "averagePrice = plate / itemCount\n",
        "print(plate,itemCount, averagePrice)"
      ],
      "execution_count": null,
      "outputs": [
        {
          "output_type": "stream",
          "text": [
            "39 7 5.571428571428571\n"
          ],
          "name": "stdout"
        }
      ]
    },
    {
      "cell_type": "code",
      "metadata": {
        "id": "qKfYyYGaMWsp",
        "colab": {
          "base_uri": "https://localhost:8080/",
          "height": 34
        },
        "outputId": "9a0f3cfd-4800-4b5e-dc0b-3b20b6055ba2"
      },
      "source": [
        "#Compound Interest\n",
        "Principal = 100000\n",
        "numberOfYears = 5\n",
        "rate = 0.08\n",
        "Amount = Principal*(1+rate)**numberOfYears\n",
        "print(Amount)"
      ],
      "execution_count": null,
      "outputs": [
        {
          "output_type": "stream",
          "text": [
            "146932.80768000006\n"
          ],
          "name": "stdout"
        }
      ]
    },
    {
      "cell_type": "markdown",
      "metadata": {
        "id": "ZISuLsmrR-j-"
      },
      "source": [
        "#3 Number, String and Lists"
      ]
    },
    {
      "cell_type": "code",
      "metadata": {
        "id": "L1m-ScK5SCyL",
        "colab": {
          "base_uri": "https://localhost:8080/",
          "height": 102
        },
        "outputId": "8bb3e992-8ad3-42bf-bdde-8dea34a11052"
      },
      "source": [
        "#Numeric Variables\n",
        "samosa = 5\n",
        "jalebi = 7\n",
        "\n",
        "#Numeric Variables\n",
        "LastName = 'Mukerjee'\n",
        "FirstName = 'Prithwis'\n",
        "Address = '51 Jatin Das Road'\n",
        "\n",
        "#List Variables\n",
        "List01 = [1,45, 300]\n",
        "List2B = [ LastName, FirstName, Address]\n",
        "List03 = ['apple', 'orange', 'banana']\n",
        "\n",
        "#Display\n",
        "print(samosa, jalebi)\n",
        "print(LastName, FirstName, Employer)\n",
        "print(List01)\n",
        "print(List2B)\n",
        "print(List03)\n",
        "\n"
      ],
      "execution_count": null,
      "outputs": [
        {
          "output_type": "stream",
          "text": [
            "5 7\n",
            "Mukerjee Prithwis Praxis Business School\n",
            "[1, 45, 300]\n",
            "['Mukerjee', 'Prithwis', '51 Jatin Das Road']\n",
            "['apple', 'orange', 'banana']\n"
          ],
          "name": "stdout"
        }
      ]
    },
    {
      "cell_type": "code",
      "metadata": {
        "id": "F6wGmf4SemUk",
        "colab": {
          "base_uri": "https://localhost:8080/",
          "height": 34
        },
        "outputId": "26069471-5b68-4e6f-c888-40ee873a9112"
      },
      "source": [
        "mixList = [List01,List03, 2, 3, 'prithwis']\n",
        "print(mixList)"
      ],
      "execution_count": null,
      "outputs": [
        {
          "output_type": "stream",
          "text": [
            "[[1, 45, 300], ['apple', 'orange', 'banana'], 2, 3, 'prithwis']\n"
          ],
          "name": "stdout"
        }
      ]
    },
    {
      "cell_type": "code",
      "metadata": {
        "id": "pstpkZbrdq8I",
        "colab": {
          "base_uri": "https://localhost:8080/",
          "height": 85
        },
        "outputId": "ba3bbda9-68b6-46c5-a5ce-5540a4787042"
      },
      "source": [
        "#Display\n",
        "\n",
        "print(List01[0])\n",
        "print(List2B[1])\n",
        "print(List03[2])\n",
        "print(mixList[1])"
      ],
      "execution_count": null,
      "outputs": [
        {
          "output_type": "stream",
          "text": [
            "1\n",
            "Prithwis\n",
            "banana\n",
            "['apple', 'orange', 'banana']\n"
          ],
          "name": "stdout"
        }
      ]
    },
    {
      "cell_type": "code",
      "metadata": {
        "id": "jBX3V0Hg5kd_",
        "colab": {
          "base_uri": "https://localhost:8080/",
          "height": 68
        },
        "outputId": "eeebaa5a-e3a1-4193-c0b8-57d0c7465fa6"
      },
      "source": [
        "samosa = 3\n",
        "jalebi = 4\n",
        "result1 = samosa+jalebi\n",
        "print(result1)\n",
        "\n",
        "LastName = 'Mukerjee'\n",
        "FirstName = 'Prithwis'\n",
        "result2 = FirstName+LastName\n",
        "print(result2)\n",
        "\n",
        "L1 = [1,3,5]\n",
        "L2 = ['apple','orange','pear']\n",
        "result3 = L1+L2\n",
        "print(result3)\n"
      ],
      "execution_count": null,
      "outputs": [
        {
          "output_type": "stream",
          "text": [
            "7\n",
            "PrithwisMukerjee\n",
            "[1, 3, 5, 'apple', 'orange', 'pear']\n"
          ],
          "name": "stdout"
        }
      ]
    },
    {
      "cell_type": "code",
      "metadata": {
        "id": "YAFB-99P9Qaa",
        "colab": {
          "base_uri": "https://localhost:8080/",
          "height": 85
        },
        "outputId": "4c1e848b-0f01-4879-9135-12ca19075dc8"
      },
      "source": [
        "ListA = ['Calcutta','Bombay','Delhi','Madras']\n",
        "print(ListA)\n",
        "ListA.remove('Bombay')\n",
        "print(ListA)\n",
        "ListA.append('Mumbai')\n",
        "print(ListA)\n",
        "ListA.reverse()\n",
        "print(ListA)"
      ],
      "execution_count": null,
      "outputs": [
        {
          "output_type": "stream",
          "text": [
            "['Calcutta', 'Bombay', 'Delhi', 'Madras']\n",
            "['Calcutta', 'Delhi', 'Madras']\n",
            "['Calcutta', 'Delhi', 'Madras', 'Mumbai']\n",
            "['Mumbai', 'Madras', 'Delhi', 'Calcutta']\n"
          ],
          "name": "stdout"
        }
      ]
    },
    {
      "cell_type": "code",
      "metadata": {
        "id": "jmIpsblqCT6W",
        "colab": {
          "base_uri": "https://localhost:8080/",
          "height": 51
        },
        "outputId": "f9605a99-4ac8-473f-f4df-c090d97f11c5"
      },
      "source": [
        "stringVar = 'The King Beneath The Mountain'\n",
        "newStringVar = stringVar.upper()\n",
        "print(newStringVar)\n",
        "print(stringVar.lower())"
      ],
      "execution_count": null,
      "outputs": [
        {
          "output_type": "stream",
          "text": [
            "THE KING BENEATH THE MOUNTAIN\n",
            "the king beneath the mountain\n"
          ],
          "name": "stdout"
        }
      ]
    },
    {
      "cell_type": "code",
      "metadata": {
        "id": "aoUyf3FUEnK5",
        "colab": {
          "base_uri": "https://localhost:8080/",
          "height": 51
        },
        "outputId": "97aa68f0-5ab2-4dcf-ab3c-bc9dbdd843c5"
      },
      "source": [
        "sentence = 'The quick fox jumped over the lazy dog'\n",
        "words = sentence.split()\n",
        "print(sentence)\n",
        "print(words)"
      ],
      "execution_count": null,
      "outputs": [
        {
          "output_type": "stream",
          "text": [
            "The quick fox jumped over the lazy dog\n",
            "['The', 'quick', 'fox', 'jumped', 'over', 'the', 'lazy', 'dog']\n"
          ],
          "name": "stdout"
        }
      ]
    },
    {
      "cell_type": "code",
      "metadata": {
        "id": "3Qi61gmuSX0j",
        "colab": {
          "base_uri": "https://localhost:8080/",
          "height": 51
        },
        "outputId": "62062257-efcb-4f87-9260-7adbaea0da14"
      },
      "source": [
        "x = 30\n",
        "print(x) \n",
        "print(30)\n"
      ],
      "execution_count": null,
      "outputs": [
        {
          "output_type": "stream",
          "text": [
            "30\n",
            "30\n"
          ],
          "name": "stdout"
        }
      ]
    },
    {
      "cell_type": "code",
      "metadata": {
        "id": "MF7gebieTKsR",
        "colab": {
          "base_uri": "https://localhost:8080/",
          "height": 51
        },
        "outputId": "737e94c8-51e4-4ee5-a242-ae2cdb402a6d"
      },
      "source": [
        "name = 'prithwis'\n",
        "print(name)\n",
        "print('prithwis')\n"
      ],
      "execution_count": null,
      "outputs": [
        {
          "output_type": "stream",
          "text": [
            "prithwis\n",
            "prithwis\n"
          ],
          "name": "stdout"
        }
      ]
    },
    {
      "cell_type": "code",
      "metadata": {
        "id": "FZxAoYI5TziZ",
        "colab": {
          "base_uri": "https://localhost:8080/",
          "height": 34
        },
        "outputId": "68d6b0b2-8c3a-42fe-fe76-7d9388bd2125"
      },
      "source": [
        "print(30,x,name,'prithwis')\n"
      ],
      "execution_count": null,
      "outputs": [
        {
          "output_type": "stream",
          "text": [
            "30 30 prithwis prithwis\n"
          ],
          "name": "stdout"
        }
      ]
    },
    {
      "cell_type": "markdown",
      "metadata": {
        "id": "fTLwvu6FFzzw"
      },
      "source": [
        "#4 Functions and Modules"
      ]
    },
    {
      "cell_type": "code",
      "metadata": {
        "id": "1gBBN0dFY-mr",
        "colab": {
          "base_uri": "https://localhost:8080/",
          "height": 68
        },
        "outputId": "c02979c5-d536-4298-b536-9146d3df4318"
      },
      "source": [
        "#Payslip for Ram\n",
        "salary = 25000\n",
        "sales = 200000\n",
        "comm = 0.02 * sales\n",
        "tax = (salary + comm)* 0.10\n",
        "payout = salary + comm - tax\n",
        "print('Payslip of Ram')\n",
        "print('Salary',salary,'Comm',comm,'Tax',tax)\n",
        "print('Total payout',payout)"
      ],
      "execution_count": null,
      "outputs": [
        {
          "output_type": "stream",
          "text": [
            "Payslip of Ram\n",
            "Salary 25000 Comm 4000.0 Tax 2900.0\n",
            "Total payout 26100.0\n"
          ],
          "name": "stdout"
        }
      ]
    },
    {
      "cell_type": "code",
      "metadata": {
        "id": "sK_IJXOObb87"
      },
      "source": [
        "def printSalarySlip(name, salary, sales, rate):\n",
        "    comm = sales * rate\n",
        "    tax = (salary + comm) * 0.10\n",
        "    payout = salary + comm - tax\n",
        "    print('Salary Slip for', name)\n",
        "    print('Salary', salary,'Comm',comm,'Tax',tax)\n",
        "    print('Total Payout for',name, payout)"
      ],
      "execution_count": null,
      "outputs": []
    },
    {
      "cell_type": "code",
      "metadata": {
        "id": "3S-cuhtsoxeq",
        "colab": {
          "base_uri": "https://localhost:8080/",
          "height": 221
        },
        "outputId": "4ea6cffd-684c-4de2-cbdf-826d76810d49"
      },
      "source": [
        "printSalarySlip('Ram',25000,200000,0.02)\n",
        "printSalarySlip('Radha',35000,400000,0.03)\n",
        "printSalarySlip('Raghu',15000,320000,0.02)\n",
        "printSalarySlip('Shyam',24000,120000,0.02)"
      ],
      "execution_count": null,
      "outputs": [
        {
          "output_type": "stream",
          "text": [
            "Salary Slip for Ram\n",
            "Salary 25000 Comm 4000.0 Tax 2900.0\n",
            "Total Payout for Ram 26100.0\n",
            "Salary Slip for Radha\n",
            "Salary 35000 Comm 12000.0 Tax 4700.0\n",
            "Total Payout for Radha 42300.0\n",
            "Salary Slip for Raghu\n",
            "Salary 15000 Comm 6400.0 Tax 2140.0\n",
            "Total Payout for Raghu 19260.0\n",
            "Salary Slip for Shyam\n",
            "Salary 24000 Comm 2400.0 Tax 2640.0\n",
            "Total Payout for Shyam 23760.0\n"
          ],
          "name": "stdout"
        }
      ]
    },
    {
      "cell_type": "code",
      "metadata": {
        "id": "WHrw2d4nwE38",
        "colab": {
          "base_uri": "https://localhost:8080/",
          "height": 68
        },
        "outputId": "7efd765b-0775-41f4-98de-beb32123e215"
      },
      "source": [
        "#printSalarySlip(35000,400000,0.03,'Radha')\n",
        "printSalarySlip('Raghu',0.02,15000,320000)\n"
      ],
      "execution_count": null,
      "outputs": [
        {
          "output_type": "stream",
          "text": [
            "Salary Slip for Raghu\n",
            "Salary 0.02 Comm 4800000000 Tax 480000000.0020001\n",
            "Total Payout for Raghu 4320000000.018001\n"
          ],
          "name": "stdout"
        }
      ]
    },
    {
      "cell_type": "code",
      "metadata": {
        "id": "GqVhz2XCypXY"
      },
      "source": [
        "def printSalarySlip2(name, salary, sales, rate = 0.02):\n",
        "    comm = sales * rate\n",
        "    tax = (salary + comm) * 0.10\n",
        "    payout = salary + comm - tax\n",
        "    print('Salary Slip for', name)\n",
        "    print('Salary', salary,'Comm',comm,'Tax',tax)\n",
        "    print('Total Payout for',name, payout)"
      ],
      "execution_count": null,
      "outputs": []
    },
    {
      "cell_type": "code",
      "metadata": {
        "id": "nzH3Uxauyxmm",
        "colab": {
          "base_uri": "https://localhost:8080/",
          "height": 221
        },
        "outputId": "a4bce0d6-1e65-4a89-9c87-f5bd41b942d8"
      },
      "source": [
        "printSalarySlip2('Ram',25000,200000)\n",
        "printSalarySlip2('Radha',35000,400000,0.03)\n",
        "printSalarySlip2('Raghu',15000,320000)\n",
        "printSalarySlip2('Shyam',24000,120000)"
      ],
      "execution_count": null,
      "outputs": [
        {
          "output_type": "stream",
          "text": [
            "Salary Slip for Ram\n",
            "Salary 25000 Comm 4000.0 Tax 2900.0\n",
            "Total Payout for Ram 26100.0\n",
            "Salary Slip for Radha\n",
            "Salary 35000 Comm 12000.0 Tax 4700.0\n",
            "Total Payout for Radha 42300.0\n",
            "Salary Slip for Raghu\n",
            "Salary 15000 Comm 6400.0 Tax 2140.0\n",
            "Total Payout for Raghu 19260.0\n",
            "Salary Slip for Shyam\n",
            "Salary 24000 Comm 2400.0 Tax 2640.0\n",
            "Total Payout for Shyam 23760.0\n"
          ],
          "name": "stdout"
        }
      ]
    },
    {
      "cell_type": "code",
      "metadata": {
        "id": "9aiRWj6d76dW",
        "colab": {
          "base_uri": "https://localhost:8080/",
          "height": 34
        },
        "outputId": "788f3c29-8d19-4e56-ff4a-42cdfd20ee3f"
      },
      "source": [
        "name = 'prithwis'                               # string variable\n",
        "age = 30                                        # numeric variable\n",
        "likes = ['cake', 'coffee', 'Amitabh Bachchan']  # list\n",
        "print(name,'aged:',age, 'prefers ',likes)\n"
      ],
      "execution_count": null,
      "outputs": [
        {
          "output_type": "stream",
          "text": [
            "prithwis aged: 30 prefers  ['cake', 'coffee', 'Amitabh Bachchan']\n"
          ],
          "name": "stdout"
        }
      ]
    },
    {
      "cell_type": "code",
      "metadata": {
        "id": "c5eYB9FRAbr4",
        "colab": {
          "base_uri": "https://localhost:8080/",
          "height": 34
        },
        "outputId": "96a3e332-2f4b-4c80-88b1-2f6e41fe05a2"
      },
      "source": [
        "def payout(sal, sales, rate):\n",
        "    comm = sales * rate\n",
        "    tax = (sal + comm)*0.10\n",
        "    payout = sal + comm - tax\n",
        "    return payout\n",
        "\n",
        "# Now Call the function with arguments\n",
        "payout(25000,200000,0.02)\n",
        "\n",
        "\n"
      ],
      "execution_count": null,
      "outputs": [
        {
          "output_type": "execute_result",
          "data": {
            "text/plain": [
              "26100.0"
            ]
          },
          "metadata": {
            "tags": []
          },
          "execution_count": 8
        }
      ]
    },
    {
      "cell_type": "code",
      "metadata": {
        "id": "DMXl1oIKaK02",
        "colab": {
          "base_uri": "https://localhost:8080/",
          "height": 34
        },
        "outputId": "2c9bea88-1e77-4ff1-93f3-8092e17ea025"
      },
      "source": [
        "currentPayout = payout(25000,200000,0.02)\n",
        "print('the returned value is ', currentPayout)"
      ],
      "execution_count": null,
      "outputs": [
        {
          "output_type": "stream",
          "text": [
            "the returned value is  26100.0\n"
          ],
          "name": "stdout"
        }
      ]
    },
    {
      "cell_type": "code",
      "metadata": {
        "id": "HEGEs2daaq8O",
        "colab": {
          "base_uri": "https://localhost:8080/",
          "height": 34
        },
        "outputId": "3f95ee55-4c5e-4550-a5f3-04b2e47c14e8"
      },
      "source": [
        "print('the returned value is ', payout(25000,200000,0.02))"
      ],
      "execution_count": null,
      "outputs": [
        {
          "output_type": "stream",
          "text": [
            "the returned value is  26100.0\n"
          ],
          "name": "stdout"
        }
      ]
    },
    {
      "cell_type": "code",
      "metadata": {
        "id": "L7o4B63_gk9O",
        "colab": {
          "base_uri": "https://localhost:8080/",
          "height": 85
        },
        "outputId": "0624d319-cc8f-48e1-cf0e-8ee93ed36d45"
      },
      "source": [
        "x = min(34, 45, 67, 200,36,17)\n",
        "print (x)\n",
        "x = max(34, 45, 67, 200,36,17)\n",
        "print (x)\n",
        "x = round(34.567)\n",
        "print (x)\n",
        "x = round(34.321)\n",
        "print (x)"
      ],
      "execution_count": null,
      "outputs": [
        {
          "output_type": "stream",
          "text": [
            "17\n",
            "200\n",
            "35\n",
            "34\n"
          ],
          "name": "stdout"
        }
      ]
    },
    {
      "cell_type": "code",
      "metadata": {
        "id": "OAuZ3b1Pqawn",
        "colab": {
          "base_uri": "https://localhost:8080/",
          "height": 51
        },
        "outputId": "c8d5d73d-c6df-4641-98cf-a09f3d122974"
      },
      "source": [
        "import math\n",
        "x = math.sqrt(63)\n",
        "print (x)\n",
        "print (x**2)"
      ],
      "execution_count": null,
      "outputs": [
        {
          "output_type": "stream",
          "text": [
            "7.937253933193772\n",
            "63.00000000000001\n"
          ],
          "name": "stdout"
        }
      ]
    },
    {
      "cell_type": "code",
      "metadata": {
        "id": "696u61zMmoeg",
        "colab": {
          "base_uri": "https://localhost:8080/",
          "height": 265
        },
        "outputId": "61734bab-f2ad-402d-c1f7-47cc0172dc1c"
      },
      "source": [
        "import matplotlib.pyplot as plt\n",
        "plt.plot([1,3,5,7,9], [1, 9,25,49,81])\n",
        "plt.show()"
      ],
      "execution_count": null,
      "outputs": [
        {
          "output_type": "display_data",
          "data": {
            "image/png": "[encoded data removed]",
            "text/plain": [
              "<Figure size 432x288 with 1 Axes>"
            ]
          },
          "metadata": {
            "tags": []
          }
        }
      ]
    },
    {
      "cell_type": "markdown",
      "metadata": {
        "id": "ZxFHRaHAF-Am"
      },
      "source": [
        "#5 Colab Graphics"
      ]
    },
    {
      "cell_type": "code",
      "metadata": {
        "id": "i0HNIGkNAokW"
      },
      "source": [
        "from Turtle import *"
      ],
      "execution_count": null,
      "outputs": []
    },
    {
      "cell_type": "code",
      "metadata": {
        "id": "tHrw934OEGQ3",
        "colab": {
          "base_uri": "https://localhost:8080/",
          "height": 371
        },
        "outputId": "e14e7164-e2c5-4ea6-e59d-2951f22c51c2"
      },
      "source": [
        "initializeTurtle(initial_window_size=(800,350))\n",
        "bgcolor('grey')\n",
        "color('black')"
      ],
      "execution_count": null,
      "outputs": [
        {
          "output_type": "display_data",
          "data": {
            "text/html": [
              "\n",
              "      <svg width=\"800\" height=\"350\">\n",
              "        <rect width=\"100%\" height=\"100%\" fill=\"grey\"/>\n",
              "        \n",
              "        \n",
              "      <g visibility=visible transform=\"rotate(180,400,175) translate(400, 175)\">\n",
              "        <circle stroke=\"black\" stroke-width=\"3\" fill=\"transparent\" r=\"12\" cx=\"0\" cy=\"0\"/>\n",
              "        <polygon points=\"0,19 3,16 -3,16\" style=\"fill:black;stroke:black;stroke-width:2\"/>\n",
              "      </g>\n",
              "    \n",
              "      </svg>\n",
              "    "
            ],
            "text/plain": [
              "<IPython.core.display.HTML object>"
            ]
          },
          "metadata": {}
        }
      ]
    },
    {
      "cell_type": "code",
      "metadata": {
        "id": "1A2W0LpYEZPX"
      },
      "source": [
        ""
      ],
      "execution_count": null,
      "outputs": []
    },
    {
      "cell_type": "markdown",
      "metadata": {
        "id": "MHN2dzusGB8D"
      },
      "source": [
        "#6 Booleans and Conditionals"
      ]
    },
    {
      "cell_type": "code",
      "metadata": {
        "id": "4j0YQz2_GIlc",
        "colab": {
          "base_uri": "https://localhost:8080/",
          "height": 170
        },
        "outputId": "80d87905-a7f8-41d3-eea2-3933995b3ff1"
      },
      "source": [
        "#Numeric Data\n",
        "salary = 25000\n",
        "print(salary)\n",
        "#String Data\n",
        "name = 'prithwis'\n",
        "print (name)\n",
        "#List Data\n",
        "colours = ['red', 'white', 'blue']\n",
        "print (colours)\n",
        "#Boolean Data\n",
        "check01 = (salary == 25000)\n",
        "print(check01)\n",
        "check02 = (salary > 10000)\n",
        "print(check02)\n",
        "check03 = (salary < 20000)\n",
        "print(check03)\n",
        "check04 = (name == 'prithwis')\n",
        "print(check04)\n",
        "check05 = (name != 'prithwis')\n",
        "print(check05)\n",
        "check06 = (name != 'charanpreet')\n",
        "print(check06)"
      ],
      "execution_count": null,
      "outputs": [
        {
          "output_type": "stream",
          "text": [
            "25000\n",
            "prithwis\n",
            "['red', 'white', 'blue']\n",
            "True\n",
            "True\n",
            "False\n",
            "True\n",
            "False\n",
            "True\n"
          ],
          "name": "stdout"
        }
      ]
    },
    {
      "cell_type": "code",
      "metadata": {
        "id": "zkHjUENMeRK2"
      },
      "source": [
        "def SalarySlip3(name, gender, salary, sales, rate):\n",
        "    if (gender == 'M'):\n",
        "        name = 'Mr.'+name\n",
        "    else:\n",
        "        name = 'Ms.'+name\n",
        "    comm = sales * rate\n",
        "    limit = 28000\n",
        "    if ((salary+comm) < limit):\n",
        "        taxRate = 0.10\n",
        "    else:\n",
        "        taxRate = 0.15\n",
        "    tax = (salary + comm) * 0.10\n",
        "    payout = salary + comm - tax\n",
        "    print('Salary Slip for', name)\n",
        "    print('Gross Payout', salary+comm)\n",
        "    print(tax,' Tax deducted at rate',taxRate)\n",
        "    print('Net Payout',payout)\n",
        "    print('---------')"
      ],
      "execution_count": null,
      "outputs": []
    },
    {
      "cell_type": "code",
      "metadata": {
        "id": "Kk-qTMNPfTwe",
        "colab": {
          "base_uri": "https://localhost:8080/",
          "height": 357
        },
        "outputId": "1f0b41ae-4e51-418c-b636-bc6096af78aa"
      },
      "source": [
        "SalarySlip3('Ram','M',25000,200000,0.02)\n",
        "SalarySlip3('Radha','F',35000,400000,0.03)\n",
        "SalarySlip3('Raghu','M',15000,320000,0.02)\n",
        "SalarySlip3('Rita','F',24000,120000,0.03)"
      ],
      "execution_count": null,
      "outputs": [
        {
          "output_type": "stream",
          "text": [
            "Salary Slip for Mr.Ram\n",
            "Gross Payout 29000.0\n",
            "2900.0  Tax deducted at rate 0.15\n",
            "Net Payout 26100.0\n",
            "---------\n",
            "Salary Slip for Ms.Radha\n",
            "Gross Payout 47000.0\n",
            "4700.0  Tax deducted at rate 0.15\n",
            "Net Payout 42300.0\n",
            "---------\n",
            "Salary Slip for Mr.Raghu\n",
            "Gross Payout 21400.0\n",
            "2140.0  Tax deducted at rate 0.1\n",
            "Net Payout 19260.0\n",
            "---------\n",
            "Salary Slip for Ms.Rita\n",
            "Gross Payout 27600.0\n",
            "2760.0  Tax deducted at rate 0.1\n",
            "Net Payout 24840.0\n",
            "---------\n"
          ],
          "name": "stdout"
        }
      ]
    },
    {
      "cell_type": "code",
      "metadata": {
        "id": "n6E3kO9Wh1n-"
      },
      "source": [
        "def taxCalc(income):\n",
        "    if income < 500000:\n",
        "        tax = 0\n",
        "    if (income >= 500000) and (income < 700000):\n",
        "        tax = (income - 500000) * 0.10\n",
        "    if (income >= 700000) and (income < 1000000):\n",
        "        tax = 20000 + (income - 700000) * 0.15\n",
        "    if (income >= 1000000 ):\n",
        "        tax = 20000 + 45000 + (income - 1000000) * 0.2\n",
        "    return tax"
      ],
      "execution_count": null,
      "outputs": []
    },
    {
      "cell_type": "code",
      "metadata": {
        "id": "5Imxgp5Sjm6Y",
        "colab": {
          "base_uri": "https://localhost:8080/",
          "height": 119
        },
        "outputId": "64e1e953-c8cd-40ae-b511-b02c6541be19"
      },
      "source": [
        "print('tax on ', 490000,' is ', taxCalc(490000))\n",
        "print('tax on ', 500100,' is ', taxCalc(500100))\n",
        "print('tax on ', 700000,' is ', taxCalc(700000))\n",
        "print('tax on ', 700100,' is ', taxCalc(700100))\n",
        "print('tax on ', 1000000,' is ', taxCalc(1000000))\n",
        "print('tax on ', 1001000,' is ', taxCalc(1001000))"
      ],
      "execution_count": null,
      "outputs": [
        {
          "output_type": "stream",
          "text": [
            "tax on  490000  is  0\n",
            "tax on  500100  is  10.0\n",
            "tax on  700000  is  20000.0\n",
            "tax on  700100  is  20015.0\n",
            "tax on  1000000  is  65000.0\n",
            "tax on  1001000  is  65200.0\n"
          ],
          "name": "stdout"
        }
      ]
    },
    {
      "cell_type": "code",
      "metadata": {
        "id": "5hJtN4z-C0ud",
        "colab": {
          "base_uri": "https://localhost:8080/",
          "height": 51
        },
        "outputId": "44d2c3e3-942b-4976-d172-346ee40c3635"
      },
      "source": [
        "#Numerical Arithmetic\n",
        "a = 4\n",
        "b = 5\n",
        "c = a+b\n",
        "d = a*b\n",
        "print(a,b,c,d)\n",
        "#Boolean Arithmetic\n",
        "p = True\n",
        "q = False\n",
        "r = p and q\n",
        "s = p or q\n",
        "print(p,q,r,s)"
      ],
      "execution_count": null,
      "outputs": [
        {
          "output_type": "stream",
          "text": [
            "4 5 9 20\n",
            "True False False True\n"
          ],
          "name": "stdout"
        }
      ]
    },
    {
      "cell_type": "code",
      "metadata": {
        "id": "uo6oY162P5bz",
        "colab": {
          "base_uri": "https://localhost:8080/",
          "height": 51
        },
        "outputId": "21ade6d0-df83-4a1a-92bc-8c57b8597aea"
      },
      "source": [
        "ramGen = 'Male'\n",
        "radhaGen = 'Female'\n",
        "ramStat = 'Married'\n",
        "radhaStat = 'Single'\n",
        "#Determine if ram is a Married Woman?\n",
        "print((ramGen=='Female') and (ramStat=='Married'))\n",
        "#Determine if radha is Single Woman\n",
        "print((radhaGen=='Female') and (radhaStat=='Single' ))"
      ],
      "execution_count": null,
      "outputs": [
        {
          "output_type": "stream",
          "text": [
            "False\n",
            "True\n"
          ],
          "name": "stdout"
        }
      ]
    },
    {
      "cell_type": "code",
      "metadata": {
        "id": "GmMTJDs9ZRF0"
      },
      "source": [
        "def discount(val, br):\n",
        "    #print (val, br)\n",
        "    if (val < 10000) and (br == 'Glow'):\n",
        "        discount = 0.05\n",
        "    if ((val < 10000) and \n",
        "        (br=='Glow+')or(br=='GlowG')):\n",
        "        discount = 0.10\n",
        "    if ((val >= 10000) and (val < 20000) and\n",
        "        (br == 'Glow')):\n",
        "        discount = 0.05\n",
        "    if ((val >= 10000) and (val < 20000) and\n",
        "        (br == 'Glow+') or (br == 'GlowG')):\n",
        "        discount = 0.15\n",
        "    if ((val >= 20000) and (val < 30000) and\n",
        "        (br == 'Glow')):\n",
        "        discount = 0.075\n",
        "    if ((val >= 20000) and (val < 30000) and\n",
        "        (br == 'Glow+') or (br == 'GlowG')):\n",
        "        discount = 0.15\n",
        "    if ((val >= 30000) and (br == 'Glow')):\n",
        "        discount = 0.10\n",
        "    if ((val >= 30000) and (br == 'Glow+')):\n",
        "        discount = 0.20\n",
        "    if ((val >= 30000) and (br == 'GlowG')):\n",
        "        discount = 0.25\n",
        "    return discount\n"
      ],
      "execution_count": null,
      "outputs": []
    },
    {
      "cell_type": "code",
      "metadata": {
        "id": "HEgdzCuofI5m",
        "colab": {
          "base_uri": "https://localhost:8080/",
          "height": 221
        },
        "outputId": "4ae821f4-4293-4349-fbe1-95640aefe671"
      },
      "source": [
        "print('discount is ',discount(9000,'Glow'))\n",
        "print('discount is ',discount(9000,'Glow+'))\n",
        "print('discount is ',discount(10000,'GlowG'))\n",
        "print('discount is ',discount(20000,'Glow'))\n",
        "print('discount is ',discount(20000,'Glow+'))\n",
        "print('discount is ',discount(20000,'GlowG'))\n",
        "print('discount is ',discount(29000,'Glow'))\n",
        "print('discount is ',discount(29000,'Glow+'))\n",
        "print('discount is ',discount(29000,'GlowG'))\n",
        "print('discount is ',discount(39000,'Glow'))\n",
        "print('discount is ',discount(39000,'Glow+'))\n",
        "print('discount is ',discount(39000,'GlowG'))"
      ],
      "execution_count": null,
      "outputs": [
        {
          "output_type": "stream",
          "text": [
            "discount is  0.05\n",
            "discount is  0.1\n",
            "discount is  0.15\n",
            "discount is  0.075\n",
            "discount is  0.15\n",
            "discount is  0.15\n",
            "discount is  0.075\n",
            "discount is  0.15\n",
            "discount is  0.15\n",
            "discount is  0.1\n",
            "discount is  0.2\n",
            "discount is  0.25\n"
          ],
          "name": "stdout"
        }
      ]
    },
    {
      "cell_type": "code",
      "metadata": {
        "id": "rvx3_LyojiL1"
      },
      "source": [
        "def discount2(val, br):\n",
        "    #print (val, br)\n",
        "    if (val < 10000):\n",
        "        if (br == 'Glow'):\n",
        "            discount = 0.05\n",
        "        else:\n",
        "            discount = 0.1\n",
        "    else:\n",
        "        if (val < 20000):\n",
        "            if (br == 'Glow'):\n",
        "                discount = 0.05\n",
        "            else:\n",
        "                discount = 0.15\n",
        "        else:\n",
        "            if (val < 30000):\n",
        "                if (br == 'Glow'):\n",
        "                    discount = 0.075\n",
        "                else:\n",
        "                    discount = 0.15\n",
        "            else:\n",
        "                if (br == 'Glow'):\n",
        "                    discount = 0.10\n",
        "                if (br == 'Glow+'):\n",
        "                    discount = 0.2\n",
        "                if (br == 'GlowG'):\n",
        "                    discount = 0.25\n",
        "    return discount\n"
      ],
      "execution_count": null,
      "outputs": []
    },
    {
      "cell_type": "code",
      "metadata": {
        "id": "xXXdf1OalHwG",
        "colab": {
          "base_uri": "https://localhost:8080/",
          "height": 221
        },
        "outputId": "197fd845-b916-4d4d-cc34-20e3f0b59e03"
      },
      "source": [
        "print('discount is ',discount2(9000,'Glow'))\n",
        "print('discount is ',discount2(9000,'Glow+'))\n",
        "print('discount is ',discount2(10000,'GlowG'))\n",
        "print('discount is ',discount2(20000,'Glow'))\n",
        "print('discount is ',discount2(20000,'Glow+'))\n",
        "print('discount is ',discount2(20000,'GlowG'))\n",
        "print('discount is ',discount2(29000,'Glow'))\n",
        "print('discount is ',discount2(29000,'Glow+'))\n",
        "print('discount is ',discount2(29000,'GlowG'))\n",
        "print('discount is ',discount2(39000,'Glow'))\n",
        "print('discount is ',discount2(39000,'Glow+'))\n",
        "print('discount is ',discount2(39000,'GlowG'))"
      ],
      "execution_count": null,
      "outputs": [
        {
          "output_type": "stream",
          "text": [
            "discount is  0.05\n",
            "discount is  0.1\n",
            "discount is  0.15\n",
            "discount is  0.075\n",
            "discount is  0.15\n",
            "discount is  0.15\n",
            "discount is  0.075\n",
            "discount is  0.15\n",
            "discount is  0.15\n",
            "discount is  0.1\n",
            "discount is  0.2\n",
            "discount is  0.25\n"
          ],
          "name": "stdout"
        }
      ]
    },
    {
      "cell_type": "code",
      "metadata": {
        "id": "zAJG4WvLHK5L",
        "colab": {
          "base_uri": "https://localhost:8080/",
          "height": 85
        },
        "outputId": "5787c458-aa17-4df8-ff8d-285908567eb4"
      },
      "source": [
        "#Numerical Arithmetic\n",
        "a = 4\n",
        "b = 5\n",
        "c = 6\n",
        "d = 2\n",
        "e1 = a + b * c + d\n",
        "e2 = (a + b) * (c + d)\n",
        "print(e1, e2)\n",
        "e3 = a * b + c * d\n",
        "e4 = a * (b + c) * d\n",
        "print (e3, e4)\n",
        "\n",
        "#Boolean Arithmetic\n",
        "p = True\n",
        "q = False\n",
        "r = False \n",
        "s = False\n",
        "u1 = p or q and r or s\n",
        "u2 = (p or q) and (r or s)\n",
        "print(u1, u2)\n",
        "u3 = p and q or r and s\n",
        "u4 = p and (q or r) and s\n",
        "print (u3, u4)\n"
      ],
      "execution_count": null,
      "outputs": [
        {
          "output_type": "stream",
          "text": [
            "36 72\n",
            "32 88\n",
            "True False\n",
            "False False\n"
          ],
          "name": "stdout"
        }
      ]
    },
    {
      "cell_type": "markdown",
      "metadata": {
        "id": "txoDUszLouoC"
      },
      "source": [
        "#7 Loops and Iterations"
      ]
    },
    {
      "cell_type": "code",
      "metadata": {
        "id": "Jt1e7xNvotWN",
        "colab": {
          "base_uri": "https://localhost:8080/",
          "height": 136
        },
        "outputId": "ebba8b51-b084-4c65-d99f-7a6cbd0bd23a"
      },
      "source": [
        "D = ['Mon','Tues','Wednes','Thurs','Fri','Satur','Sun']\n",
        "dayOfWeek = 1\n",
        "for item in D:\n",
        "    dayName = item+'day'\n",
        "    print('Day ', dayOfWeek, ' is ', dayName)\n",
        "    dayOfWeek = dayOfWeek + 1\n"
      ],
      "execution_count": null,
      "outputs": [
        {
          "output_type": "stream",
          "text": [
            "Day  1  is  Monday\n",
            "Day  2  is  Tuesday\n",
            "Day  3  is  Wednesday\n",
            "Day  4  is  Thursday\n",
            "Day  5  is  Friday\n",
            "Day  6  is  Saturday\n",
            "Day  7  is  Sunday\n"
          ],
          "name": "stdout"
        }
      ]
    },
    {
      "cell_type": "code",
      "metadata": {
        "id": "rRU2jxVzp0_k",
        "colab": {
          "base_uri": "https://localhost:8080/",
          "height": 136
        },
        "outputId": "21c85764-d793-4cb8-fdaa-0cf62f15002c"
      },
      "source": [
        "D = ['Mon','Tues','Wednes','Thurs','Fri','Satur','Sun']\n",
        "dayOfWeek = 1\n",
        "while (dayOfWeek < 8):\n",
        "    dayName = D[dayOfWeek - 1] +'day'\n",
        "    print('Day ', dayOfWeek, ' is ', dayName)\n",
        "    dayOfWeek = dayOfWeek + 1"
      ],
      "execution_count": null,
      "outputs": [
        {
          "output_type": "stream",
          "text": [
            "Day  1  is  Monday\n",
            "Day  2  is  Tuesday\n",
            "Day  3  is  Wednesday\n",
            "Day  4  is  Thursday\n",
            "Day  5  is  Friday\n",
            "Day  6  is  Saturday\n",
            "Day  7  is  Sunday\n"
          ],
          "name": "stdout"
        }
      ]
    },
    {
      "cell_type": "code",
      "metadata": {
        "id": "o4xYXZ7fxtW6",
        "colab": {
          "base_uri": "https://localhost:8080/"
        },
        "outputId": "28272f02-2030-47d9-a988-f92905e8b493"
      },
      "source": [
        "complete = False\n",
        "invoiceList = []\n",
        "while not(complete):\n",
        "    print(\"Enter Client Name, blank to end\")\n",
        "    client = input('Client :')\n",
        "    if (client == ''):\n",
        "        complete = True\n",
        "    else:\n",
        "        product = input('Product :')\n",
        "        value = int(input('Value - integer :'))\n",
        "        invoiceList.append([client, product, value])\n",
        "print(\"List of Invoices\")\n",
        "print(invoiceList)"
      ],
      "execution_count": null,
      "outputs": [
        {
          "output_type": "stream",
          "text": [
            "Enter Client Name, blank to end\n",
            "Client :ram\n",
            "Product :soap\n",
            "Value - integer :30\n",
            "Enter Client Name, blank to end\n",
            "Client :sita\n",
            "Product :sugar\n",
            "Value - integer :49\n",
            "Enter Client Name, blank to end\n",
            "Client :jadu\n",
            "Product :salt\n",
            "Value - integer :56\n",
            "Enter Client Name, blank to end\n",
            "Client :\n",
            "List of Invoices\n",
            "[['ram', 'soap', 30], ['sita', 'sugar', 49], ['jadu', 'salt', 56]]\n"
          ],
          "name": "stdout"
        }
      ]
    },
    {
      "cell_type": "code",
      "metadata": {
        "id": "GAL00bJDfx5c",
        "colab": {
          "base_uri": "https://localhost:8080/"
        },
        "outputId": "88675d21-44e6-4042-bff0-5942b4a4f730"
      },
      "source": [
        "for item in invoiceList:\n",
        "    currency = '₹'\n",
        "    print('Customer ', item[0])\n",
        "    print('Product  ', item[1])\n",
        "    print('Money Due', currency+str(item[2]) )\n",
        "    print('-----------------------')"
      ],
      "execution_count": null,
      "outputs": [
        {
          "output_type": "stream",
          "text": [
            "Customer  ram\n",
            "Product   soap\n",
            "Money Due ₹30\n",
            "-----------------------\n",
            "Customer  sita\n",
            "Product   sugar\n",
            "Money Due ₹49\n",
            "-----------------------\n",
            "Customer  jadu\n",
            "Product   salt\n",
            "Money Due ₹56\n",
            "-----------------------\n"
          ],
          "name": "stdout"
        }
      ]
    },
    {
      "cell_type": "markdown",
      "metadata": {
        "id": "wJMIHmNrntgo"
      },
      "source": [
        "#8 Turtle again"
      ]
    },
    {
      "cell_type": "code",
      "metadata": {
        "id": "BJsVSar2s_Vb",
        "colab": {
          "base_uri": "https://localhost:8080/",
          "height": 85
        },
        "outputId": "73c30848-b4e3-4906-f603-28da62239149"
      },
      "source": [
        "# Turtle file https://drive.google.com/file/d/1994Vv_GJdK8BKbUf2HrO74Bo4bMABW5U/view?usp=sharing\n",
        "!gdown https://drive.google.com/uc?id=1994Vv_GJdK8BKbUf2HrO74Bo4bMABW5U"
      ],
      "execution_count": null,
      "outputs": [
        {
          "output_type": "stream",
          "text": [
            "Downloading...\n",
            "From: https://drive.google.com/uc?id=1994Vv_GJdK8BKbUf2HrO74Bo4bMABW5U\n",
            "To: /content/Turtle.py\n",
            "\r  0% 0.00/9.30k [00:00<?, ?B/s]\r100% 9.30k/9.30k [00:00<00:00, 8.52MB/s]\n"
          ],
          "name": "stdout"
        }
      ]
    },
    {
      "cell_type": "code",
      "metadata": {
        "id": "9sXhLl9DnwaT"
      },
      "source": [
        "#!wget https://raw.githubusercontent.com/tolgaatam/ColabTurtle/master/ColabTurtle/Turtle.py\n",
        "from Turtle import *"
      ],
      "execution_count": null,
      "outputs": []
    },
    {
      "cell_type": "code",
      "metadata": {
        "id": "n_f-fQYYn5WY"
      },
      "source": [
        "def cleanSlate(startX, startY):\n",
        "    initializeTurtle(initial_window_size=(800,350))\n",
        "    bgcolor('grey')\n",
        "    color('black')\n",
        "    penup()\n",
        "    goto(startX, startY)\n",
        "    pendown()"
      ],
      "execution_count": null,
      "outputs": []
    },
    {
      "cell_type": "code",
      "metadata": {
        "id": "Q0NZ3giluovz",
        "colab": {
          "base_uri": "https://localhost:8080/",
          "height": 371
        },
        "outputId": "e2c3fead-ac9f-4eb9-a03f-52ea2dcfc4e7"
      },
      "source": [
        "cleanSlate(200,200)"
      ],
      "execution_count": null,
      "outputs": [
        {
          "output_type": "display_data",
          "data": {
            "text/html": [
              "\n",
              "      <svg width=\"800\" height=\"350\">\n",
              "        <rect width=\"100%\" height=\"100%\" fill=\"grey\"/>\n",
              "        \n",
              "        \n",
              "      <g visibility=visible transform=\"rotate(180,200,200) translate(200, 200)\">\n",
              "        <circle stroke=\"black\" stroke-width=\"3\" fill=\"transparent\" r=\"12\" cx=\"0\" cy=\"0\"/>\n",
              "        <polygon points=\"0,19 3,16 -3,16\" style=\"fill:black;stroke:black;stroke-width:2\"/>\n",
              "      </g>\n",
              "    \n",
              "      </svg>\n",
              "    "
            ],
            "text/plain": [
              "<IPython.core.display.HTML object>"
            ]
          },
          "metadata": {
            "tags": []
          }
        }
      ]
    },
    {
      "cell_type": "code",
      "metadata": {
        "id": "MhIsYd2QoF_A"
      },
      "source": [
        "def spiral(startX, startY):\n",
        "    penup()\n",
        "    goto(startX,startY)\n",
        "    pendown()\n",
        "    change = 2\n",
        "    stepSize = 5\n",
        "    maxSteps = 20\n",
        "    stepCount = 0\n",
        "    while (stepCount < maxSteps):\n",
        "        forward(stepSize)\n",
        "        right(30)\n",
        "        stepSize = stepSize + change\n",
        "        stepCount = stepCount + 1\n",
        "\n"
      ],
      "execution_count": null,
      "outputs": []
    },
    {
      "cell_type": "code",
      "metadata": {
        "id": "ArEQ6vNq-pRs",
        "colab": {
          "base_uri": "https://localhost:8080/",
          "height": 371
        },
        "outputId": "fc599db7-d249-4afb-8b06-e9cabda7fa3d"
      },
      "source": [
        "spiral(300,200)"
      ],
      "execution_count": null,
      "outputs": [
        {
          "output_type": "display_data",
          "data": {
            "text/html": [
              "\n",
              "      <svg width=\"800\" height=\"350\">\n",
              "        <rect width=\"100%\" height=\"100%\" fill=\"grey\"/>\n",
              "        <line x1=\"200\" y1=\"200\" x2=\"200.0\" y2=\"190.0\" stroke-linecap=\"round\" style=\"stroke:black;stroke-width:4\"/><line x1=\"200.0\" y1=\"190.0\" x2=\"215.0\" y2=\"190.0\" stroke-linecap=\"round\" style=\"stroke:black;stroke-width:4\"/><line x1=\"215.0\" y1=\"190.0\" x2=\"215.0\" y2=\"210.0\" stroke-linecap=\"round\" style=\"stroke:black;stroke-width:4\"/><line x1=\"215.0\" y1=\"210.0\" x2=\"190.0\" y2=\"210.0\" stroke-linecap=\"round\" style=\"stroke:black;stroke-width:4\"/><line x1=\"190.0\" y1=\"210.0\" x2=\"190.0\" y2=\"180.0\" stroke-linecap=\"round\" style=\"stroke:black;stroke-width:4\"/><line x1=\"190.0\" y1=\"180.0\" x2=\"225.0\" y2=\"180.0\" stroke-linecap=\"round\" style=\"stroke:black;stroke-width:4\"/><line x1=\"225.0\" y1=\"180.0\" x2=\"225.0\" y2=\"220.0\" stroke-linecap=\"round\" style=\"stroke:black;stroke-width:4\"/><line x1=\"225.0\" y1=\"220.0\" x2=\"180.0\" y2=\"220.0\" stroke-linecap=\"round\" style=\"stroke:black;stroke-width:4\"/><line x1=\"180.0\" y1=\"220.0\" x2=\"180.0\" y2=\"170.0\" stroke-linecap=\"round\" style=\"stroke:black;stroke-width:4\"/><line x1=\"180.0\" y1=\"170.0\" x2=\"235.0\" y2=\"170.0\" stroke-linecap=\"round\" style=\"stroke:black;stroke-width:4\"/><line x1=\"300\" y1=\"200\" x2=\"300.0\" y2=\"210.0\" stroke-linecap=\"round\" style=\"stroke:black;stroke-width:4\"/><line x1=\"300.0\" y1=\"210.0\" x2=\"285.0\" y2=\"210.0\" stroke-linecap=\"round\" style=\"stroke:black;stroke-width:4\"/><line x1=\"285.0\" y1=\"210.0\" x2=\"285.0\" y2=\"190.0\" stroke-linecap=\"round\" style=\"stroke:black;stroke-width:4\"/><line x1=\"285.0\" y1=\"190.0\" x2=\"310.0\" y2=\"190.0\" stroke-linecap=\"round\" style=\"stroke:black;stroke-width:4\"/><line x1=\"310.0\" y1=\"190.0\" x2=\"310.0\" y2=\"220.0\" stroke-linecap=\"round\" style=\"stroke:black;stroke-width:4\"/><line x1=\"310.0\" y1=\"220.0\" x2=\"275.0\" y2=\"220.0\" stroke-linecap=\"round\" style=\"stroke:black;stroke-width:4\"/><line x1=\"275.0\" y1=\"220.0\" x2=\"275.0\" y2=\"180.0\" stroke-linecap=\"round\" style=\"stroke:black;stroke-width:4\"/><line x1=\"275.0\" y1=\"180.0\" x2=\"320.0\" y2=\"180.0\" stroke-linecap=\"round\" style=\"stroke:black;stroke-width:4\"/><line x1=\"320.0\" y1=\"180.0\" x2=\"320.0\" y2=\"230.0\" stroke-linecap=\"round\" style=\"stroke:black;stroke-width:4\"/><line x1=\"320.0\" y1=\"230.0\" x2=\"265.0\" y2=\"230.0\" stroke-linecap=\"round\" style=\"stroke:black;stroke-width:4\"/><line x1=\"265.0\" y1=\"230.0\" x2=\"265.0\" y2=\"170.0\" stroke-linecap=\"round\" style=\"stroke:black;stroke-width:4\"/><line x1=\"265.0\" y1=\"170.0\" x2=\"330.0\" y2=\"170.0\" stroke-linecap=\"round\" style=\"stroke:black;stroke-width:4\"/><line x1=\"330.0\" y1=\"170.0\" x2=\"330.0\" y2=\"240.0\" stroke-linecap=\"round\" style=\"stroke:black;stroke-width:4\"/><line x1=\"330.0\" y1=\"240.0\" x2=\"255.0\" y2=\"240.0\" stroke-linecap=\"round\" style=\"stroke:black;stroke-width:4\"/><line x1=\"255.0\" y1=\"240.0\" x2=\"254.99999999999997\" y2=\"160.0\" stroke-linecap=\"round\" style=\"stroke:black;stroke-width:4\"/><line x1=\"254.99999999999997\" y1=\"160.0\" x2=\"340.0\" y2=\"160.0\" stroke-linecap=\"round\" style=\"stroke:black;stroke-width:4\"/><line x1=\"340.0\" y1=\"160.0\" x2=\"340.0\" y2=\"250.0\" stroke-linecap=\"round\" style=\"stroke:black;stroke-width:4\"/><line x1=\"340.0\" y1=\"250.0\" x2=\"245.0\" y2=\"250.0\" stroke-linecap=\"round\" style=\"stroke:black;stroke-width:4\"/><line x1=\"245.0\" y1=\"250.0\" x2=\"244.99999999999997\" y2=\"150.0\" stroke-linecap=\"round\" style=\"stroke:black;stroke-width:4\"/><line x1=\"244.99999999999997\" y1=\"150.0\" x2=\"350.0\" y2=\"150.0\" stroke-linecap=\"round\" style=\"stroke:black;stroke-width:4\"/>\n",
              "        \n",
              "      <g visibility=visible transform=\"rotate(0,350.0,150.0) translate(350.0, 150.0)\">\n",
              "        <circle stroke=\"black\" stroke-width=\"3\" fill=\"transparent\" r=\"12\" cx=\"0\" cy=\"0\"/>\n",
              "        <polygon points=\"0,19 3,16 -3,16\" style=\"fill:black;stroke:black;stroke-width:2\"/>\n",
              "      </g>\n",
              "    \n",
              "      </svg>\n",
              "    "
            ],
            "text/plain": [
              "<IPython.core.display.HTML object>"
            ]
          },
          "metadata": {
            "tags": []
          }
        }
      ]
    },
    {
      "cell_type": "code",
      "metadata": {
        "id": "KQ5wYeQ6-18Z",
        "colab": {
          "base_uri": "https://localhost:8080/",
          "height": 371
        },
        "outputId": "78399aed-c87a-46e3-d961-b530fca92ebf"
      },
      "source": [
        "cleanSlate(100,100)\n",
        "spiral(200,200)\n",
        "spiral(500,150)"
      ],
      "execution_count": null,
      "outputs": [
        {
          "output_type": "display_data",
          "data": {
            "text/html": [
              "\n",
              "      <svg width=\"800\" height=\"350\">\n",
              "        <rect width=\"100%\" height=\"100%\" fill=\"grey\"/>\n",
              "        <line x1=\"200\" y1=\"200\" x2=\"200.0\" y2=\"195.0\" stroke-linecap=\"round\" style=\"stroke:black;stroke-width:4\"/><line x1=\"200.0\" y1=\"195.0\" x2=\"203.5\" y2=\"188.93782217350892\" stroke-linecap=\"round\" style=\"stroke:black;stroke-width:4\"/><line x1=\"203.5\" y1=\"188.93782217350892\" x2=\"211.29422863405995\" y2=\"184.43782217350892\" stroke-linecap=\"round\" style=\"stroke:black;stroke-width:4\"/><line x1=\"211.29422863405995\" y1=\"184.43782217350892\" x2=\"222.29422863405995\" y2=\"184.43782217350892\" stroke-linecap=\"round\" style=\"stroke:black;stroke-width:4\"/><line x1=\"222.29422863405995\" y1=\"184.43782217350892\" x2=\"233.55255888325766\" y2=\"190.93782217350892\" stroke-linecap=\"round\" style=\"stroke:black;stroke-width:4\"/><line x1=\"233.55255888325766\" y1=\"190.93782217350892\" x2=\"241.05255888325766\" y2=\"203.9282032302755\" stroke-linecap=\"round\" style=\"stroke:black;stroke-width:4\"/><line x1=\"241.05255888325766\" y1=\"203.9282032302755\" x2=\"241.05255888325766\" y2=\"220.9282032302755\" stroke-linecap=\"round\" style=\"stroke:black;stroke-width:4\"/><line x1=\"241.05255888325766\" y1=\"220.9282032302755\" x2=\"231.55255888325766\" y2=\"237.38268590217984\" stroke-linecap=\"round\" style=\"stroke:black;stroke-width:4\"/><line x1=\"231.55255888325766\" y1=\"237.38268590217984\" x2=\"213.36602540378445\" y2=\"247.88268590217984\" stroke-linecap=\"round\" style=\"stroke:black;stroke-width:4\"/><line x1=\"213.36602540378445\" y1=\"247.88268590217984\" x2=\"190.36602540378445\" y2=\"247.88268590217984\" stroke-linecap=\"round\" style=\"stroke:black;stroke-width:4\"/><line x1=\"190.36602540378445\" y1=\"247.88268590217984\" x2=\"168.71539030917347\" y2=\"235.38268590217984\" stroke-linecap=\"round\" style=\"stroke:black;stroke-width:4\"/><line x1=\"168.71539030917347\" y1=\"235.38268590217984\" x2=\"155.21539030917347\" y2=\"212.0\" stroke-linecap=\"round\" style=\"stroke:black;stroke-width:4\"/><line x1=\"155.21539030917347\" y1=\"212.0\" x2=\"155.21539030917347\" y2=\"183.0\" stroke-linecap=\"round\" style=\"stroke:black;stroke-width:4\"/><line x1=\"155.21539030917347\" y1=\"183.0\" x2=\"170.71539030917347\" y2=\"156.1532124826824\" stroke-linecap=\"round\" style=\"stroke:black;stroke-width:4\"/><line x1=\"170.71539030917347\" y1=\"156.1532124826824\" x2=\"199.29422863405995\" y2=\"139.65321248268236\" stroke-linecap=\"round\" style=\"stroke:black;stroke-width:4\"/><line x1=\"199.29422863405995\" y1=\"139.65321248268236\" x2=\"234.29422863405995\" y2=\"139.65321248268236\" stroke-linecap=\"round\" style=\"stroke:black;stroke-width:4\"/><line x1=\"234.29422863405995\" y1=\"139.65321248268236\" x2=\"266.33716857408416\" y2=\"158.15321248268236\" stroke-linecap=\"round\" style=\"stroke:black;stroke-width:4\"/><line x1=\"266.33716857408416\" y1=\"158.15321248268236\" x2=\"285.83716857408416\" y2=\"191.92820323027547\" stroke-linecap=\"round\" style=\"stroke:black;stroke-width:4\"/><line x1=\"285.83716857408416\" y1=\"191.92820323027547\" x2=\"285.83716857408416\" y2=\"232.92820323027547\" stroke-linecap=\"round\" style=\"stroke:black;stroke-width:4\"/><line x1=\"285.83716857408416\" y1=\"232.92820323027547\" x2=\"264.33716857408416\" y2=\"270.1672955930063\" stroke-linecap=\"round\" style=\"stroke:black;stroke-width:4\"/><line x1=\"500\" y1=\"150\" x2=\"495.6698729810778\" y2=\"152.5\" stroke-linecap=\"round\" style=\"stroke:black;stroke-width:4\"/><line x1=\"495.6698729810778\" y1=\"152.5\" x2=\"488.6698729810778\" y2=\"152.5\" stroke-linecap=\"round\" style=\"stroke:black;stroke-width:4\"/><line x1=\"488.6698729810778\" y1=\"152.5\" x2=\"480.87564434701784\" y2=\"148.0\" stroke-linecap=\"round\" style=\"stroke:black;stroke-width:4\"/><line x1=\"480.87564434701784\" y1=\"148.0\" x2=\"475.37564434701784\" y2=\"138.47372055837118\" stroke-linecap=\"round\" style=\"stroke:black;stroke-width:4\"/><line x1=\"475.37564434701784\" y1=\"138.47372055837118\" x2=\"475.37564434701784\" y2=\"125.47372055837118\" stroke-linecap=\"round\" style=\"stroke:black;stroke-width:4\"/><line x1=\"475.37564434701784\" y1=\"125.47372055837118\" x2=\"482.87564434701784\" y2=\"112.4833395016046\" stroke-linecap=\"round\" style=\"stroke:black;stroke-width:4\"/><line x1=\"482.87564434701784\" y1=\"112.4833395016046\" x2=\"497.5980762113533\" y2=\"103.9833395016046\" stroke-linecap=\"round\" style=\"stroke:black;stroke-width:4\"/><line x1=\"497.5980762113533\" y1=\"103.9833395016046\" x2=\"516.5980762113534\" y2=\"103.9833395016046\" stroke-linecap=\"round\" style=\"stroke:black;stroke-width:4\"/><line x1=\"516.5980762113534\" y1=\"103.9833395016046\" x2=\"534.7846096908265\" y2=\"114.4833395016046\" stroke-linecap=\"round\" style=\"stroke:black;stroke-width:4\"/><line x1=\"534.7846096908265\" y1=\"114.4833395016046\" x2=\"546.2846096908265\" y2=\"134.40192378864668\" stroke-linecap=\"round\" style=\"stroke:black;stroke-width:4\"/><line x1=\"546.2846096908265\" y1=\"134.40192378864668\" x2=\"546.2846096908265\" y2=\"159.40192378864668\" stroke-linecap=\"round\" style=\"stroke:black;stroke-width:4\"/><line x1=\"546.2846096908265\" y1=\"159.40192378864668\" x2=\"532.7846096908265\" y2=\"182.78460969082653\" stroke-linecap=\"round\" style=\"stroke:black;stroke-width:4\"/><line x1=\"532.7846096908265\" y1=\"182.78460969082653\" x2=\"507.6698729810778\" y2=\"197.28460969082653\" stroke-linecap=\"round\" style=\"stroke:black;stroke-width:4\"/><line x1=\"507.6698729810778\" y1=\"197.28460969082653\" x2=\"476.6698729810778\" y2=\"197.28460969082653\" stroke-linecap=\"round\" style=\"stroke:black;stroke-width:4\"/><line x1=\"476.6698729810778\" y1=\"197.28460969082653\" x2=\"448.0910346561913\" y2=\"180.78460969082653\" stroke-linecap=\"round\" style=\"stroke:black;stroke-width:4\"/><line x1=\"448.0910346561913\" y1=\"180.78460969082653\" x2=\"430.5910346561913\" y2=\"150.47372055837118\" stroke-linecap=\"round\" style=\"stroke:black;stroke-width:4\"/><line x1=\"430.5910346561913\" y1=\"150.47372055837118\" x2=\"430.5910346561913\" y2=\"113.47372055837118\" stroke-linecap=\"round\" style=\"stroke:black;stroke-width:4\"/><line x1=\"430.5910346561913\" y1=\"113.47372055837118\" x2=\"450.0910346561913\" y2=\"79.69872981077808\" stroke-linecap=\"round\" style=\"stroke:black;stroke-width:4\"/><line x1=\"450.0910346561913\" y1=\"79.69872981077808\" x2=\"485.59807621135326\" y2=\"59.19872981077806\" stroke-linecap=\"round\" style=\"stroke:black;stroke-width:4\"/><line x1=\"485.59807621135326\" y1=\"59.19872981077806\" x2=\"528.5980762113533\" y2=\"59.19872981077806\" stroke-linecap=\"round\" style=\"stroke:black;stroke-width:4\"/>\n",
              "        \n",
              "      <g visibility=visible transform=\"rotate(-60,528.5980762113533,59.19872981077806) translate(528.5980762113533, 59.19872981077806)\">\n",
              "        <circle stroke=\"black\" stroke-width=\"3\" fill=\"transparent\" r=\"12\" cx=\"0\" cy=\"0\"/>\n",
              "        <polygon points=\"0,19 3,16 -3,16\" style=\"fill:black;stroke:black;stroke-width:2\"/>\n",
              "      </g>\n",
              "    \n",
              "      </svg>\n",
              "    "
            ],
            "text/plain": [
              "<IPython.core.display.HTML object>"
            ]
          },
          "metadata": {
            "tags": []
          }
        }
      ]
    },
    {
      "cell_type": "code",
      "metadata": {
        "id": "XPl7ABIcKIxk"
      },
      "source": [
        "def spiral2(X, Y, change,sS,mS,deg):\n",
        "    penup()\n",
        "    goto(X,Y)\n",
        "    pendown()\n",
        "    stepCount = 0\n",
        "    while (stepCount < mS):\n",
        "        forward(sS)\n",
        "        right(deg)\n",
        "        sS = sS + change\n",
        "        stepCount = stepCount + 1"
      ],
      "execution_count": null,
      "outputs": []
    },
    {
      "cell_type": "code",
      "metadata": {
        "id": "cllGAPv6KX7G",
        "colab": {
          "base_uri": "https://localhost:8080/",
          "height": 371
        },
        "outputId": "eee6c299-ebeb-4be8-be60-108d183f4a33"
      },
      "source": [
        "cleanSlate(100,100)\n",
        "spiral2(200,200,2,10,20,30)\n",
        "spiral2(500,150,3,5,30,60)"
      ],
      "execution_count": null,
      "outputs": [
        {
          "output_type": "display_data",
          "data": {
            "text/html": [
              "\n",
              "      <svg width=\"800\" height=\"350\">\n",
              "        <rect width=\"100%\" height=\"100%\" fill=\"grey\"/>\n",
              "        <line x1=\"200\" y1=\"200\" x2=\"200.0\" y2=\"190.0\" stroke-linecap=\"round\" style=\"stroke:black;stroke-width:4\"/><line x1=\"200.0\" y1=\"190.0\" x2=\"206.0\" y2=\"179.60769515458674\" stroke-linecap=\"round\" style=\"stroke:black;stroke-width:4\"/><line x1=\"206.0\" y1=\"179.60769515458674\" x2=\"218.12435565298213\" y2=\"172.60769515458674\" stroke-linecap=\"round\" style=\"stroke:black;stroke-width:4\"/><line x1=\"218.12435565298213\" y1=\"172.60769515458674\" x2=\"234.12435565298213\" y2=\"172.60769515458674\" stroke-linecap=\"round\" style=\"stroke:black;stroke-width:4\"/><line x1=\"234.12435565298213\" y1=\"172.60769515458674\" x2=\"249.71281292110203\" y2=\"181.60769515458674\" stroke-linecap=\"round\" style=\"stroke:black;stroke-width:4\"/><line x1=\"249.71281292110203\" y1=\"181.60769515458674\" x2=\"259.71281292110206\" y2=\"198.9282032302755\" stroke-linecap=\"round\" style=\"stroke:black;stroke-width:4\"/><line x1=\"259.71281292110206\" y1=\"198.9282032302755\" x2=\"259.71281292110206\" y2=\"220.9282032302755\" stroke-linecap=\"round\" style=\"stroke:black;stroke-width:4\"/><line x1=\"259.71281292110206\" y1=\"220.9282032302755\" x2=\"247.71281292110206\" y2=\"241.71281292110203\" stroke-linecap=\"round\" style=\"stroke:black;stroke-width:4\"/><line x1=\"247.71281292110206\" y1=\"241.71281292110203\" x2=\"225.19615242270666\" y2=\"254.71281292110203\" stroke-linecap=\"round\" style=\"stroke:black;stroke-width:4\"/><line x1=\"225.19615242270666\" y1=\"254.71281292110203\" x2=\"197.19615242270666\" y2=\"254.71281292110203\" stroke-linecap=\"round\" style=\"stroke:black;stroke-width:4\"/><line x1=\"197.19615242270666\" y1=\"254.71281292110203\" x2=\"171.2153903091735\" y2=\"239.71281292110203\" stroke-linecap=\"round\" style=\"stroke:black;stroke-width:4\"/><line x1=\"171.2153903091735\" y1=\"239.71281292110203\" x2=\"155.21539030917347\" y2=\"212.0\" stroke-linecap=\"round\" style=\"stroke:black;stroke-width:4\"/><line x1=\"155.21539030917347\" y1=\"212.0\" x2=\"155.21539030917347\" y2=\"178.0\" stroke-linecap=\"round\" style=\"stroke:black;stroke-width:4\"/><line x1=\"155.21539030917347\" y1=\"178.0\" x2=\"173.21539030917347\" y2=\"146.8230854637602\" stroke-linecap=\"round\" style=\"stroke:black;stroke-width:4\"/><line x1=\"173.21539030917347\" y1=\"146.8230854637602\" x2=\"206.12435565298213\" y2=\"127.8230854637602\" stroke-linecap=\"round\" style=\"stroke:black;stroke-width:4\"/><line x1=\"206.12435565298213\" y1=\"127.8230854637602\" x2=\"246.12435565298213\" y2=\"127.8230854637602\" stroke-linecap=\"round\" style=\"stroke:black;stroke-width:4\"/><line x1=\"246.12435565298213\" y1=\"127.8230854637602\" x2=\"282.4974226119285\" y2=\"148.82308546376018\" stroke-linecap=\"round\" style=\"stroke:black;stroke-width:4\"/><line x1=\"282.4974226119285\" y1=\"148.82308546376018\" x2=\"304.4974226119285\" y2=\"186.92820323027547\" stroke-linecap=\"round\" style=\"stroke:black;stroke-width:4\"/><line x1=\"304.4974226119285\" y1=\"186.92820323027547\" x2=\"304.4974226119285\" y2=\"232.92820323027547\" stroke-linecap=\"round\" style=\"stroke:black;stroke-width:4\"/><line x1=\"304.4974226119285\" y1=\"232.92820323027547\" x2=\"280.4974226119285\" y2=\"274.4974226119285\" stroke-linecap=\"round\" style=\"stroke:black;stroke-width:4\"/><line x1=\"500\" y1=\"150\" x2=\"495.6698729810778\" y2=\"152.5\" stroke-linecap=\"round\" style=\"stroke:black;stroke-width:4\"/><line x1=\"495.6698729810778\" y1=\"152.5\" x2=\"488.74166975080226\" y2=\"148.5\" stroke-linecap=\"round\" style=\"stroke:black;stroke-width:4\"/><line x1=\"488.74166975080226\" y1=\"148.5\" x2=\"488.74166975080226\" y2=\"137.5\" stroke-linecap=\"round\" style=\"stroke:black;stroke-width:4\"/><line x1=\"488.74166975080226\" y1=\"137.5\" x2=\"500.8660254037844\" y2=\"130.5\" stroke-linecap=\"round\" style=\"stroke:black;stroke-width:4\"/><line x1=\"500.8660254037844\" y1=\"130.5\" x2=\"515.5884572681199\" y2=\"139.0\" stroke-linecap=\"round\" style=\"stroke:black;stroke-width:4\"/><line x1=\"515.5884572681199\" y1=\"139.0\" x2=\"515.5884572681199\" y2=\"159.0\" stroke-linecap=\"round\" style=\"stroke:black;stroke-width:4\"/><line x1=\"515.5884572681199\" y1=\"159.0\" x2=\"495.6698729810778\" y2=\"170.5\" stroke-linecap=\"round\" style=\"stroke:black;stroke-width:4\"/><line x1=\"495.6698729810778\" y1=\"170.5\" x2=\"473.15321248268236\" y2=\"157.5\" stroke-linecap=\"round\" style=\"stroke:black;stroke-width:4\"/><line x1=\"473.15321248268236\" y1=\"157.5\" x2=\"473.15321248268236\" y2=\"128.5\" stroke-linecap=\"round\" style=\"stroke:black;stroke-width:4\"/><line x1=\"473.15321248268236\" y1=\"128.5\" x2=\"500.8660254037844\" y2=\"112.49999999999999\" stroke-linecap=\"round\" style=\"stroke:black;stroke-width:4\"/><line x1=\"500.8660254037844\" y1=\"112.49999999999999\" x2=\"531.1769145362398\" y2=\"129.99999999999997\" stroke-linecap=\"round\" style=\"stroke:black;stroke-width:4\"/><line x1=\"531.1769145362398\" y1=\"129.99999999999997\" x2=\"531.1769145362398\" y2=\"167.99999999999997\" stroke-linecap=\"round\" style=\"stroke:black;stroke-width:4\"/><line x1=\"531.1769145362398\" y1=\"167.99999999999997\" x2=\"495.6698729810778\" y2=\"188.49999999999997\" stroke-linecap=\"round\" style=\"stroke:black;stroke-width:4\"/><line x1=\"495.6698729810778\" y1=\"188.49999999999997\" x2=\"457.56475521456247\" y2=\"166.49999999999997\" stroke-linecap=\"round\" style=\"stroke:black;stroke-width:4\"/><line x1=\"457.56475521456247\" y1=\"166.49999999999997\" x2=\"457.56475521456247\" y2=\"119.49999999999997\" stroke-linecap=\"round\" style=\"stroke:black;stroke-width:4\"/><line x1=\"457.56475521456247\" y1=\"119.49999999999997\" x2=\"500.86602540378436\" y2=\"94.49999999999994\" stroke-linecap=\"round\" style=\"stroke:black;stroke-width:4\"/><line x1=\"500.86602540378436\" y1=\"94.49999999999994\" x2=\"546.7653718043596\" y2=\"120.99999999999994\" stroke-linecap=\"round\" style=\"stroke:black;stroke-width:4\"/><line x1=\"546.7653718043596\" y1=\"120.99999999999994\" x2=\"546.7653718043596\" y2=\"176.99999999999994\" stroke-linecap=\"round\" style=\"stroke:black;stroke-width:4\"/><line x1=\"546.7653718043596\" y1=\"176.99999999999994\" x2=\"495.6698729810777\" y2=\"206.49999999999994\" stroke-linecap=\"round\" style=\"stroke:black;stroke-width:4\"/><line x1=\"495.6698729810777\" y1=\"206.49999999999994\" x2=\"441.97629794644246\" y2=\"175.49999999999994\" stroke-linecap=\"round\" style=\"stroke:black;stroke-width:4\"/><line x1=\"441.97629794644246\" y1=\"175.49999999999994\" x2=\"441.97629794644246\" y2=\"110.49999999999994\" stroke-linecap=\"round\" style=\"stroke:black;stroke-width:4\"/><line x1=\"441.97629794644246\" y1=\"110.49999999999994\" x2=\"500.86602540378425\" y2=\"76.49999999999991\" stroke-linecap=\"round\" style=\"stroke:black;stroke-width:4\"/><line x1=\"500.86602540378425\" y1=\"76.49999999999991\" x2=\"562.3538290724794\" y2=\"111.99999999999991\" stroke-linecap=\"round\" style=\"stroke:black;stroke-width:4\"/><line x1=\"562.3538290724794\" y1=\"111.99999999999991\" x2=\"562.3538290724794\" y2=\"185.99999999999991\" stroke-linecap=\"round\" style=\"stroke:black;stroke-width:4\"/><line x1=\"562.3538290724794\" y1=\"185.99999999999991\" x2=\"495.66987298107756\" y2=\"224.49999999999991\" stroke-linecap=\"round\" style=\"stroke:black;stroke-width:4\"/><line x1=\"495.66987298107756\" y1=\"224.49999999999991\" x2=\"426.3878406783225\" y2=\"184.49999999999991\" stroke-linecap=\"round\" style=\"stroke:black;stroke-width:4\"/><line x1=\"426.3878406783225\" y1=\"184.49999999999991\" x2=\"426.3878406783225\" y2=\"101.49999999999991\" stroke-linecap=\"round\" style=\"stroke:black;stroke-width:4\"/><line x1=\"426.3878406783225\" y1=\"101.49999999999991\" x2=\"500.8660254037842\" y2=\"58.49999999999988\" stroke-linecap=\"round\" style=\"stroke:black;stroke-width:4\"/><line x1=\"500.8660254037842\" y1=\"58.49999999999988\" x2=\"577.9422863405993\" y2=\"102.99999999999987\" stroke-linecap=\"round\" style=\"stroke:black;stroke-width:4\"/><line x1=\"577.9422863405993\" y1=\"102.99999999999987\" x2=\"577.9422863405993\" y2=\"194.9999999999999\" stroke-linecap=\"round\" style=\"stroke:black;stroke-width:4\"/>\n",
              "        \n",
              "      <g visibility=visible transform=\"rotate(60,577.9422863405993,194.9999999999999) translate(577.9422863405993, 194.9999999999999)\">\n",
              "        <circle stroke=\"black\" stroke-width=\"3\" fill=\"transparent\" r=\"12\" cx=\"0\" cy=\"0\"/>\n",
              "        <polygon points=\"0,19 3,16 -3,16\" style=\"fill:black;stroke:black;stroke-width:2\"/>\n",
              "      </g>\n",
              "    \n",
              "      </svg>\n",
              "    "
            ],
            "text/plain": [
              "<IPython.core.display.HTML object>"
            ]
          },
          "metadata": {
            "tags": []
          }
        }
      ]
    },
    {
      "cell_type": "code",
      "metadata": {
        "id": "letMDXAXOXJa"
      },
      "source": [
        "def isOutsideWindow(maxX,maxY):\n",
        "    x = getx()\n",
        "    y = gety()\n",
        "    if (x<0) or (x>maxX) or (y<0 ) or (y>maxY):\n",
        "        return True\n",
        "    else:\n",
        "        return False"
      ],
      "execution_count": null,
      "outputs": []
    },
    {
      "cell_type": "code",
      "metadata": {
        "id": "-RBqUCl8PQqC",
        "colab": {
          "base_uri": "https://localhost:8080/",
          "height": 371
        },
        "outputId": "a77d0293-3c1d-4a2f-8a24-1aa424eea619"
      },
      "source": [
        "cleanSlate(100,100)\n",
        "spiral2(200,200,5,20,20,30)"
      ],
      "execution_count": null,
      "outputs": [
        {
          "output_type": "display_data",
          "data": {
            "text/html": [
              "\n",
              "      <svg width=\"800\" height=\"350\">\n",
              "        <rect width=\"100%\" height=\"100%\" fill=\"grey\"/>\n",
              "        <line x1=\"200\" y1=\"200\" x2=\"200.0\" y2=\"180.0\" stroke-linecap=\"round\" style=\"stroke:black;stroke-width:4\"/><line x1=\"200.0\" y1=\"180.0\" x2=\"212.5\" y2=\"158.34936490538902\" stroke-linecap=\"round\" style=\"stroke:black;stroke-width:4\"/><line x1=\"212.5\" y1=\"158.34936490538902\" x2=\"238.48076211353316\" y2=\"143.349364905389\" stroke-linecap=\"round\" style=\"stroke:black;stroke-width:4\"/><line x1=\"238.48076211353316\" y1=\"143.349364905389\" x2=\"273.48076211353316\" y2=\"143.349364905389\" stroke-linecap=\"round\" style=\"stroke:black;stroke-width:4\"/><line x1=\"273.48076211353316\" y1=\"143.349364905389\" x2=\"308.1217782649107\" y2=\"163.349364905389\" stroke-linecap=\"round\" style=\"stroke:black;stroke-width:4\"/><line x1=\"308.1217782649107\" y1=\"163.349364905389\" x2=\"330.6217782649107\" y2=\"202.32050807568874\" stroke-linecap=\"round\" style=\"stroke:black;stroke-width:4\"/><line x1=\"330.6217782649107\" y1=\"202.32050807568874\" x2=\"330.6217782649107\" y2=\"252.32050807568874\" stroke-linecap=\"round\" style=\"stroke:black;stroke-width:4\"/><line x1=\"330.6217782649107\" y1=\"252.32050807568874\" x2=\"303.1217782649107\" y2=\"299.95190528383284\" stroke-linecap=\"round\" style=\"stroke:black;stroke-width:4\"/><line x1=\"303.1217782649107\" y1=\"299.95190528383284\" x2=\"251.16025403784437\" y2=\"329.95190528383284\" stroke-linecap=\"round\" style=\"stroke:black;stroke-width:4\"/><line x1=\"251.16025403784437\" y1=\"329.95190528383284\" x2=\"186.16025403784437\" y2=\"329.95190528383284\" stroke-linecap=\"round\" style=\"stroke:black;stroke-width:4\"/><line x1=\"186.16025403784437\" y1=\"329.95190528383284\" x2=\"125.53847577293367\" y2=\"294.95190528383284\" stroke-linecap=\"round\" style=\"stroke:black;stroke-width:4\"/><line x1=\"125.53847577293367\" y1=\"294.95190528383284\" x2=\"88.03847577293362\" y2=\"229.99999999999997\" stroke-linecap=\"round\" style=\"stroke:black;stroke-width:4\"/><line x1=\"88.03847577293362\" y1=\"229.99999999999997\" x2=\"88.03847577293361\" y2=\"149.99999999999997\" stroke-linecap=\"round\" style=\"stroke:black;stroke-width:4\"/><line x1=\"88.03847577293361\" y1=\"149.99999999999997\" x2=\"130.53847577293362\" y2=\"76.38784067832269\" stroke-linecap=\"round\" style=\"stroke:black;stroke-width:4\"/><line x1=\"130.53847577293362\" y1=\"76.38784067832269\" x2=\"208.48076211353307\" y2=\"31.387840678322647\" stroke-linecap=\"round\" style=\"stroke:black;stroke-width:4\"/><line x1=\"208.48076211353307\" y1=\"31.387840678322647\" x2=\"303.48076211353305\" y2=\"31.387840678322647\" stroke-linecap=\"round\" style=\"stroke:black;stroke-width:4\"/><line x1=\"303.48076211353305\" y1=\"31.387840678322647\" x2=\"390.08330249197695\" y2=\"81.38784067832265\" stroke-linecap=\"round\" style=\"stroke:black;stroke-width:4\"/><line x1=\"390.08330249197695\" y1=\"81.38784067832265\" x2=\"442.58330249197695\" y2=\"172.32050807568868\" stroke-linecap=\"round\" style=\"stroke:black;stroke-width:4\"/><line x1=\"442.58330249197695\" y1=\"172.32050807568868\" x2=\"442.58330249197695\" y2=\"282.3205080756887\" stroke-linecap=\"round\" style=\"stroke:black;stroke-width:4\"/><line x1=\"442.58330249197695\" y1=\"282.3205080756887\" x2=\"385.08330249197695\" y2=\"381.91342951089916\" stroke-linecap=\"round\" style=\"stroke:black;stroke-width:4\"/>\n",
              "        \n",
              "      <g visibility=visible transform=\"rotate(60,385.08330249197695,381.91342951089916) translate(385.08330249197695, 381.91342951089916)\">\n",
              "        <circle stroke=\"black\" stroke-width=\"3\" fill=\"transparent\" r=\"12\" cx=\"0\" cy=\"0\"/>\n",
              "        <polygon points=\"0,19 3,16 -3,16\" style=\"fill:black;stroke:black;stroke-width:2\"/>\n",
              "      </g>\n",
              "    \n",
              "      </svg>\n",
              "    "
            ],
            "text/plain": [
              "<IPython.core.display.HTML object>"
            ]
          },
          "metadata": {
            "tags": []
          }
        }
      ]
    },
    {
      "cell_type": "code",
      "metadata": {
        "id": "Y8Kg3wlwPiyn"
      },
      "source": [
        "def spiral3(X, Y, change,sS,mS,deg):\n",
        "    penup()\n",
        "    goto(X,Y)\n",
        "    pendown()\n",
        "    stepCount = 0\n",
        "    while (stepCount < mS):\n",
        "        forward(sS)\n",
        "        if (isOutsideWindow(800,350)):\n",
        "            penup()\n",
        "            goto(400,175)\n",
        "            pendown()\n",
        "            sS = 5\n",
        "        right(deg)\n",
        "        sS = sS + change\n",
        "        stepCount = stepCount + 1"
      ],
      "execution_count": null,
      "outputs": []
    },
    {
      "cell_type": "code",
      "metadata": {
        "id": "LdDFejkkQAb8",
        "colab": {
          "base_uri": "https://localhost:8080/",
          "height": 371
        },
        "outputId": "8c544424-a629-435f-e991-ba9e0ce397d7"
      },
      "source": [
        "cleanSlate(100,100)\n",
        "spiral3(200,200,10,30,20,30)"
      ],
      "execution_count": null,
      "outputs": [
        {
          "output_type": "display_data",
          "data": {
            "text/html": [
              "\n",
              "      <svg width=\"800\" height=\"350\">\n",
              "        <rect width=\"100%\" height=\"100%\" fill=\"grey\"/>\n",
              "        <line x1=\"200\" y1=\"200\" x2=\"200.0\" y2=\"170.0\" stroke-linecap=\"round\" style=\"stroke:black;stroke-width:4\"/><line x1=\"200.0\" y1=\"170.0\" x2=\"220.0\" y2=\"135.35898384862247\" stroke-linecap=\"round\" style=\"stroke:black;stroke-width:4\"/><line x1=\"220.0\" y1=\"135.35898384862247\" x2=\"263.3012701892219\" y2=\"110.35898384862244\" stroke-linecap=\"round\" style=\"stroke:black;stroke-width:4\"/><line x1=\"263.3012701892219\" y1=\"110.35898384862244\" x2=\"323.3012701892219\" y2=\"110.35898384862244\" stroke-linecap=\"round\" style=\"stroke:black;stroke-width:4\"/><line x1=\"323.3012701892219\" y1=\"110.35898384862244\" x2=\"383.9230484541326\" y2=\"145.35898384862244\" stroke-linecap=\"round\" style=\"stroke:black;stroke-width:4\"/><line x1=\"383.9230484541326\" y1=\"145.35898384862244\" x2=\"423.9230484541326\" y2=\"214.64101615137753\" stroke-linecap=\"round\" style=\"stroke:black;stroke-width:4\"/><line x1=\"423.9230484541326\" y1=\"214.64101615137753\" x2=\"423.9230484541326\" y2=\"304.6410161513775\" stroke-linecap=\"round\" style=\"stroke:black;stroke-width:4\"/><line x1=\"423.9230484541326\" y1=\"304.6410161513775\" x2=\"373.9230484541326\" y2=\"391.2435565298214\" stroke-linecap=\"round\" style=\"stroke:black;stroke-width:4\"/><line x1=\"400\" y1=\"175\" x2=\"387.0096189432334\" y2=\"182.5\" stroke-linecap=\"round\" style=\"stroke:black;stroke-width:4\"/><line x1=\"387.0096189432334\" y1=\"182.5\" x2=\"362.0096189432334\" y2=\"182.5\" stroke-linecap=\"round\" style=\"stroke:black;stroke-width:4\"/><line x1=\"362.0096189432334\" y1=\"182.5\" x2=\"331.69872981077805\" y2=\"165.0\" stroke-linecap=\"round\" style=\"stroke:black;stroke-width:4\"/><line x1=\"331.69872981077805\" y1=\"165.0\" x2=\"309.19872981077805\" y2=\"126.02885682970027\" stroke-linecap=\"round\" style=\"stroke:black;stroke-width:4\"/><line x1=\"309.19872981077805\" y1=\"126.02885682970027\" x2=\"309.19872981077805\" y2=\"71.02885682970027\" stroke-linecap=\"round\" style=\"stroke:black;stroke-width:4\"/><line x1=\"309.19872981077805\" y1=\"71.02885682970027\" x2=\"341.69872981077805\" y2=\"14.737205583711763\" stroke-linecap=\"round\" style=\"stroke:black;stroke-width:4\"/><line x1=\"341.69872981077805\" y1=\"14.737205583711763\" x2=\"406.65063509461095\" y2=\"-22.762794416288273\" stroke-linecap=\"round\" style=\"stroke:black;stroke-width:4\"/><line x1=\"400\" y1=\"175\" x2=\"415.0\" y2=\"175.0\" stroke-linecap=\"round\" style=\"stroke:black;stroke-width:4\"/><line x1=\"415.0\" y1=\"175.0\" x2=\"436.65063509461095\" y2=\"187.5\" stroke-linecap=\"round\" style=\"stroke:black;stroke-width:4\"/><line x1=\"436.65063509461095\" y1=\"187.5\" x2=\"454.15063509461095\" y2=\"217.81088913245534\" stroke-linecap=\"round\" style=\"stroke:black;stroke-width:4\"/><line x1=\"454.15063509461095\" y1=\"217.81088913245534\" x2=\"454.15063509461095\" y2=\"262.8108891324554\" stroke-linecap=\"round\" style=\"stroke:black;stroke-width:4\"/><line x1=\"454.15063509461095\" y1=\"262.8108891324554\" x2=\"426.65063509461095\" y2=\"310.4422863405995\" stroke-linecap=\"round\" style=\"stroke:black;stroke-width:4\"/>\n",
              "        \n",
              "      <g visibility=visible transform=\"rotate(60,426.65063509461095,310.4422863405995) translate(426.65063509461095, 310.4422863405995)\">\n",
              "        <circle stroke=\"black\" stroke-width=\"3\" fill=\"transparent\" r=\"12\" cx=\"0\" cy=\"0\"/>\n",
              "        <polygon points=\"0,19 3,16 -3,16\" style=\"fill:black;stroke:black;stroke-width:2\"/>\n",
              "      </g>\n",
              "    \n",
              "      </svg>\n",
              "    "
            ],
            "text/plain": [
              "<IPython.core.display.HTML object>"
            ]
          },
          "metadata": {
            "tags": []
          }
        }
      ]
    },
    {
      "cell_type": "markdown",
      "metadata": {
        "id": "frTmL2_W99wR"
      },
      "source": [
        "#9 Office Supplies"
      ]
    },
    {
      "cell_type": "code",
      "metadata": {
        "id": "ILfcjKrS98nv",
        "colab": {
          "base_uri": "https://localhost:8080/",
          "height": 322
        },
        "outputId": "4b2e7aad-a196-43fb-a14d-83f28c75718f"
      },
      "source": [
        "#!wget -O OfficeSupplies.csv 'https://drive.google.com/uc?export=download&id=15iYK-17rF-b4g4Grk48RRME2TjR6yBXk'\n",
        "!wget https://raw.githubusercontent.com/Praxis-QR/PythonForManagers/main/Data/OfficeSupplies.csv"
      ],
      "execution_count": null,
      "outputs": [
        {
          "output_type": "stream",
          "text": [
            "--2020-08-31 03:51:34--  https://drive.google.com/uc?export=download&id=15iYK-17rF-b4g4Grk48RRME2TjR6yBXk\n",
            "Resolving drive.google.com (drive.google.com)... 172.217.203.102, 172.217.203.139, 172.217.203.101, ...\n",
            "Connecting to drive.google.com (drive.google.com)|172.217.203.102|:443... connected.\n",
            "HTTP request sent, awaiting response... 302 Moved Temporarily\n",
            "Location: https://doc-00-c8-docs.googleusercontent.com/docs/securesc/ha0ro937gcuc7l7deffksulhg5h7mbp1/fbuem17r6or1cr2i99k2pudekm97kmr5/1598845875000/07359704569516326975/*/15iYK-17rF-b4g4Grk48RRME2TjR6yBXk?e=download [following]\n",
            "Warning: wildcards not supported in HTTP.\n",
            "--2020-08-31 03:51:34--  https://doc-00-c8-docs.googleusercontent.com/docs/securesc/ha0ro937gcuc7l7deffksulhg5h7mbp1/fbuem17r6or1cr2i99k2pudekm97kmr5/1598845875000/07359704569516326975/*/15iYK-17rF-b4g4Grk48RRME2TjR6yBXk?e=download\n",
            "Resolving doc-00-c8-docs.googleusercontent.com (doc-00-c8-docs.googleusercontent.com)... 173.194.215.132, 2607:f8b0:400c:c0c::84\n",
            "Connecting to doc-00-c8-docs.googleusercontent.com (doc-00-c8-docs.googleusercontent.com)|173.194.215.132|:443... connected.\n",
            "HTTP request sent, awaiting response... 200 OK\n",
            "Length: 1787 (1.7K) [text/csv]\n",
            "Saving to: ‘OfficeSupplies.csv’\n",
            "\n",
            "OfficeSupplies.csv  100%[===================>]   1.75K  --.-KB/s    in 0s      \n",
            "\n",
            "2020-08-31 03:51:34 (76.2 MB/s) - ‘OfficeSupplies.csv’ saved [1787/1787]\n",
            "\n"
          ],
          "name": "stdout"
        }
      ]
    },
    {
      "cell_type": "code",
      "metadata": {
        "id": "MjpMDUXEEBjz"
      },
      "source": [
        "import pandas as pd\n",
        "import numpy as np"
      ],
      "execution_count": null,
      "outputs": []
    },
    {
      "cell_type": "code",
      "metadata": {
        "id": "AQ8Tnv2vEGH3"
      },
      "source": [
        "dfOS = pd.read_csv(\"OfficeSupplies.csv\")"
      ],
      "execution_count": null,
      "outputs": []
    },
    {
      "cell_type": "code",
      "metadata": {
        "id": "opmTwXk2F__T",
        "colab": {
          "base_uri": "https://localhost:8080/",
          "height": 1000
        },
        "outputId": "0696f18a-2d0c-444f-e3c4-2dfb6aaf1216"
      },
      "source": [
        "dfOS"
      ],
      "execution_count": null,
      "outputs": [
        {
          "output_type": "execute_result",
          "data": {
            "text/html": [
              "<div>\n",
              "<style scoped>\n",
              "    .dataframe tbody tr th:only-of-type {\n",
              "        vertical-align: middle;\n",
              "    }\n",
              "\n",
              "    .dataframe tbody tr th {\n",
              "        vertical-align: top;\n",
              "    }\n",
              "\n",
              "    .dataframe thead th {\n",
              "        text-align: right;\n",
              "    }\n",
              "</style>\n",
              "<table border=\"1\" class=\"dataframe\">\n",
              "  <thead>\n",
              "    <tr style=\"text-align: right;\">\n",
              "      <th></th>\n",
              "      <th>OrderDate</th>\n",
              "      <th>Region</th>\n",
              "      <th>Rep</th>\n",
              "      <th>Item</th>\n",
              "      <th>Units</th>\n",
              "      <th>Unit Price</th>\n",
              "    </tr>\n",
              "  </thead>\n",
              "  <tbody>\n",
              "    <tr>\n",
              "      <th>0</th>\n",
              "      <td>4-Jul-2014</td>\n",
              "      <td>East</td>\n",
              "      <td>Richard</td>\n",
              "      <td>Pen Set</td>\n",
              "      <td>62</td>\n",
              "      <td>4.99</td>\n",
              "    </tr>\n",
              "    <tr>\n",
              "      <th>1</th>\n",
              "      <td>12-Jul-2014</td>\n",
              "      <td>East</td>\n",
              "      <td>Nick</td>\n",
              "      <td>Binder</td>\n",
              "      <td>29</td>\n",
              "      <td>1.99</td>\n",
              "    </tr>\n",
              "    <tr>\n",
              "      <th>2</th>\n",
              "      <td>21-Jul-2014</td>\n",
              "      <td>Central</td>\n",
              "      <td>Morgan</td>\n",
              "      <td>Pen Set</td>\n",
              "      <td>55</td>\n",
              "      <td>12.49</td>\n",
              "    </tr>\n",
              "    <tr>\n",
              "      <th>3</th>\n",
              "      <td>29-Jul-2014</td>\n",
              "      <td>East</td>\n",
              "      <td>Susan</td>\n",
              "      <td>Binder</td>\n",
              "      <td>81</td>\n",
              "      <td>19.99</td>\n",
              "    </tr>\n",
              "    <tr>\n",
              "      <th>4</th>\n",
              "      <td>7-Aug-2014</td>\n",
              "      <td>Central</td>\n",
              "      <td>Matthew</td>\n",
              "      <td>Pen Set</td>\n",
              "      <td>42</td>\n",
              "      <td>23.95</td>\n",
              "    </tr>\n",
              "    <tr>\n",
              "      <th>5</th>\n",
              "      <td>15-Aug-2014</td>\n",
              "      <td>East</td>\n",
              "      <td>Richard</td>\n",
              "      <td>Pencil</td>\n",
              "      <td>35</td>\n",
              "      <td>4.99</td>\n",
              "    </tr>\n",
              "    <tr>\n",
              "      <th>6</th>\n",
              "      <td>24-Aug-2014</td>\n",
              "      <td>West</td>\n",
              "      <td>James</td>\n",
              "      <td>Desk</td>\n",
              "      <td>3</td>\n",
              "      <td>275.00</td>\n",
              "    </tr>\n",
              "    <tr>\n",
              "      <th>7</th>\n",
              "      <td>1-Sep-2014</td>\n",
              "      <td>Central</td>\n",
              "      <td>Smith</td>\n",
              "      <td>Desk</td>\n",
              "      <td>2</td>\n",
              "      <td>125.00</td>\n",
              "    </tr>\n",
              "    <tr>\n",
              "      <th>8</th>\n",
              "      <td>10-Sep-2014</td>\n",
              "      <td>Central</td>\n",
              "      <td>Bill</td>\n",
              "      <td>Pencil</td>\n",
              "      <td>7</td>\n",
              "      <td>1.29</td>\n",
              "    </tr>\n",
              "    <tr>\n",
              "      <th>9</th>\n",
              "      <td>18-Sep-2014</td>\n",
              "      <td>East</td>\n",
              "      <td>Richard</td>\n",
              "      <td>Pen Set</td>\n",
              "      <td>16</td>\n",
              "      <td>15.99</td>\n",
              "    </tr>\n",
              "    <tr>\n",
              "      <th>10</th>\n",
              "      <td>27-Sep-2014</td>\n",
              "      <td>West</td>\n",
              "      <td>James</td>\n",
              "      <td>Pen</td>\n",
              "      <td>76</td>\n",
              "      <td>1.99</td>\n",
              "    </tr>\n",
              "    <tr>\n",
              "      <th>11</th>\n",
              "      <td>5-Oct-2014</td>\n",
              "      <td>Central</td>\n",
              "      <td>Morgan</td>\n",
              "      <td>Binder</td>\n",
              "      <td>28</td>\n",
              "      <td>8.99</td>\n",
              "    </tr>\n",
              "    <tr>\n",
              "      <th>12</th>\n",
              "      <td>14-Oct-2014</td>\n",
              "      <td>West</td>\n",
              "      <td>Thomas</td>\n",
              "      <td>Binder</td>\n",
              "      <td>57</td>\n",
              "      <td>19.99</td>\n",
              "    </tr>\n",
              "    <tr>\n",
              "      <th>13</th>\n",
              "      <td>22-Oct-2014</td>\n",
              "      <td>East</td>\n",
              "      <td>Richard</td>\n",
              "      <td>Pen</td>\n",
              "      <td>64</td>\n",
              "      <td>8.99</td>\n",
              "    </tr>\n",
              "    <tr>\n",
              "      <th>14</th>\n",
              "      <td>31-Oct-2014</td>\n",
              "      <td>Central</td>\n",
              "      <td>Rachel</td>\n",
              "      <td>Pencil</td>\n",
              "      <td>14</td>\n",
              "      <td>1.29</td>\n",
              "    </tr>\n",
              "    <tr>\n",
              "      <th>15</th>\n",
              "      <td>8-Nov-2014</td>\n",
              "      <td>East</td>\n",
              "      <td>Susan</td>\n",
              "      <td>Pen</td>\n",
              "      <td>15</td>\n",
              "      <td>19.99</td>\n",
              "    </tr>\n",
              "    <tr>\n",
              "      <th>16</th>\n",
              "      <td>17-Nov-2014</td>\n",
              "      <td>Central</td>\n",
              "      <td>Alex</td>\n",
              "      <td>Binder</td>\n",
              "      <td>11</td>\n",
              "      <td>4.99</td>\n",
              "    </tr>\n",
              "    <tr>\n",
              "      <th>17</th>\n",
              "      <td>25-Nov-2014</td>\n",
              "      <td>Central</td>\n",
              "      <td>Matthew</td>\n",
              "      <td>Pen Set</td>\n",
              "      <td>96</td>\n",
              "      <td>4.99</td>\n",
              "    </tr>\n",
              "    <tr>\n",
              "      <th>18</th>\n",
              "      <td>4-Dec-2014</td>\n",
              "      <td>Central</td>\n",
              "      <td>Alex</td>\n",
              "      <td>Binder</td>\n",
              "      <td>94</td>\n",
              "      <td>19.99</td>\n",
              "    </tr>\n",
              "    <tr>\n",
              "      <th>19</th>\n",
              "      <td>12-Dec-2014</td>\n",
              "      <td>Central</td>\n",
              "      <td>Smith</td>\n",
              "      <td>Pencil</td>\n",
              "      <td>67</td>\n",
              "      <td>1.29</td>\n",
              "    </tr>\n",
              "    <tr>\n",
              "      <th>20</th>\n",
              "      <td>21-Dec-2014</td>\n",
              "      <td>Central</td>\n",
              "      <td>Rachel</td>\n",
              "      <td>Binder</td>\n",
              "      <td>28</td>\n",
              "      <td>4.99</td>\n",
              "    </tr>\n",
              "    <tr>\n",
              "      <th>21</th>\n",
              "      <td>29-Dec-2014</td>\n",
              "      <td>East</td>\n",
              "      <td>Susan</td>\n",
              "      <td>Pen Set</td>\n",
              "      <td>74</td>\n",
              "      <td>15.99</td>\n",
              "    </tr>\n",
              "    <tr>\n",
              "      <th>22</th>\n",
              "      <td>6-Jan-2015</td>\n",
              "      <td>East</td>\n",
              "      <td>Richard</td>\n",
              "      <td>Pencil</td>\n",
              "      <td>95</td>\n",
              "      <td>1.99</td>\n",
              "    </tr>\n",
              "    <tr>\n",
              "      <th>23</th>\n",
              "      <td>15-Jan-2015</td>\n",
              "      <td>Central</td>\n",
              "      <td>Bill</td>\n",
              "      <td>Binder</td>\n",
              "      <td>46</td>\n",
              "      <td>8.99</td>\n",
              "    </tr>\n",
              "    <tr>\n",
              "      <th>24</th>\n",
              "      <td>23-Jan-2015</td>\n",
              "      <td>Central</td>\n",
              "      <td>Matthew</td>\n",
              "      <td>Binder</td>\n",
              "      <td>50</td>\n",
              "      <td>19.99</td>\n",
              "    </tr>\n",
              "    <tr>\n",
              "      <th>25</th>\n",
              "      <td>1-Feb-2015</td>\n",
              "      <td>Central</td>\n",
              "      <td>Smith</td>\n",
              "      <td>Binder</td>\n",
              "      <td>87</td>\n",
              "      <td>15.00</td>\n",
              "    </tr>\n",
              "    <tr>\n",
              "      <th>26</th>\n",
              "      <td>9-Feb-2015</td>\n",
              "      <td>Central</td>\n",
              "      <td>Alex</td>\n",
              "      <td>Pencil</td>\n",
              "      <td>36</td>\n",
              "      <td>4.99</td>\n",
              "    </tr>\n",
              "    <tr>\n",
              "      <th>27</th>\n",
              "      <td>18-Feb-2015</td>\n",
              "      <td>East</td>\n",
              "      <td>Richard</td>\n",
              "      <td>Binder</td>\n",
              "      <td>4</td>\n",
              "      <td>4.99</td>\n",
              "    </tr>\n",
              "    <tr>\n",
              "      <th>28</th>\n",
              "      <td>26-Feb-2015</td>\n",
              "      <td>Central</td>\n",
              "      <td>Bill</td>\n",
              "      <td>Pen</td>\n",
              "      <td>27</td>\n",
              "      <td>19.99</td>\n",
              "    </tr>\n",
              "    <tr>\n",
              "      <th>29</th>\n",
              "      <td>7-Mar-2015</td>\n",
              "      <td>West</td>\n",
              "      <td>James</td>\n",
              "      <td>Binder</td>\n",
              "      <td>7</td>\n",
              "      <td>19.99</td>\n",
              "    </tr>\n",
              "    <tr>\n",
              "      <th>30</th>\n",
              "      <td>15-Mar-2015</td>\n",
              "      <td>West</td>\n",
              "      <td>James</td>\n",
              "      <td>Pencil</td>\n",
              "      <td>56</td>\n",
              "      <td>2.99</td>\n",
              "    </tr>\n",
              "    <tr>\n",
              "      <th>31</th>\n",
              "      <td>24-Mar-2015</td>\n",
              "      <td>Central</td>\n",
              "      <td>Alex</td>\n",
              "      <td>Pen Set</td>\n",
              "      <td>50</td>\n",
              "      <td>4.99</td>\n",
              "    </tr>\n",
              "    <tr>\n",
              "      <th>32</th>\n",
              "      <td>1-Apr-2015</td>\n",
              "      <td>East</td>\n",
              "      <td>Richard</td>\n",
              "      <td>Binder</td>\n",
              "      <td>60</td>\n",
              "      <td>4.99</td>\n",
              "    </tr>\n",
              "    <tr>\n",
              "      <th>33</th>\n",
              "      <td>10-Apr-2015</td>\n",
              "      <td>Central</td>\n",
              "      <td>Rachel</td>\n",
              "      <td>Pencil</td>\n",
              "      <td>66</td>\n",
              "      <td>1.99</td>\n",
              "    </tr>\n",
              "    <tr>\n",
              "      <th>34</th>\n",
              "      <td>18-Apr-2015</td>\n",
              "      <td>Central</td>\n",
              "      <td>Rachel</td>\n",
              "      <td>Pencil</td>\n",
              "      <td>75</td>\n",
              "      <td>1.99</td>\n",
              "    </tr>\n",
              "    <tr>\n",
              "      <th>35</th>\n",
              "      <td>27-Apr-2015</td>\n",
              "      <td>East</td>\n",
              "      <td>Nick</td>\n",
              "      <td>Pen</td>\n",
              "      <td>96</td>\n",
              "      <td>4.99</td>\n",
              "    </tr>\n",
              "    <tr>\n",
              "      <th>36</th>\n",
              "      <td>5-May-2015</td>\n",
              "      <td>Central</td>\n",
              "      <td>Alex</td>\n",
              "      <td>Pencil</td>\n",
              "      <td>90</td>\n",
              "      <td>4.99</td>\n",
              "    </tr>\n",
              "    <tr>\n",
              "      <th>37</th>\n",
              "      <td>14-May-2015</td>\n",
              "      <td>Central</td>\n",
              "      <td>Bill</td>\n",
              "      <td>Pencil</td>\n",
              "      <td>53</td>\n",
              "      <td>1.29</td>\n",
              "    </tr>\n",
              "    <tr>\n",
              "      <th>38</th>\n",
              "      <td>22-May-2015</td>\n",
              "      <td>West</td>\n",
              "      <td>Thomas</td>\n",
              "      <td>Pencil</td>\n",
              "      <td>32</td>\n",
              "      <td>1.99</td>\n",
              "    </tr>\n",
              "    <tr>\n",
              "      <th>39</th>\n",
              "      <td>31-May-2015</td>\n",
              "      <td>Central</td>\n",
              "      <td>Bill</td>\n",
              "      <td>Binder</td>\n",
              "      <td>80</td>\n",
              "      <td>8.99</td>\n",
              "    </tr>\n",
              "    <tr>\n",
              "      <th>40</th>\n",
              "      <td>8-Jun-2015</td>\n",
              "      <td>East</td>\n",
              "      <td>Richard</td>\n",
              "      <td>Binder</td>\n",
              "      <td>60</td>\n",
              "      <td>8.99</td>\n",
              "    </tr>\n",
              "    <tr>\n",
              "      <th>41</th>\n",
              "      <td>17-Jun-2015</td>\n",
              "      <td>Central</td>\n",
              "      <td>Matthew</td>\n",
              "      <td>Desk</td>\n",
              "      <td>5</td>\n",
              "      <td>125.00</td>\n",
              "    </tr>\n",
              "    <tr>\n",
              "      <th>42</th>\n",
              "      <td>25-Jun-2015</td>\n",
              "      <td>Central</td>\n",
              "      <td>Morgan</td>\n",
              "      <td>Pencil</td>\n",
              "      <td>90</td>\n",
              "      <td>4.99</td>\n",
              "    </tr>\n",
              "  </tbody>\n",
              "</table>\n",
              "</div>"
            ],
            "text/plain": [
              "      OrderDate   Region      Rep     Item  Units  Unit Price\n",
              "0    4-Jul-2014     East  Richard  Pen Set     62        4.99\n",
              "1   12-Jul-2014     East     Nick   Binder     29        1.99\n",
              "2   21-Jul-2014  Central   Morgan  Pen Set     55       12.49\n",
              "3   29-Jul-2014     East    Susan   Binder     81       19.99\n",
              "4    7-Aug-2014  Central  Matthew  Pen Set     42       23.95\n",
              "5   15-Aug-2014     East  Richard   Pencil     35        4.99\n",
              "6   24-Aug-2014     West    James     Desk      3      275.00\n",
              "7    1-Sep-2014  Central    Smith     Desk      2      125.00\n",
              "8   10-Sep-2014  Central     Bill   Pencil      7        1.29\n",
              "9   18-Sep-2014     East  Richard  Pen Set     16       15.99\n",
              "10  27-Sep-2014     West    James      Pen     76        1.99\n",
              "11   5-Oct-2014  Central   Morgan   Binder     28        8.99\n",
              "12  14-Oct-2014     West   Thomas   Binder     57       19.99\n",
              "13  22-Oct-2014     East  Richard      Pen     64        8.99\n",
              "14  31-Oct-2014  Central   Rachel   Pencil     14        1.29\n",
              "15   8-Nov-2014     East    Susan      Pen     15       19.99\n",
              "16  17-Nov-2014  Central     Alex   Binder     11        4.99\n",
              "17  25-Nov-2014  Central  Matthew  Pen Set     96        4.99\n",
              "18   4-Dec-2014  Central     Alex   Binder     94       19.99\n",
              "19  12-Dec-2014  Central    Smith   Pencil     67        1.29\n",
              "20  21-Dec-2014  Central   Rachel   Binder     28        4.99\n",
              "21  29-Dec-2014     East    Susan  Pen Set     74       15.99\n",
              "22   6-Jan-2015     East  Richard   Pencil     95        1.99\n",
              "23  15-Jan-2015  Central     Bill   Binder     46        8.99\n",
              "24  23-Jan-2015  Central  Matthew   Binder     50       19.99\n",
              "25   1-Feb-2015  Central    Smith   Binder     87       15.00\n",
              "26   9-Feb-2015  Central     Alex   Pencil     36        4.99\n",
              "27  18-Feb-2015     East  Richard   Binder      4        4.99\n",
              "28  26-Feb-2015  Central     Bill      Pen     27       19.99\n",
              "29   7-Mar-2015     West    James   Binder      7       19.99\n",
              "30  15-Mar-2015     West    James   Pencil     56        2.99\n",
              "31  24-Mar-2015  Central     Alex  Pen Set     50        4.99\n",
              "32   1-Apr-2015     East  Richard   Binder     60        4.99\n",
              "33  10-Apr-2015  Central   Rachel   Pencil     66        1.99\n",
              "34  18-Apr-2015  Central   Rachel   Pencil     75        1.99\n",
              "35  27-Apr-2015     East     Nick      Pen     96        4.99\n",
              "36   5-May-2015  Central     Alex   Pencil     90        4.99\n",
              "37  14-May-2015  Central     Bill   Pencil     53        1.29\n",
              "38  22-May-2015     West   Thomas   Pencil     32        1.99\n",
              "39  31-May-2015  Central     Bill   Binder     80        8.99\n",
              "40   8-Jun-2015     East  Richard   Binder     60        8.99\n",
              "41  17-Jun-2015  Central  Matthew     Desk      5      125.00\n",
              "42  25-Jun-2015  Central   Morgan   Pencil     90        4.99"
            ]
          },
          "metadata": {
            "tags": []
          },
          "execution_count": 5
        }
      ]
    },
    {
      "cell_type": "code",
      "metadata": {
        "id": "K-CAKMhCEIyZ",
        "colab": {
          "base_uri": "https://localhost:8080/",
          "height": 195
        },
        "outputId": "acdc22f7-7165-4f30-80a8-0c6e9e9e5fe8"
      },
      "source": [
        "dfOS.head()"
      ],
      "execution_count": null,
      "outputs": [
        {
          "output_type": "execute_result",
          "data": {
            "text/html": [
              "<div>\n",
              "<style scoped>\n",
              "    .dataframe tbody tr th:only-of-type {\n",
              "        vertical-align: middle;\n",
              "    }\n",
              "\n",
              "    .dataframe tbody tr th {\n",
              "        vertical-align: top;\n",
              "    }\n",
              "\n",
              "    .dataframe thead th {\n",
              "        text-align: right;\n",
              "    }\n",
              "</style>\n",
              "<table border=\"1\" class=\"dataframe\">\n",
              "  <thead>\n",
              "    <tr style=\"text-align: right;\">\n",
              "      <th></th>\n",
              "      <th>OrderDate</th>\n",
              "      <th>Region</th>\n",
              "      <th>Rep</th>\n",
              "      <th>Item</th>\n",
              "      <th>Units</th>\n",
              "      <th>Unit Price</th>\n",
              "    </tr>\n",
              "  </thead>\n",
              "  <tbody>\n",
              "    <tr>\n",
              "      <th>0</th>\n",
              "      <td>4-Jul-2014</td>\n",
              "      <td>East</td>\n",
              "      <td>Richard</td>\n",
              "      <td>Pen Set</td>\n",
              "      <td>62</td>\n",
              "      <td>4.99</td>\n",
              "    </tr>\n",
              "    <tr>\n",
              "      <th>1</th>\n",
              "      <td>12-Jul-2014</td>\n",
              "      <td>East</td>\n",
              "      <td>Nick</td>\n",
              "      <td>Binder</td>\n",
              "      <td>29</td>\n",
              "      <td>1.99</td>\n",
              "    </tr>\n",
              "    <tr>\n",
              "      <th>2</th>\n",
              "      <td>21-Jul-2014</td>\n",
              "      <td>Central</td>\n",
              "      <td>Morgan</td>\n",
              "      <td>Pen Set</td>\n",
              "      <td>55</td>\n",
              "      <td>12.49</td>\n",
              "    </tr>\n",
              "    <tr>\n",
              "      <th>3</th>\n",
              "      <td>29-Jul-2014</td>\n",
              "      <td>East</td>\n",
              "      <td>Susan</td>\n",
              "      <td>Binder</td>\n",
              "      <td>81</td>\n",
              "      <td>19.99</td>\n",
              "    </tr>\n",
              "    <tr>\n",
              "      <th>4</th>\n",
              "      <td>7-Aug-2014</td>\n",
              "      <td>Central</td>\n",
              "      <td>Matthew</td>\n",
              "      <td>Pen Set</td>\n",
              "      <td>42</td>\n",
              "      <td>23.95</td>\n",
              "    </tr>\n",
              "  </tbody>\n",
              "</table>\n",
              "</div>"
            ],
            "text/plain": [
              "     OrderDate   Region      Rep     Item  Units  Unit Price\n",
              "0   4-Jul-2014     East  Richard  Pen Set     62        4.99\n",
              "1  12-Jul-2014     East     Nick   Binder     29        1.99\n",
              "2  21-Jul-2014  Central   Morgan  Pen Set     55       12.49\n",
              "3  29-Jul-2014     East    Susan   Binder     81       19.99\n",
              "4   7-Aug-2014  Central  Matthew  Pen Set     42       23.95"
            ]
          },
          "metadata": {
            "tags": []
          },
          "execution_count": 4
        }
      ]
    },
    {
      "cell_type": "code",
      "metadata": {
        "id": "2d6xSqj7Faic"
      },
      "source": [
        "dfOS['Value'] =dfOS['Units']*dfOS['Unit Price']"
      ],
      "execution_count": null,
      "outputs": []
    },
    {
      "cell_type": "code",
      "metadata": {
        "id": "4g7-4eVcF3LI",
        "colab": {
          "base_uri": "https://localhost:8080/",
          "height": 195
        },
        "outputId": "52d71810-6e82-422b-a260-18ea84c60909"
      },
      "source": [
        "dfOS.head()"
      ],
      "execution_count": null,
      "outputs": [
        {
          "output_type": "execute_result",
          "data": {
            "text/html": [
              "<div>\n",
              "<style scoped>\n",
              "    .dataframe tbody tr th:only-of-type {\n",
              "        vertical-align: middle;\n",
              "    }\n",
              "\n",
              "    .dataframe tbody tr th {\n",
              "        vertical-align: top;\n",
              "    }\n",
              "\n",
              "    .dataframe thead th {\n",
              "        text-align: right;\n",
              "    }\n",
              "</style>\n",
              "<table border=\"1\" class=\"dataframe\">\n",
              "  <thead>\n",
              "    <tr style=\"text-align: right;\">\n",
              "      <th></th>\n",
              "      <th>OrderDate</th>\n",
              "      <th>Region</th>\n",
              "      <th>Rep</th>\n",
              "      <th>Item</th>\n",
              "      <th>Units</th>\n",
              "      <th>Unit Price</th>\n",
              "      <th>Value</th>\n",
              "    </tr>\n",
              "  </thead>\n",
              "  <tbody>\n",
              "    <tr>\n",
              "      <th>0</th>\n",
              "      <td>4-Jul-2014</td>\n",
              "      <td>East</td>\n",
              "      <td>Richard</td>\n",
              "      <td>Pen Set</td>\n",
              "      <td>62</td>\n",
              "      <td>4.99</td>\n",
              "      <td>309.38</td>\n",
              "    </tr>\n",
              "    <tr>\n",
              "      <th>1</th>\n",
              "      <td>12-Jul-2014</td>\n",
              "      <td>East</td>\n",
              "      <td>Nick</td>\n",
              "      <td>Binder</td>\n",
              "      <td>29</td>\n",
              "      <td>1.99</td>\n",
              "      <td>57.71</td>\n",
              "    </tr>\n",
              "    <tr>\n",
              "      <th>2</th>\n",
              "      <td>21-Jul-2014</td>\n",
              "      <td>Central</td>\n",
              "      <td>Morgan</td>\n",
              "      <td>Pen Set</td>\n",
              "      <td>55</td>\n",
              "      <td>12.49</td>\n",
              "      <td>686.95</td>\n",
              "    </tr>\n",
              "    <tr>\n",
              "      <th>3</th>\n",
              "      <td>29-Jul-2014</td>\n",
              "      <td>East</td>\n",
              "      <td>Susan</td>\n",
              "      <td>Binder</td>\n",
              "      <td>81</td>\n",
              "      <td>19.99</td>\n",
              "      <td>1619.19</td>\n",
              "    </tr>\n",
              "    <tr>\n",
              "      <th>4</th>\n",
              "      <td>7-Aug-2014</td>\n",
              "      <td>Central</td>\n",
              "      <td>Matthew</td>\n",
              "      <td>Pen Set</td>\n",
              "      <td>42</td>\n",
              "      <td>23.95</td>\n",
              "      <td>1005.90</td>\n",
              "    </tr>\n",
              "  </tbody>\n",
              "</table>\n",
              "</div>"
            ],
            "text/plain": [
              "     OrderDate   Region      Rep     Item  Units  Unit Price    Value\n",
              "0   4-Jul-2014     East  Richard  Pen Set     62        4.99   309.38\n",
              "1  12-Jul-2014     East     Nick   Binder     29        1.99    57.71\n",
              "2  21-Jul-2014  Central   Morgan  Pen Set     55       12.49   686.95\n",
              "3  29-Jul-2014     East    Susan   Binder     81       19.99  1619.19\n",
              "4   7-Aug-2014  Central  Matthew  Pen Set     42       23.95  1005.90"
            ]
          },
          "metadata": {
            "tags": []
          },
          "execution_count": 6
        }
      ]
    },
    {
      "cell_type": "code",
      "metadata": {
        "id": "S0lQFV9CpDMY",
        "colab": {
          "base_uri": "https://localhost:8080/",
          "height": 195
        },
        "outputId": "5d613130-021e-4cb9-cbab-6c8e17e2418b"
      },
      "source": [
        "Cols = ['Region','Rep','Item','Units','Value']\n",
        "dfOS2 =dfOS[Cols]\n",
        "dfOS2.head()"
      ],
      "execution_count": null,
      "outputs": [
        {
          "output_type": "execute_result",
          "data": {
            "text/html": [
              "<div>\n",
              "<style scoped>\n",
              "    .dataframe tbody tr th:only-of-type {\n",
              "        vertical-align: middle;\n",
              "    }\n",
              "\n",
              "    .dataframe tbody tr th {\n",
              "        vertical-align: top;\n",
              "    }\n",
              "\n",
              "    .dataframe thead th {\n",
              "        text-align: right;\n",
              "    }\n",
              "</style>\n",
              "<table border=\"1\" class=\"dataframe\">\n",
              "  <thead>\n",
              "    <tr style=\"text-align: right;\">\n",
              "      <th></th>\n",
              "      <th>Region</th>\n",
              "      <th>Rep</th>\n",
              "      <th>Item</th>\n",
              "      <th>Units</th>\n",
              "      <th>Value</th>\n",
              "    </tr>\n",
              "  </thead>\n",
              "  <tbody>\n",
              "    <tr>\n",
              "      <th>0</th>\n",
              "      <td>East</td>\n",
              "      <td>Richard</td>\n",
              "      <td>Pen Set</td>\n",
              "      <td>62</td>\n",
              "      <td>309.38</td>\n",
              "    </tr>\n",
              "    <tr>\n",
              "      <th>1</th>\n",
              "      <td>East</td>\n",
              "      <td>Nick</td>\n",
              "      <td>Binder</td>\n",
              "      <td>29</td>\n",
              "      <td>57.71</td>\n",
              "    </tr>\n",
              "    <tr>\n",
              "      <th>2</th>\n",
              "      <td>Central</td>\n",
              "      <td>Morgan</td>\n",
              "      <td>Pen Set</td>\n",
              "      <td>55</td>\n",
              "      <td>686.95</td>\n",
              "    </tr>\n",
              "    <tr>\n",
              "      <th>3</th>\n",
              "      <td>East</td>\n",
              "      <td>Susan</td>\n",
              "      <td>Binder</td>\n",
              "      <td>81</td>\n",
              "      <td>1619.19</td>\n",
              "    </tr>\n",
              "    <tr>\n",
              "      <th>4</th>\n",
              "      <td>Central</td>\n",
              "      <td>Matthew</td>\n",
              "      <td>Pen Set</td>\n",
              "      <td>42</td>\n",
              "      <td>1005.90</td>\n",
              "    </tr>\n",
              "  </tbody>\n",
              "</table>\n",
              "</div>"
            ],
            "text/plain": [
              "    Region      Rep     Item  Units    Value\n",
              "0     East  Richard  Pen Set     62   309.38\n",
              "1     East     Nick   Binder     29    57.71\n",
              "2  Central   Morgan  Pen Set     55   686.95\n",
              "3     East    Susan   Binder     81  1619.19\n",
              "4  Central  Matthew  Pen Set     42  1005.90"
            ]
          },
          "metadata": {
            "tags": []
          },
          "execution_count": 7
        }
      ]
    },
    {
      "cell_type": "code",
      "metadata": {
        "id": "yMWSH2yeGKLt",
        "colab": {
          "base_uri": "https://localhost:8080/",
          "height": 235
        },
        "outputId": "9a7dc2b5-0faa-4c4a-a6e5-1a2f660ec2dc"
      },
      "source": [
        "dfItem = dfOS2.groupby(\"Item\").sum()\n",
        "dfItem"
      ],
      "execution_count": null,
      "outputs": [
        {
          "output_type": "execute_result",
          "data": {
            "text/html": [
              "<div>\n",
              "<style scoped>\n",
              "    .dataframe tbody tr th:only-of-type {\n",
              "        vertical-align: middle;\n",
              "    }\n",
              "\n",
              "    .dataframe tbody tr th {\n",
              "        vertical-align: top;\n",
              "    }\n",
              "\n",
              "    .dataframe thead th {\n",
              "        text-align: right;\n",
              "    }\n",
              "</style>\n",
              "<table border=\"1\" class=\"dataframe\">\n",
              "  <thead>\n",
              "    <tr style=\"text-align: right;\">\n",
              "      <th></th>\n",
              "      <th>Units</th>\n",
              "      <th>Value</th>\n",
              "    </tr>\n",
              "    <tr>\n",
              "      <th>Item</th>\n",
              "      <th></th>\n",
              "      <th></th>\n",
              "    </tr>\n",
              "  </thead>\n",
              "  <tbody>\n",
              "    <tr>\n",
              "      <th>Binder</th>\n",
              "      <td>722</td>\n",
              "      <td>9577.65</td>\n",
              "    </tr>\n",
              "    <tr>\n",
              "      <th>Desk</th>\n",
              "      <td>10</td>\n",
              "      <td>1700.00</td>\n",
              "    </tr>\n",
              "    <tr>\n",
              "      <th>Pen</th>\n",
              "      <td>278</td>\n",
              "      <td>2045.22</td>\n",
              "    </tr>\n",
              "    <tr>\n",
              "      <th>Pen Set</th>\n",
              "      <td>395</td>\n",
              "      <td>4169.87</td>\n",
              "    </tr>\n",
              "    <tr>\n",
              "      <th>Pencil</th>\n",
              "      <td>716</td>\n",
              "      <td>2135.14</td>\n",
              "    </tr>\n",
              "  </tbody>\n",
              "</table>\n",
              "</div>"
            ],
            "text/plain": [
              "         Units    Value\n",
              "Item                   \n",
              "Binder     722  9577.65\n",
              "Desk        10  1700.00\n",
              "Pen        278  2045.22\n",
              "Pen Set    395  4169.87\n",
              "Pencil     716  2135.14"
            ]
          },
          "metadata": {
            "tags": []
          },
          "execution_count": 12
        }
      ]
    },
    {
      "cell_type": "code",
      "metadata": {
        "id": "Iq6T9ceipiez",
        "colab": {
          "base_uri": "https://localhost:8080/",
          "height": 173
        },
        "outputId": "e152e5cf-5467-47ad-8c71-07d0b8293a49"
      },
      "source": [
        "dfRegion = dfOS2.groupby('Region').sum()\n",
        "dfRegion"
      ],
      "execution_count": null,
      "outputs": [
        {
          "output_type": "execute_result",
          "data": {
            "text/html": [
              "<div>\n",
              "<style scoped>\n",
              "    .dataframe tbody tr th:only-of-type {\n",
              "        vertical-align: middle;\n",
              "    }\n",
              "\n",
              "    .dataframe tbody tr th {\n",
              "        vertical-align: top;\n",
              "    }\n",
              "\n",
              "    .dataframe thead th {\n",
              "        text-align: right;\n",
              "    }\n",
              "</style>\n",
              "<table border=\"1\" class=\"dataframe\">\n",
              "  <thead>\n",
              "    <tr style=\"text-align: right;\">\n",
              "      <th></th>\n",
              "      <th>Units</th>\n",
              "      <th>Value</th>\n",
              "    </tr>\n",
              "    <tr>\n",
              "      <th>Region</th>\n",
              "      <th></th>\n",
              "      <th></th>\n",
              "    </tr>\n",
              "  </thead>\n",
              "  <tbody>\n",
              "    <tr>\n",
              "      <th>Central</th>\n",
              "      <td>1199</td>\n",
              "      <td>11139.07</td>\n",
              "    </tr>\n",
              "    <tr>\n",
              "      <th>East</th>\n",
              "      <td>691</td>\n",
              "      <td>6002.09</td>\n",
              "    </tr>\n",
              "    <tr>\n",
              "      <th>West</th>\n",
              "      <td>231</td>\n",
              "      <td>2486.72</td>\n",
              "    </tr>\n",
              "  </tbody>\n",
              "</table>\n",
              "</div>"
            ],
            "text/plain": [
              "         Units     Value\n",
              "Region                  \n",
              "Central   1199  11139.07\n",
              "East       691   6002.09\n",
              "West       231   2486.72"
            ]
          },
          "metadata": {
            "tags": []
          },
          "execution_count": 13
        }
      ]
    },
    {
      "cell_type": "code",
      "metadata": {
        "id": "eL5zX2g6pvEq",
        "colab": {
          "base_uri": "https://localhost:8080/",
          "height": 483
        },
        "outputId": "27b9636d-1fe5-48f4-d103-d9d27480314f"
      },
      "source": [
        "dfRI = dfOS2.groupby(['Region','Item']).sum()\n",
        "dfRI"
      ],
      "execution_count": null,
      "outputs": [
        {
          "output_type": "execute_result",
          "data": {
            "text/html": [
              "<div>\n",
              "<style scoped>\n",
              "    .dataframe tbody tr th:only-of-type {\n",
              "        vertical-align: middle;\n",
              "    }\n",
              "\n",
              "    .dataframe tbody tr th {\n",
              "        vertical-align: top;\n",
              "    }\n",
              "\n",
              "    .dataframe thead th {\n",
              "        text-align: right;\n",
              "    }\n",
              "</style>\n",
              "<table border=\"1\" class=\"dataframe\">\n",
              "  <thead>\n",
              "    <tr style=\"text-align: right;\">\n",
              "      <th></th>\n",
              "      <th></th>\n",
              "      <th>Units</th>\n",
              "      <th>Value</th>\n",
              "    </tr>\n",
              "    <tr>\n",
              "      <th>Region</th>\n",
              "      <th>Item</th>\n",
              "      <th></th>\n",
              "      <th></th>\n",
              "    </tr>\n",
              "  </thead>\n",
              "  <tbody>\n",
              "    <tr>\n",
              "      <th rowspan=\"5\" valign=\"top\">Central</th>\n",
              "      <th>Binder</th>\n",
              "      <td>424</td>\n",
              "      <td>5762.63</td>\n",
              "    </tr>\n",
              "    <tr>\n",
              "      <th>Desk</th>\n",
              "      <td>7</td>\n",
              "      <td>875.00</td>\n",
              "    </tr>\n",
              "    <tr>\n",
              "      <th>Pen</th>\n",
              "      <td>27</td>\n",
              "      <td>539.73</td>\n",
              "    </tr>\n",
              "    <tr>\n",
              "      <th>Pen Set</th>\n",
              "      <td>243</td>\n",
              "      <td>2421.39</td>\n",
              "    </tr>\n",
              "    <tr>\n",
              "      <th>Pencil</th>\n",
              "      <td>498</td>\n",
              "      <td>1540.32</td>\n",
              "    </tr>\n",
              "    <tr>\n",
              "      <th rowspan=\"4\" valign=\"top\">East</th>\n",
              "      <th>Binder</th>\n",
              "      <td>234</td>\n",
              "      <td>2535.66</td>\n",
              "    </tr>\n",
              "    <tr>\n",
              "      <th>Pen</th>\n",
              "      <td>175</td>\n",
              "      <td>1354.25</td>\n",
              "    </tr>\n",
              "    <tr>\n",
              "      <th>Pen Set</th>\n",
              "      <td>152</td>\n",
              "      <td>1748.48</td>\n",
              "    </tr>\n",
              "    <tr>\n",
              "      <th>Pencil</th>\n",
              "      <td>130</td>\n",
              "      <td>363.70</td>\n",
              "    </tr>\n",
              "    <tr>\n",
              "      <th rowspan=\"4\" valign=\"top\">West</th>\n",
              "      <th>Binder</th>\n",
              "      <td>64</td>\n",
              "      <td>1279.36</td>\n",
              "    </tr>\n",
              "    <tr>\n",
              "      <th>Desk</th>\n",
              "      <td>3</td>\n",
              "      <td>825.00</td>\n",
              "    </tr>\n",
              "    <tr>\n",
              "      <th>Pen</th>\n",
              "      <td>76</td>\n",
              "      <td>151.24</td>\n",
              "    </tr>\n",
              "    <tr>\n",
              "      <th>Pencil</th>\n",
              "      <td>88</td>\n",
              "      <td>231.12</td>\n",
              "    </tr>\n",
              "  </tbody>\n",
              "</table>\n",
              "</div>"
            ],
            "text/plain": [
              "                 Units    Value\n",
              "Region  Item                   \n",
              "Central Binder     424  5762.63\n",
              "        Desk         7   875.00\n",
              "        Pen         27   539.73\n",
              "        Pen Set    243  2421.39\n",
              "        Pencil     498  1540.32\n",
              "East    Binder     234  2535.66\n",
              "        Pen        175  1354.25\n",
              "        Pen Set    152  1748.48\n",
              "        Pencil     130   363.70\n",
              "West    Binder      64  1279.36\n",
              "        Desk         3   825.00\n",
              "        Pen         76   151.24\n",
              "        Pencil      88   231.12"
            ]
          },
          "metadata": {
            "tags": []
          },
          "execution_count": 14
        }
      ]
    },
    {
      "cell_type": "code",
      "metadata": {
        "id": "dwxj5iwrrBsi",
        "colab": {
          "base_uri": "https://localhost:8080/",
          "height": 483
        },
        "outputId": "00b12058-897c-4cc8-fa98-8c442ec4bb0e"
      },
      "source": [
        "#https://pbpython.com/pandas-pivot-table-explained.html\n",
        "pd.pivot_table(dfOS2,index=[\"Region\",\"Item\"],aggfunc=np.sum)"
      ],
      "execution_count": null,
      "outputs": [
        {
          "output_type": "execute_result",
          "data": {
            "text/html": [
              "<div>\n",
              "<style scoped>\n",
              "    .dataframe tbody tr th:only-of-type {\n",
              "        vertical-align: middle;\n",
              "    }\n",
              "\n",
              "    .dataframe tbody tr th {\n",
              "        vertical-align: top;\n",
              "    }\n",
              "\n",
              "    .dataframe thead th {\n",
              "        text-align: right;\n",
              "    }\n",
              "</style>\n",
              "<table border=\"1\" class=\"dataframe\">\n",
              "  <thead>\n",
              "    <tr style=\"text-align: right;\">\n",
              "      <th></th>\n",
              "      <th></th>\n",
              "      <th>Units</th>\n",
              "      <th>Value</th>\n",
              "    </tr>\n",
              "    <tr>\n",
              "      <th>Region</th>\n",
              "      <th>Item</th>\n",
              "      <th></th>\n",
              "      <th></th>\n",
              "    </tr>\n",
              "  </thead>\n",
              "  <tbody>\n",
              "    <tr>\n",
              "      <th rowspan=\"5\" valign=\"top\">Central</th>\n",
              "      <th>Binder</th>\n",
              "      <td>424</td>\n",
              "      <td>5762.63</td>\n",
              "    </tr>\n",
              "    <tr>\n",
              "      <th>Desk</th>\n",
              "      <td>7</td>\n",
              "      <td>875.00</td>\n",
              "    </tr>\n",
              "    <tr>\n",
              "      <th>Pen</th>\n",
              "      <td>27</td>\n",
              "      <td>539.73</td>\n",
              "    </tr>\n",
              "    <tr>\n",
              "      <th>Pen Set</th>\n",
              "      <td>243</td>\n",
              "      <td>2421.39</td>\n",
              "    </tr>\n",
              "    <tr>\n",
              "      <th>Pencil</th>\n",
              "      <td>498</td>\n",
              "      <td>1540.32</td>\n",
              "    </tr>\n",
              "    <tr>\n",
              "      <th rowspan=\"4\" valign=\"top\">East</th>\n",
              "      <th>Binder</th>\n",
              "      <td>234</td>\n",
              "      <td>2535.66</td>\n",
              "    </tr>\n",
              "    <tr>\n",
              "      <th>Pen</th>\n",
              "      <td>175</td>\n",
              "      <td>1354.25</td>\n",
              "    </tr>\n",
              "    <tr>\n",
              "      <th>Pen Set</th>\n",
              "      <td>152</td>\n",
              "      <td>1748.48</td>\n",
              "    </tr>\n",
              "    <tr>\n",
              "      <th>Pencil</th>\n",
              "      <td>130</td>\n",
              "      <td>363.70</td>\n",
              "    </tr>\n",
              "    <tr>\n",
              "      <th rowspan=\"4\" valign=\"top\">West</th>\n",
              "      <th>Binder</th>\n",
              "      <td>64</td>\n",
              "      <td>1279.36</td>\n",
              "    </tr>\n",
              "    <tr>\n",
              "      <th>Desk</th>\n",
              "      <td>3</td>\n",
              "      <td>825.00</td>\n",
              "    </tr>\n",
              "    <tr>\n",
              "      <th>Pen</th>\n",
              "      <td>76</td>\n",
              "      <td>151.24</td>\n",
              "    </tr>\n",
              "    <tr>\n",
              "      <th>Pencil</th>\n",
              "      <td>88</td>\n",
              "      <td>231.12</td>\n",
              "    </tr>\n",
              "  </tbody>\n",
              "</table>\n",
              "</div>"
            ],
            "text/plain": [
              "                 Units    Value\n",
              "Region  Item                   \n",
              "Central Binder     424  5762.63\n",
              "        Desk         7   875.00\n",
              "        Pen         27   539.73\n",
              "        Pen Set    243  2421.39\n",
              "        Pencil     498  1540.32\n",
              "East    Binder     234  2535.66\n",
              "        Pen        175  1354.25\n",
              "        Pen Set    152  1748.48\n",
              "        Pencil     130   363.70\n",
              "West    Binder      64  1279.36\n",
              "        Desk         3   825.00\n",
              "        Pen         76   151.24\n",
              "        Pencil      88   231.12"
            ]
          },
          "metadata": {
            "tags": []
          },
          "execution_count": 81
        }
      ]
    },
    {
      "cell_type": "code",
      "metadata": {
        "id": "_WGMLUjTGvrr",
        "colab": {
          "base_uri": "https://localhost:8080/",
          "height": 543
        },
        "outputId": "565108a8-45b3-4694-bae4-fa5f574a0975"
      },
      "source": [
        "dfItem.plot(\n",
        "    y=['Value', 'Units'],\n",
        "    kind='bar', \n",
        "    legend=True, \n",
        "    color=['green','orange'],\n",
        "    figsize=(12,8))"
      ],
      "execution_count": null,
      "outputs": [
        {
          "output_type": "execute_result",
          "data": {
            "text/plain": [
              "<matplotlib.axes._subplots.AxesSubplot at 0x7f3283101128>"
            ]
          },
          "metadata": {
            "tags": []
          },
          "execution_count": 77
        },
        {
          "output_type": "display_data",
          "data": {
            "image/png": "[encoded data removed]",
            "text/plain": [
              "<Figure size 864x576 with 1 Axes>"
            ]
          },
          "metadata": {
            "tags": []
          }
        }
      ]
    },
    {
      "cell_type": "code",
      "metadata": {
        "id": "hNBUanSCI9wt",
        "colab": {
          "base_uri": "https://localhost:8080/",
          "height": 297
        },
        "outputId": "e13b71ee-4bd8-4a31-b525-4c38ccbeb650"
      },
      "source": [
        "dfOS2[dfOS2['Rep']=='Richard']"
      ],
      "execution_count": null,
      "outputs": [
        {
          "output_type": "execute_result",
          "data": {
            "text/html": [
              "<div>\n",
              "<style scoped>\n",
              "    .dataframe tbody tr th:only-of-type {\n",
              "        vertical-align: middle;\n",
              "    }\n",
              "\n",
              "    .dataframe tbody tr th {\n",
              "        vertical-align: top;\n",
              "    }\n",
              "\n",
              "    .dataframe thead th {\n",
              "        text-align: right;\n",
              "    }\n",
              "</style>\n",
              "<table border=\"1\" class=\"dataframe\">\n",
              "  <thead>\n",
              "    <tr style=\"text-align: right;\">\n",
              "      <th></th>\n",
              "      <th>Region</th>\n",
              "      <th>Rep</th>\n",
              "      <th>Item</th>\n",
              "      <th>Units</th>\n",
              "      <th>Value</th>\n",
              "    </tr>\n",
              "  </thead>\n",
              "  <tbody>\n",
              "    <tr>\n",
              "      <th>0</th>\n",
              "      <td>East</td>\n",
              "      <td>Richard</td>\n",
              "      <td>Pen Set</td>\n",
              "      <td>62</td>\n",
              "      <td>309.38</td>\n",
              "    </tr>\n",
              "    <tr>\n",
              "      <th>5</th>\n",
              "      <td>East</td>\n",
              "      <td>Richard</td>\n",
              "      <td>Pencil</td>\n",
              "      <td>35</td>\n",
              "      <td>174.65</td>\n",
              "    </tr>\n",
              "    <tr>\n",
              "      <th>9</th>\n",
              "      <td>East</td>\n",
              "      <td>Richard</td>\n",
              "      <td>Pen Set</td>\n",
              "      <td>16</td>\n",
              "      <td>255.84</td>\n",
              "    </tr>\n",
              "    <tr>\n",
              "      <th>13</th>\n",
              "      <td>East</td>\n",
              "      <td>Richard</td>\n",
              "      <td>Pen</td>\n",
              "      <td>64</td>\n",
              "      <td>575.36</td>\n",
              "    </tr>\n",
              "    <tr>\n",
              "      <th>22</th>\n",
              "      <td>East</td>\n",
              "      <td>Richard</td>\n",
              "      <td>Pencil</td>\n",
              "      <td>95</td>\n",
              "      <td>189.05</td>\n",
              "    </tr>\n",
              "    <tr>\n",
              "      <th>27</th>\n",
              "      <td>East</td>\n",
              "      <td>Richard</td>\n",
              "      <td>Binder</td>\n",
              "      <td>4</td>\n",
              "      <td>19.96</td>\n",
              "    </tr>\n",
              "    <tr>\n",
              "      <th>32</th>\n",
              "      <td>East</td>\n",
              "      <td>Richard</td>\n",
              "      <td>Binder</td>\n",
              "      <td>60</td>\n",
              "      <td>299.40</td>\n",
              "    </tr>\n",
              "    <tr>\n",
              "      <th>40</th>\n",
              "      <td>East</td>\n",
              "      <td>Richard</td>\n",
              "      <td>Binder</td>\n",
              "      <td>60</td>\n",
              "      <td>539.40</td>\n",
              "    </tr>\n",
              "  </tbody>\n",
              "</table>\n",
              "</div>"
            ],
            "text/plain": [
              "   Region      Rep     Item  Units   Value\n",
              "0    East  Richard  Pen Set     62  309.38\n",
              "5    East  Richard   Pencil     35  174.65\n",
              "9    East  Richard  Pen Set     16  255.84\n",
              "13   East  Richard      Pen     64  575.36\n",
              "22   East  Richard   Pencil     95  189.05\n",
              "27   East  Richard   Binder      4   19.96\n",
              "32   East  Richard   Binder     60  299.40\n",
              "40   East  Richard   Binder     60  539.40"
            ]
          },
          "metadata": {
            "tags": []
          },
          "execution_count": 15
        }
      ]
    },
    {
      "cell_type": "code",
      "metadata": {
        "id": "j0nZmuD9JN7D",
        "colab": {
          "base_uri": "https://localhost:8080/",
          "height": 111
        },
        "outputId": "a51d0325-d5f0-4535-b035-846cd8bf10e8"
      },
      "source": [
        "dfOS2[(dfOS2['Rep']=='Richard') & (dfOS2['Item'] == 'Pencil')]"
      ],
      "execution_count": null,
      "outputs": [
        {
          "output_type": "execute_result",
          "data": {
            "text/html": [
              "<div>\n",
              "<style scoped>\n",
              "    .dataframe tbody tr th:only-of-type {\n",
              "        vertical-align: middle;\n",
              "    }\n",
              "\n",
              "    .dataframe tbody tr th {\n",
              "        vertical-align: top;\n",
              "    }\n",
              "\n",
              "    .dataframe thead th {\n",
              "        text-align: right;\n",
              "    }\n",
              "</style>\n",
              "<table border=\"1\" class=\"dataframe\">\n",
              "  <thead>\n",
              "    <tr style=\"text-align: right;\">\n",
              "      <th></th>\n",
              "      <th>Region</th>\n",
              "      <th>Rep</th>\n",
              "      <th>Item</th>\n",
              "      <th>Units</th>\n",
              "      <th>Value</th>\n",
              "    </tr>\n",
              "  </thead>\n",
              "  <tbody>\n",
              "    <tr>\n",
              "      <th>5</th>\n",
              "      <td>East</td>\n",
              "      <td>Richard</td>\n",
              "      <td>Pencil</td>\n",
              "      <td>35</td>\n",
              "      <td>174.65</td>\n",
              "    </tr>\n",
              "    <tr>\n",
              "      <th>22</th>\n",
              "      <td>East</td>\n",
              "      <td>Richard</td>\n",
              "      <td>Pencil</td>\n",
              "      <td>95</td>\n",
              "      <td>189.05</td>\n",
              "    </tr>\n",
              "  </tbody>\n",
              "</table>\n",
              "</div>"
            ],
            "text/plain": [
              "   Region      Rep    Item  Units   Value\n",
              "5    East  Richard  Pencil     35  174.65\n",
              "22   East  Richard  Pencil     95  189.05"
            ]
          },
          "metadata": {
            "tags": []
          },
          "execution_count": 19
        }
      ]
    },
    {
      "cell_type": "code",
      "metadata": {
        "id": "jJZBEO8LIfYE",
        "colab": {
          "base_uri": "https://localhost:8080/",
          "height": 638
        },
        "outputId": "5974e96d-091d-44b9-fc1d-498b8322088f"
      },
      "source": [
        "dfOS2[(dfOS2['Rep']=='Richard') | (dfOS2['Item'] == 'Pencil')]"
      ],
      "execution_count": null,
      "outputs": [
        {
          "output_type": "execute_result",
          "data": {
            "text/html": [
              "<div>\n",
              "<style scoped>\n",
              "    .dataframe tbody tr th:only-of-type {\n",
              "        vertical-align: middle;\n",
              "    }\n",
              "\n",
              "    .dataframe tbody tr th {\n",
              "        vertical-align: top;\n",
              "    }\n",
              "\n",
              "    .dataframe thead th {\n",
              "        text-align: right;\n",
              "    }\n",
              "</style>\n",
              "<table border=\"1\" class=\"dataframe\">\n",
              "  <thead>\n",
              "    <tr style=\"text-align: right;\">\n",
              "      <th></th>\n",
              "      <th>Region</th>\n",
              "      <th>Rep</th>\n",
              "      <th>Item</th>\n",
              "      <th>Units</th>\n",
              "      <th>Value</th>\n",
              "    </tr>\n",
              "  </thead>\n",
              "  <tbody>\n",
              "    <tr>\n",
              "      <th>0</th>\n",
              "      <td>East</td>\n",
              "      <td>Richard</td>\n",
              "      <td>Pen Set</td>\n",
              "      <td>62</td>\n",
              "      <td>309.38</td>\n",
              "    </tr>\n",
              "    <tr>\n",
              "      <th>5</th>\n",
              "      <td>East</td>\n",
              "      <td>Richard</td>\n",
              "      <td>Pencil</td>\n",
              "      <td>35</td>\n",
              "      <td>174.65</td>\n",
              "    </tr>\n",
              "    <tr>\n",
              "      <th>8</th>\n",
              "      <td>Central</td>\n",
              "      <td>Bill</td>\n",
              "      <td>Pencil</td>\n",
              "      <td>7</td>\n",
              "      <td>9.03</td>\n",
              "    </tr>\n",
              "    <tr>\n",
              "      <th>9</th>\n",
              "      <td>East</td>\n",
              "      <td>Richard</td>\n",
              "      <td>Pen Set</td>\n",
              "      <td>16</td>\n",
              "      <td>255.84</td>\n",
              "    </tr>\n",
              "    <tr>\n",
              "      <th>13</th>\n",
              "      <td>East</td>\n",
              "      <td>Richard</td>\n",
              "      <td>Pen</td>\n",
              "      <td>64</td>\n",
              "      <td>575.36</td>\n",
              "    </tr>\n",
              "    <tr>\n",
              "      <th>14</th>\n",
              "      <td>Central</td>\n",
              "      <td>Rachel</td>\n",
              "      <td>Pencil</td>\n",
              "      <td>14</td>\n",
              "      <td>18.06</td>\n",
              "    </tr>\n",
              "    <tr>\n",
              "      <th>19</th>\n",
              "      <td>Central</td>\n",
              "      <td>Smith</td>\n",
              "      <td>Pencil</td>\n",
              "      <td>67</td>\n",
              "      <td>86.43</td>\n",
              "    </tr>\n",
              "    <tr>\n",
              "      <th>22</th>\n",
              "      <td>East</td>\n",
              "      <td>Richard</td>\n",
              "      <td>Pencil</td>\n",
              "      <td>95</td>\n",
              "      <td>189.05</td>\n",
              "    </tr>\n",
              "    <tr>\n",
              "      <th>26</th>\n",
              "      <td>Central</td>\n",
              "      <td>Alex</td>\n",
              "      <td>Pencil</td>\n",
              "      <td>36</td>\n",
              "      <td>179.64</td>\n",
              "    </tr>\n",
              "    <tr>\n",
              "      <th>27</th>\n",
              "      <td>East</td>\n",
              "      <td>Richard</td>\n",
              "      <td>Binder</td>\n",
              "      <td>4</td>\n",
              "      <td>19.96</td>\n",
              "    </tr>\n",
              "    <tr>\n",
              "      <th>30</th>\n",
              "      <td>West</td>\n",
              "      <td>James</td>\n",
              "      <td>Pencil</td>\n",
              "      <td>56</td>\n",
              "      <td>167.44</td>\n",
              "    </tr>\n",
              "    <tr>\n",
              "      <th>32</th>\n",
              "      <td>East</td>\n",
              "      <td>Richard</td>\n",
              "      <td>Binder</td>\n",
              "      <td>60</td>\n",
              "      <td>299.40</td>\n",
              "    </tr>\n",
              "    <tr>\n",
              "      <th>33</th>\n",
              "      <td>Central</td>\n",
              "      <td>Rachel</td>\n",
              "      <td>Pencil</td>\n",
              "      <td>66</td>\n",
              "      <td>131.34</td>\n",
              "    </tr>\n",
              "    <tr>\n",
              "      <th>34</th>\n",
              "      <td>Central</td>\n",
              "      <td>Rachel</td>\n",
              "      <td>Pencil</td>\n",
              "      <td>75</td>\n",
              "      <td>149.25</td>\n",
              "    </tr>\n",
              "    <tr>\n",
              "      <th>36</th>\n",
              "      <td>Central</td>\n",
              "      <td>Alex</td>\n",
              "      <td>Pencil</td>\n",
              "      <td>90</td>\n",
              "      <td>449.10</td>\n",
              "    </tr>\n",
              "    <tr>\n",
              "      <th>37</th>\n",
              "      <td>Central</td>\n",
              "      <td>Bill</td>\n",
              "      <td>Pencil</td>\n",
              "      <td>53</td>\n",
              "      <td>68.37</td>\n",
              "    </tr>\n",
              "    <tr>\n",
              "      <th>38</th>\n",
              "      <td>West</td>\n",
              "      <td>Thomas</td>\n",
              "      <td>Pencil</td>\n",
              "      <td>32</td>\n",
              "      <td>63.68</td>\n",
              "    </tr>\n",
              "    <tr>\n",
              "      <th>40</th>\n",
              "      <td>East</td>\n",
              "      <td>Richard</td>\n",
              "      <td>Binder</td>\n",
              "      <td>60</td>\n",
              "      <td>539.40</td>\n",
              "    </tr>\n",
              "    <tr>\n",
              "      <th>42</th>\n",
              "      <td>Central</td>\n",
              "      <td>Morgan</td>\n",
              "      <td>Pencil</td>\n",
              "      <td>90</td>\n",
              "      <td>449.10</td>\n",
              "    </tr>\n",
              "  </tbody>\n",
              "</table>\n",
              "</div>"
            ],
            "text/plain": [
              "     Region      Rep     Item  Units   Value\n",
              "0      East  Richard  Pen Set     62  309.38\n",
              "5      East  Richard   Pencil     35  174.65\n",
              "8   Central     Bill   Pencil      7    9.03\n",
              "9      East  Richard  Pen Set     16  255.84\n",
              "13     East  Richard      Pen     64  575.36\n",
              "14  Central   Rachel   Pencil     14   18.06\n",
              "19  Central    Smith   Pencil     67   86.43\n",
              "22     East  Richard   Pencil     95  189.05\n",
              "26  Central     Alex   Pencil     36  179.64\n",
              "27     East  Richard   Binder      4   19.96\n",
              "30     West    James   Pencil     56  167.44\n",
              "32     East  Richard   Binder     60  299.40\n",
              "33  Central   Rachel   Pencil     66  131.34\n",
              "34  Central   Rachel   Pencil     75  149.25\n",
              "36  Central     Alex   Pencil     90  449.10\n",
              "37  Central     Bill   Pencil     53   68.37\n",
              "38     West   Thomas   Pencil     32   63.68\n",
              "40     East  Richard   Binder     60  539.40\n",
              "42  Central   Morgan   Pencil     90  449.10"
            ]
          },
          "metadata": {
            "tags": []
          },
          "execution_count": 20
        }
      ]
    },
    {
      "cell_type": "code",
      "metadata": {
        "id": "6A8aqOpnSL7B",
        "colab": {
          "base_uri": "https://localhost:8080/",
          "height": 1000
        },
        "outputId": "01659e8a-2472-40b7-9858-5054a6df9c77"
      },
      "source": [
        "dfOS2[['Region','Item','Value']]"
      ],
      "execution_count": null,
      "outputs": [
        {
          "output_type": "execute_result",
          "data": {
            "text/html": [
              "<div>\n",
              "<style scoped>\n",
              "    .dataframe tbody tr th:only-of-type {\n",
              "        vertical-align: middle;\n",
              "    }\n",
              "\n",
              "    .dataframe tbody tr th {\n",
              "        vertical-align: top;\n",
              "    }\n",
              "\n",
              "    .dataframe thead th {\n",
              "        text-align: right;\n",
              "    }\n",
              "</style>\n",
              "<table border=\"1\" class=\"dataframe\">\n",
              "  <thead>\n",
              "    <tr style=\"text-align: right;\">\n",
              "      <th></th>\n",
              "      <th>Region</th>\n",
              "      <th>Item</th>\n",
              "      <th>Value</th>\n",
              "    </tr>\n",
              "  </thead>\n",
              "  <tbody>\n",
              "    <tr>\n",
              "      <th>0</th>\n",
              "      <td>East</td>\n",
              "      <td>Pen Set</td>\n",
              "      <td>309.38</td>\n",
              "    </tr>\n",
              "    <tr>\n",
              "      <th>1</th>\n",
              "      <td>East</td>\n",
              "      <td>Binder</td>\n",
              "      <td>57.71</td>\n",
              "    </tr>\n",
              "    <tr>\n",
              "      <th>2</th>\n",
              "      <td>Central</td>\n",
              "      <td>Pen Set</td>\n",
              "      <td>686.95</td>\n",
              "    </tr>\n",
              "    <tr>\n",
              "      <th>3</th>\n",
              "      <td>East</td>\n",
              "      <td>Binder</td>\n",
              "      <td>1619.19</td>\n",
              "    </tr>\n",
              "    <tr>\n",
              "      <th>4</th>\n",
              "      <td>Central</td>\n",
              "      <td>Pen Set</td>\n",
              "      <td>1005.90</td>\n",
              "    </tr>\n",
              "    <tr>\n",
              "      <th>5</th>\n",
              "      <td>East</td>\n",
              "      <td>Pencil</td>\n",
              "      <td>174.65</td>\n",
              "    </tr>\n",
              "    <tr>\n",
              "      <th>6</th>\n",
              "      <td>West</td>\n",
              "      <td>Desk</td>\n",
              "      <td>825.00</td>\n",
              "    </tr>\n",
              "    <tr>\n",
              "      <th>7</th>\n",
              "      <td>Central</td>\n",
              "      <td>Desk</td>\n",
              "      <td>250.00</td>\n",
              "    </tr>\n",
              "    <tr>\n",
              "      <th>8</th>\n",
              "      <td>Central</td>\n",
              "      <td>Pencil</td>\n",
              "      <td>9.03</td>\n",
              "    </tr>\n",
              "    <tr>\n",
              "      <th>9</th>\n",
              "      <td>East</td>\n",
              "      <td>Pen Set</td>\n",
              "      <td>255.84</td>\n",
              "    </tr>\n",
              "    <tr>\n",
              "      <th>10</th>\n",
              "      <td>West</td>\n",
              "      <td>Pen</td>\n",
              "      <td>151.24</td>\n",
              "    </tr>\n",
              "    <tr>\n",
              "      <th>11</th>\n",
              "      <td>Central</td>\n",
              "      <td>Binder</td>\n",
              "      <td>251.72</td>\n",
              "    </tr>\n",
              "    <tr>\n",
              "      <th>12</th>\n",
              "      <td>West</td>\n",
              "      <td>Binder</td>\n",
              "      <td>1139.43</td>\n",
              "    </tr>\n",
              "    <tr>\n",
              "      <th>13</th>\n",
              "      <td>East</td>\n",
              "      <td>Pen</td>\n",
              "      <td>575.36</td>\n",
              "    </tr>\n",
              "    <tr>\n",
              "      <th>14</th>\n",
              "      <td>Central</td>\n",
              "      <td>Pencil</td>\n",
              "      <td>18.06</td>\n",
              "    </tr>\n",
              "    <tr>\n",
              "      <th>15</th>\n",
              "      <td>East</td>\n",
              "      <td>Pen</td>\n",
              "      <td>299.85</td>\n",
              "    </tr>\n",
              "    <tr>\n",
              "      <th>16</th>\n",
              "      <td>Central</td>\n",
              "      <td>Binder</td>\n",
              "      <td>54.89</td>\n",
              "    </tr>\n",
              "    <tr>\n",
              "      <th>17</th>\n",
              "      <td>Central</td>\n",
              "      <td>Pen Set</td>\n",
              "      <td>479.04</td>\n",
              "    </tr>\n",
              "    <tr>\n",
              "      <th>18</th>\n",
              "      <td>Central</td>\n",
              "      <td>Binder</td>\n",
              "      <td>1879.06</td>\n",
              "    </tr>\n",
              "    <tr>\n",
              "      <th>19</th>\n",
              "      <td>Central</td>\n",
              "      <td>Pencil</td>\n",
              "      <td>86.43</td>\n",
              "    </tr>\n",
              "    <tr>\n",
              "      <th>20</th>\n",
              "      <td>Central</td>\n",
              "      <td>Binder</td>\n",
              "      <td>139.72</td>\n",
              "    </tr>\n",
              "    <tr>\n",
              "      <th>21</th>\n",
              "      <td>East</td>\n",
              "      <td>Pen Set</td>\n",
              "      <td>1183.26</td>\n",
              "    </tr>\n",
              "    <tr>\n",
              "      <th>22</th>\n",
              "      <td>East</td>\n",
              "      <td>Pencil</td>\n",
              "      <td>189.05</td>\n",
              "    </tr>\n",
              "    <tr>\n",
              "      <th>23</th>\n",
              "      <td>Central</td>\n",
              "      <td>Binder</td>\n",
              "      <td>413.54</td>\n",
              "    </tr>\n",
              "    <tr>\n",
              "      <th>24</th>\n",
              "      <td>Central</td>\n",
              "      <td>Binder</td>\n",
              "      <td>999.50</td>\n",
              "    </tr>\n",
              "    <tr>\n",
              "      <th>25</th>\n",
              "      <td>Central</td>\n",
              "      <td>Binder</td>\n",
              "      <td>1305.00</td>\n",
              "    </tr>\n",
              "    <tr>\n",
              "      <th>26</th>\n",
              "      <td>Central</td>\n",
              "      <td>Pencil</td>\n",
              "      <td>179.64</td>\n",
              "    </tr>\n",
              "    <tr>\n",
              "      <th>27</th>\n",
              "      <td>East</td>\n",
              "      <td>Binder</td>\n",
              "      <td>19.96</td>\n",
              "    </tr>\n",
              "    <tr>\n",
              "      <th>28</th>\n",
              "      <td>Central</td>\n",
              "      <td>Pen</td>\n",
              "      <td>539.73</td>\n",
              "    </tr>\n",
              "    <tr>\n",
              "      <th>29</th>\n",
              "      <td>West</td>\n",
              "      <td>Binder</td>\n",
              "      <td>139.93</td>\n",
              "    </tr>\n",
              "    <tr>\n",
              "      <th>30</th>\n",
              "      <td>West</td>\n",
              "      <td>Pencil</td>\n",
              "      <td>167.44</td>\n",
              "    </tr>\n",
              "    <tr>\n",
              "      <th>31</th>\n",
              "      <td>Central</td>\n",
              "      <td>Pen Set</td>\n",
              "      <td>249.50</td>\n",
              "    </tr>\n",
              "    <tr>\n",
              "      <th>32</th>\n",
              "      <td>East</td>\n",
              "      <td>Binder</td>\n",
              "      <td>299.40</td>\n",
              "    </tr>\n",
              "    <tr>\n",
              "      <th>33</th>\n",
              "      <td>Central</td>\n",
              "      <td>Pencil</td>\n",
              "      <td>131.34</td>\n",
              "    </tr>\n",
              "    <tr>\n",
              "      <th>34</th>\n",
              "      <td>Central</td>\n",
              "      <td>Pencil</td>\n",
              "      <td>149.25</td>\n",
              "    </tr>\n",
              "    <tr>\n",
              "      <th>35</th>\n",
              "      <td>East</td>\n",
              "      <td>Pen</td>\n",
              "      <td>479.04</td>\n",
              "    </tr>\n",
              "    <tr>\n",
              "      <th>36</th>\n",
              "      <td>Central</td>\n",
              "      <td>Pencil</td>\n",
              "      <td>449.10</td>\n",
              "    </tr>\n",
              "    <tr>\n",
              "      <th>37</th>\n",
              "      <td>Central</td>\n",
              "      <td>Pencil</td>\n",
              "      <td>68.37</td>\n",
              "    </tr>\n",
              "    <tr>\n",
              "      <th>38</th>\n",
              "      <td>West</td>\n",
              "      <td>Pencil</td>\n",
              "      <td>63.68</td>\n",
              "    </tr>\n",
              "    <tr>\n",
              "      <th>39</th>\n",
              "      <td>Central</td>\n",
              "      <td>Binder</td>\n",
              "      <td>719.20</td>\n",
              "    </tr>\n",
              "    <tr>\n",
              "      <th>40</th>\n",
              "      <td>East</td>\n",
              "      <td>Binder</td>\n",
              "      <td>539.40</td>\n",
              "    </tr>\n",
              "    <tr>\n",
              "      <th>41</th>\n",
              "      <td>Central</td>\n",
              "      <td>Desk</td>\n",
              "      <td>625.00</td>\n",
              "    </tr>\n",
              "    <tr>\n",
              "      <th>42</th>\n",
              "      <td>Central</td>\n",
              "      <td>Pencil</td>\n",
              "      <td>449.10</td>\n",
              "    </tr>\n",
              "  </tbody>\n",
              "</table>\n",
              "</div>"
            ],
            "text/plain": [
              "     Region     Item    Value\n",
              "0      East  Pen Set   309.38\n",
              "1      East   Binder    57.71\n",
              "2   Central  Pen Set   686.95\n",
              "3      East   Binder  1619.19\n",
              "4   Central  Pen Set  1005.90\n",
              "5      East   Pencil   174.65\n",
              "6      West     Desk   825.00\n",
              "7   Central     Desk   250.00\n",
              "8   Central   Pencil     9.03\n",
              "9      East  Pen Set   255.84\n",
              "10     West      Pen   151.24\n",
              "11  Central   Binder   251.72\n",
              "12     West   Binder  1139.43\n",
              "13     East      Pen   575.36\n",
              "14  Central   Pencil    18.06\n",
              "15     East      Pen   299.85\n",
              "16  Central   Binder    54.89\n",
              "17  Central  Pen Set   479.04\n",
              "18  Central   Binder  1879.06\n",
              "19  Central   Pencil    86.43\n",
              "20  Central   Binder   139.72\n",
              "21     East  Pen Set  1183.26\n",
              "22     East   Pencil   189.05\n",
              "23  Central   Binder   413.54\n",
              "24  Central   Binder   999.50\n",
              "25  Central   Binder  1305.00\n",
              "26  Central   Pencil   179.64\n",
              "27     East   Binder    19.96\n",
              "28  Central      Pen   539.73\n",
              "29     West   Binder   139.93\n",
              "30     West   Pencil   167.44\n",
              "31  Central  Pen Set   249.50\n",
              "32     East   Binder   299.40\n",
              "33  Central   Pencil   131.34\n",
              "34  Central   Pencil   149.25\n",
              "35     East      Pen   479.04\n",
              "36  Central   Pencil   449.10\n",
              "37  Central   Pencil    68.37\n",
              "38     West   Pencil    63.68\n",
              "39  Central   Binder   719.20\n",
              "40     East   Binder   539.40\n",
              "41  Central     Desk   625.00\n",
              "42  Central   Pencil   449.10"
            ]
          },
          "metadata": {
            "tags": []
          },
          "execution_count": 21
        }
      ]
    }
  ]
}