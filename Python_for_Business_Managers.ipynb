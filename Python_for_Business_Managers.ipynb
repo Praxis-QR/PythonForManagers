{
  "nbformat": 4,
  "nbformat_minor": 0,
  "metadata": {
    "colab": {
      "name": "Python for Business Managers",
      "provenance": [],
      "collapsed_sections": [
        "fTLwvu6FFzzw",
        "ZxFHRaHAF-Am",
        "MHN2dzusGB8D",
        "txoDUszLouoC",
        "wJMIHmNrntgo",
        "frTmL2_W99wR"
      ],
      "toc_visible": true,
      "include_colab_link": true
    },
    "kernelspec": {
      "name": "python3",
      "display_name": "Python 3"
    }
  },
  "cells": [
    {
      "cell_type": "markdown",
      "metadata": {
        "id": "view-in-github",
        "colab_type": "text"
      },
      "source": [
        "<a href=\"https://colab.research.google.com/github/Praxis-QR/PythonForManagers/blob/main/Python_for_Business_Managers.ipynb\" target=\"_parent\"><img src=\"https://colab.research.google.com/assets/colab-badge.svg\" alt=\"Open In Colab\"/></a>"
      ]
    },
    {
      "cell_type": "markdown",
      "source": [
        "![CC-BY-SA](https://licensebuttons.net/l/by-sa/3.0/88x31.png)<br>\n",
        "<hr>\n",
        "\n",
        "![alt text](https://github.com/Praxis-QR/RDWH/raw/main/images/YantraJaalBanner.png)<br>\n",
        "\n",
        "\n",
        "<hr>\n",
        "\n",
        "[Prithwis Mukerjee](http://www.linkedin.com/in/prithwis)<br>"
      ],
      "metadata": {
        "id": "pUcLcRTbbLih"
      }
    },
    {
      "cell_type": "markdown",
      "metadata": {
        "id": "vPclXkKXL_YF"
      },
      "source": [
        "#Python for Business Managers"
      ]
    },
    {
      "cell_type": "markdown",
      "metadata": {
        "id": "KGX1ww5hMEOO"
      },
      "source": [
        "#1 Getting Started"
      ]
    },
    {
      "cell_type": "code",
      "metadata": {
        "id": "j5OT-rnVLeGj",
        "colab": {
          "base_uri": "https://localhost:8080/"
        },
        "outputId": "3c2749d3-ac4e-4383-8470-1f066acb2d08"
      },
      "source": [
        "print('Hello Python World')\n",
        "print('Welcome to Data Science')"
      ],
      "execution_count": 1,
      "outputs": [
        {
          "output_type": "stream",
          "name": "stdout",
          "text": [
            "Hello Python World\n",
            "Welcome to Data Science\n"
          ]
        }
      ]
    },
    {
      "cell_type": "markdown",
      "metadata": {
        "id": "gmBv8j1QMI-5"
      },
      "source": [
        "# 2 Calculation with Variables"
      ]
    },
    {
      "cell_type": "code",
      "metadata": {
        "id": "q3r8OTEhMZEm",
        "colab": {
          "base_uri": "https://localhost:8080/"
        },
        "outputId": "215f5acf-6641-40f0-bc47-ef1e09e2cc85"
      },
      "source": [
        "samosa = 5\n",
        "cost = 7\n",
        "total = samosa*cost\n",
        "print(total)"
      ],
      "execution_count": 2,
      "outputs": [
        {
          "output_type": "stream",
          "name": "stdout",
          "text": [
            "35\n"
          ]
        }
      ]
    },
    {
      "cell_type": "code",
      "metadata": {
        "id": "btp6qil8S55w",
        "colab": {
          "base_uri": "https://localhost:8080/"
        },
        "outputId": "8d052404-de0f-4689-a357-f17e4ff40a7e"
      },
      "source": [
        "samosa = 5\n",
        "jalebi = 3\n",
        "poorie = 7\n",
        "plate = samosa + 2*jalebi + 4*poorie\n",
        "customer = 5\n",
        "bill = customer * plate\n",
        "print(bill)"
      ],
      "execution_count": 3,
      "outputs": [
        {
          "output_type": "stream",
          "name": "stdout",
          "text": [
            "195\n"
          ]
        }
      ]
    },
    {
      "cell_type": "code",
      "metadata": {
        "id": "OooX-C18cYGQ",
        "colab": {
          "base_uri": "https://localhost:8080/"
        },
        "outputId": "01c718c7-7090-43c8-b221-5e728896a983"
      },
      "source": [
        "bill = customer *(samosa + 2*jalebi + 4*poorie)\n",
        "print(bill)"
      ],
      "execution_count": 4,
      "outputs": [
        {
          "output_type": "stream",
          "name": "stdout",
          "text": [
            "195\n"
          ]
        }
      ]
    },
    {
      "cell_type": "code",
      "metadata": {
        "id": "W3kPEUtHMbz4",
        "colab": {
          "base_uri": "https://localhost:8080/"
        },
        "outputId": "1b7d02fb-47e0-4fe1-d2fe-d999b0fc24b7"
      },
      "source": [
        "plate = samosa + 2*jalebi + 4*poorie\n",
        "itemCount = 1 + 2 + 4\n",
        "averagePrice = plate / itemCount\n",
        "print(plate,itemCount, averagePrice)"
      ],
      "execution_count": 5,
      "outputs": [
        {
          "output_type": "stream",
          "name": "stdout",
          "text": [
            "39 7 5.571428571428571\n"
          ]
        }
      ]
    },
    {
      "cell_type": "code",
      "metadata": {
        "id": "qKfYyYGaMWsp",
        "colab": {
          "base_uri": "https://localhost:8080/"
        },
        "outputId": "1061de68-ad8e-4c21-e32e-62242904e998"
      },
      "source": [
        "#Compound Interest\n",
        "Principal = 100000\n",
        "numberOfYears = 5\n",
        "rate = 0.08\n",
        "Amount = Principal*(1+rate)**numberOfYears\n",
        "print(Amount)"
      ],
      "execution_count": 6,
      "outputs": [
        {
          "output_type": "stream",
          "name": "stdout",
          "text": [
            "146932.80768000006\n"
          ]
        }
      ]
    },
    {
      "cell_type": "markdown",
      "metadata": {
        "id": "ZISuLsmrR-j-"
      },
      "source": [
        "#3 Number, String and Lists"
      ]
    },
    {
      "cell_type": "code",
      "metadata": {
        "id": "L1m-ScK5SCyL",
        "colab": {
          "base_uri": "https://localhost:8080/"
        },
        "outputId": "c4eaed70-c4e1-47d4-a8f9-98fb251cca8b"
      },
      "source": [
        "#Numeric Variables\n",
        "samosa = 5\n",
        "jalebi = 7\n",
        "\n",
        "#Numeric Variables\n",
        "LastName = 'Mukerjee'\n",
        "FirstName = 'Prithwis'\n",
        "Address = '51 Jatin Das Road'\n",
        "\n",
        "#List Variables\n",
        "List01 = [1,45, 300]\n",
        "List2B = [ LastName, FirstName, Address]\n",
        "List03 = ['apple', 'orange', 'banana']\n",
        "\n",
        "#Display\n",
        "print(samosa, jalebi)\n",
        "print(LastName, FirstName, Address)\n",
        "print(List01)\n",
        "print(List2B)\n",
        "print(List03)\n",
        "\n"
      ],
      "execution_count": 8,
      "outputs": [
        {
          "output_type": "stream",
          "name": "stdout",
          "text": [
            "5 7\n",
            "Mukerjee Prithwis 51 Jatin Das Road\n",
            "[1, 45, 300]\n",
            "['Mukerjee', 'Prithwis', '51 Jatin Das Road']\n",
            "['apple', 'orange', 'banana']\n"
          ]
        }
      ]
    },
    {
      "cell_type": "code",
      "metadata": {
        "id": "F6wGmf4SemUk",
        "colab": {
          "base_uri": "https://localhost:8080/"
        },
        "outputId": "1a74d738-6fa1-4ddf-8c71-584704d18d12"
      },
      "source": [
        "mixList = [List01,List03, 2, 3, 'prithwis']\n",
        "print(mixList)"
      ],
      "execution_count": 9,
      "outputs": [
        {
          "output_type": "stream",
          "name": "stdout",
          "text": [
            "[[1, 45, 300], ['apple', 'orange', 'banana'], 2, 3, 'prithwis']\n"
          ]
        }
      ]
    },
    {
      "cell_type": "code",
      "metadata": {
        "id": "pstpkZbrdq8I",
        "colab": {
          "base_uri": "https://localhost:8080/"
        },
        "outputId": "5d9a0856-619b-4984-8ee8-a06e0425e700"
      },
      "source": [
        "#Display\n",
        "\n",
        "print(List01[0])\n",
        "print(List2B[1])\n",
        "print(List03[2])\n",
        "print(mixList[1])"
      ],
      "execution_count": 10,
      "outputs": [
        {
          "output_type": "stream",
          "name": "stdout",
          "text": [
            "1\n",
            "Prithwis\n",
            "banana\n",
            "['apple', 'orange', 'banana']\n"
          ]
        }
      ]
    },
    {
      "cell_type": "code",
      "metadata": {
        "id": "jBX3V0Hg5kd_",
        "colab": {
          "base_uri": "https://localhost:8080/"
        },
        "outputId": "abe81a81-23db-464f-f416-fa33832f834d"
      },
      "source": [
        "samosa = 3\n",
        "jalebi = 4\n",
        "result1 = samosa+jalebi\n",
        "print(result1)\n",
        "\n",
        "LastName = 'Mukerjee'\n",
        "FirstName = 'Prithwis'\n",
        "result2 = FirstName+LastName\n",
        "print(result2)\n",
        "\n",
        "L1 = [1,3,5]\n",
        "L2 = ['apple','orange','pear']\n",
        "result3 = L1+L2\n",
        "print(result3)\n"
      ],
      "execution_count": 11,
      "outputs": [
        {
          "output_type": "stream",
          "name": "stdout",
          "text": [
            "7\n",
            "PrithwisMukerjee\n",
            "[1, 3, 5, 'apple', 'orange', 'pear']\n"
          ]
        }
      ]
    },
    {
      "cell_type": "code",
      "metadata": {
        "id": "YAFB-99P9Qaa",
        "colab": {
          "base_uri": "https://localhost:8080/"
        },
        "outputId": "5da6340e-b89e-4bb9-8dcc-4c9ce2261559"
      },
      "source": [
        "ListA = ['Calcutta','Bombay','Delhi','Madras']\n",
        "print(ListA)\n",
        "ListA.remove('Bombay')\n",
        "print(ListA)\n",
        "ListA.append('Mumbai')\n",
        "print(ListA)\n",
        "ListA.reverse()\n",
        "print(ListA)"
      ],
      "execution_count": 12,
      "outputs": [
        {
          "output_type": "stream",
          "name": "stdout",
          "text": [
            "['Calcutta', 'Bombay', 'Delhi', 'Madras']\n",
            "['Calcutta', 'Delhi', 'Madras']\n",
            "['Calcutta', 'Delhi', 'Madras', 'Mumbai']\n",
            "['Mumbai', 'Madras', 'Delhi', 'Calcutta']\n"
          ]
        }
      ]
    },
    {
      "cell_type": "code",
      "metadata": {
        "id": "jmIpsblqCT6W",
        "colab": {
          "base_uri": "https://localhost:8080/"
        },
        "outputId": "9d71ed64-552d-487f-d128-4c9c5f500102"
      },
      "source": [
        "stringVar = 'The King Beneath The Mountain'\n",
        "newStringVar = stringVar.upper()\n",
        "print(newStringVar)\n",
        "print(stringVar.lower())"
      ],
      "execution_count": 13,
      "outputs": [
        {
          "output_type": "stream",
          "name": "stdout",
          "text": [
            "THE KING BENEATH THE MOUNTAIN\n",
            "the king beneath the mountain\n"
          ]
        }
      ]
    },
    {
      "cell_type": "code",
      "metadata": {
        "id": "aoUyf3FUEnK5",
        "colab": {
          "base_uri": "https://localhost:8080/"
        },
        "outputId": "2874bf9f-8f23-496c-9f6b-0dc2a17d441e"
      },
      "source": [
        "sentence = 'The quick fox jumped over the lazy dog'\n",
        "words = sentence.split()\n",
        "print(sentence)\n",
        "print(words)"
      ],
      "execution_count": 14,
      "outputs": [
        {
          "output_type": "stream",
          "name": "stdout",
          "text": [
            "The quick fox jumped over the lazy dog\n",
            "['The', 'quick', 'fox', 'jumped', 'over', 'the', 'lazy', 'dog']\n"
          ]
        }
      ]
    },
    {
      "cell_type": "code",
      "metadata": {
        "id": "3Qi61gmuSX0j",
        "colab": {
          "base_uri": "https://localhost:8080/"
        },
        "outputId": "fb013844-23e6-42b0-9bfa-073f7ae5a5ac"
      },
      "source": [
        "x = 30\n",
        "print(x) \n",
        "print(30)\n"
      ],
      "execution_count": 15,
      "outputs": [
        {
          "output_type": "stream",
          "name": "stdout",
          "text": [
            "30\n",
            "30\n"
          ]
        }
      ]
    },
    {
      "cell_type": "code",
      "metadata": {
        "id": "MF7gebieTKsR",
        "colab": {
          "base_uri": "https://localhost:8080/"
        },
        "outputId": "23ba8ee5-50cb-427e-bd64-81aaeede0670"
      },
      "source": [
        "name = 'prithwis'\n",
        "print(name)\n",
        "print('prithwis')\n"
      ],
      "execution_count": 16,
      "outputs": [
        {
          "output_type": "stream",
          "name": "stdout",
          "text": [
            "prithwis\n",
            "prithwis\n"
          ]
        }
      ]
    },
    {
      "cell_type": "code",
      "metadata": {
        "id": "FZxAoYI5TziZ",
        "colab": {
          "base_uri": "https://localhost:8080/"
        },
        "outputId": "b3b26066-aa99-46b8-c2c8-0e6dffbd9eba"
      },
      "source": [
        "print(30,x,name,'prithwis')\n"
      ],
      "execution_count": 17,
      "outputs": [
        {
          "output_type": "stream",
          "name": "stdout",
          "text": [
            "30 30 prithwis prithwis\n"
          ]
        }
      ]
    },
    {
      "cell_type": "markdown",
      "metadata": {
        "id": "fTLwvu6FFzzw"
      },
      "source": [
        "#4 Functions and Modules"
      ]
    },
    {
      "cell_type": "code",
      "metadata": {
        "id": "1gBBN0dFY-mr",
        "colab": {
          "base_uri": "https://localhost:8080/"
        },
        "outputId": "5753121e-3cea-443f-cd37-295c6de8f285"
      },
      "source": [
        "#Payslip for Ram\n",
        "salary = 25000\n",
        "sales = 200000\n",
        "comm = 0.02 * sales\n",
        "tax = (salary + comm)* 0.10\n",
        "payout = salary + comm - tax\n",
        "print('Payslip of Ram')\n",
        "print('Salary',salary,'Comm',comm,'Tax',tax)\n",
        "print('Total payout',payout)"
      ],
      "execution_count": 18,
      "outputs": [
        {
          "output_type": "stream",
          "name": "stdout",
          "text": [
            "Payslip of Ram\n",
            "Salary 25000 Comm 4000.0 Tax 2900.0\n",
            "Total payout 26100.0\n"
          ]
        }
      ]
    },
    {
      "cell_type": "code",
      "metadata": {
        "id": "sK_IJXOObb87"
      },
      "source": [
        "def printSalarySlip(name, salary, sales, rate):\n",
        "    comm = sales * rate\n",
        "    tax = (salary + comm) * 0.10\n",
        "    payout = salary + comm - tax\n",
        "    print('Salary Slip for', name)\n",
        "    print('Salary', salary,'Comm',comm,'Tax',tax)\n",
        "    print('Total Payout for',name, payout)"
      ],
      "execution_count": 19,
      "outputs": []
    },
    {
      "cell_type": "code",
      "metadata": {
        "id": "3S-cuhtsoxeq",
        "colab": {
          "base_uri": "https://localhost:8080/"
        },
        "outputId": "19598594-6d63-4d3a-96a6-bad9545fd76f"
      },
      "source": [
        "printSalarySlip('Ram',25000,200000,0.02)\n",
        "printSalarySlip('Radha',35000,400000,0.03)\n",
        "printSalarySlip('Raghu',15000,320000,0.02)\n",
        "printSalarySlip('Shyam',24000,120000,0.02)"
      ],
      "execution_count": 20,
      "outputs": [
        {
          "output_type": "stream",
          "name": "stdout",
          "text": [
            "Salary Slip for Ram\n",
            "Salary 25000 Comm 4000.0 Tax 2900.0\n",
            "Total Payout for Ram 26100.0\n",
            "Salary Slip for Radha\n",
            "Salary 35000 Comm 12000.0 Tax 4700.0\n",
            "Total Payout for Radha 42300.0\n",
            "Salary Slip for Raghu\n",
            "Salary 15000 Comm 6400.0 Tax 2140.0\n",
            "Total Payout for Raghu 19260.0\n",
            "Salary Slip for Shyam\n",
            "Salary 24000 Comm 2400.0 Tax 2640.0\n",
            "Total Payout for Shyam 23760.0\n"
          ]
        }
      ]
    },
    {
      "cell_type": "code",
      "metadata": {
        "id": "WHrw2d4nwE38",
        "colab": {
          "base_uri": "https://localhost:8080/"
        },
        "outputId": "eb4a8770-7151-4d56-9e1f-b8f7a1d8e4ac"
      },
      "source": [
        "#printSalarySlip(35000,400000,0.03,'Radha')\n",
        "printSalarySlip('Raghu',0.02,15000,320000)\n"
      ],
      "execution_count": 21,
      "outputs": [
        {
          "output_type": "stream",
          "name": "stdout",
          "text": [
            "Salary Slip for Raghu\n",
            "Salary 0.02 Comm 4800000000 Tax 480000000.0020001\n",
            "Total Payout for Raghu 4320000000.018001\n"
          ]
        }
      ]
    },
    {
      "cell_type": "code",
      "metadata": {
        "id": "GqVhz2XCypXY"
      },
      "source": [
        "def printSalarySlip2(name, salary, sales, rate = 0.02):\n",
        "    comm = sales * rate\n",
        "    tax = (salary + comm) * 0.10\n",
        "    payout = salary + comm - tax\n",
        "    print('Salary Slip for', name)\n",
        "    print('Salary', salary,'Comm',comm,'Tax',tax)\n",
        "    print('Total Payout for',name, payout)"
      ],
      "execution_count": 22,
      "outputs": []
    },
    {
      "cell_type": "code",
      "metadata": {
        "id": "nzH3Uxauyxmm",
        "colab": {
          "base_uri": "https://localhost:8080/"
        },
        "outputId": "8d479863-86c4-4fae-aea1-45f881f20bde"
      },
      "source": [
        "printSalarySlip2('Ram',25000,200000)\n",
        "printSalarySlip2('Radha',35000,400000,0.03)\n",
        "printSalarySlip2('Raghu',15000,320000)\n",
        "printSalarySlip2('Shyam',24000,120000)"
      ],
      "execution_count": 23,
      "outputs": [
        {
          "output_type": "stream",
          "name": "stdout",
          "text": [
            "Salary Slip for Ram\n",
            "Salary 25000 Comm 4000.0 Tax 2900.0\n",
            "Total Payout for Ram 26100.0\n",
            "Salary Slip for Radha\n",
            "Salary 35000 Comm 12000.0 Tax 4700.0\n",
            "Total Payout for Radha 42300.0\n",
            "Salary Slip for Raghu\n",
            "Salary 15000 Comm 6400.0 Tax 2140.0\n",
            "Total Payout for Raghu 19260.0\n",
            "Salary Slip for Shyam\n",
            "Salary 24000 Comm 2400.0 Tax 2640.0\n",
            "Total Payout for Shyam 23760.0\n"
          ]
        }
      ]
    },
    {
      "cell_type": "code",
      "metadata": {
        "id": "9aiRWj6d76dW",
        "colab": {
          "base_uri": "https://localhost:8080/"
        },
        "outputId": "043b5341-1dba-4370-e16c-d8451cb27ccc"
      },
      "source": [
        "name = 'prithwis'                               # string variable\n",
        "age = 30                                        # numeric variable\n",
        "likes = ['cake', 'coffee', 'Amitabh Bachchan']  # list\n",
        "print(name,'aged:',age, 'prefers ',likes)\n"
      ],
      "execution_count": 24,
      "outputs": [
        {
          "output_type": "stream",
          "name": "stdout",
          "text": [
            "prithwis aged: 30 prefers  ['cake', 'coffee', 'Amitabh Bachchan']\n"
          ]
        }
      ]
    },
    {
      "cell_type": "code",
      "metadata": {
        "id": "c5eYB9FRAbr4",
        "colab": {
          "base_uri": "https://localhost:8080/"
        },
        "outputId": "ff780450-bc79-4633-f554-7146c511b0a3"
      },
      "source": [
        "def payout(sal, sales, rate):\n",
        "    comm = sales * rate\n",
        "    tax = (sal + comm)*0.10\n",
        "    payout = sal + comm - tax\n",
        "    return payout\n",
        "\n",
        "# Now Call the function with arguments\n",
        "payout(25000,200000,0.02)\n",
        "\n",
        "\n"
      ],
      "execution_count": 25,
      "outputs": [
        {
          "output_type": "execute_result",
          "data": {
            "text/plain": [
              "26100.0"
            ]
          },
          "metadata": {},
          "execution_count": 25
        }
      ]
    },
    {
      "cell_type": "code",
      "metadata": {
        "id": "DMXl1oIKaK02",
        "colab": {
          "base_uri": "https://localhost:8080/"
        },
        "outputId": "4cee23f9-7ef4-463c-ccfa-b9bc224e21fe"
      },
      "source": [
        "currentPayout = payout(25000,200000,0.02)\n",
        "print('the returned value is ', currentPayout)"
      ],
      "execution_count": 26,
      "outputs": [
        {
          "output_type": "stream",
          "name": "stdout",
          "text": [
            "the returned value is  26100.0\n"
          ]
        }
      ]
    },
    {
      "cell_type": "code",
      "metadata": {
        "id": "HEGEs2daaq8O",
        "colab": {
          "base_uri": "https://localhost:8080/"
        },
        "outputId": "9254f0a5-9ade-45d1-fffa-e96aae3654b7"
      },
      "source": [
        "print('the returned value is ', payout(25000,200000,0.02))"
      ],
      "execution_count": 27,
      "outputs": [
        {
          "output_type": "stream",
          "name": "stdout",
          "text": [
            "the returned value is  26100.0\n"
          ]
        }
      ]
    },
    {
      "cell_type": "code",
      "metadata": {
        "id": "L7o4B63_gk9O",
        "colab": {
          "base_uri": "https://localhost:8080/"
        },
        "outputId": "c6920aab-f985-49a6-a9d2-8290ab11b977"
      },
      "source": [
        "x = min(34, 45, 67, 200,36,17)\n",
        "print (x)\n",
        "x = max(34, 45, 67, 200,36,17)\n",
        "print (x)\n",
        "x = round(34.567)\n",
        "print (x)\n",
        "x = round(34.321)\n",
        "print (x)"
      ],
      "execution_count": 28,
      "outputs": [
        {
          "output_type": "stream",
          "name": "stdout",
          "text": [
            "17\n",
            "200\n",
            "35\n",
            "34\n"
          ]
        }
      ]
    },
    {
      "cell_type": "code",
      "metadata": {
        "id": "OAuZ3b1Pqawn",
        "colab": {
          "base_uri": "https://localhost:8080/"
        },
        "outputId": "63f567a8-8ad7-4c83-88e2-45c24f96b42d"
      },
      "source": [
        "import math\n",
        "x = math.sqrt(63)\n",
        "print (x)\n",
        "print (x**2)"
      ],
      "execution_count": 29,
      "outputs": [
        {
          "output_type": "stream",
          "name": "stdout",
          "text": [
            "7.937253933193772\n",
            "63.00000000000001\n"
          ]
        }
      ]
    },
    {
      "cell_type": "code",
      "metadata": {
        "id": "696u61zMmoeg",
        "colab": {
          "base_uri": "https://localhost:8080/",
          "height": 0
        },
        "outputId": "c11b89ad-1431-4f98-e28a-22a23ebba4ff"
      },
      "source": [
        "import matplotlib.pyplot as plt\n",
        "plt.plot([1,3,5,7,9], [1, 9,25,49,81])\n",
        "plt.show()"
      ],
      "execution_count": 30,
      "outputs": [
        {
          "output_type": "display_data",
          "data": {
            "text/plain": [
              "<Figure size 432x288 with 1 Axes>"
            ],
            "image/png": "[encoded data removed]"
          },
          "metadata": {
            "needs_background": "light"
          }
        }
      ]
    },
    {
      "cell_type": "markdown",
      "metadata": {
        "id": "ZxFHRaHAF-Am"
      },
      "source": [
        "#5 Colab Graphics"
      ]
    },
    {
      "cell_type": "code",
      "metadata": {
        "id": "i0HNIGkNAokW",
        "outputId": "a447fa18-c553-4b09-d498-066f383e9a20",
        "colab": {
          "base_uri": "https://localhost:8080/"
        }
      },
      "source": [
        "!pip3 -q install ColabTurtle    # https://github.com/tolgaatam/ColabTurtle\n",
        "from ColabTurtle.Turtle import *\n"
      ],
      "execution_count": 31,
      "outputs": [
        {
          "output_type": "stream",
          "name": "stdout",
          "text": [
            "  Preparing metadata (setup.py) ... \u001b[?25l\u001b[?25hdone\n",
            "  Building wheel for ColabTurtle (setup.py) ... \u001b[?25l\u001b[?25hdone\n"
          ]
        }
      ]
    },
    {
      "cell_type": "code",
      "metadata": {
        "id": "tHrw934OEGQ3",
        "colab": {
          "base_uri": "https://localhost:8080/",
          "height": 371
        },
        "outputId": "33e25e07-53dc-46c5-c9a8-dcdd3541c361"
      },
      "source": [
        "initializeTurtle(initial_window_size=(800,350))\n",
        "bgcolor('grey')\n",
        "color('black')"
      ],
      "execution_count": 32,
      "outputs": [
        {
          "output_type": "display_data",
          "data": {
            "text/plain": [
              "<IPython.core.display.HTML object>"
            ],
            "text/html": [
              "\n",
              "      <svg width=\"800\" height=\"350\">\n",
              "        <rect width=\"100%\" height=\"100%\" fill=\"grey\"/>\n",
              "        \n",
              "        <g visibility=visible transform=\"rotate(360,400,175) translate(382, 157)\">\n",
              "<path style=\" stroke:none;fill-rule:evenodd;fill:black;fill-opacity:1;\" d=\"M 18.214844 0.632812 C 16.109375 1.800781 15.011719 4.074219 15.074219 7.132812 L 15.085938 7.652344 L 14.785156 7.496094 C 13.476562 6.824219 11.957031 6.671875 10.40625 7.066406 C 8.46875 7.550781 6.515625 9.15625 4.394531 11.992188 C 3.0625 13.777344 2.679688 14.636719 3.042969 15.027344 L 3.15625 15.152344 L 3.519531 15.152344 C 4.238281 15.152344 4.828125 14.886719 8.1875 13.039062 C 9.386719 12.378906 10.371094 11.839844 10.378906 11.839844 C 10.386719 11.839844 10.355469 11.929688 10.304688 12.035156 C 9.832031 13.09375 9.257812 14.820312 8.96875 16.078125 C 7.914062 20.652344 8.617188 24.53125 11.070312 27.660156 C 11.351562 28.015625 11.363281 27.914062 10.972656 28.382812 C 8.925781 30.84375 7.945312 33.28125 8.238281 35.1875 C 8.289062 35.527344 8.28125 35.523438 8.917969 35.523438 C 10.941406 35.523438 13.074219 34.207031 15.136719 31.6875 C 15.359375 31.417969 15.328125 31.425781 15.5625 31.574219 C 16.292969 32.042969 18.023438 32.964844 18.175781 32.964844 C 18.335938 32.964844 19.941406 32.210938 20.828125 31.71875 C 20.996094 31.625 21.136719 31.554688 21.136719 31.558594 C 21.203125 31.664062 21.898438 32.414062 22.222656 32.730469 C 23.835938 34.300781 25.5625 35.132812 27.582031 35.300781 C 27.90625 35.328125 27.9375 35.308594 28.007812 34.984375 C 28.382812 33.242188 27.625 30.925781 25.863281 28.425781 L 25.542969 27.96875 L 25.699219 27.785156 C 28.945312 23.960938 29.132812 18.699219 26.257812 11.96875 L 26.207031 11.84375 L 27.945312 12.703125 C 31.53125 14.476562 32.316406 14.800781 33.03125 14.800781 C 33.976562 14.800781 33.78125 13.9375 32.472656 12.292969 C 28.519531 7.355469 25.394531 5.925781 21.921875 7.472656 L 21.558594 7.636719 L 21.578125 7.542969 C 21.699219 6.992188 21.761719 5.742188 21.699219 5.164062 C 21.496094 3.296875 20.664062 1.964844 19.003906 0.855469 C 18.480469 0.503906 18.457031 0.5 18.214844 0.632812\"/>\n",
              "</g>\n",
              "      </svg>\n",
              "    "
            ]
          },
          "metadata": {}
        }
      ]
    },
    {
      "cell_type": "code",
      "metadata": {
        "id": "1A2W0LpYEZPX"
      },
      "source": [],
      "execution_count": null,
      "outputs": []
    },
    {
      "cell_type": "markdown",
      "metadata": {
        "id": "MHN2dzusGB8D"
      },
      "source": [
        "#6 Booleans and Conditionals"
      ]
    },
    {
      "cell_type": "code",
      "metadata": {
        "id": "4j0YQz2_GIlc",
        "colab": {
          "base_uri": "https://localhost:8080/",
          "height": 170
        },
        "outputId": "80d87905-a7f8-41d3-eea2-3933995b3ff1"
      },
      "source": [
        "#Numeric Data\n",
        "salary = 25000\n",
        "print(salary)\n",
        "#String Data\n",
        "name = 'prithwis'\n",
        "print (name)\n",
        "#List Data\n",
        "colours = ['red', 'white', 'blue']\n",
        "print (colours)\n",
        "#Boolean Data\n",
        "check01 = (salary == 25000)\n",
        "print(check01)\n",
        "check02 = (salary > 10000)\n",
        "print(check02)\n",
        "check03 = (salary < 20000)\n",
        "print(check03)\n",
        "check04 = (name == 'prithwis')\n",
        "print(check04)\n",
        "check05 = (name != 'prithwis')\n",
        "print(check05)\n",
        "check06 = (name != 'charanpreet')\n",
        "print(check06)"
      ],
      "execution_count": null,
      "outputs": [
        {
          "output_type": "stream",
          "text": [
            "25000\n",
            "prithwis\n",
            "['red', 'white', 'blue']\n",
            "True\n",
            "True\n",
            "False\n",
            "True\n",
            "False\n",
            "True\n"
          ],
          "name": "stdout"
        }
      ]
    },
    {
      "cell_type": "code",
      "metadata": {
        "id": "zkHjUENMeRK2"
      },
      "source": [
        "def SalarySlip3(name, gender, salary, sales, rate):\n",
        "    if (gender == 'M'):\n",
        "        name = 'Mr.'+name\n",
        "    else:\n",
        "        name = 'Ms.'+name\n",
        "    comm = sales * rate\n",
        "    limit = 28000\n",
        "    if ((salary+comm) < limit):\n",
        "        taxRate = 0.10\n",
        "    else:\n",
        "        taxRate = 0.15\n",
        "    tax = (salary + comm) * 0.10\n",
        "    payout = salary + comm - tax\n",
        "    print('Salary Slip for', name)\n",
        "    print('Gross Payout', salary+comm)\n",
        "    print(tax,' Tax deducted at rate',taxRate)\n",
        "    print('Net Payout',payout)\n",
        "    print('---------')"
      ],
      "execution_count": null,
      "outputs": []
    },
    {
      "cell_type": "code",
      "metadata": {
        "id": "Kk-qTMNPfTwe",
        "colab": {
          "base_uri": "https://localhost:8080/",
          "height": 357
        },
        "outputId": "1f0b41ae-4e51-418c-b636-bc6096af78aa"
      },
      "source": [
        "SalarySlip3('Ram','M',25000,200000,0.02)\n",
        "SalarySlip3('Radha','F',35000,400000,0.03)\n",
        "SalarySlip3('Raghu','M',15000,320000,0.02)\n",
        "SalarySlip3('Rita','F',24000,120000,0.03)"
      ],
      "execution_count": null,
      "outputs": [
        {
          "output_type": "stream",
          "text": [
            "Salary Slip for Mr.Ram\n",
            "Gross Payout 29000.0\n",
            "2900.0  Tax deducted at rate 0.15\n",
            "Net Payout 26100.0\n",
            "---------\n",
            "Salary Slip for Ms.Radha\n",
            "Gross Payout 47000.0\n",
            "4700.0  Tax deducted at rate 0.15\n",
            "Net Payout 42300.0\n",
            "---------\n",
            "Salary Slip for Mr.Raghu\n",
            "Gross Payout 21400.0\n",
            "2140.0  Tax deducted at rate 0.1\n",
            "Net Payout 19260.0\n",
            "---------\n",
            "Salary Slip for Ms.Rita\n",
            "Gross Payout 27600.0\n",
            "2760.0  Tax deducted at rate 0.1\n",
            "Net Payout 24840.0\n",
            "---------\n"
          ],
          "name": "stdout"
        }
      ]
    },
    {
      "cell_type": "code",
      "metadata": {
        "id": "n6E3kO9Wh1n-"
      },
      "source": [
        "def taxCalc(income):\n",
        "    if income < 500000:\n",
        "        tax = 0\n",
        "    if (income >= 500000) and (income < 700000):\n",
        "        tax = (income - 500000) * 0.10\n",
        "    if (income >= 700000) and (income < 1000000):\n",
        "        tax = 20000 + (income - 700000) * 0.15\n",
        "    if (income >= 1000000 ):\n",
        "        tax = 20000 + 45000 + (income - 1000000) * 0.2\n",
        "    return tax"
      ],
      "execution_count": null,
      "outputs": []
    },
    {
      "cell_type": "code",
      "metadata": {
        "id": "5Imxgp5Sjm6Y",
        "colab": {
          "base_uri": "https://localhost:8080/",
          "height": 119
        },
        "outputId": "64e1e953-c8cd-40ae-b511-b02c6541be19"
      },
      "source": [
        "print('tax on ', 490000,' is ', taxCalc(490000))\n",
        "print('tax on ', 500100,' is ', taxCalc(500100))\n",
        "print('tax on ', 700000,' is ', taxCalc(700000))\n",
        "print('tax on ', 700100,' is ', taxCalc(700100))\n",
        "print('tax on ', 1000000,' is ', taxCalc(1000000))\n",
        "print('tax on ', 1001000,' is ', taxCalc(1001000))"
      ],
      "execution_count": null,
      "outputs": [
        {
          "output_type": "stream",
          "text": [
            "tax on  490000  is  0\n",
            "tax on  500100  is  10.0\n",
            "tax on  700000  is  20000.0\n",
            "tax on  700100  is  20015.0\n",
            "tax on  1000000  is  65000.0\n",
            "tax on  1001000  is  65200.0\n"
          ],
          "name": "stdout"
        }
      ]
    },
    {
      "cell_type": "code",
      "metadata": {
        "id": "5hJtN4z-C0ud",
        "colab": {
          "base_uri": "https://localhost:8080/",
          "height": 51
        },
        "outputId": "44d2c3e3-942b-4976-d172-346ee40c3635"
      },
      "source": [
        "#Numerical Arithmetic\n",
        "a = 4\n",
        "b = 5\n",
        "c = a+b\n",
        "d = a*b\n",
        "print(a,b,c,d)\n",
        "#Boolean Arithmetic\n",
        "p = True\n",
        "q = False\n",
        "r = p and q\n",
        "s = p or q\n",
        "print(p,q,r,s)"
      ],
      "execution_count": null,
      "outputs": [
        {
          "output_type": "stream",
          "text": [
            "4 5 9 20\n",
            "True False False True\n"
          ],
          "name": "stdout"
        }
      ]
    },
    {
      "cell_type": "code",
      "metadata": {
        "id": "uo6oY162P5bz",
        "colab": {
          "base_uri": "https://localhost:8080/",
          "height": 51
        },
        "outputId": "21ade6d0-df83-4a1a-92bc-8c57b8597aea"
      },
      "source": [
        "ramGen = 'Male'\n",
        "radhaGen = 'Female'\n",
        "ramStat = 'Married'\n",
        "radhaStat = 'Single'\n",
        "#Determine if ram is a Married Woman?\n",
        "print((ramGen=='Female') and (ramStat=='Married'))\n",
        "#Determine if radha is Single Woman\n",
        "print((radhaGen=='Female') and (radhaStat=='Single' ))"
      ],
      "execution_count": null,
      "outputs": [
        {
          "output_type": "stream",
          "text": [
            "False\n",
            "True\n"
          ],
          "name": "stdout"
        }
      ]
    },
    {
      "cell_type": "code",
      "metadata": {
        "id": "GmMTJDs9ZRF0"
      },
      "source": [
        "def discount(val, br):\n",
        "    #print (val, br)\n",
        "    if (val < 10000) and (br == 'Glow'):\n",
        "        discount = 0.05\n",
        "    if ((val < 10000) and \n",
        "        (br=='Glow+')or(br=='GlowG')):\n",
        "        discount = 0.10\n",
        "    if ((val >= 10000) and (val < 20000) and\n",
        "        (br == 'Glow')):\n",
        "        discount = 0.05\n",
        "    if ((val >= 10000) and (val < 20000) and\n",
        "        (br == 'Glow+') or (br == 'GlowG')):\n",
        "        discount = 0.15\n",
        "    if ((val >= 20000) and (val < 30000) and\n",
        "        (br == 'Glow')):\n",
        "        discount = 0.075\n",
        "    if ((val >= 20000) and (val < 30000) and\n",
        "        (br == 'Glow+') or (br == 'GlowG')):\n",
        "        discount = 0.15\n",
        "    if ((val >= 30000) and (br == 'Glow')):\n",
        "        discount = 0.10\n",
        "    if ((val >= 30000) and (br == 'Glow+')):\n",
        "        discount = 0.20\n",
        "    if ((val >= 30000) and (br == 'GlowG')):\n",
        "        discount = 0.25\n",
        "    return discount\n"
      ],
      "execution_count": null,
      "outputs": []
    },
    {
      "cell_type": "code",
      "metadata": {
        "id": "HEgdzCuofI5m",
        "colab": {
          "base_uri": "https://localhost:8080/",
          "height": 221
        },
        "outputId": "4ae821f4-4293-4349-fbe1-95640aefe671"
      },
      "source": [
        "print('discount is ',discount(9000,'Glow'))\n",
        "print('discount is ',discount(9000,'Glow+'))\n",
        "print('discount is ',discount(10000,'GlowG'))\n",
        "print('discount is ',discount(20000,'Glow'))\n",
        "print('discount is ',discount(20000,'Glow+'))\n",
        "print('discount is ',discount(20000,'GlowG'))\n",
        "print('discount is ',discount(29000,'Glow'))\n",
        "print('discount is ',discount(29000,'Glow+'))\n",
        "print('discount is ',discount(29000,'GlowG'))\n",
        "print('discount is ',discount(39000,'Glow'))\n",
        "print('discount is ',discount(39000,'Glow+'))\n",
        "print('discount is ',discount(39000,'GlowG'))"
      ],
      "execution_count": null,
      "outputs": [
        {
          "output_type": "stream",
          "text": [
            "discount is  0.05\n",
            "discount is  0.1\n",
            "discount is  0.15\n",
            "discount is  0.075\n",
            "discount is  0.15\n",
            "discount is  0.15\n",
            "discount is  0.075\n",
            "discount is  0.15\n",
            "discount is  0.15\n",
            "discount is  0.1\n",
            "discount is  0.2\n",
            "discount is  0.25\n"
          ],
          "name": "stdout"
        }
      ]
    },
    {
      "cell_type": "code",
      "metadata": {
        "id": "rvx3_LyojiL1"
      },
      "source": [
        "def discount2(val, br):\n",
        "    #print (val, br)\n",
        "    if (val < 10000):\n",
        "        if (br == 'Glow'):\n",
        "            discount = 0.05\n",
        "        else:\n",
        "            discount = 0.1\n",
        "    else:\n",
        "        if (val < 20000):\n",
        "            if (br == 'Glow'):\n",
        "                discount = 0.05\n",
        "            else:\n",
        "                discount = 0.15\n",
        "        else:\n",
        "            if (val < 30000):\n",
        "                if (br == 'Glow'):\n",
        "                    discount = 0.075\n",
        "                else:\n",
        "                    discount = 0.15\n",
        "            else:\n",
        "                if (br == 'Glow'):\n",
        "                    discount = 0.10\n",
        "                if (br == 'Glow+'):\n",
        "                    discount = 0.2\n",
        "                if (br == 'GlowG'):\n",
        "                    discount = 0.25\n",
        "    return discount\n"
      ],
      "execution_count": null,
      "outputs": []
    },
    {
      "cell_type": "code",
      "metadata": {
        "id": "xXXdf1OalHwG",
        "colab": {
          "base_uri": "https://localhost:8080/",
          "height": 221
        },
        "outputId": "197fd845-b916-4d4d-cc34-20e3f0b59e03"
      },
      "source": [
        "print('discount is ',discount2(9000,'Glow'))\n",
        "print('discount is ',discount2(9000,'Glow+'))\n",
        "print('discount is ',discount2(10000,'GlowG'))\n",
        "print('discount is ',discount2(20000,'Glow'))\n",
        "print('discount is ',discount2(20000,'Glow+'))\n",
        "print('discount is ',discount2(20000,'GlowG'))\n",
        "print('discount is ',discount2(29000,'Glow'))\n",
        "print('discount is ',discount2(29000,'Glow+'))\n",
        "print('discount is ',discount2(29000,'GlowG'))\n",
        "print('discount is ',discount2(39000,'Glow'))\n",
        "print('discount is ',discount2(39000,'Glow+'))\n",
        "print('discount is ',discount2(39000,'GlowG'))"
      ],
      "execution_count": null,
      "outputs": [
        {
          "output_type": "stream",
          "text": [
            "discount is  0.05\n",
            "discount is  0.1\n",
            "discount is  0.15\n",
            "discount is  0.075\n",
            "discount is  0.15\n",
            "discount is  0.15\n",
            "discount is  0.075\n",
            "discount is  0.15\n",
            "discount is  0.15\n",
            "discount is  0.1\n",
            "discount is  0.2\n",
            "discount is  0.25\n"
          ],
          "name": "stdout"
        }
      ]
    },
    {
      "cell_type": "code",
      "metadata": {
        "id": "zAJG4WvLHK5L",
        "colab": {
          "base_uri": "https://localhost:8080/",
          "height": 85
        },
        "outputId": "5787c458-aa17-4df8-ff8d-285908567eb4"
      },
      "source": [
        "#Numerical Arithmetic\n",
        "a = 4\n",
        "b = 5\n",
        "c = 6\n",
        "d = 2\n",
        "e1 = a + b * c + d\n",
        "e2 = (a + b) * (c + d)\n",
        "print(e1, e2)\n",
        "e3 = a * b + c * d\n",
        "e4 = a * (b + c) * d\n",
        "print (e3, e4)\n",
        "\n",
        "#Boolean Arithmetic\n",
        "p = True\n",
        "q = False\n",
        "r = False \n",
        "s = False\n",
        "u1 = p or q and r or s\n",
        "u2 = (p or q) and (r or s)\n",
        "print(u1, u2)\n",
        "u3 = p and q or r and s\n",
        "u4 = p and (q or r) and s\n",
        "print (u3, u4)\n"
      ],
      "execution_count": null,
      "outputs": [
        {
          "output_type": "stream",
          "text": [
            "36 72\n",
            "32 88\n",
            "True False\n",
            "False False\n"
          ],
          "name": "stdout"
        }
      ]
    },
    {
      "cell_type": "markdown",
      "metadata": {
        "id": "txoDUszLouoC"
      },
      "source": [
        "#7 Loops and Iterations"
      ]
    },
    {
      "cell_type": "code",
      "metadata": {
        "id": "Jt1e7xNvotWN",
        "colab": {
          "base_uri": "https://localhost:8080/",
          "height": 136
        },
        "outputId": "ebba8b51-b084-4c65-d99f-7a6cbd0bd23a"
      },
      "source": [
        "D = ['Mon','Tues','Wednes','Thurs','Fri','Satur','Sun']\n",
        "dayOfWeek = 1\n",
        "for item in D:\n",
        "    dayName = item+'day'\n",
        "    print('Day ', dayOfWeek, ' is ', dayName)\n",
        "    dayOfWeek = dayOfWeek + 1\n"
      ],
      "execution_count": null,
      "outputs": [
        {
          "output_type": "stream",
          "text": [
            "Day  1  is  Monday\n",
            "Day  2  is  Tuesday\n",
            "Day  3  is  Wednesday\n",
            "Day  4  is  Thursday\n",
            "Day  5  is  Friday\n",
            "Day  6  is  Saturday\n",
            "Day  7  is  Sunday\n"
          ],
          "name": "stdout"
        }
      ]
    },
    {
      "cell_type": "code",
      "metadata": {
        "id": "rRU2jxVzp0_k",
        "colab": {
          "base_uri": "https://localhost:8080/",
          "height": 136
        },
        "outputId": "21c85764-d793-4cb8-fdaa-0cf62f15002c"
      },
      "source": [
        "D = ['Mon','Tues','Wednes','Thurs','Fri','Satur','Sun']\n",
        "dayOfWeek = 1\n",
        "while (dayOfWeek < 8):\n",
        "    dayName = D[dayOfWeek - 1] +'day'\n",
        "    print('Day ', dayOfWeek, ' is ', dayName)\n",
        "    dayOfWeek = dayOfWeek + 1"
      ],
      "execution_count": null,
      "outputs": [
        {
          "output_type": "stream",
          "text": [
            "Day  1  is  Monday\n",
            "Day  2  is  Tuesday\n",
            "Day  3  is  Wednesday\n",
            "Day  4  is  Thursday\n",
            "Day  5  is  Friday\n",
            "Day  6  is  Saturday\n",
            "Day  7  is  Sunday\n"
          ],
          "name": "stdout"
        }
      ]
    },
    {
      "cell_type": "code",
      "metadata": {
        "id": "o4xYXZ7fxtW6",
        "colab": {
          "base_uri": "https://localhost:8080/"
        },
        "outputId": "28272f02-2030-47d9-a988-f92905e8b493"
      },
      "source": [
        "complete = False\n",
        "invoiceList = []\n",
        "while not(complete):\n",
        "    print(\"Enter Client Name, blank to end\")\n",
        "    client = input('Client :')\n",
        "    if (client == ''):\n",
        "        complete = True\n",
        "    else:\n",
        "        product = input('Product :')\n",
        "        value = int(input('Value - integer :'))\n",
        "        invoiceList.append([client, product, value])\n",
        "print(\"List of Invoices\")\n",
        "print(invoiceList)"
      ],
      "execution_count": null,
      "outputs": [
        {
          "output_type": "stream",
          "text": [
            "Enter Client Name, blank to end\n",
            "Client :ram\n",
            "Product :soap\n",
            "Value - integer :30\n",
            "Enter Client Name, blank to end\n",
            "Client :sita\n",
            "Product :sugar\n",
            "Value - integer :49\n",
            "Enter Client Name, blank to end\n",
            "Client :jadu\n",
            "Product :salt\n",
            "Value - integer :56\n",
            "Enter Client Name, blank to end\n",
            "Client :\n",
            "List of Invoices\n",
            "[['ram', 'soap', 30], ['sita', 'sugar', 49], ['jadu', 'salt', 56]]\n"
          ],
          "name": "stdout"
        }
      ]
    },
    {
      "cell_type": "code",
      "metadata": {
        "id": "GAL00bJDfx5c",
        "colab": {
          "base_uri": "https://localhost:8080/"
        },
        "outputId": "88675d21-44e6-4042-bff0-5942b4a4f730"
      },
      "source": [
        "for item in invoiceList:\n",
        "    currency = '₹'\n",
        "    print('Customer ', item[0])\n",
        "    print('Product  ', item[1])\n",
        "    print('Money Due', currency+str(item[2]) )\n",
        "    print('-----------------------')"
      ],
      "execution_count": null,
      "outputs": [
        {
          "output_type": "stream",
          "text": [
            "Customer  ram\n",
            "Product   soap\n",
            "Money Due ₹30\n",
            "-----------------------\n",
            "Customer  sita\n",
            "Product   sugar\n",
            "Money Due ₹49\n",
            "-----------------------\n",
            "Customer  jadu\n",
            "Product   salt\n",
            "Money Due ₹56\n",
            "-----------------------\n"
          ],
          "name": "stdout"
        }
      ]
    },
    {
      "cell_type": "markdown",
      "metadata": {
        "id": "wJMIHmNrntgo"
      },
      "source": [
        "#8 Turtle again"
      ]
    },
    {
      "cell_type": "code",
      "metadata": {
        "id": "BJsVSar2s_Vb"
      },
      "source": [
        "# Turtle file https://drive.google.com/file/d/1994Vv_GJdK8BKbUf2HrO74Bo4bMABW5U/view?usp=sharing\n",
        "#!gdown https://drive.google.com/uc?id=1994Vv_GJdK8BKbUf2HrO74Bo4bMABW5U"
      ],
      "execution_count": 33,
      "outputs": []
    },
    {
      "cell_type": "code",
      "metadata": {
        "id": "9sXhLl9DnwaT"
      },
      "source": [
        "#!wget https://raw.githubusercontent.com/tolgaatam/ColabTurtle/master/ColabTurtle/Turtle.py\n",
        "#from Turtle import *\n",
        "\n",
        "from ColabTurtle.Turtle import *"
      ],
      "execution_count": 34,
      "outputs": []
    },
    {
      "cell_type": "code",
      "source": [],
      "metadata": {
        "id": "QJb59ogXeNDN"
      },
      "execution_count": null,
      "outputs": []
    },
    {
      "cell_type": "code",
      "metadata": {
        "id": "n_f-fQYYn5WY"
      },
      "source": [
        "def cleanSlate(startX, startY):\n",
        "    initializeTurtle(initial_window_size=(800,350))\n",
        "    bgcolor('grey')\n",
        "    color('black')\n",
        "    penup()\n",
        "    goto(startX, startY)\n",
        "    pendown()"
      ],
      "execution_count": 35,
      "outputs": []
    },
    {
      "cell_type": "code",
      "metadata": {
        "id": "Q0NZ3giluovz",
        "colab": {
          "base_uri": "https://localhost:8080/",
          "height": 371
        },
        "outputId": "1cdae72c-adc9-4b77-cbca-377bff397f56"
      },
      "source": [
        "cleanSlate(200,200)"
      ],
      "execution_count": 36,
      "outputs": [
        {
          "output_type": "display_data",
          "data": {
            "text/plain": [
              "<IPython.core.display.HTML object>"
            ],
            "text/html": [
              "\n",
              "      <svg width=\"800\" height=\"350\">\n",
              "        <rect width=\"100%\" height=\"100%\" fill=\"grey\"/>\n",
              "        \n",
              "        <g visibility=visible transform=\"rotate(360,200,200) translate(182, 182)\">\n",
              "<path style=\" stroke:none;fill-rule:evenodd;fill:black;fill-opacity:1;\" d=\"M 18.214844 0.632812 C 16.109375 1.800781 15.011719 4.074219 15.074219 7.132812 L 15.085938 7.652344 L 14.785156 7.496094 C 13.476562 6.824219 11.957031 6.671875 10.40625 7.066406 C 8.46875 7.550781 6.515625 9.15625 4.394531 11.992188 C 3.0625 13.777344 2.679688 14.636719 3.042969 15.027344 L 3.15625 15.152344 L 3.519531 15.152344 C 4.238281 15.152344 4.828125 14.886719 8.1875 13.039062 C 9.386719 12.378906 10.371094 11.839844 10.378906 11.839844 C 10.386719 11.839844 10.355469 11.929688 10.304688 12.035156 C 9.832031 13.09375 9.257812 14.820312 8.96875 16.078125 C 7.914062 20.652344 8.617188 24.53125 11.070312 27.660156 C 11.351562 28.015625 11.363281 27.914062 10.972656 28.382812 C 8.925781 30.84375 7.945312 33.28125 8.238281 35.1875 C 8.289062 35.527344 8.28125 35.523438 8.917969 35.523438 C 10.941406 35.523438 13.074219 34.207031 15.136719 31.6875 C 15.359375 31.417969 15.328125 31.425781 15.5625 31.574219 C 16.292969 32.042969 18.023438 32.964844 18.175781 32.964844 C 18.335938 32.964844 19.941406 32.210938 20.828125 31.71875 C 20.996094 31.625 21.136719 31.554688 21.136719 31.558594 C 21.203125 31.664062 21.898438 32.414062 22.222656 32.730469 C 23.835938 34.300781 25.5625 35.132812 27.582031 35.300781 C 27.90625 35.328125 27.9375 35.308594 28.007812 34.984375 C 28.382812 33.242188 27.625 30.925781 25.863281 28.425781 L 25.542969 27.96875 L 25.699219 27.785156 C 28.945312 23.960938 29.132812 18.699219 26.257812 11.96875 L 26.207031 11.84375 L 27.945312 12.703125 C 31.53125 14.476562 32.316406 14.800781 33.03125 14.800781 C 33.976562 14.800781 33.78125 13.9375 32.472656 12.292969 C 28.519531 7.355469 25.394531 5.925781 21.921875 7.472656 L 21.558594 7.636719 L 21.578125 7.542969 C 21.699219 6.992188 21.761719 5.742188 21.699219 5.164062 C 21.496094 3.296875 20.664062 1.964844 19.003906 0.855469 C 18.480469 0.503906 18.457031 0.5 18.214844 0.632812\"/>\n",
              "</g>\n",
              "      </svg>\n",
              "    "
            ]
          },
          "metadata": {}
        }
      ]
    },
    {
      "cell_type": "code",
      "source": [
        "initializeTurtle(initial_window_size=(800,350))\n",
        "bgcolor('grey')\n",
        "color('black')\n"
      ],
      "metadata": {
        "id": "fmzf4SgjeQME",
        "outputId": "2dbb5d0e-da66-48fc-d38b-05137ec2bb19",
        "colab": {
          "base_uri": "https://localhost:8080/",
          "height": 371
        }
      },
      "execution_count": 42,
      "outputs": [
        {
          "output_type": "display_data",
          "data": {
            "text/plain": [
              "<IPython.core.display.HTML object>"
            ],
            "text/html": [
              "\n",
              "      <svg width=\"800\" height=\"350\">\n",
              "        <rect width=\"100%\" height=\"100%\" fill=\"grey\"/>\n",
              "        \n",
              "        <g visibility=visible transform=\"rotate(360,400,175) translate(382, 157)\">\n",
              "<path style=\" stroke:none;fill-rule:evenodd;fill:black;fill-opacity:1;\" d=\"M 18.214844 0.632812 C 16.109375 1.800781 15.011719 4.074219 15.074219 7.132812 L 15.085938 7.652344 L 14.785156 7.496094 C 13.476562 6.824219 11.957031 6.671875 10.40625 7.066406 C 8.46875 7.550781 6.515625 9.15625 4.394531 11.992188 C 3.0625 13.777344 2.679688 14.636719 3.042969 15.027344 L 3.15625 15.152344 L 3.519531 15.152344 C 4.238281 15.152344 4.828125 14.886719 8.1875 13.039062 C 9.386719 12.378906 10.371094 11.839844 10.378906 11.839844 C 10.386719 11.839844 10.355469 11.929688 10.304688 12.035156 C 9.832031 13.09375 9.257812 14.820312 8.96875 16.078125 C 7.914062 20.652344 8.617188 24.53125 11.070312 27.660156 C 11.351562 28.015625 11.363281 27.914062 10.972656 28.382812 C 8.925781 30.84375 7.945312 33.28125 8.238281 35.1875 C 8.289062 35.527344 8.28125 35.523438 8.917969 35.523438 C 10.941406 35.523438 13.074219 34.207031 15.136719 31.6875 C 15.359375 31.417969 15.328125 31.425781 15.5625 31.574219 C 16.292969 32.042969 18.023438 32.964844 18.175781 32.964844 C 18.335938 32.964844 19.941406 32.210938 20.828125 31.71875 C 20.996094 31.625 21.136719 31.554688 21.136719 31.558594 C 21.203125 31.664062 21.898438 32.414062 22.222656 32.730469 C 23.835938 34.300781 25.5625 35.132812 27.582031 35.300781 C 27.90625 35.328125 27.9375 35.308594 28.007812 34.984375 C 28.382812 33.242188 27.625 30.925781 25.863281 28.425781 L 25.542969 27.96875 L 25.699219 27.785156 C 28.945312 23.960938 29.132812 18.699219 26.257812 11.96875 L 26.207031 11.84375 L 27.945312 12.703125 C 31.53125 14.476562 32.316406 14.800781 33.03125 14.800781 C 33.976562 14.800781 33.78125 13.9375 32.472656 12.292969 C 28.519531 7.355469 25.394531 5.925781 21.921875 7.472656 L 21.558594 7.636719 L 21.578125 7.542969 C 21.699219 6.992188 21.761719 5.742188 21.699219 5.164062 C 21.496094 3.296875 20.664062 1.964844 19.003906 0.855469 C 18.480469 0.503906 18.457031 0.5 18.214844 0.632812\"/>\n",
              "</g>\n",
              "      </svg>\n",
              "    "
            ]
          },
          "metadata": {}
        }
      ]
    },
    {
      "cell_type": "code",
      "source": [
        "left(90)\n",
        "forward(100)\n",
        "right(50)\n",
        "forward(50)\n",
        "left(90)\n",
        "forward(50)\n",
        "right(90)\n",
        "backward(50)\n"
      ],
      "metadata": {
        "id": "GcKI7xyWeVrV",
        "outputId": "42492c88-49f5-439f-af01-add0ff355fe2",
        "colab": {
          "base_uri": "https://localhost:8080/",
          "height": 371
        }
      },
      "execution_count": 43,
      "outputs": [
        {
          "output_type": "display_data",
          "data": {
            "text/plain": [
              "<IPython.core.display.HTML object>"
            ],
            "text/html": [
              "\n",
              "      <svg width=\"800\" height=\"350\">\n",
              "        <rect width=\"100%\" height=\"100%\" fill=\"grey\"/>\n",
              "        <line x1=\"400\" y1=\"175\" x2=\"300.0\" y2=\"175.0\" stroke-linecap=\"round\" style=\"stroke:black;stroke-width:4\"/><line x1=\"300.0\" y1=\"175.0\" x2=\"267.861\" y2=\"136.698\" stroke-linecap=\"round\" style=\"stroke:black;stroke-width:4\"/><line x1=\"267.861\" y1=\"136.698\" x2=\"229.559\" y2=\"168.837\" stroke-linecap=\"round\" style=\"stroke:black;stroke-width:4\"/><line x1=\"229.559\" y1=\"168.837\" x2=\"261.698\" y2=\"207.139\" stroke-linecap=\"round\" style=\"stroke:black;stroke-width:4\"/>\n",
              "        <g visibility=visible transform=\"rotate(320,261.698,207.139) translate(243.69799999999998, 189.139)\">\n",
              "<path style=\" stroke:none;fill-rule:evenodd;fill:black;fill-opacity:1;\" d=\"M 18.214844 0.632812 C 16.109375 1.800781 15.011719 4.074219 15.074219 7.132812 L 15.085938 7.652344 L 14.785156 7.496094 C 13.476562 6.824219 11.957031 6.671875 10.40625 7.066406 C 8.46875 7.550781 6.515625 9.15625 4.394531 11.992188 C 3.0625 13.777344 2.679688 14.636719 3.042969 15.027344 L 3.15625 15.152344 L 3.519531 15.152344 C 4.238281 15.152344 4.828125 14.886719 8.1875 13.039062 C 9.386719 12.378906 10.371094 11.839844 10.378906 11.839844 C 10.386719 11.839844 10.355469 11.929688 10.304688 12.035156 C 9.832031 13.09375 9.257812 14.820312 8.96875 16.078125 C 7.914062 20.652344 8.617188 24.53125 11.070312 27.660156 C 11.351562 28.015625 11.363281 27.914062 10.972656 28.382812 C 8.925781 30.84375 7.945312 33.28125 8.238281 35.1875 C 8.289062 35.527344 8.28125 35.523438 8.917969 35.523438 C 10.941406 35.523438 13.074219 34.207031 15.136719 31.6875 C 15.359375 31.417969 15.328125 31.425781 15.5625 31.574219 C 16.292969 32.042969 18.023438 32.964844 18.175781 32.964844 C 18.335938 32.964844 19.941406 32.210938 20.828125 31.71875 C 20.996094 31.625 21.136719 31.554688 21.136719 31.558594 C 21.203125 31.664062 21.898438 32.414062 22.222656 32.730469 C 23.835938 34.300781 25.5625 35.132812 27.582031 35.300781 C 27.90625 35.328125 27.9375 35.308594 28.007812 34.984375 C 28.382812 33.242188 27.625 30.925781 25.863281 28.425781 L 25.542969 27.96875 L 25.699219 27.785156 C 28.945312 23.960938 29.132812 18.699219 26.257812 11.96875 L 26.207031 11.84375 L 27.945312 12.703125 C 31.53125 14.476562 32.316406 14.800781 33.03125 14.800781 C 33.976562 14.800781 33.78125 13.9375 32.472656 12.292969 C 28.519531 7.355469 25.394531 5.925781 21.921875 7.472656 L 21.558594 7.636719 L 21.578125 7.542969 C 21.699219 6.992188 21.761719 5.742188 21.699219 5.164062 C 21.496094 3.296875 20.664062 1.964844 19.003906 0.855469 C 18.480469 0.503906 18.457031 0.5 18.214844 0.632812\"/>\n",
              "</g>\n",
              "      </svg>\n",
              "    "
            ]
          },
          "metadata": {}
        }
      ]
    },
    {
      "cell_type": "code",
      "source": [
        "def spiral(startX, startY):\n",
        "    penup()\n",
        "    goto(startX,startY)\n",
        "    pendown()\n",
        "    change = 5\n",
        "    stepSize = 10\n",
        "    maxSteps = 20\n",
        "    stepCount = 0\n",
        "    while (stepCount < maxSteps):\n",
        "        forward(stepSize)\n",
        "        right(90)\n",
        "        stepSize = stepSize + change\n",
        "        stepCount = stepCount + 1\n"
      ],
      "metadata": {
        "id": "AZY5fSJbexXg"
      },
      "execution_count": 44,
      "outputs": []
    },
    {
      "cell_type": "code",
      "source": [
        "cleanSlate(100,100)\n",
        "spiral(200,200)\n",
        "spiral(500,150)\n"
      ],
      "metadata": {
        "id": "4gZ5m10Ie49i",
        "outputId": "a2985c0b-3b7d-462e-ec63-6bf0fc08363f",
        "colab": {
          "base_uri": "https://localhost:8080/",
          "height": 371
        }
      },
      "execution_count": 45,
      "outputs": [
        {
          "output_type": "display_data",
          "data": {
            "text/plain": [
              "<IPython.core.display.HTML object>"
            ],
            "text/html": [
              "\n",
              "      <svg width=\"800\" height=\"350\">\n",
              "        <rect width=\"100%\" height=\"100%\" fill=\"grey\"/>\n",
              "        <line x1=\"200\" y1=\"200\" x2=\"200.0\" y2=\"190.0\" stroke-linecap=\"round\" style=\"stroke:black;stroke-width:4\"/><line x1=\"200.0\" y1=\"190.0\" x2=\"215.0\" y2=\"190.0\" stroke-linecap=\"round\" style=\"stroke:black;stroke-width:4\"/><line x1=\"215.0\" y1=\"190.0\" x2=\"215.0\" y2=\"210.0\" stroke-linecap=\"round\" style=\"stroke:black;stroke-width:4\"/><line x1=\"215.0\" y1=\"210.0\" x2=\"190.0\" y2=\"210.0\" stroke-linecap=\"round\" style=\"stroke:black;stroke-width:4\"/><line x1=\"190.0\" y1=\"210.0\" x2=\"190.0\" y2=\"180.0\" stroke-linecap=\"round\" style=\"stroke:black;stroke-width:4\"/><line x1=\"190.0\" y1=\"180.0\" x2=\"225.0\" y2=\"180.0\" stroke-linecap=\"round\" style=\"stroke:black;stroke-width:4\"/><line x1=\"225.0\" y1=\"180.0\" x2=\"225.0\" y2=\"220.0\" stroke-linecap=\"round\" style=\"stroke:black;stroke-width:4\"/><line x1=\"225.0\" y1=\"220.0\" x2=\"180.0\" y2=\"220.0\" stroke-linecap=\"round\" style=\"stroke:black;stroke-width:4\"/><line x1=\"180.0\" y1=\"220.0\" x2=\"180.0\" y2=\"170.0\" stroke-linecap=\"round\" style=\"stroke:black;stroke-width:4\"/><line x1=\"180.0\" y1=\"170.0\" x2=\"235.0\" y2=\"170.0\" stroke-linecap=\"round\" style=\"stroke:black;stroke-width:4\"/><line x1=\"235.0\" y1=\"170.0\" x2=\"235.0\" y2=\"230.0\" stroke-linecap=\"round\" style=\"stroke:black;stroke-width:4\"/><line x1=\"235.0\" y1=\"230.0\" x2=\"170.0\" y2=\"230.0\" stroke-linecap=\"round\" style=\"stroke:black;stroke-width:4\"/><line x1=\"170.0\" y1=\"230.0\" x2=\"170.0\" y2=\"160.0\" stroke-linecap=\"round\" style=\"stroke:black;stroke-width:4\"/><line x1=\"170.0\" y1=\"160.0\" x2=\"245.0\" y2=\"160.0\" stroke-linecap=\"round\" style=\"stroke:black;stroke-width:4\"/><line x1=\"245.0\" y1=\"160.0\" x2=\"245.0\" y2=\"240.0\" stroke-linecap=\"round\" style=\"stroke:black;stroke-width:4\"/><line x1=\"245.0\" y1=\"240.0\" x2=\"160.0\" y2=\"240.0\" stroke-linecap=\"round\" style=\"stroke:black;stroke-width:4\"/><line x1=\"160.0\" y1=\"240.0\" x2=\"160.0\" y2=\"150.0\" stroke-linecap=\"round\" style=\"stroke:black;stroke-width:4\"/><line x1=\"160.0\" y1=\"150.0\" x2=\"255.0\" y2=\"150.0\" stroke-linecap=\"round\" style=\"stroke:black;stroke-width:4\"/><line x1=\"255.0\" y1=\"150.0\" x2=\"255.0\" y2=\"250.0\" stroke-linecap=\"round\" style=\"stroke:black;stroke-width:4\"/><line x1=\"255.0\" y1=\"250.0\" x2=\"150.0\" y2=\"250.0\" stroke-linecap=\"round\" style=\"stroke:black;stroke-width:4\"/><line x1=\"500\" y1=\"150\" x2=\"500.0\" y2=\"140.0\" stroke-linecap=\"round\" style=\"stroke:black;stroke-width:4\"/><line x1=\"500.0\" y1=\"140.0\" x2=\"515.0\" y2=\"140.0\" stroke-linecap=\"round\" style=\"stroke:black;stroke-width:4\"/><line x1=\"515.0\" y1=\"140.0\" x2=\"515.0\" y2=\"160.0\" stroke-linecap=\"round\" style=\"stroke:black;stroke-width:4\"/><line x1=\"515.0\" y1=\"160.0\" x2=\"490.0\" y2=\"160.0\" stroke-linecap=\"round\" style=\"stroke:black;stroke-width:4\"/><line x1=\"490.0\" y1=\"160.0\" x2=\"490.0\" y2=\"130.0\" stroke-linecap=\"round\" style=\"stroke:black;stroke-width:4\"/><line x1=\"490.0\" y1=\"130.0\" x2=\"525.0\" y2=\"130.0\" stroke-linecap=\"round\" style=\"stroke:black;stroke-width:4\"/><line x1=\"525.0\" y1=\"130.0\" x2=\"525.0\" y2=\"170.0\" stroke-linecap=\"round\" style=\"stroke:black;stroke-width:4\"/><line x1=\"525.0\" y1=\"170.0\" x2=\"480.0\" y2=\"170.0\" stroke-linecap=\"round\" style=\"stroke:black;stroke-width:4\"/><line x1=\"480.0\" y1=\"170.0\" x2=\"480.0\" y2=\"120.0\" stroke-linecap=\"round\" style=\"stroke:black;stroke-width:4\"/><line x1=\"480.0\" y1=\"120.0\" x2=\"535.0\" y2=\"120.0\" stroke-linecap=\"round\" style=\"stroke:black;stroke-width:4\"/><line x1=\"535.0\" y1=\"120.0\" x2=\"535.0\" y2=\"180.0\" stroke-linecap=\"round\" style=\"stroke:black;stroke-width:4\"/><line x1=\"535.0\" y1=\"180.0\" x2=\"470.0\" y2=\"180.0\" stroke-linecap=\"round\" style=\"stroke:black;stroke-width:4\"/><line x1=\"470.0\" y1=\"180.0\" x2=\"470.0\" y2=\"110.0\" stroke-linecap=\"round\" style=\"stroke:black;stroke-width:4\"/><line x1=\"470.0\" y1=\"110.0\" x2=\"545.0\" y2=\"110.0\" stroke-linecap=\"round\" style=\"stroke:black;stroke-width:4\"/><line x1=\"545.0\" y1=\"110.0\" x2=\"545.0\" y2=\"190.0\" stroke-linecap=\"round\" style=\"stroke:black;stroke-width:4\"/><line x1=\"545.0\" y1=\"190.0\" x2=\"460.0\" y2=\"190.0\" stroke-linecap=\"round\" style=\"stroke:black;stroke-width:4\"/><line x1=\"460.0\" y1=\"190.0\" x2=\"460.0\" y2=\"100.0\" stroke-linecap=\"round\" style=\"stroke:black;stroke-width:4\"/><line x1=\"460.0\" y1=\"100.0\" x2=\"555.0\" y2=\"100.0\" stroke-linecap=\"round\" style=\"stroke:black;stroke-width:4\"/><line x1=\"555.0\" y1=\"100.0\" x2=\"555.0\" y2=\"200.0\" stroke-linecap=\"round\" style=\"stroke:black;stroke-width:4\"/><line x1=\"555.0\" y1=\"200.0\" x2=\"450.0\" y2=\"200.0\" stroke-linecap=\"round\" style=\"stroke:black;stroke-width:4\"/>\n",
              "        <g visibility=visible transform=\"rotate(360,450.0,200.0) translate(432.0, 182.0)\">\n",
              "<path style=\" stroke:none;fill-rule:evenodd;fill:black;fill-opacity:1;\" d=\"M 18.214844 0.632812 C 16.109375 1.800781 15.011719 4.074219 15.074219 7.132812 L 15.085938 7.652344 L 14.785156 7.496094 C 13.476562 6.824219 11.957031 6.671875 10.40625 7.066406 C 8.46875 7.550781 6.515625 9.15625 4.394531 11.992188 C 3.0625 13.777344 2.679688 14.636719 3.042969 15.027344 L 3.15625 15.152344 L 3.519531 15.152344 C 4.238281 15.152344 4.828125 14.886719 8.1875 13.039062 C 9.386719 12.378906 10.371094 11.839844 10.378906 11.839844 C 10.386719 11.839844 10.355469 11.929688 10.304688 12.035156 C 9.832031 13.09375 9.257812 14.820312 8.96875 16.078125 C 7.914062 20.652344 8.617188 24.53125 11.070312 27.660156 C 11.351562 28.015625 11.363281 27.914062 10.972656 28.382812 C 8.925781 30.84375 7.945312 33.28125 8.238281 35.1875 C 8.289062 35.527344 8.28125 35.523438 8.917969 35.523438 C 10.941406 35.523438 13.074219 34.207031 15.136719 31.6875 C 15.359375 31.417969 15.328125 31.425781 15.5625 31.574219 C 16.292969 32.042969 18.023438 32.964844 18.175781 32.964844 C 18.335938 32.964844 19.941406 32.210938 20.828125 31.71875 C 20.996094 31.625 21.136719 31.554688 21.136719 31.558594 C 21.203125 31.664062 21.898438 32.414062 22.222656 32.730469 C 23.835938 34.300781 25.5625 35.132812 27.582031 35.300781 C 27.90625 35.328125 27.9375 35.308594 28.007812 34.984375 C 28.382812 33.242188 27.625 30.925781 25.863281 28.425781 L 25.542969 27.96875 L 25.699219 27.785156 C 28.945312 23.960938 29.132812 18.699219 26.257812 11.96875 L 26.207031 11.84375 L 27.945312 12.703125 C 31.53125 14.476562 32.316406 14.800781 33.03125 14.800781 C 33.976562 14.800781 33.78125 13.9375 32.472656 12.292969 C 28.519531 7.355469 25.394531 5.925781 21.921875 7.472656 L 21.558594 7.636719 L 21.578125 7.542969 C 21.699219 6.992188 21.761719 5.742188 21.699219 5.164062 C 21.496094 3.296875 20.664062 1.964844 19.003906 0.855469 C 18.480469 0.503906 18.457031 0.5 18.214844 0.632812\"/>\n",
              "</g>\n",
              "      </svg>\n",
              "    "
            ]
          },
          "metadata": {}
        }
      ]
    },
    {
      "cell_type": "code",
      "metadata": {
        "id": "MhIsYd2QoF_A"
      },
      "source": [
        "def spiralz(startX, startY):\n",
        "    penup()\n",
        "    goto(startX,startY)\n",
        "    pendown()\n",
        "    change = 2\n",
        "    stepSize = 5\n",
        "    maxSteps = 20\n",
        "    stepCount = 0\n",
        "    while (stepCount < maxSteps):\n",
        "        forward(stepSize)\n",
        "        right(30)\n",
        "        stepSize = stepSize + change\n",
        "        stepCount = stepCount + 1\n",
        "\n"
      ],
      "execution_count": 37,
      "outputs": []
    },
    {
      "cell_type": "code",
      "metadata": {
        "id": "ArEQ6vNq-pRs",
        "colab": {
          "base_uri": "https://localhost:8080/",
          "height": 371
        },
        "outputId": "fafe70a1-fe2c-4b72-ca07-98c9266f6198"
      },
      "source": [
        "spiral(300,200)"
      ],
      "execution_count": 38,
      "outputs": [
        {
          "output_type": "display_data",
          "data": {
            "text/plain": [
              "<IPython.core.display.HTML object>"
            ],
            "text/html": [
              "\n",
              "      <svg width=\"800\" height=\"350\">\n",
              "        <rect width=\"100%\" height=\"100%\" fill=\"grey\"/>\n",
              "        <line x1=\"300\" y1=\"200\" x2=\"300.0\" y2=\"195.0\" stroke-linecap=\"round\" style=\"stroke:black;stroke-width:4\"/><line x1=\"300.0\" y1=\"195.0\" x2=\"303.5\" y2=\"188.938\" stroke-linecap=\"round\" style=\"stroke:black;stroke-width:4\"/><line x1=\"303.5\" y1=\"188.938\" x2=\"311.294\" y2=\"184.438\" stroke-linecap=\"round\" style=\"stroke:black;stroke-width:4\"/><line x1=\"311.294\" y1=\"184.438\" x2=\"322.294\" y2=\"184.438\" stroke-linecap=\"round\" style=\"stroke:black;stroke-width:4\"/><line x1=\"322.294\" y1=\"184.438\" x2=\"333.552\" y2=\"190.938\" stroke-linecap=\"round\" style=\"stroke:black;stroke-width:4\"/><line x1=\"333.552\" y1=\"190.938\" x2=\"341.052\" y2=\"203.928\" stroke-linecap=\"round\" style=\"stroke:black;stroke-width:4\"/><line x1=\"341.052\" y1=\"203.928\" x2=\"341.052\" y2=\"220.928\" stroke-linecap=\"round\" style=\"stroke:black;stroke-width:4\"/><line x1=\"341.052\" y1=\"220.928\" x2=\"331.552\" y2=\"237.382\" stroke-linecap=\"round\" style=\"stroke:black;stroke-width:4\"/><line x1=\"331.552\" y1=\"237.382\" x2=\"313.365\" y2=\"247.882\" stroke-linecap=\"round\" style=\"stroke:black;stroke-width:4\"/><line x1=\"313.365\" y1=\"247.882\" x2=\"290.365\" y2=\"247.882\" stroke-linecap=\"round\" style=\"stroke:black;stroke-width:4\"/><line x1=\"290.365\" y1=\"247.882\" x2=\"268.714\" y2=\"235.382\" stroke-linecap=\"round\" style=\"stroke:black;stroke-width:4\"/><line x1=\"268.714\" y1=\"235.382\" x2=\"255.214\" y2=\"211.999\" stroke-linecap=\"round\" style=\"stroke:black;stroke-width:4\"/><line x1=\"255.214\" y1=\"211.999\" x2=\"255.214\" y2=\"182.999\" stroke-linecap=\"round\" style=\"stroke:black;stroke-width:4\"/><line x1=\"255.214\" y1=\"182.999\" x2=\"270.714\" y2=\"156.152\" stroke-linecap=\"round\" style=\"stroke:black;stroke-width:4\"/><line x1=\"270.714\" y1=\"156.152\" x2=\"299.293\" y2=\"139.652\" stroke-linecap=\"round\" style=\"stroke:black;stroke-width:4\"/><line x1=\"299.293\" y1=\"139.652\" x2=\"334.293\" y2=\"139.652\" stroke-linecap=\"round\" style=\"stroke:black;stroke-width:4\"/><line x1=\"334.293\" y1=\"139.652\" x2=\"366.336\" y2=\"158.152\" stroke-linecap=\"round\" style=\"stroke:black;stroke-width:4\"/><line x1=\"366.336\" y1=\"158.152\" x2=\"385.836\" y2=\"191.927\" stroke-linecap=\"round\" style=\"stroke:black;stroke-width:4\"/><line x1=\"385.836\" y1=\"191.927\" x2=\"385.836\" y2=\"232.927\" stroke-linecap=\"round\" style=\"stroke:black;stroke-width:4\"/><line x1=\"385.836\" y1=\"232.927\" x2=\"364.336\" y2=\"270.166\" stroke-linecap=\"round\" style=\"stroke:black;stroke-width:4\"/>\n",
              "        <g visibility=visible transform=\"rotate(240,364.336,270.166) translate(346.336, 252.166)\">\n",
              "<path style=\" stroke:none;fill-rule:evenodd;fill:black;fill-opacity:1;\" d=\"M 18.214844 0.632812 C 16.109375 1.800781 15.011719 4.074219 15.074219 7.132812 L 15.085938 7.652344 L 14.785156 7.496094 C 13.476562 6.824219 11.957031 6.671875 10.40625 7.066406 C 8.46875 7.550781 6.515625 9.15625 4.394531 11.992188 C 3.0625 13.777344 2.679688 14.636719 3.042969 15.027344 L 3.15625 15.152344 L 3.519531 15.152344 C 4.238281 15.152344 4.828125 14.886719 8.1875 13.039062 C 9.386719 12.378906 10.371094 11.839844 10.378906 11.839844 C 10.386719 11.839844 10.355469 11.929688 10.304688 12.035156 C 9.832031 13.09375 9.257812 14.820312 8.96875 16.078125 C 7.914062 20.652344 8.617188 24.53125 11.070312 27.660156 C 11.351562 28.015625 11.363281 27.914062 10.972656 28.382812 C 8.925781 30.84375 7.945312 33.28125 8.238281 35.1875 C 8.289062 35.527344 8.28125 35.523438 8.917969 35.523438 C 10.941406 35.523438 13.074219 34.207031 15.136719 31.6875 C 15.359375 31.417969 15.328125 31.425781 15.5625 31.574219 C 16.292969 32.042969 18.023438 32.964844 18.175781 32.964844 C 18.335938 32.964844 19.941406 32.210938 20.828125 31.71875 C 20.996094 31.625 21.136719 31.554688 21.136719 31.558594 C 21.203125 31.664062 21.898438 32.414062 22.222656 32.730469 C 23.835938 34.300781 25.5625 35.132812 27.582031 35.300781 C 27.90625 35.328125 27.9375 35.308594 28.007812 34.984375 C 28.382812 33.242188 27.625 30.925781 25.863281 28.425781 L 25.542969 27.96875 L 25.699219 27.785156 C 28.945312 23.960938 29.132812 18.699219 26.257812 11.96875 L 26.207031 11.84375 L 27.945312 12.703125 C 31.53125 14.476562 32.316406 14.800781 33.03125 14.800781 C 33.976562 14.800781 33.78125 13.9375 32.472656 12.292969 C 28.519531 7.355469 25.394531 5.925781 21.921875 7.472656 L 21.558594 7.636719 L 21.578125 7.542969 C 21.699219 6.992188 21.761719 5.742188 21.699219 5.164062 C 21.496094 3.296875 20.664062 1.964844 19.003906 0.855469 C 18.480469 0.503906 18.457031 0.5 18.214844 0.632812\"/>\n",
              "</g>\n",
              "      </svg>\n",
              "    "
            ]
          },
          "metadata": {}
        }
      ]
    },
    {
      "cell_type": "code",
      "metadata": {
        "id": "KQ5wYeQ6-18Z",
        "colab": {
          "base_uri": "https://localhost:8080/",
          "height": 371
        },
        "outputId": "992e00a3-d8fc-4e2b-bed1-fc32149c8cc3"
      },
      "source": [
        "cleanSlate(100,100)\n",
        "spiral(200,200)\n",
        "spiral(500,150)"
      ],
      "execution_count": 39,
      "outputs": [
        {
          "output_type": "display_data",
          "data": {
            "text/plain": [
              "<IPython.core.display.HTML object>"
            ],
            "text/html": [
              "\n",
              "      <svg width=\"800\" height=\"350\">\n",
              "        <rect width=\"100%\" height=\"100%\" fill=\"grey\"/>\n",
              "        <line x1=\"200\" y1=\"200\" x2=\"200.0\" y2=\"195.0\" stroke-linecap=\"round\" style=\"stroke:black;stroke-width:4\"/><line x1=\"200.0\" y1=\"195.0\" x2=\"203.5\" y2=\"188.938\" stroke-linecap=\"round\" style=\"stroke:black;stroke-width:4\"/><line x1=\"203.5\" y1=\"188.938\" x2=\"211.294\" y2=\"184.438\" stroke-linecap=\"round\" style=\"stroke:black;stroke-width:4\"/><line x1=\"211.294\" y1=\"184.438\" x2=\"222.294\" y2=\"184.438\" stroke-linecap=\"round\" style=\"stroke:black;stroke-width:4\"/><line x1=\"222.294\" y1=\"184.438\" x2=\"233.552\" y2=\"190.938\" stroke-linecap=\"round\" style=\"stroke:black;stroke-width:4\"/><line x1=\"233.552\" y1=\"190.938\" x2=\"241.052\" y2=\"203.928\" stroke-linecap=\"round\" style=\"stroke:black;stroke-width:4\"/><line x1=\"241.052\" y1=\"203.928\" x2=\"241.052\" y2=\"220.928\" stroke-linecap=\"round\" style=\"stroke:black;stroke-width:4\"/><line x1=\"241.052\" y1=\"220.928\" x2=\"231.552\" y2=\"237.382\" stroke-linecap=\"round\" style=\"stroke:black;stroke-width:4\"/><line x1=\"231.552\" y1=\"237.382\" x2=\"213.365\" y2=\"247.882\" stroke-linecap=\"round\" style=\"stroke:black;stroke-width:4\"/><line x1=\"213.365\" y1=\"247.882\" x2=\"190.365\" y2=\"247.882\" stroke-linecap=\"round\" style=\"stroke:black;stroke-width:4\"/><line x1=\"190.365\" y1=\"247.882\" x2=\"168.714\" y2=\"235.382\" stroke-linecap=\"round\" style=\"stroke:black;stroke-width:4\"/><line x1=\"168.714\" y1=\"235.382\" x2=\"155.214\" y2=\"211.999\" stroke-linecap=\"round\" style=\"stroke:black;stroke-width:4\"/><line x1=\"155.214\" y1=\"211.999\" x2=\"155.214\" y2=\"182.999\" stroke-linecap=\"round\" style=\"stroke:black;stroke-width:4\"/><line x1=\"155.214\" y1=\"182.999\" x2=\"170.714\" y2=\"156.152\" stroke-linecap=\"round\" style=\"stroke:black;stroke-width:4\"/><line x1=\"170.714\" y1=\"156.152\" x2=\"199.293\" y2=\"139.652\" stroke-linecap=\"round\" style=\"stroke:black;stroke-width:4\"/><line x1=\"199.293\" y1=\"139.652\" x2=\"234.293\" y2=\"139.652\" stroke-linecap=\"round\" style=\"stroke:black;stroke-width:4\"/><line x1=\"234.293\" y1=\"139.652\" x2=\"266.336\" y2=\"158.152\" stroke-linecap=\"round\" style=\"stroke:black;stroke-width:4\"/><line x1=\"266.336\" y1=\"158.152\" x2=\"285.836\" y2=\"191.927\" stroke-linecap=\"round\" style=\"stroke:black;stroke-width:4\"/><line x1=\"285.836\" y1=\"191.927\" x2=\"285.836\" y2=\"232.927\" stroke-linecap=\"round\" style=\"stroke:black;stroke-width:4\"/><line x1=\"285.836\" y1=\"232.927\" x2=\"264.336\" y2=\"270.166\" stroke-linecap=\"round\" style=\"stroke:black;stroke-width:4\"/><line x1=\"500\" y1=\"150\" x2=\"495.67\" y2=\"152.5\" stroke-linecap=\"round\" style=\"stroke:black;stroke-width:4\"/><line x1=\"495.67\" y1=\"152.5\" x2=\"488.67\" y2=\"152.5\" stroke-linecap=\"round\" style=\"stroke:black;stroke-width:4\"/><line x1=\"488.67\" y1=\"152.5\" x2=\"480.876\" y2=\"148.0\" stroke-linecap=\"round\" style=\"stroke:black;stroke-width:4\"/><line x1=\"480.876\" y1=\"148.0\" x2=\"475.376\" y2=\"138.474\" stroke-linecap=\"round\" style=\"stroke:black;stroke-width:4\"/><line x1=\"475.376\" y1=\"138.474\" x2=\"475.376\" y2=\"125.474\" stroke-linecap=\"round\" style=\"stroke:black;stroke-width:4\"/><line x1=\"475.376\" y1=\"125.474\" x2=\"482.876\" y2=\"112.484\" stroke-linecap=\"round\" style=\"stroke:black;stroke-width:4\"/><line x1=\"482.876\" y1=\"112.484\" x2=\"497.598\" y2=\"103.984\" stroke-linecap=\"round\" style=\"stroke:black;stroke-width:4\"/><line x1=\"497.598\" y1=\"103.984\" x2=\"516.598\" y2=\"103.984\" stroke-linecap=\"round\" style=\"stroke:black;stroke-width:4\"/><line x1=\"516.598\" y1=\"103.984\" x2=\"534.785\" y2=\"114.484\" stroke-linecap=\"round\" style=\"stroke:black;stroke-width:4\"/><line x1=\"534.785\" y1=\"114.484\" x2=\"546.285\" y2=\"134.403\" stroke-linecap=\"round\" style=\"stroke:black;stroke-width:4\"/><line x1=\"546.285\" y1=\"134.403\" x2=\"546.285\" y2=\"159.403\" stroke-linecap=\"round\" style=\"stroke:black;stroke-width:4\"/><line x1=\"546.285\" y1=\"159.403\" x2=\"532.785\" y2=\"182.786\" stroke-linecap=\"round\" style=\"stroke:black;stroke-width:4\"/><line x1=\"532.785\" y1=\"182.786\" x2=\"507.67\" y2=\"197.286\" stroke-linecap=\"round\" style=\"stroke:black;stroke-width:4\"/><line x1=\"507.67\" y1=\"197.286\" x2=\"476.67\" y2=\"197.286\" stroke-linecap=\"round\" style=\"stroke:black;stroke-width:4\"/><line x1=\"476.67\" y1=\"197.286\" x2=\"448.091\" y2=\"180.786\" stroke-linecap=\"round\" style=\"stroke:black;stroke-width:4\"/><line x1=\"448.091\" y1=\"180.786\" x2=\"430.591\" y2=\"150.475\" stroke-linecap=\"round\" style=\"stroke:black;stroke-width:4\"/><line x1=\"430.591\" y1=\"150.475\" x2=\"430.591\" y2=\"113.475\" stroke-linecap=\"round\" style=\"stroke:black;stroke-width:4\"/><line x1=\"430.591\" y1=\"113.475\" x2=\"450.091\" y2=\"79.7\" stroke-linecap=\"round\" style=\"stroke:black;stroke-width:4\"/><line x1=\"450.091\" y1=\"79.7\" x2=\"485.598\" y2=\"59.2\" stroke-linecap=\"round\" style=\"stroke:black;stroke-width:4\"/><line x1=\"485.598\" y1=\"59.2\" x2=\"528.598\" y2=\"59.2\" stroke-linecap=\"round\" style=\"stroke:black;stroke-width:4\"/>\n",
              "        <g visibility=visible transform=\"rotate(120,528.598,59.2) translate(510.59799999999996, 41.2)\">\n",
              "<path style=\" stroke:none;fill-rule:evenodd;fill:black;fill-opacity:1;\" d=\"M 18.214844 0.632812 C 16.109375 1.800781 15.011719 4.074219 15.074219 7.132812 L 15.085938 7.652344 L 14.785156 7.496094 C 13.476562 6.824219 11.957031 6.671875 10.40625 7.066406 C 8.46875 7.550781 6.515625 9.15625 4.394531 11.992188 C 3.0625 13.777344 2.679688 14.636719 3.042969 15.027344 L 3.15625 15.152344 L 3.519531 15.152344 C 4.238281 15.152344 4.828125 14.886719 8.1875 13.039062 C 9.386719 12.378906 10.371094 11.839844 10.378906 11.839844 C 10.386719 11.839844 10.355469 11.929688 10.304688 12.035156 C 9.832031 13.09375 9.257812 14.820312 8.96875 16.078125 C 7.914062 20.652344 8.617188 24.53125 11.070312 27.660156 C 11.351562 28.015625 11.363281 27.914062 10.972656 28.382812 C 8.925781 30.84375 7.945312 33.28125 8.238281 35.1875 C 8.289062 35.527344 8.28125 35.523438 8.917969 35.523438 C 10.941406 35.523438 13.074219 34.207031 15.136719 31.6875 C 15.359375 31.417969 15.328125 31.425781 15.5625 31.574219 C 16.292969 32.042969 18.023438 32.964844 18.175781 32.964844 C 18.335938 32.964844 19.941406 32.210938 20.828125 31.71875 C 20.996094 31.625 21.136719 31.554688 21.136719 31.558594 C 21.203125 31.664062 21.898438 32.414062 22.222656 32.730469 C 23.835938 34.300781 25.5625 35.132812 27.582031 35.300781 C 27.90625 35.328125 27.9375 35.308594 28.007812 34.984375 C 28.382812 33.242188 27.625 30.925781 25.863281 28.425781 L 25.542969 27.96875 L 25.699219 27.785156 C 28.945312 23.960938 29.132812 18.699219 26.257812 11.96875 L 26.207031 11.84375 L 27.945312 12.703125 C 31.53125 14.476562 32.316406 14.800781 33.03125 14.800781 C 33.976562 14.800781 33.78125 13.9375 32.472656 12.292969 C 28.519531 7.355469 25.394531 5.925781 21.921875 7.472656 L 21.558594 7.636719 L 21.578125 7.542969 C 21.699219 6.992188 21.761719 5.742188 21.699219 5.164062 C 21.496094 3.296875 20.664062 1.964844 19.003906 0.855469 C 18.480469 0.503906 18.457031 0.5 18.214844 0.632812\"/>\n",
              "</g>\n",
              "      </svg>\n",
              "    "
            ]
          },
          "metadata": {}
        }
      ]
    },
    {
      "cell_type": "code",
      "metadata": {
        "id": "XPl7ABIcKIxk"
      },
      "source": [
        "def spiral2(X, Y, change,sS,mS,deg):\n",
        "    penup()\n",
        "    goto(X,Y)\n",
        "    pendown()\n",
        "    stepCount = 0\n",
        "    while (stepCount < mS):\n",
        "        forward(sS)\n",
        "        right(deg)\n",
        "        sS = sS + change\n",
        "        stepCount = stepCount + 1\n"
      ],
      "execution_count": 46,
      "outputs": []
    },
    {
      "cell_type": "code",
      "metadata": {
        "id": "cllGAPv6KX7G",
        "colab": {
          "base_uri": "https://localhost:8080/",
          "height": 371
        },
        "outputId": "283240e6-b3fc-48e1-8910-6822a8852383"
      },
      "source": [
        "cleanSlate(100,100)\n",
        "spiral2(200,200,2,10,20,30)\n",
        "spiral2(500,150,3,5,30,60)"
      ],
      "execution_count": 41,
      "outputs": [
        {
          "output_type": "display_data",
          "data": {
            "text/plain": [
              "<IPython.core.display.HTML object>"
            ],
            "text/html": [
              "\n",
              "      <svg width=\"800\" height=\"350\">\n",
              "        <rect width=\"100%\" height=\"100%\" fill=\"grey\"/>\n",
              "        <line x1=\"200\" y1=\"200\" x2=\"200.0\" y2=\"190.0\" stroke-linecap=\"round\" style=\"stroke:black;stroke-width:4\"/><line x1=\"200.0\" y1=\"190.0\" x2=\"206.0\" y2=\"179.608\" stroke-linecap=\"round\" style=\"stroke:black;stroke-width:4\"/><line x1=\"206.0\" y1=\"179.608\" x2=\"218.124\" y2=\"172.608\" stroke-linecap=\"round\" style=\"stroke:black;stroke-width:4\"/><line x1=\"218.124\" y1=\"172.608\" x2=\"234.124\" y2=\"172.608\" stroke-linecap=\"round\" style=\"stroke:black;stroke-width:4\"/><line x1=\"234.124\" y1=\"172.608\" x2=\"249.712\" y2=\"181.608\" stroke-linecap=\"round\" style=\"stroke:black;stroke-width:4\"/><line x1=\"249.712\" y1=\"181.608\" x2=\"259.712\" y2=\"198.929\" stroke-linecap=\"round\" style=\"stroke:black;stroke-width:4\"/><line x1=\"259.712\" y1=\"198.929\" x2=\"259.712\" y2=\"220.929\" stroke-linecap=\"round\" style=\"stroke:black;stroke-width:4\"/><line x1=\"259.712\" y1=\"220.929\" x2=\"247.712\" y2=\"241.714\" stroke-linecap=\"round\" style=\"stroke:black;stroke-width:4\"/><line x1=\"247.712\" y1=\"241.714\" x2=\"225.195\" y2=\"254.714\" stroke-linecap=\"round\" style=\"stroke:black;stroke-width:4\"/><line x1=\"225.195\" y1=\"254.714\" x2=\"197.195\" y2=\"254.714\" stroke-linecap=\"round\" style=\"stroke:black;stroke-width:4\"/><line x1=\"197.195\" y1=\"254.714\" x2=\"171.214\" y2=\"239.714\" stroke-linecap=\"round\" style=\"stroke:black;stroke-width:4\"/><line x1=\"171.214\" y1=\"239.714\" x2=\"155.214\" y2=\"212.001\" stroke-linecap=\"round\" style=\"stroke:black;stroke-width:4\"/><line x1=\"155.214\" y1=\"212.001\" x2=\"155.214\" y2=\"178.001\" stroke-linecap=\"round\" style=\"stroke:black;stroke-width:4\"/><line x1=\"155.214\" y1=\"178.001\" x2=\"173.214\" y2=\"146.824\" stroke-linecap=\"round\" style=\"stroke:black;stroke-width:4\"/><line x1=\"173.214\" y1=\"146.824\" x2=\"206.123\" y2=\"127.824\" stroke-linecap=\"round\" style=\"stroke:black;stroke-width:4\"/><line x1=\"206.123\" y1=\"127.824\" x2=\"246.123\" y2=\"127.824\" stroke-linecap=\"round\" style=\"stroke:black;stroke-width:4\"/><line x1=\"246.123\" y1=\"127.824\" x2=\"282.496\" y2=\"148.824\" stroke-linecap=\"round\" style=\"stroke:black;stroke-width:4\"/><line x1=\"282.496\" y1=\"148.824\" x2=\"304.496\" y2=\"186.929\" stroke-linecap=\"round\" style=\"stroke:black;stroke-width:4\"/><line x1=\"304.496\" y1=\"186.929\" x2=\"304.496\" y2=\"232.929\" stroke-linecap=\"round\" style=\"stroke:black;stroke-width:4\"/><line x1=\"304.496\" y1=\"232.929\" x2=\"280.496\" y2=\"274.498\" stroke-linecap=\"round\" style=\"stroke:black;stroke-width:4\"/><line x1=\"500\" y1=\"150\" x2=\"495.67\" y2=\"152.5\" stroke-linecap=\"round\" style=\"stroke:black;stroke-width:4\"/><line x1=\"495.67\" y1=\"152.5\" x2=\"488.742\" y2=\"148.5\" stroke-linecap=\"round\" style=\"stroke:black;stroke-width:4\"/><line x1=\"488.742\" y1=\"148.5\" x2=\"488.742\" y2=\"137.5\" stroke-linecap=\"round\" style=\"stroke:black;stroke-width:4\"/><line x1=\"488.742\" y1=\"137.5\" x2=\"500.866\" y2=\"130.5\" stroke-linecap=\"round\" style=\"stroke:black;stroke-width:4\"/><line x1=\"500.866\" y1=\"130.5\" x2=\"515.588\" y2=\"139.0\" stroke-linecap=\"round\" style=\"stroke:black;stroke-width:4\"/><line x1=\"515.588\" y1=\"139.0\" x2=\"515.588\" y2=\"159.0\" stroke-linecap=\"round\" style=\"stroke:black;stroke-width:4\"/><line x1=\"515.588\" y1=\"159.0\" x2=\"495.669\" y2=\"170.5\" stroke-linecap=\"round\" style=\"stroke:black;stroke-width:4\"/><line x1=\"495.669\" y1=\"170.5\" x2=\"473.152\" y2=\"157.5\" stroke-linecap=\"round\" style=\"stroke:black;stroke-width:4\"/><line x1=\"473.152\" y1=\"157.5\" x2=\"473.152\" y2=\"128.5\" stroke-linecap=\"round\" style=\"stroke:black;stroke-width:4\"/><line x1=\"473.152\" y1=\"128.5\" x2=\"500.865\" y2=\"112.5\" stroke-linecap=\"round\" style=\"stroke:black;stroke-width:4\"/><line x1=\"500.865\" y1=\"112.5\" x2=\"531.176\" y2=\"130.0\" stroke-linecap=\"round\" style=\"stroke:black;stroke-width:4\"/><line x1=\"531.176\" y1=\"130.0\" x2=\"531.176\" y2=\"168.0\" stroke-linecap=\"round\" style=\"stroke:black;stroke-width:4\"/><line x1=\"531.176\" y1=\"168.0\" x2=\"495.669\" y2=\"188.5\" stroke-linecap=\"round\" style=\"stroke:black;stroke-width:4\"/><line x1=\"495.669\" y1=\"188.5\" x2=\"457.564\" y2=\"166.5\" stroke-linecap=\"round\" style=\"stroke:black;stroke-width:4\"/><line x1=\"457.564\" y1=\"166.5\" x2=\"457.564\" y2=\"119.5\" stroke-linecap=\"round\" style=\"stroke:black;stroke-width:4\"/><line x1=\"457.564\" y1=\"119.5\" x2=\"500.865\" y2=\"94.5\" stroke-linecap=\"round\" style=\"stroke:black;stroke-width:4\"/><line x1=\"500.865\" y1=\"94.5\" x2=\"546.764\" y2=\"121.0\" stroke-linecap=\"round\" style=\"stroke:black;stroke-width:4\"/><line x1=\"546.764\" y1=\"121.0\" x2=\"546.764\" y2=\"177.0\" stroke-linecap=\"round\" style=\"stroke:black;stroke-width:4\"/><line x1=\"546.764\" y1=\"177.0\" x2=\"495.669\" y2=\"206.5\" stroke-linecap=\"round\" style=\"stroke:black;stroke-width:4\"/><line x1=\"495.669\" y1=\"206.5\" x2=\"441.975\" y2=\"175.5\" stroke-linecap=\"round\" style=\"stroke:black;stroke-width:4\"/><line x1=\"441.975\" y1=\"175.5\" x2=\"441.975\" y2=\"110.5\" stroke-linecap=\"round\" style=\"stroke:black;stroke-width:4\"/><line x1=\"441.975\" y1=\"110.5\" x2=\"500.865\" y2=\"76.5\" stroke-linecap=\"round\" style=\"stroke:black;stroke-width:4\"/><line x1=\"500.865\" y1=\"76.5\" x2=\"562.353\" y2=\"112.0\" stroke-linecap=\"round\" style=\"stroke:black;stroke-width:4\"/><line x1=\"562.353\" y1=\"112.0\" x2=\"562.353\" y2=\"186.0\" stroke-linecap=\"round\" style=\"stroke:black;stroke-width:4\"/><line x1=\"562.353\" y1=\"186.0\" x2=\"495.669\" y2=\"224.5\" stroke-linecap=\"round\" style=\"stroke:black;stroke-width:4\"/><line x1=\"495.669\" y1=\"224.5\" x2=\"426.387\" y2=\"184.5\" stroke-linecap=\"round\" style=\"stroke:black;stroke-width:4\"/><line x1=\"426.387\" y1=\"184.5\" x2=\"426.387\" y2=\"101.5\" stroke-linecap=\"round\" style=\"stroke:black;stroke-width:4\"/><line x1=\"426.387\" y1=\"101.5\" x2=\"500.865\" y2=\"58.5\" stroke-linecap=\"round\" style=\"stroke:black;stroke-width:4\"/><line x1=\"500.865\" y1=\"58.5\" x2=\"577.941\" y2=\"103.0\" stroke-linecap=\"round\" style=\"stroke:black;stroke-width:4\"/><line x1=\"577.941\" y1=\"103.0\" x2=\"577.941\" y2=\"195.0\" stroke-linecap=\"round\" style=\"stroke:black;stroke-width:4\"/>\n",
              "        <g visibility=visible transform=\"rotate(240,577.941,195.0) translate(559.941, 177.0)\">\n",
              "<path style=\" stroke:none;fill-rule:evenodd;fill:black;fill-opacity:1;\" d=\"M 18.214844 0.632812 C 16.109375 1.800781 15.011719 4.074219 15.074219 7.132812 L 15.085938 7.652344 L 14.785156 7.496094 C 13.476562 6.824219 11.957031 6.671875 10.40625 7.066406 C 8.46875 7.550781 6.515625 9.15625 4.394531 11.992188 C 3.0625 13.777344 2.679688 14.636719 3.042969 15.027344 L 3.15625 15.152344 L 3.519531 15.152344 C 4.238281 15.152344 4.828125 14.886719 8.1875 13.039062 C 9.386719 12.378906 10.371094 11.839844 10.378906 11.839844 C 10.386719 11.839844 10.355469 11.929688 10.304688 12.035156 C 9.832031 13.09375 9.257812 14.820312 8.96875 16.078125 C 7.914062 20.652344 8.617188 24.53125 11.070312 27.660156 C 11.351562 28.015625 11.363281 27.914062 10.972656 28.382812 C 8.925781 30.84375 7.945312 33.28125 8.238281 35.1875 C 8.289062 35.527344 8.28125 35.523438 8.917969 35.523438 C 10.941406 35.523438 13.074219 34.207031 15.136719 31.6875 C 15.359375 31.417969 15.328125 31.425781 15.5625 31.574219 C 16.292969 32.042969 18.023438 32.964844 18.175781 32.964844 C 18.335938 32.964844 19.941406 32.210938 20.828125 31.71875 C 20.996094 31.625 21.136719 31.554688 21.136719 31.558594 C 21.203125 31.664062 21.898438 32.414062 22.222656 32.730469 C 23.835938 34.300781 25.5625 35.132812 27.582031 35.300781 C 27.90625 35.328125 27.9375 35.308594 28.007812 34.984375 C 28.382812 33.242188 27.625 30.925781 25.863281 28.425781 L 25.542969 27.96875 L 25.699219 27.785156 C 28.945312 23.960938 29.132812 18.699219 26.257812 11.96875 L 26.207031 11.84375 L 27.945312 12.703125 C 31.53125 14.476562 32.316406 14.800781 33.03125 14.800781 C 33.976562 14.800781 33.78125 13.9375 32.472656 12.292969 C 28.519531 7.355469 25.394531 5.925781 21.921875 7.472656 L 21.558594 7.636719 L 21.578125 7.542969 C 21.699219 6.992188 21.761719 5.742188 21.699219 5.164062 C 21.496094 3.296875 20.664062 1.964844 19.003906 0.855469 C 18.480469 0.503906 18.457031 0.5 18.214844 0.632812\"/>\n",
              "</g>\n",
              "      </svg>\n",
              "    "
            ]
          },
          "metadata": {}
        }
      ]
    },
    {
      "cell_type": "code",
      "metadata": {
        "id": "letMDXAXOXJa"
      },
      "source": [
        "def isOutsideWindow(maxX,maxY):\n",
        "    x = getx()\n",
        "    y = gety()\n",
        "    if (x<0) or (x>maxX) or (y<0 ) or (y>maxY):\n",
        "        return True\n",
        "    else:\n",
        "        return False"
      ],
      "execution_count": null,
      "outputs": []
    },
    {
      "cell_type": "code",
      "metadata": {
        "id": "-RBqUCl8PQqC",
        "colab": {
          "base_uri": "https://localhost:8080/",
          "height": 371
        },
        "outputId": "a77d0293-3c1d-4a2f-8a24-1aa424eea619"
      },
      "source": [
        "cleanSlate(100,100)\n",
        "spiral2(200,200,5,20,20,30)"
      ],
      "execution_count": null,
      "outputs": [
        {
          "output_type": "display_data",
          "data": {
            "text/html": [
              "\n",
              "      <svg width=\"800\" height=\"350\">\n",
              "        <rect width=\"100%\" height=\"100%\" fill=\"grey\"/>\n",
              "        <line x1=\"200\" y1=\"200\" x2=\"200.0\" y2=\"180.0\" stroke-linecap=\"round\" style=\"stroke:black;stroke-width:4\"/><line x1=\"200.0\" y1=\"180.0\" x2=\"212.5\" y2=\"158.34936490538902\" stroke-linecap=\"round\" style=\"stroke:black;stroke-width:4\"/><line x1=\"212.5\" y1=\"158.34936490538902\" x2=\"238.48076211353316\" y2=\"143.349364905389\" stroke-linecap=\"round\" style=\"stroke:black;stroke-width:4\"/><line x1=\"238.48076211353316\" y1=\"143.349364905389\" x2=\"273.48076211353316\" y2=\"143.349364905389\" stroke-linecap=\"round\" style=\"stroke:black;stroke-width:4\"/><line x1=\"273.48076211353316\" y1=\"143.349364905389\" x2=\"308.1217782649107\" y2=\"163.349364905389\" stroke-linecap=\"round\" style=\"stroke:black;stroke-width:4\"/><line x1=\"308.1217782649107\" y1=\"163.349364905389\" x2=\"330.6217782649107\" y2=\"202.32050807568874\" stroke-linecap=\"round\" style=\"stroke:black;stroke-width:4\"/><line x1=\"330.6217782649107\" y1=\"202.32050807568874\" x2=\"330.6217782649107\" y2=\"252.32050807568874\" stroke-linecap=\"round\" style=\"stroke:black;stroke-width:4\"/><line x1=\"330.6217782649107\" y1=\"252.32050807568874\" x2=\"303.1217782649107\" y2=\"299.95190528383284\" stroke-linecap=\"round\" style=\"stroke:black;stroke-width:4\"/><line x1=\"303.1217782649107\" y1=\"299.95190528383284\" x2=\"251.16025403784437\" y2=\"329.95190528383284\" stroke-linecap=\"round\" style=\"stroke:black;stroke-width:4\"/><line x1=\"251.16025403784437\" y1=\"329.95190528383284\" x2=\"186.16025403784437\" y2=\"329.95190528383284\" stroke-linecap=\"round\" style=\"stroke:black;stroke-width:4\"/><line x1=\"186.16025403784437\" y1=\"329.95190528383284\" x2=\"125.53847577293367\" y2=\"294.95190528383284\" stroke-linecap=\"round\" style=\"stroke:black;stroke-width:4\"/><line x1=\"125.53847577293367\" y1=\"294.95190528383284\" x2=\"88.03847577293362\" y2=\"229.99999999999997\" stroke-linecap=\"round\" style=\"stroke:black;stroke-width:4\"/><line x1=\"88.03847577293362\" y1=\"229.99999999999997\" x2=\"88.03847577293361\" y2=\"149.99999999999997\" stroke-linecap=\"round\" style=\"stroke:black;stroke-width:4\"/><line x1=\"88.03847577293361\" y1=\"149.99999999999997\" x2=\"130.53847577293362\" y2=\"76.38784067832269\" stroke-linecap=\"round\" style=\"stroke:black;stroke-width:4\"/><line x1=\"130.53847577293362\" y1=\"76.38784067832269\" x2=\"208.48076211353307\" y2=\"31.387840678322647\" stroke-linecap=\"round\" style=\"stroke:black;stroke-width:4\"/><line x1=\"208.48076211353307\" y1=\"31.387840678322647\" x2=\"303.48076211353305\" y2=\"31.387840678322647\" stroke-linecap=\"round\" style=\"stroke:black;stroke-width:4\"/><line x1=\"303.48076211353305\" y1=\"31.387840678322647\" x2=\"390.08330249197695\" y2=\"81.38784067832265\" stroke-linecap=\"round\" style=\"stroke:black;stroke-width:4\"/><line x1=\"390.08330249197695\" y1=\"81.38784067832265\" x2=\"442.58330249197695\" y2=\"172.32050807568868\" stroke-linecap=\"round\" style=\"stroke:black;stroke-width:4\"/><line x1=\"442.58330249197695\" y1=\"172.32050807568868\" x2=\"442.58330249197695\" y2=\"282.3205080756887\" stroke-linecap=\"round\" style=\"stroke:black;stroke-width:4\"/><line x1=\"442.58330249197695\" y1=\"282.3205080756887\" x2=\"385.08330249197695\" y2=\"381.91342951089916\" stroke-linecap=\"round\" style=\"stroke:black;stroke-width:4\"/>\n",
              "        \n",
              "      <g visibility=visible transform=\"rotate(60,385.08330249197695,381.91342951089916) translate(385.08330249197695, 381.91342951089916)\">\n",
              "        <circle stroke=\"black\" stroke-width=\"3\" fill=\"transparent\" r=\"12\" cx=\"0\" cy=\"0\"/>\n",
              "        <polygon points=\"0,19 3,16 -3,16\" style=\"fill:black;stroke:black;stroke-width:2\"/>\n",
              "      </g>\n",
              "    \n",
              "      </svg>\n",
              "    "
            ],
            "text/plain": [
              "<IPython.core.display.HTML object>"
            ]
          },
          "metadata": {
            "tags": []
          }
        }
      ]
    },
    {
      "cell_type": "code",
      "metadata": {
        "id": "Y8Kg3wlwPiyn"
      },
      "source": [
        "def spiral3(X, Y, change,sS,mS,deg):\n",
        "    penup()\n",
        "    goto(X,Y)\n",
        "    pendown()\n",
        "    stepCount = 0\n",
        "    while (stepCount < mS):\n",
        "        forward(sS)\n",
        "        if (isOutsideWindow(800,350)):\n",
        "            penup()\n",
        "            goto(400,175)\n",
        "            pendown()\n",
        "            sS = 5\n",
        "        right(deg)\n",
        "        sS = sS + change\n",
        "        stepCount = stepCount + 1"
      ],
      "execution_count": null,
      "outputs": []
    },
    {
      "cell_type": "code",
      "metadata": {
        "id": "LdDFejkkQAb8",
        "colab": {
          "base_uri": "https://localhost:8080/",
          "height": 371
        },
        "outputId": "8c544424-a629-435f-e991-ba9e0ce397d7"
      },
      "source": [
        "cleanSlate(100,100)\n",
        "spiral3(200,200,10,30,20,30)"
      ],
      "execution_count": null,
      "outputs": [
        {
          "output_type": "display_data",
          "data": {
            "text/html": [
              "\n",
              "      <svg width=\"800\" height=\"350\">\n",
              "        <rect width=\"100%\" height=\"100%\" fill=\"grey\"/>\n",
              "        <line x1=\"200\" y1=\"200\" x2=\"200.0\" y2=\"170.0\" stroke-linecap=\"round\" style=\"stroke:black;stroke-width:4\"/><line x1=\"200.0\" y1=\"170.0\" x2=\"220.0\" y2=\"135.35898384862247\" stroke-linecap=\"round\" style=\"stroke:black;stroke-width:4\"/><line x1=\"220.0\" y1=\"135.35898384862247\" x2=\"263.3012701892219\" y2=\"110.35898384862244\" stroke-linecap=\"round\" style=\"stroke:black;stroke-width:4\"/><line x1=\"263.3012701892219\" y1=\"110.35898384862244\" x2=\"323.3012701892219\" y2=\"110.35898384862244\" stroke-linecap=\"round\" style=\"stroke:black;stroke-width:4\"/><line x1=\"323.3012701892219\" y1=\"110.35898384862244\" x2=\"383.9230484541326\" y2=\"145.35898384862244\" stroke-linecap=\"round\" style=\"stroke:black;stroke-width:4\"/><line x1=\"383.9230484541326\" y1=\"145.35898384862244\" x2=\"423.9230484541326\" y2=\"214.64101615137753\" stroke-linecap=\"round\" style=\"stroke:black;stroke-width:4\"/><line x1=\"423.9230484541326\" y1=\"214.64101615137753\" x2=\"423.9230484541326\" y2=\"304.6410161513775\" stroke-linecap=\"round\" style=\"stroke:black;stroke-width:4\"/><line x1=\"423.9230484541326\" y1=\"304.6410161513775\" x2=\"373.9230484541326\" y2=\"391.2435565298214\" stroke-linecap=\"round\" style=\"stroke:black;stroke-width:4\"/><line x1=\"400\" y1=\"175\" x2=\"387.0096189432334\" y2=\"182.5\" stroke-linecap=\"round\" style=\"stroke:black;stroke-width:4\"/><line x1=\"387.0096189432334\" y1=\"182.5\" x2=\"362.0096189432334\" y2=\"182.5\" stroke-linecap=\"round\" style=\"stroke:black;stroke-width:4\"/><line x1=\"362.0096189432334\" y1=\"182.5\" x2=\"331.69872981077805\" y2=\"165.0\" stroke-linecap=\"round\" style=\"stroke:black;stroke-width:4\"/><line x1=\"331.69872981077805\" y1=\"165.0\" x2=\"309.19872981077805\" y2=\"126.02885682970027\" stroke-linecap=\"round\" style=\"stroke:black;stroke-width:4\"/><line x1=\"309.19872981077805\" y1=\"126.02885682970027\" x2=\"309.19872981077805\" y2=\"71.02885682970027\" stroke-linecap=\"round\" style=\"stroke:black;stroke-width:4\"/><line x1=\"309.19872981077805\" y1=\"71.02885682970027\" x2=\"341.69872981077805\" y2=\"14.737205583711763\" stroke-linecap=\"round\" style=\"stroke:black;stroke-width:4\"/><line x1=\"341.69872981077805\" y1=\"14.737205583711763\" x2=\"406.65063509461095\" y2=\"-22.762794416288273\" stroke-linecap=\"round\" style=\"stroke:black;stroke-width:4\"/><line x1=\"400\" y1=\"175\" x2=\"415.0\" y2=\"175.0\" stroke-linecap=\"round\" style=\"stroke:black;stroke-width:4\"/><line x1=\"415.0\" y1=\"175.0\" x2=\"436.65063509461095\" y2=\"187.5\" stroke-linecap=\"round\" style=\"stroke:black;stroke-width:4\"/><line x1=\"436.65063509461095\" y1=\"187.5\" x2=\"454.15063509461095\" y2=\"217.81088913245534\" stroke-linecap=\"round\" style=\"stroke:black;stroke-width:4\"/><line x1=\"454.15063509461095\" y1=\"217.81088913245534\" x2=\"454.15063509461095\" y2=\"262.8108891324554\" stroke-linecap=\"round\" style=\"stroke:black;stroke-width:4\"/><line x1=\"454.15063509461095\" y1=\"262.8108891324554\" x2=\"426.65063509461095\" y2=\"310.4422863405995\" stroke-linecap=\"round\" style=\"stroke:black;stroke-width:4\"/>\n",
              "        \n",
              "      <g visibility=visible transform=\"rotate(60,426.65063509461095,310.4422863405995) translate(426.65063509461095, 310.4422863405995)\">\n",
              "        <circle stroke=\"black\" stroke-width=\"3\" fill=\"transparent\" r=\"12\" cx=\"0\" cy=\"0\"/>\n",
              "        <polygon points=\"0,19 3,16 -3,16\" style=\"fill:black;stroke:black;stroke-width:2\"/>\n",
              "      </g>\n",
              "    \n",
              "      </svg>\n",
              "    "
            ],
            "text/plain": [
              "<IPython.core.display.HTML object>"
            ]
          },
          "metadata": {
            "tags": []
          }
        }
      ]
    },
    {
      "cell_type": "markdown",
      "metadata": {
        "id": "frTmL2_W99wR"
      },
      "source": [
        "#9 Office Supplies"
      ]
    },
    {
      "cell_type": "code",
      "metadata": {
        "id": "ILfcjKrS98nv",
        "colab": {
          "base_uri": "https://localhost:8080/",
          "height": 322
        },
        "outputId": "4b2e7aad-a196-43fb-a14d-83f28c75718f"
      },
      "source": [
        "#!wget -O OfficeSupplies.csv 'https://drive.google.com/uc?export=download&id=15iYK-17rF-b4g4Grk48RRME2TjR6yBXk'\n",
        "!wget https://raw.githubusercontent.com/Praxis-QR/PythonForManagers/main/Data/OfficeSupplies.csv"
      ],
      "execution_count": null,
      "outputs": [
        {
          "output_type": "stream",
          "text": [
            "--2020-08-31 03:51:34--  https://drive.google.com/uc?export=download&id=15iYK-17rF-b4g4Grk48RRME2TjR6yBXk\n",
            "Resolving drive.google.com (drive.google.com)... 172.217.203.102, 172.217.203.139, 172.217.203.101, ...\n",
            "Connecting to drive.google.com (drive.google.com)|172.217.203.102|:443... connected.\n",
            "HTTP request sent, awaiting response... 302 Moved Temporarily\n",
            "Location: https://doc-00-c8-docs.googleusercontent.com/docs/securesc/ha0ro937gcuc7l7deffksulhg5h7mbp1/fbuem17r6or1cr2i99k2pudekm97kmr5/1598845875000/07359704569516326975/*/15iYK-17rF-b4g4Grk48RRME2TjR6yBXk?e=download [following]\n",
            "Warning: wildcards not supported in HTTP.\n",
            "--2020-08-31 03:51:34--  https://doc-00-c8-docs.googleusercontent.com/docs/securesc/ha0ro937gcuc7l7deffksulhg5h7mbp1/fbuem17r6or1cr2i99k2pudekm97kmr5/1598845875000/07359704569516326975/*/15iYK-17rF-b4g4Grk48RRME2TjR6yBXk?e=download\n",
            "Resolving doc-00-c8-docs.googleusercontent.com (doc-00-c8-docs.googleusercontent.com)... 173.194.215.132, 2607:f8b0:400c:c0c::84\n",
            "Connecting to doc-00-c8-docs.googleusercontent.com (doc-00-c8-docs.googleusercontent.com)|173.194.215.132|:443... connected.\n",
            "HTTP request sent, awaiting response... 200 OK\n",
            "Length: 1787 (1.7K) [text/csv]\n",
            "Saving to: ‘OfficeSupplies.csv’\n",
            "\n",
            "OfficeSupplies.csv  100%[===================>]   1.75K  --.-KB/s    in 0s      \n",
            "\n",
            "2020-08-31 03:51:34 (76.2 MB/s) - ‘OfficeSupplies.csv’ saved [1787/1787]\n",
            "\n"
          ],
          "name": "stdout"
        }
      ]
    },
    {
      "cell_type": "code",
      "metadata": {
        "id": "MjpMDUXEEBjz"
      },
      "source": [
        "import pandas as pd\n",
        "import numpy as np"
      ],
      "execution_count": null,
      "outputs": []
    },
    {
      "cell_type": "code",
      "metadata": {
        "id": "AQ8Tnv2vEGH3"
      },
      "source": [
        "dfOS = pd.read_csv(\"OfficeSupplies.csv\")"
      ],
      "execution_count": null,
      "outputs": []
    },
    {
      "cell_type": "code",
      "metadata": {
        "id": "opmTwXk2F__T",
        "colab": {
          "base_uri": "https://localhost:8080/",
          "height": 1000
        },
        "outputId": "0696f18a-2d0c-444f-e3c4-2dfb6aaf1216"
      },
      "source": [
        "dfOS"
      ],
      "execution_count": null,
      "outputs": [
        {
          "output_type": "execute_result",
          "data": {
            "text/html": [
              "<div>\n",
              "<style scoped>\n",
              "    .dataframe tbody tr th:only-of-type {\n",
              "        vertical-align: middle;\n",
              "    }\n",
              "\n",
              "    .dataframe tbody tr th {\n",
              "        vertical-align: top;\n",
              "    }\n",
              "\n",
              "    .dataframe thead th {\n",
              "        text-align: right;\n",
              "    }\n",
              "</style>\n",
              "<table border=\"1\" class=\"dataframe\">\n",
              "  <thead>\n",
              "    <tr style=\"text-align: right;\">\n",
              "      <th></th>\n",
              "      <th>OrderDate</th>\n",
              "      <th>Region</th>\n",
              "      <th>Rep</th>\n",
              "      <th>Item</th>\n",
              "      <th>Units</th>\n",
              "      <th>Unit Price</th>\n",
              "    </tr>\n",
              "  </thead>\n",
              "  <tbody>\n",
              "    <tr>\n",
              "      <th>0</th>\n",
              "      <td>4-Jul-2014</td>\n",
              "      <td>East</td>\n",
              "      <td>Richard</td>\n",
              "      <td>Pen Set</td>\n",
              "      <td>62</td>\n",
              "      <td>4.99</td>\n",
              "    </tr>\n",
              "    <tr>\n",
              "      <th>1</th>\n",
              "      <td>12-Jul-2014</td>\n",
              "      <td>East</td>\n",
              "      <td>Nick</td>\n",
              "      <td>Binder</td>\n",
              "      <td>29</td>\n",
              "      <td>1.99</td>\n",
              "    </tr>\n",
              "    <tr>\n",
              "      <th>2</th>\n",
              "      <td>21-Jul-2014</td>\n",
              "      <td>Central</td>\n",
              "      <td>Morgan</td>\n",
              "      <td>Pen Set</td>\n",
              "      <td>55</td>\n",
              "      <td>12.49</td>\n",
              "    </tr>\n",
              "    <tr>\n",
              "      <th>3</th>\n",
              "      <td>29-Jul-2014</td>\n",
              "      <td>East</td>\n",
              "      <td>Susan</td>\n",
              "      <td>Binder</td>\n",
              "      <td>81</td>\n",
              "      <td>19.99</td>\n",
              "    </tr>\n",
              "    <tr>\n",
              "      <th>4</th>\n",
              "      <td>7-Aug-2014</td>\n",
              "      <td>Central</td>\n",
              "      <td>Matthew</td>\n",
              "      <td>Pen Set</td>\n",
              "      <td>42</td>\n",
              "      <td>23.95</td>\n",
              "    </tr>\n",
              "    <tr>\n",
              "      <th>5</th>\n",
              "      <td>15-Aug-2014</td>\n",
              "      <td>East</td>\n",
              "      <td>Richard</td>\n",
              "      <td>Pencil</td>\n",
              "      <td>35</td>\n",
              "      <td>4.99</td>\n",
              "    </tr>\n",
              "    <tr>\n",
              "      <th>6</th>\n",
              "      <td>24-Aug-2014</td>\n",
              "      <td>West</td>\n",
              "      <td>James</td>\n",
              "      <td>Desk</td>\n",
              "      <td>3</td>\n",
              "      <td>275.00</td>\n",
              "    </tr>\n",
              "    <tr>\n",
              "      <th>7</th>\n",
              "      <td>1-Sep-2014</td>\n",
              "      <td>Central</td>\n",
              "      <td>Smith</td>\n",
              "      <td>Desk</td>\n",
              "      <td>2</td>\n",
              "      <td>125.00</td>\n",
              "    </tr>\n",
              "    <tr>\n",
              "      <th>8</th>\n",
              "      <td>10-Sep-2014</td>\n",
              "      <td>Central</td>\n",
              "      <td>Bill</td>\n",
              "      <td>Pencil</td>\n",
              "      <td>7</td>\n",
              "      <td>1.29</td>\n",
              "    </tr>\n",
              "    <tr>\n",
              "      <th>9</th>\n",
              "      <td>18-Sep-2014</td>\n",
              "      <td>East</td>\n",
              "      <td>Richard</td>\n",
              "      <td>Pen Set</td>\n",
              "      <td>16</td>\n",
              "      <td>15.99</td>\n",
              "    </tr>\n",
              "    <tr>\n",
              "      <th>10</th>\n",
              "      <td>27-Sep-2014</td>\n",
              "      <td>West</td>\n",
              "      <td>James</td>\n",
              "      <td>Pen</td>\n",
              "      <td>76</td>\n",
              "      <td>1.99</td>\n",
              "    </tr>\n",
              "    <tr>\n",
              "      <th>11</th>\n",
              "      <td>5-Oct-2014</td>\n",
              "      <td>Central</td>\n",
              "      <td>Morgan</td>\n",
              "      <td>Binder</td>\n",
              "      <td>28</td>\n",
              "      <td>8.99</td>\n",
              "    </tr>\n",
              "    <tr>\n",
              "      <th>12</th>\n",
              "      <td>14-Oct-2014</td>\n",
              "      <td>West</td>\n",
              "      <td>Thomas</td>\n",
              "      <td>Binder</td>\n",
              "      <td>57</td>\n",
              "      <td>19.99</td>\n",
              "    </tr>\n",
              "    <tr>\n",
              "      <th>13</th>\n",
              "      <td>22-Oct-2014</td>\n",
              "      <td>East</td>\n",
              "      <td>Richard</td>\n",
              "      <td>Pen</td>\n",
              "      <td>64</td>\n",
              "      <td>8.99</td>\n",
              "    </tr>\n",
              "    <tr>\n",
              "      <th>14</th>\n",
              "      <td>31-Oct-2014</td>\n",
              "      <td>Central</td>\n",
              "      <td>Rachel</td>\n",
              "      <td>Pencil</td>\n",
              "      <td>14</td>\n",
              "      <td>1.29</td>\n",
              "    </tr>\n",
              "    <tr>\n",
              "      <th>15</th>\n",
              "      <td>8-Nov-2014</td>\n",
              "      <td>East</td>\n",
              "      <td>Susan</td>\n",
              "      <td>Pen</td>\n",
              "      <td>15</td>\n",
              "      <td>19.99</td>\n",
              "    </tr>\n",
              "    <tr>\n",
              "      <th>16</th>\n",
              "      <td>17-Nov-2014</td>\n",
              "      <td>Central</td>\n",
              "      <td>Alex</td>\n",
              "      <td>Binder</td>\n",
              "      <td>11</td>\n",
              "      <td>4.99</td>\n",
              "    </tr>\n",
              "    <tr>\n",
              "      <th>17</th>\n",
              "      <td>25-Nov-2014</td>\n",
              "      <td>Central</td>\n",
              "      <td>Matthew</td>\n",
              "      <td>Pen Set</td>\n",
              "      <td>96</td>\n",
              "      <td>4.99</td>\n",
              "    </tr>\n",
              "    <tr>\n",
              "      <th>18</th>\n",
              "      <td>4-Dec-2014</td>\n",
              "      <td>Central</td>\n",
              "      <td>Alex</td>\n",
              "      <td>Binder</td>\n",
              "      <td>94</td>\n",
              "      <td>19.99</td>\n",
              "    </tr>\n",
              "    <tr>\n",
              "      <th>19</th>\n",
              "      <td>12-Dec-2014</td>\n",
              "      <td>Central</td>\n",
              "      <td>Smith</td>\n",
              "      <td>Pencil</td>\n",
              "      <td>67</td>\n",
              "      <td>1.29</td>\n",
              "    </tr>\n",
              "    <tr>\n",
              "      <th>20</th>\n",
              "      <td>21-Dec-2014</td>\n",
              "      <td>Central</td>\n",
              "      <td>Rachel</td>\n",
              "      <td>Binder</td>\n",
              "      <td>28</td>\n",
              "      <td>4.99</td>\n",
              "    </tr>\n",
              "    <tr>\n",
              "      <th>21</th>\n",
              "      <td>29-Dec-2014</td>\n",
              "      <td>East</td>\n",
              "      <td>Susan</td>\n",
              "      <td>Pen Set</td>\n",
              "      <td>74</td>\n",
              "      <td>15.99</td>\n",
              "    </tr>\n",
              "    <tr>\n",
              "      <th>22</th>\n",
              "      <td>6-Jan-2015</td>\n",
              "      <td>East</td>\n",
              "      <td>Richard</td>\n",
              "      <td>Pencil</td>\n",
              "      <td>95</td>\n",
              "      <td>1.99</td>\n",
              "    </tr>\n",
              "    <tr>\n",
              "      <th>23</th>\n",
              "      <td>15-Jan-2015</td>\n",
              "      <td>Central</td>\n",
              "      <td>Bill</td>\n",
              "      <td>Binder</td>\n",
              "      <td>46</td>\n",
              "      <td>8.99</td>\n",
              "    </tr>\n",
              "    <tr>\n",
              "      <th>24</th>\n",
              "      <td>23-Jan-2015</td>\n",
              "      <td>Central</td>\n",
              "      <td>Matthew</td>\n",
              "      <td>Binder</td>\n",
              "      <td>50</td>\n",
              "      <td>19.99</td>\n",
              "    </tr>\n",
              "    <tr>\n",
              "      <th>25</th>\n",
              "      <td>1-Feb-2015</td>\n",
              "      <td>Central</td>\n",
              "      <td>Smith</td>\n",
              "      <td>Binder</td>\n",
              "      <td>87</td>\n",
              "      <td>15.00</td>\n",
              "    </tr>\n",
              "    <tr>\n",
              "      <th>26</th>\n",
              "      <td>9-Feb-2015</td>\n",
              "      <td>Central</td>\n",
              "      <td>Alex</td>\n",
              "      <td>Pencil</td>\n",
              "      <td>36</td>\n",
              "      <td>4.99</td>\n",
              "    </tr>\n",
              "    <tr>\n",
              "      <th>27</th>\n",
              "      <td>18-Feb-2015</td>\n",
              "      <td>East</td>\n",
              "      <td>Richard</td>\n",
              "      <td>Binder</td>\n",
              "      <td>4</td>\n",
              "      <td>4.99</td>\n",
              "    </tr>\n",
              "    <tr>\n",
              "      <th>28</th>\n",
              "      <td>26-Feb-2015</td>\n",
              "      <td>Central</td>\n",
              "      <td>Bill</td>\n",
              "      <td>Pen</td>\n",
              "      <td>27</td>\n",
              "      <td>19.99</td>\n",
              "    </tr>\n",
              "    <tr>\n",
              "      <th>29</th>\n",
              "      <td>7-Mar-2015</td>\n",
              "      <td>West</td>\n",
              "      <td>James</td>\n",
              "      <td>Binder</td>\n",
              "      <td>7</td>\n",
              "      <td>19.99</td>\n",
              "    </tr>\n",
              "    <tr>\n",
              "      <th>30</th>\n",
              "      <td>15-Mar-2015</td>\n",
              "      <td>West</td>\n",
              "      <td>James</td>\n",
              "      <td>Pencil</td>\n",
              "      <td>56</td>\n",
              "      <td>2.99</td>\n",
              "    </tr>\n",
              "    <tr>\n",
              "      <th>31</th>\n",
              "      <td>24-Mar-2015</td>\n",
              "      <td>Central</td>\n",
              "      <td>Alex</td>\n",
              "      <td>Pen Set</td>\n",
              "      <td>50</td>\n",
              "      <td>4.99</td>\n",
              "    </tr>\n",
              "    <tr>\n",
              "      <th>32</th>\n",
              "      <td>1-Apr-2015</td>\n",
              "      <td>East</td>\n",
              "      <td>Richard</td>\n",
              "      <td>Binder</td>\n",
              "      <td>60</td>\n",
              "      <td>4.99</td>\n",
              "    </tr>\n",
              "    <tr>\n",
              "      <th>33</th>\n",
              "      <td>10-Apr-2015</td>\n",
              "      <td>Central</td>\n",
              "      <td>Rachel</td>\n",
              "      <td>Pencil</td>\n",
              "      <td>66</td>\n",
              "      <td>1.99</td>\n",
              "    </tr>\n",
              "    <tr>\n",
              "      <th>34</th>\n",
              "      <td>18-Apr-2015</td>\n",
              "      <td>Central</td>\n",
              "      <td>Rachel</td>\n",
              "      <td>Pencil</td>\n",
              "      <td>75</td>\n",
              "      <td>1.99</td>\n",
              "    </tr>\n",
              "    <tr>\n",
              "      <th>35</th>\n",
              "      <td>27-Apr-2015</td>\n",
              "      <td>East</td>\n",
              "      <td>Nick</td>\n",
              "      <td>Pen</td>\n",
              "      <td>96</td>\n",
              "      <td>4.99</td>\n",
              "    </tr>\n",
              "    <tr>\n",
              "      <th>36</th>\n",
              "      <td>5-May-2015</td>\n",
              "      <td>Central</td>\n",
              "      <td>Alex</td>\n",
              "      <td>Pencil</td>\n",
              "      <td>90</td>\n",
              "      <td>4.99</td>\n",
              "    </tr>\n",
              "    <tr>\n",
              "      <th>37</th>\n",
              "      <td>14-May-2015</td>\n",
              "      <td>Central</td>\n",
              "      <td>Bill</td>\n",
              "      <td>Pencil</td>\n",
              "      <td>53</td>\n",
              "      <td>1.29</td>\n",
              "    </tr>\n",
              "    <tr>\n",
              "      <th>38</th>\n",
              "      <td>22-May-2015</td>\n",
              "      <td>West</td>\n",
              "      <td>Thomas</td>\n",
              "      <td>Pencil</td>\n",
              "      <td>32</td>\n",
              "      <td>1.99</td>\n",
              "    </tr>\n",
              "    <tr>\n",
              "      <th>39</th>\n",
              "      <td>31-May-2015</td>\n",
              "      <td>Central</td>\n",
              "      <td>Bill</td>\n",
              "      <td>Binder</td>\n",
              "      <td>80</td>\n",
              "      <td>8.99</td>\n",
              "    </tr>\n",
              "    <tr>\n",
              "      <th>40</th>\n",
              "      <td>8-Jun-2015</td>\n",
              "      <td>East</td>\n",
              "      <td>Richard</td>\n",
              "      <td>Binder</td>\n",
              "      <td>60</td>\n",
              "      <td>8.99</td>\n",
              "    </tr>\n",
              "    <tr>\n",
              "      <th>41</th>\n",
              "      <td>17-Jun-2015</td>\n",
              "      <td>Central</td>\n",
              "      <td>Matthew</td>\n",
              "      <td>Desk</td>\n",
              "      <td>5</td>\n",
              "      <td>125.00</td>\n",
              "    </tr>\n",
              "    <tr>\n",
              "      <th>42</th>\n",
              "      <td>25-Jun-2015</td>\n",
              "      <td>Central</td>\n",
              "      <td>Morgan</td>\n",
              "      <td>Pencil</td>\n",
              "      <td>90</td>\n",
              "      <td>4.99</td>\n",
              "    </tr>\n",
              "  </tbody>\n",
              "</table>\n",
              "</div>"
            ],
            "text/plain": [
              "      OrderDate   Region      Rep     Item  Units  Unit Price\n",
              "0    4-Jul-2014     East  Richard  Pen Set     62        4.99\n",
              "1   12-Jul-2014     East     Nick   Binder     29        1.99\n",
              "2   21-Jul-2014  Central   Morgan  Pen Set     55       12.49\n",
              "3   29-Jul-2014     East    Susan   Binder     81       19.99\n",
              "4    7-Aug-2014  Central  Matthew  Pen Set     42       23.95\n",
              "5   15-Aug-2014     East  Richard   Pencil     35        4.99\n",
              "6   24-Aug-2014     West    James     Desk      3      275.00\n",
              "7    1-Sep-2014  Central    Smith     Desk      2      125.00\n",
              "8   10-Sep-2014  Central     Bill   Pencil      7        1.29\n",
              "9   18-Sep-2014     East  Richard  Pen Set     16       15.99\n",
              "10  27-Sep-2014     West    James      Pen     76        1.99\n",
              "11   5-Oct-2014  Central   Morgan   Binder     28        8.99\n",
              "12  14-Oct-2014     West   Thomas   Binder     57       19.99\n",
              "13  22-Oct-2014     East  Richard      Pen     64        8.99\n",
              "14  31-Oct-2014  Central   Rachel   Pencil     14        1.29\n",
              "15   8-Nov-2014     East    Susan      Pen     15       19.99\n",
              "16  17-Nov-2014  Central     Alex   Binder     11        4.99\n",
              "17  25-Nov-2014  Central  Matthew  Pen Set     96        4.99\n",
              "18   4-Dec-2014  Central     Alex   Binder     94       19.99\n",
              "19  12-Dec-2014  Central    Smith   Pencil     67        1.29\n",
              "20  21-Dec-2014  Central   Rachel   Binder     28        4.99\n",
              "21  29-Dec-2014     East    Susan  Pen Set     74       15.99\n",
              "22   6-Jan-2015     East  Richard   Pencil     95        1.99\n",
              "23  15-Jan-2015  Central     Bill   Binder     46        8.99\n",
              "24  23-Jan-2015  Central  Matthew   Binder     50       19.99\n",
              "25   1-Feb-2015  Central    Smith   Binder     87       15.00\n",
              "26   9-Feb-2015  Central     Alex   Pencil     36        4.99\n",
              "27  18-Feb-2015     East  Richard   Binder      4        4.99\n",
              "28  26-Feb-2015  Central     Bill      Pen     27       19.99\n",
              "29   7-Mar-2015     West    James   Binder      7       19.99\n",
              "30  15-Mar-2015     West    James   Pencil     56        2.99\n",
              "31  24-Mar-2015  Central     Alex  Pen Set     50        4.99\n",
              "32   1-Apr-2015     East  Richard   Binder     60        4.99\n",
              "33  10-Apr-2015  Central   Rachel   Pencil     66        1.99\n",
              "34  18-Apr-2015  Central   Rachel   Pencil     75        1.99\n",
              "35  27-Apr-2015     East     Nick      Pen     96        4.99\n",
              "36   5-May-2015  Central     Alex   Pencil     90        4.99\n",
              "37  14-May-2015  Central     Bill   Pencil     53        1.29\n",
              "38  22-May-2015     West   Thomas   Pencil     32        1.99\n",
              "39  31-May-2015  Central     Bill   Binder     80        8.99\n",
              "40   8-Jun-2015     East  Richard   Binder     60        8.99\n",
              "41  17-Jun-2015  Central  Matthew     Desk      5      125.00\n",
              "42  25-Jun-2015  Central   Morgan   Pencil     90        4.99"
            ]
          },
          "metadata": {
            "tags": []
          },
          "execution_count": 5
        }
      ]
    },
    {
      "cell_type": "code",
      "metadata": {
        "id": "K-CAKMhCEIyZ",
        "colab": {
          "base_uri": "https://localhost:8080/",
          "height": 195
        },
        "outputId": "acdc22f7-7165-4f30-80a8-0c6e9e9e5fe8"
      },
      "source": [
        "dfOS.head()"
      ],
      "execution_count": null,
      "outputs": [
        {
          "output_type": "execute_result",
          "data": {
            "text/html": [
              "<div>\n",
              "<style scoped>\n",
              "    .dataframe tbody tr th:only-of-type {\n",
              "        vertical-align: middle;\n",
              "    }\n",
              "\n",
              "    .dataframe tbody tr th {\n",
              "        vertical-align: top;\n",
              "    }\n",
              "\n",
              "    .dataframe thead th {\n",
              "        text-align: right;\n",
              "    }\n",
              "</style>\n",
              "<table border=\"1\" class=\"dataframe\">\n",
              "  <thead>\n",
              "    <tr style=\"text-align: right;\">\n",
              "      <th></th>\n",
              "      <th>OrderDate</th>\n",
              "      <th>Region</th>\n",
              "      <th>Rep</th>\n",
              "      <th>Item</th>\n",
              "      <th>Units</th>\n",
              "      <th>Unit Price</th>\n",
              "    </tr>\n",
              "  </thead>\n",
              "  <tbody>\n",
              "    <tr>\n",
              "      <th>0</th>\n",
              "      <td>4-Jul-2014</td>\n",
              "      <td>East</td>\n",
              "      <td>Richard</td>\n",
              "      <td>Pen Set</td>\n",
              "      <td>62</td>\n",
              "      <td>4.99</td>\n",
              "    </tr>\n",
              "    <tr>\n",
              "      <th>1</th>\n",
              "      <td>12-Jul-2014</td>\n",
              "      <td>East</td>\n",
              "      <td>Nick</td>\n",
              "      <td>Binder</td>\n",
              "      <td>29</td>\n",
              "      <td>1.99</td>\n",
              "    </tr>\n",
              "    <tr>\n",
              "      <th>2</th>\n",
              "      <td>21-Jul-2014</td>\n",
              "      <td>Central</td>\n",
              "      <td>Morgan</td>\n",
              "      <td>Pen Set</td>\n",
              "      <td>55</td>\n",
              "      <td>12.49</td>\n",
              "    </tr>\n",
              "    <tr>\n",
              "      <th>3</th>\n",
              "      <td>29-Jul-2014</td>\n",
              "      <td>East</td>\n",
              "      <td>Susan</td>\n",
              "      <td>Binder</td>\n",
              "      <td>81</td>\n",
              "      <td>19.99</td>\n",
              "    </tr>\n",
              "    <tr>\n",
              "      <th>4</th>\n",
              "      <td>7-Aug-2014</td>\n",
              "      <td>Central</td>\n",
              "      <td>Matthew</td>\n",
              "      <td>Pen Set</td>\n",
              "      <td>42</td>\n",
              "      <td>23.95</td>\n",
              "    </tr>\n",
              "  </tbody>\n",
              "</table>\n",
              "</div>"
            ],
            "text/plain": [
              "     OrderDate   Region      Rep     Item  Units  Unit Price\n",
              "0   4-Jul-2014     East  Richard  Pen Set     62        4.99\n",
              "1  12-Jul-2014     East     Nick   Binder     29        1.99\n",
              "2  21-Jul-2014  Central   Morgan  Pen Set     55       12.49\n",
              "3  29-Jul-2014     East    Susan   Binder     81       19.99\n",
              "4   7-Aug-2014  Central  Matthew  Pen Set     42       23.95"
            ]
          },
          "metadata": {
            "tags": []
          },
          "execution_count": 4
        }
      ]
    },
    {
      "cell_type": "code",
      "metadata": {
        "id": "2d6xSqj7Faic"
      },
      "source": [
        "dfOS['Value'] =dfOS['Units']*dfOS['Unit Price']"
      ],
      "execution_count": null,
      "outputs": []
    },
    {
      "cell_type": "code",
      "metadata": {
        "id": "4g7-4eVcF3LI",
        "colab": {
          "base_uri": "https://localhost:8080/",
          "height": 195
        },
        "outputId": "52d71810-6e82-422b-a260-18ea84c60909"
      },
      "source": [
        "dfOS.head()"
      ],
      "execution_count": null,
      "outputs": [
        {
          "output_type": "execute_result",
          "data": {
            "text/html": [
              "<div>\n",
              "<style scoped>\n",
              "    .dataframe tbody tr th:only-of-type {\n",
              "        vertical-align: middle;\n",
              "    }\n",
              "\n",
              "    .dataframe tbody tr th {\n",
              "        vertical-align: top;\n",
              "    }\n",
              "\n",
              "    .dataframe thead th {\n",
              "        text-align: right;\n",
              "    }\n",
              "</style>\n",
              "<table border=\"1\" class=\"dataframe\">\n",
              "  <thead>\n",
              "    <tr style=\"text-align: right;\">\n",
              "      <th></th>\n",
              "      <th>OrderDate</th>\n",
              "      <th>Region</th>\n",
              "      <th>Rep</th>\n",
              "      <th>Item</th>\n",
              "      <th>Units</th>\n",
              "      <th>Unit Price</th>\n",
              "      <th>Value</th>\n",
              "    </tr>\n",
              "  </thead>\n",
              "  <tbody>\n",
              "    <tr>\n",
              "      <th>0</th>\n",
              "      <td>4-Jul-2014</td>\n",
              "      <td>East</td>\n",
              "      <td>Richard</td>\n",
              "      <td>Pen Set</td>\n",
              "      <td>62</td>\n",
              "      <td>4.99</td>\n",
              "      <td>309.38</td>\n",
              "    </tr>\n",
              "    <tr>\n",
              "      <th>1</th>\n",
              "      <td>12-Jul-2014</td>\n",
              "      <td>East</td>\n",
              "      <td>Nick</td>\n",
              "      <td>Binder</td>\n",
              "      <td>29</td>\n",
              "      <td>1.99</td>\n",
              "      <td>57.71</td>\n",
              "    </tr>\n",
              "    <tr>\n",
              "      <th>2</th>\n",
              "      <td>21-Jul-2014</td>\n",
              "      <td>Central</td>\n",
              "      <td>Morgan</td>\n",
              "      <td>Pen Set</td>\n",
              "      <td>55</td>\n",
              "      <td>12.49</td>\n",
              "      <td>686.95</td>\n",
              "    </tr>\n",
              "    <tr>\n",
              "      <th>3</th>\n",
              "      <td>29-Jul-2014</td>\n",
              "      <td>East</td>\n",
              "      <td>Susan</td>\n",
              "      <td>Binder</td>\n",
              "      <td>81</td>\n",
              "      <td>19.99</td>\n",
              "      <td>1619.19</td>\n",
              "    </tr>\n",
              "    <tr>\n",
              "      <th>4</th>\n",
              "      <td>7-Aug-2014</td>\n",
              "      <td>Central</td>\n",
              "      <td>Matthew</td>\n",
              "      <td>Pen Set</td>\n",
              "      <td>42</td>\n",
              "      <td>23.95</td>\n",
              "      <td>1005.90</td>\n",
              "    </tr>\n",
              "  </tbody>\n",
              "</table>\n",
              "</div>"
            ],
            "text/plain": [
              "     OrderDate   Region      Rep     Item  Units  Unit Price    Value\n",
              "0   4-Jul-2014     East  Richard  Pen Set     62        4.99   309.38\n",
              "1  12-Jul-2014     East     Nick   Binder     29        1.99    57.71\n",
              "2  21-Jul-2014  Central   Morgan  Pen Set     55       12.49   686.95\n",
              "3  29-Jul-2014     East    Susan   Binder     81       19.99  1619.19\n",
              "4   7-Aug-2014  Central  Matthew  Pen Set     42       23.95  1005.90"
            ]
          },
          "metadata": {
            "tags": []
          },
          "execution_count": 6
        }
      ]
    },
    {
      "cell_type": "code",
      "metadata": {
        "id": "S0lQFV9CpDMY",
        "colab": {
          "base_uri": "https://localhost:8080/",
          "height": 195
        },
        "outputId": "5d613130-021e-4cb9-cbab-6c8e17e2418b"
      },
      "source": [
        "Cols = ['Region','Rep','Item','Units','Value']\n",
        "dfOS2 =dfOS[Cols]\n",
        "dfOS2.head()"
      ],
      "execution_count": null,
      "outputs": [
        {
          "output_type": "execute_result",
          "data": {
            "text/html": [
              "<div>\n",
              "<style scoped>\n",
              "    .dataframe tbody tr th:only-of-type {\n",
              "        vertical-align: middle;\n",
              "    }\n",
              "\n",
              "    .dataframe tbody tr th {\n",
              "        vertical-align: top;\n",
              "    }\n",
              "\n",
              "    .dataframe thead th {\n",
              "        text-align: right;\n",
              "    }\n",
              "</style>\n",
              "<table border=\"1\" class=\"dataframe\">\n",
              "  <thead>\n",
              "    <tr style=\"text-align: right;\">\n",
              "      <th></th>\n",
              "      <th>Region</th>\n",
              "      <th>Rep</th>\n",
              "      <th>Item</th>\n",
              "      <th>Units</th>\n",
              "      <th>Value</th>\n",
              "    </tr>\n",
              "  </thead>\n",
              "  <tbody>\n",
              "    <tr>\n",
              "      <th>0</th>\n",
              "      <td>East</td>\n",
              "      <td>Richard</td>\n",
              "      <td>Pen Set</td>\n",
              "      <td>62</td>\n",
              "      <td>309.38</td>\n",
              "    </tr>\n",
              "    <tr>\n",
              "      <th>1</th>\n",
              "      <td>East</td>\n",
              "      <td>Nick</td>\n",
              "      <td>Binder</td>\n",
              "      <td>29</td>\n",
              "      <td>57.71</td>\n",
              "    </tr>\n",
              "    <tr>\n",
              "      <th>2</th>\n",
              "      <td>Central</td>\n",
              "      <td>Morgan</td>\n",
              "      <td>Pen Set</td>\n",
              "      <td>55</td>\n",
              "      <td>686.95</td>\n",
              "    </tr>\n",
              "    <tr>\n",
              "      <th>3</th>\n",
              "      <td>East</td>\n",
              "      <td>Susan</td>\n",
              "      <td>Binder</td>\n",
              "      <td>81</td>\n",
              "      <td>1619.19</td>\n",
              "    </tr>\n",
              "    <tr>\n",
              "      <th>4</th>\n",
              "      <td>Central</td>\n",
              "      <td>Matthew</td>\n",
              "      <td>Pen Set</td>\n",
              "      <td>42</td>\n",
              "      <td>1005.90</td>\n",
              "    </tr>\n",
              "  </tbody>\n",
              "</table>\n",
              "</div>"
            ],
            "text/plain": [
              "    Region      Rep     Item  Units    Value\n",
              "0     East  Richard  Pen Set     62   309.38\n",
              "1     East     Nick   Binder     29    57.71\n",
              "2  Central   Morgan  Pen Set     55   686.95\n",
              "3     East    Susan   Binder     81  1619.19\n",
              "4  Central  Matthew  Pen Set     42  1005.90"
            ]
          },
          "metadata": {
            "tags": []
          },
          "execution_count": 7
        }
      ]
    },
    {
      "cell_type": "code",
      "metadata": {
        "id": "yMWSH2yeGKLt",
        "colab": {
          "base_uri": "https://localhost:8080/",
          "height": 235
        },
        "outputId": "9a7dc2b5-0faa-4c4a-a6e5-1a2f660ec2dc"
      },
      "source": [
        "dfItem = dfOS2.groupby(\"Item\").sum()\n",
        "dfItem"
      ],
      "execution_count": null,
      "outputs": [
        {
          "output_type": "execute_result",
          "data": {
            "text/html": [
              "<div>\n",
              "<style scoped>\n",
              "    .dataframe tbody tr th:only-of-type {\n",
              "        vertical-align: middle;\n",
              "    }\n",
              "\n",
              "    .dataframe tbody tr th {\n",
              "        vertical-align: top;\n",
              "    }\n",
              "\n",
              "    .dataframe thead th {\n",
              "        text-align: right;\n",
              "    }\n",
              "</style>\n",
              "<table border=\"1\" class=\"dataframe\">\n",
              "  <thead>\n",
              "    <tr style=\"text-align: right;\">\n",
              "      <th></th>\n",
              "      <th>Units</th>\n",
              "      <th>Value</th>\n",
              "    </tr>\n",
              "    <tr>\n",
              "      <th>Item</th>\n",
              "      <th></th>\n",
              "      <th></th>\n",
              "    </tr>\n",
              "  </thead>\n",
              "  <tbody>\n",
              "    <tr>\n",
              "      <th>Binder</th>\n",
              "      <td>722</td>\n",
              "      <td>9577.65</td>\n",
              "    </tr>\n",
              "    <tr>\n",
              "      <th>Desk</th>\n",
              "      <td>10</td>\n",
              "      <td>1700.00</td>\n",
              "    </tr>\n",
              "    <tr>\n",
              "      <th>Pen</th>\n",
              "      <td>278</td>\n",
              "      <td>2045.22</td>\n",
              "    </tr>\n",
              "    <tr>\n",
              "      <th>Pen Set</th>\n",
              "      <td>395</td>\n",
              "      <td>4169.87</td>\n",
              "    </tr>\n",
              "    <tr>\n",
              "      <th>Pencil</th>\n",
              "      <td>716</td>\n",
              "      <td>2135.14</td>\n",
              "    </tr>\n",
              "  </tbody>\n",
              "</table>\n",
              "</div>"
            ],
            "text/plain": [
              "         Units    Value\n",
              "Item                   \n",
              "Binder     722  9577.65\n",
              "Desk        10  1700.00\n",
              "Pen        278  2045.22\n",
              "Pen Set    395  4169.87\n",
              "Pencil     716  2135.14"
            ]
          },
          "metadata": {
            "tags": []
          },
          "execution_count": 12
        }
      ]
    },
    {
      "cell_type": "code",
      "metadata": {
        "id": "Iq6T9ceipiez",
        "colab": {
          "base_uri": "https://localhost:8080/",
          "height": 173
        },
        "outputId": "e152e5cf-5467-47ad-8c71-07d0b8293a49"
      },
      "source": [
        "dfRegion = dfOS2.groupby('Region').sum()\n",
        "dfRegion"
      ],
      "execution_count": null,
      "outputs": [
        {
          "output_type": "execute_result",
          "data": {
            "text/html": [
              "<div>\n",
              "<style scoped>\n",
              "    .dataframe tbody tr th:only-of-type {\n",
              "        vertical-align: middle;\n",
              "    }\n",
              "\n",
              "    .dataframe tbody tr th {\n",
              "        vertical-align: top;\n",
              "    }\n",
              "\n",
              "    .dataframe thead th {\n",
              "        text-align: right;\n",
              "    }\n",
              "</style>\n",
              "<table border=\"1\" class=\"dataframe\">\n",
              "  <thead>\n",
              "    <tr style=\"text-align: right;\">\n",
              "      <th></th>\n",
              "      <th>Units</th>\n",
              "      <th>Value</th>\n",
              "    </tr>\n",
              "    <tr>\n",
              "      <th>Region</th>\n",
              "      <th></th>\n",
              "      <th></th>\n",
              "    </tr>\n",
              "  </thead>\n",
              "  <tbody>\n",
              "    <tr>\n",
              "      <th>Central</th>\n",
              "      <td>1199</td>\n",
              "      <td>11139.07</td>\n",
              "    </tr>\n",
              "    <tr>\n",
              "      <th>East</th>\n",
              "      <td>691</td>\n",
              "      <td>6002.09</td>\n",
              "    </tr>\n",
              "    <tr>\n",
              "      <th>West</th>\n",
              "      <td>231</td>\n",
              "      <td>2486.72</td>\n",
              "    </tr>\n",
              "  </tbody>\n",
              "</table>\n",
              "</div>"
            ],
            "text/plain": [
              "         Units     Value\n",
              "Region                  \n",
              "Central   1199  11139.07\n",
              "East       691   6002.09\n",
              "West       231   2486.72"
            ]
          },
          "metadata": {
            "tags": []
          },
          "execution_count": 13
        }
      ]
    },
    {
      "cell_type": "code",
      "metadata": {
        "id": "eL5zX2g6pvEq",
        "colab": {
          "base_uri": "https://localhost:8080/",
          "height": 483
        },
        "outputId": "27b9636d-1fe5-48f4-d103-d9d27480314f"
      },
      "source": [
        "dfRI = dfOS2.groupby(['Region','Item']).sum()\n",
        "dfRI"
      ],
      "execution_count": null,
      "outputs": [
        {
          "output_type": "execute_result",
          "data": {
            "text/html": [
              "<div>\n",
              "<style scoped>\n",
              "    .dataframe tbody tr th:only-of-type {\n",
              "        vertical-align: middle;\n",
              "    }\n",
              "\n",
              "    .dataframe tbody tr th {\n",
              "        vertical-align: top;\n",
              "    }\n",
              "\n",
              "    .dataframe thead th {\n",
              "        text-align: right;\n",
              "    }\n",
              "</style>\n",
              "<table border=\"1\" class=\"dataframe\">\n",
              "  <thead>\n",
              "    <tr style=\"text-align: right;\">\n",
              "      <th></th>\n",
              "      <th></th>\n",
              "      <th>Units</th>\n",
              "      <th>Value</th>\n",
              "    </tr>\n",
              "    <tr>\n",
              "      <th>Region</th>\n",
              "      <th>Item</th>\n",
              "      <th></th>\n",
              "      <th></th>\n",
              "    </tr>\n",
              "  </thead>\n",
              "  <tbody>\n",
              "    <tr>\n",
              "      <th rowspan=\"5\" valign=\"top\">Central</th>\n",
              "      <th>Binder</th>\n",
              "      <td>424</td>\n",
              "      <td>5762.63</td>\n",
              "    </tr>\n",
              "    <tr>\n",
              "      <th>Desk</th>\n",
              "      <td>7</td>\n",
              "      <td>875.00</td>\n",
              "    </tr>\n",
              "    <tr>\n",
              "      <th>Pen</th>\n",
              "      <td>27</td>\n",
              "      <td>539.73</td>\n",
              "    </tr>\n",
              "    <tr>\n",
              "      <th>Pen Set</th>\n",
              "      <td>243</td>\n",
              "      <td>2421.39</td>\n",
              "    </tr>\n",
              "    <tr>\n",
              "      <th>Pencil</th>\n",
              "      <td>498</td>\n",
              "      <td>1540.32</td>\n",
              "    </tr>\n",
              "    <tr>\n",
              "      <th rowspan=\"4\" valign=\"top\">East</th>\n",
              "      <th>Binder</th>\n",
              "      <td>234</td>\n",
              "      <td>2535.66</td>\n",
              "    </tr>\n",
              "    <tr>\n",
              "      <th>Pen</th>\n",
              "      <td>175</td>\n",
              "      <td>1354.25</td>\n",
              "    </tr>\n",
              "    <tr>\n",
              "      <th>Pen Set</th>\n",
              "      <td>152</td>\n",
              "      <td>1748.48</td>\n",
              "    </tr>\n",
              "    <tr>\n",
              "      <th>Pencil</th>\n",
              "      <td>130</td>\n",
              "      <td>363.70</td>\n",
              "    </tr>\n",
              "    <tr>\n",
              "      <th rowspan=\"4\" valign=\"top\">West</th>\n",
              "      <th>Binder</th>\n",
              "      <td>64</td>\n",
              "      <td>1279.36</td>\n",
              "    </tr>\n",
              "    <tr>\n",
              "      <th>Desk</th>\n",
              "      <td>3</td>\n",
              "      <td>825.00</td>\n",
              "    </tr>\n",
              "    <tr>\n",
              "      <th>Pen</th>\n",
              "      <td>76</td>\n",
              "      <td>151.24</td>\n",
              "    </tr>\n",
              "    <tr>\n",
              "      <th>Pencil</th>\n",
              "      <td>88</td>\n",
              "      <td>231.12</td>\n",
              "    </tr>\n",
              "  </tbody>\n",
              "</table>\n",
              "</div>"
            ],
            "text/plain": [
              "                 Units    Value\n",
              "Region  Item                   \n",
              "Central Binder     424  5762.63\n",
              "        Desk         7   875.00\n",
              "        Pen         27   539.73\n",
              "        Pen Set    243  2421.39\n",
              "        Pencil     498  1540.32\n",
              "East    Binder     234  2535.66\n",
              "        Pen        175  1354.25\n",
              "        Pen Set    152  1748.48\n",
              "        Pencil     130   363.70\n",
              "West    Binder      64  1279.36\n",
              "        Desk         3   825.00\n",
              "        Pen         76   151.24\n",
              "        Pencil      88   231.12"
            ]
          },
          "metadata": {
            "tags": []
          },
          "execution_count": 14
        }
      ]
    },
    {
      "cell_type": "code",
      "metadata": {
        "id": "dwxj5iwrrBsi",
        "colab": {
          "base_uri": "https://localhost:8080/",
          "height": 483
        },
        "outputId": "00b12058-897c-4cc8-fa98-8c442ec4bb0e"
      },
      "source": [
        "#https://pbpython.com/pandas-pivot-table-explained.html\n",
        "pd.pivot_table(dfOS2,index=[\"Region\",\"Item\"],aggfunc=np.sum)"
      ],
      "execution_count": null,
      "outputs": [
        {
          "output_type": "execute_result",
          "data": {
            "text/html": [
              "<div>\n",
              "<style scoped>\n",
              "    .dataframe tbody tr th:only-of-type {\n",
              "        vertical-align: middle;\n",
              "    }\n",
              "\n",
              "    .dataframe tbody tr th {\n",
              "        vertical-align: top;\n",
              "    }\n",
              "\n",
              "    .dataframe thead th {\n",
              "        text-align: right;\n",
              "    }\n",
              "</style>\n",
              "<table border=\"1\" class=\"dataframe\">\n",
              "  <thead>\n",
              "    <tr style=\"text-align: right;\">\n",
              "      <th></th>\n",
              "      <th></th>\n",
              "      <th>Units</th>\n",
              "      <th>Value</th>\n",
              "    </tr>\n",
              "    <tr>\n",
              "      <th>Region</th>\n",
              "      <th>Item</th>\n",
              "      <th></th>\n",
              "      <th></th>\n",
              "    </tr>\n",
              "  </thead>\n",
              "  <tbody>\n",
              "    <tr>\n",
              "      <th rowspan=\"5\" valign=\"top\">Central</th>\n",
              "      <th>Binder</th>\n",
              "      <td>424</td>\n",
              "      <td>5762.63</td>\n",
              "    </tr>\n",
              "    <tr>\n",
              "      <th>Desk</th>\n",
              "      <td>7</td>\n",
              "      <td>875.00</td>\n",
              "    </tr>\n",
              "    <tr>\n",
              "      <th>Pen</th>\n",
              "      <td>27</td>\n",
              "      <td>539.73</td>\n",
              "    </tr>\n",
              "    <tr>\n",
              "      <th>Pen Set</th>\n",
              "      <td>243</td>\n",
              "      <td>2421.39</td>\n",
              "    </tr>\n",
              "    <tr>\n",
              "      <th>Pencil</th>\n",
              "      <td>498</td>\n",
              "      <td>1540.32</td>\n",
              "    </tr>\n",
              "    <tr>\n",
              "      <th rowspan=\"4\" valign=\"top\">East</th>\n",
              "      <th>Binder</th>\n",
              "      <td>234</td>\n",
              "      <td>2535.66</td>\n",
              "    </tr>\n",
              "    <tr>\n",
              "      <th>Pen</th>\n",
              "      <td>175</td>\n",
              "      <td>1354.25</td>\n",
              "    </tr>\n",
              "    <tr>\n",
              "      <th>Pen Set</th>\n",
              "      <td>152</td>\n",
              "      <td>1748.48</td>\n",
              "    </tr>\n",
              "    <tr>\n",
              "      <th>Pencil</th>\n",
              "      <td>130</td>\n",
              "      <td>363.70</td>\n",
              "    </tr>\n",
              "    <tr>\n",
              "      <th rowspan=\"4\" valign=\"top\">West</th>\n",
              "      <th>Binder</th>\n",
              "      <td>64</td>\n",
              "      <td>1279.36</td>\n",
              "    </tr>\n",
              "    <tr>\n",
              "      <th>Desk</th>\n",
              "      <td>3</td>\n",
              "      <td>825.00</td>\n",
              "    </tr>\n",
              "    <tr>\n",
              "      <th>Pen</th>\n",
              "      <td>76</td>\n",
              "      <td>151.24</td>\n",
              "    </tr>\n",
              "    <tr>\n",
              "      <th>Pencil</th>\n",
              "      <td>88</td>\n",
              "      <td>231.12</td>\n",
              "    </tr>\n",
              "  </tbody>\n",
              "</table>\n",
              "</div>"
            ],
            "text/plain": [
              "                 Units    Value\n",
              "Region  Item                   \n",
              "Central Binder     424  5762.63\n",
              "        Desk         7   875.00\n",
              "        Pen         27   539.73\n",
              "        Pen Set    243  2421.39\n",
              "        Pencil     498  1540.32\n",
              "East    Binder     234  2535.66\n",
              "        Pen        175  1354.25\n",
              "        Pen Set    152  1748.48\n",
              "        Pencil     130   363.70\n",
              "West    Binder      64  1279.36\n",
              "        Desk         3   825.00\n",
              "        Pen         76   151.24\n",
              "        Pencil      88   231.12"
            ]
          },
          "metadata": {
            "tags": []
          },
          "execution_count": 81
        }
      ]
    },
    {
      "cell_type": "code",
      "metadata": {
        "id": "_WGMLUjTGvrr",
        "colab": {
          "base_uri": "https://localhost:8080/",
          "height": 543
        },
        "outputId": "565108a8-45b3-4694-bae4-fa5f574a0975"
      },
      "source": [
        "dfItem.plot(\n",
        "    y=['Value', 'Units'],\n",
        "    kind='bar', \n",
        "    legend=True, \n",
        "    color=['green','orange'],\n",
        "    figsize=(12,8))"
      ],
      "execution_count": null,
      "outputs": [
        {
          "output_type": "execute_result",
          "data": {
            "text/plain": [
              "<matplotlib.axes._subplots.AxesSubplot at 0x7f3283101128>"
            ]
          },
          "metadata": {
            "tags": []
          },
          "execution_count": 77
        },
        {
          "output_type": "display_data",
          "data": {
            "image/png": "[encoded data removed]",
            "text/plain": [
              "<Figure size 864x576 with 1 Axes>"
            ]
          },
          "metadata": {
            "tags": []
          }
        }
      ]
    },
    {
      "cell_type": "code",
      "metadata": {
        "id": "hNBUanSCI9wt",
        "colab": {
          "base_uri": "https://localhost:8080/",
          "height": 297
        },
        "outputId": "e13b71ee-4bd8-4a31-b525-4c38ccbeb650"
      },
      "source": [
        "dfOS2[dfOS2['Rep']=='Richard']"
      ],
      "execution_count": null,
      "outputs": [
        {
          "output_type": "execute_result",
          "data": {
            "text/html": [
              "<div>\n",
              "<style scoped>\n",
              "    .dataframe tbody tr th:only-of-type {\n",
              "        vertical-align: middle;\n",
              "    }\n",
              "\n",
              "    .dataframe tbody tr th {\n",
              "        vertical-align: top;\n",
              "    }\n",
              "\n",
              "    .dataframe thead th {\n",
              "        text-align: right;\n",
              "    }\n",
              "</style>\n",
              "<table border=\"1\" class=\"dataframe\">\n",
              "  <thead>\n",
              "    <tr style=\"text-align: right;\">\n",
              "      <th></th>\n",
              "      <th>Region</th>\n",
              "      <th>Rep</th>\n",
              "      <th>Item</th>\n",
              "      <th>Units</th>\n",
              "      <th>Value</th>\n",
              "    </tr>\n",
              "  </thead>\n",
              "  <tbody>\n",
              "    <tr>\n",
              "      <th>0</th>\n",
              "      <td>East</td>\n",
              "      <td>Richard</td>\n",
              "      <td>Pen Set</td>\n",
              "      <td>62</td>\n",
              "      <td>309.38</td>\n",
              "    </tr>\n",
              "    <tr>\n",
              "      <th>5</th>\n",
              "      <td>East</td>\n",
              "      <td>Richard</td>\n",
              "      <td>Pencil</td>\n",
              "      <td>35</td>\n",
              "      <td>174.65</td>\n",
              "    </tr>\n",
              "    <tr>\n",
              "      <th>9</th>\n",
              "      <td>East</td>\n",
              "      <td>Richard</td>\n",
              "      <td>Pen Set</td>\n",
              "      <td>16</td>\n",
              "      <td>255.84</td>\n",
              "    </tr>\n",
              "    <tr>\n",
              "      <th>13</th>\n",
              "      <td>East</td>\n",
              "      <td>Richard</td>\n",
              "      <td>Pen</td>\n",
              "      <td>64</td>\n",
              "      <td>575.36</td>\n",
              "    </tr>\n",
              "    <tr>\n",
              "      <th>22</th>\n",
              "      <td>East</td>\n",
              "      <td>Richard</td>\n",
              "      <td>Pencil</td>\n",
              "      <td>95</td>\n",
              "      <td>189.05</td>\n",
              "    </tr>\n",
              "    <tr>\n",
              "      <th>27</th>\n",
              "      <td>East</td>\n",
              "      <td>Richard</td>\n",
              "      <td>Binder</td>\n",
              "      <td>4</td>\n",
              "      <td>19.96</td>\n",
              "    </tr>\n",
              "    <tr>\n",
              "      <th>32</th>\n",
              "      <td>East</td>\n",
              "      <td>Richard</td>\n",
              "      <td>Binder</td>\n",
              "      <td>60</td>\n",
              "      <td>299.40</td>\n",
              "    </tr>\n",
              "    <tr>\n",
              "      <th>40</th>\n",
              "      <td>East</td>\n",
              "      <td>Richard</td>\n",
              "      <td>Binder</td>\n",
              "      <td>60</td>\n",
              "      <td>539.40</td>\n",
              "    </tr>\n",
              "  </tbody>\n",
              "</table>\n",
              "</div>"
            ],
            "text/plain": [
              "   Region      Rep     Item  Units   Value\n",
              "0    East  Richard  Pen Set     62  309.38\n",
              "5    East  Richard   Pencil     35  174.65\n",
              "9    East  Richard  Pen Set     16  255.84\n",
              "13   East  Richard      Pen     64  575.36\n",
              "22   East  Richard   Pencil     95  189.05\n",
              "27   East  Richard   Binder      4   19.96\n",
              "32   East  Richard   Binder     60  299.40\n",
              "40   East  Richard   Binder     60  539.40"
            ]
          },
          "metadata": {
            "tags": []
          },
          "execution_count": 15
        }
      ]
    },
    {
      "cell_type": "code",
      "metadata": {
        "id": "j0nZmuD9JN7D",
        "colab": {
          "base_uri": "https://localhost:8080/",
          "height": 111
        },
        "outputId": "a51d0325-d5f0-4535-b035-846cd8bf10e8"
      },
      "source": [
        "dfOS2[(dfOS2['Rep']=='Richard') & (dfOS2['Item'] == 'Pencil')]"
      ],
      "execution_count": null,
      "outputs": [
        {
          "output_type": "execute_result",
          "data": {
            "text/html": [
              "<div>\n",
              "<style scoped>\n",
              "    .dataframe tbody tr th:only-of-type {\n",
              "        vertical-align: middle;\n",
              "    }\n",
              "\n",
              "    .dataframe tbody tr th {\n",
              "        vertical-align: top;\n",
              "    }\n",
              "\n",
              "    .dataframe thead th {\n",
              "        text-align: right;\n",
              "    }\n",
              "</style>\n",
              "<table border=\"1\" class=\"dataframe\">\n",
              "  <thead>\n",
              "    <tr style=\"text-align: right;\">\n",
              "      <th></th>\n",
              "      <th>Region</th>\n",
              "      <th>Rep</th>\n",
              "      <th>Item</th>\n",
              "      <th>Units</th>\n",
              "      <th>Value</th>\n",
              "    </tr>\n",
              "  </thead>\n",
              "  <tbody>\n",
              "    <tr>\n",
              "      <th>5</th>\n",
              "      <td>East</td>\n",
              "      <td>Richard</td>\n",
              "      <td>Pencil</td>\n",
              "      <td>35</td>\n",
              "      <td>174.65</td>\n",
              "    </tr>\n",
              "    <tr>\n",
              "      <th>22</th>\n",
              "      <td>East</td>\n",
              "      <td>Richard</td>\n",
              "      <td>Pencil</td>\n",
              "      <td>95</td>\n",
              "      <td>189.05</td>\n",
              "    </tr>\n",
              "  </tbody>\n",
              "</table>\n",
              "</div>"
            ],
            "text/plain": [
              "   Region      Rep    Item  Units   Value\n",
              "5    East  Richard  Pencil     35  174.65\n",
              "22   East  Richard  Pencil     95  189.05"
            ]
          },
          "metadata": {
            "tags": []
          },
          "execution_count": 19
        }
      ]
    },
    {
      "cell_type": "code",
      "metadata": {
        "id": "jJZBEO8LIfYE",
        "colab": {
          "base_uri": "https://localhost:8080/",
          "height": 638
        },
        "outputId": "5974e96d-091d-44b9-fc1d-498b8322088f"
      },
      "source": [
        "dfOS2[(dfOS2['Rep']=='Richard') | (dfOS2['Item'] == 'Pencil')]"
      ],
      "execution_count": null,
      "outputs": [
        {
          "output_type": "execute_result",
          "data": {
            "text/html": [
              "<div>\n",
              "<style scoped>\n",
              "    .dataframe tbody tr th:only-of-type {\n",
              "        vertical-align: middle;\n",
              "    }\n",
              "\n",
              "    .dataframe tbody tr th {\n",
              "        vertical-align: top;\n",
              "    }\n",
              "\n",
              "    .dataframe thead th {\n",
              "        text-align: right;\n",
              "    }\n",
              "</style>\n",
              "<table border=\"1\" class=\"dataframe\">\n",
              "  <thead>\n",
              "    <tr style=\"text-align: right;\">\n",
              "      <th></th>\n",
              "      <th>Region</th>\n",
              "      <th>Rep</th>\n",
              "      <th>Item</th>\n",
              "      <th>Units</th>\n",
              "      <th>Value</th>\n",
              "    </tr>\n",
              "  </thead>\n",
              "  <tbody>\n",
              "    <tr>\n",
              "      <th>0</th>\n",
              "      <td>East</td>\n",
              "      <td>Richard</td>\n",
              "      <td>Pen Set</td>\n",
              "      <td>62</td>\n",
              "      <td>309.38</td>\n",
              "    </tr>\n",
              "    <tr>\n",
              "      <th>5</th>\n",
              "      <td>East</td>\n",
              "      <td>Richard</td>\n",
              "      <td>Pencil</td>\n",
              "      <td>35</td>\n",
              "      <td>174.65</td>\n",
              "    </tr>\n",
              "    <tr>\n",
              "      <th>8</th>\n",
              "      <td>Central</td>\n",
              "      <td>Bill</td>\n",
              "      <td>Pencil</td>\n",
              "      <td>7</td>\n",
              "      <td>9.03</td>\n",
              "    </tr>\n",
              "    <tr>\n",
              "      <th>9</th>\n",
              "      <td>East</td>\n",
              "      <td>Richard</td>\n",
              "      <td>Pen Set</td>\n",
              "      <td>16</td>\n",
              "      <td>255.84</td>\n",
              "    </tr>\n",
              "    <tr>\n",
              "      <th>13</th>\n",
              "      <td>East</td>\n",
              "      <td>Richard</td>\n",
              "      <td>Pen</td>\n",
              "      <td>64</td>\n",
              "      <td>575.36</td>\n",
              "    </tr>\n",
              "    <tr>\n",
              "      <th>14</th>\n",
              "      <td>Central</td>\n",
              "      <td>Rachel</td>\n",
              "      <td>Pencil</td>\n",
              "      <td>14</td>\n",
              "      <td>18.06</td>\n",
              "    </tr>\n",
              "    <tr>\n",
              "      <th>19</th>\n",
              "      <td>Central</td>\n",
              "      <td>Smith</td>\n",
              "      <td>Pencil</td>\n",
              "      <td>67</td>\n",
              "      <td>86.43</td>\n",
              "    </tr>\n",
              "    <tr>\n",
              "      <th>22</th>\n",
              "      <td>East</td>\n",
              "      <td>Richard</td>\n",
              "      <td>Pencil</td>\n",
              "      <td>95</td>\n",
              "      <td>189.05</td>\n",
              "    </tr>\n",
              "    <tr>\n",
              "      <th>26</th>\n",
              "      <td>Central</td>\n",
              "      <td>Alex</td>\n",
              "      <td>Pencil</td>\n",
              "      <td>36</td>\n",
              "      <td>179.64</td>\n",
              "    </tr>\n",
              "    <tr>\n",
              "      <th>27</th>\n",
              "      <td>East</td>\n",
              "      <td>Richard</td>\n",
              "      <td>Binder</td>\n",
              "      <td>4</td>\n",
              "      <td>19.96</td>\n",
              "    </tr>\n",
              "    <tr>\n",
              "      <th>30</th>\n",
              "      <td>West</td>\n",
              "      <td>James</td>\n",
              "      <td>Pencil</td>\n",
              "      <td>56</td>\n",
              "      <td>167.44</td>\n",
              "    </tr>\n",
              "    <tr>\n",
              "      <th>32</th>\n",
              "      <td>East</td>\n",
              "      <td>Richard</td>\n",
              "      <td>Binder</td>\n",
              "      <td>60</td>\n",
              "      <td>299.40</td>\n",
              "    </tr>\n",
              "    <tr>\n",
              "      <th>33</th>\n",
              "      <td>Central</td>\n",
              "      <td>Rachel</td>\n",
              "      <td>Pencil</td>\n",
              "      <td>66</td>\n",
              "      <td>131.34</td>\n",
              "    </tr>\n",
              "    <tr>\n",
              "      <th>34</th>\n",
              "      <td>Central</td>\n",
              "      <td>Rachel</td>\n",
              "      <td>Pencil</td>\n",
              "      <td>75</td>\n",
              "      <td>149.25</td>\n",
              "    </tr>\n",
              "    <tr>\n",
              "      <th>36</th>\n",
              "      <td>Central</td>\n",
              "      <td>Alex</td>\n",
              "      <td>Pencil</td>\n",
              "      <td>90</td>\n",
              "      <td>449.10</td>\n",
              "    </tr>\n",
              "    <tr>\n",
              "      <th>37</th>\n",
              "      <td>Central</td>\n",
              "      <td>Bill</td>\n",
              "      <td>Pencil</td>\n",
              "      <td>53</td>\n",
              "      <td>68.37</td>\n",
              "    </tr>\n",
              "    <tr>\n",
              "      <th>38</th>\n",
              "      <td>West</td>\n",
              "      <td>Thomas</td>\n",
              "      <td>Pencil</td>\n",
              "      <td>32</td>\n",
              "      <td>63.68</td>\n",
              "    </tr>\n",
              "    <tr>\n",
              "      <th>40</th>\n",
              "      <td>East</td>\n",
              "      <td>Richard</td>\n",
              "      <td>Binder</td>\n",
              "      <td>60</td>\n",
              "      <td>539.40</td>\n",
              "    </tr>\n",
              "    <tr>\n",
              "      <th>42</th>\n",
              "      <td>Central</td>\n",
              "      <td>Morgan</td>\n",
              "      <td>Pencil</td>\n",
              "      <td>90</td>\n",
              "      <td>449.10</td>\n",
              "    </tr>\n",
              "  </tbody>\n",
              "</table>\n",
              "</div>"
            ],
            "text/plain": [
              "     Region      Rep     Item  Units   Value\n",
              "0      East  Richard  Pen Set     62  309.38\n",
              "5      East  Richard   Pencil     35  174.65\n",
              "8   Central     Bill   Pencil      7    9.03\n",
              "9      East  Richard  Pen Set     16  255.84\n",
              "13     East  Richard      Pen     64  575.36\n",
              "14  Central   Rachel   Pencil     14   18.06\n",
              "19  Central    Smith   Pencil     67   86.43\n",
              "22     East  Richard   Pencil     95  189.05\n",
              "26  Central     Alex   Pencil     36  179.64\n",
              "27     East  Richard   Binder      4   19.96\n",
              "30     West    James   Pencil     56  167.44\n",
              "32     East  Richard   Binder     60  299.40\n",
              "33  Central   Rachel   Pencil     66  131.34\n",
              "34  Central   Rachel   Pencil     75  149.25\n",
              "36  Central     Alex   Pencil     90  449.10\n",
              "37  Central     Bill   Pencil     53   68.37\n",
              "38     West   Thomas   Pencil     32   63.68\n",
              "40     East  Richard   Binder     60  539.40\n",
              "42  Central   Morgan   Pencil     90  449.10"
            ]
          },
          "metadata": {
            "tags": []
          },
          "execution_count": 20
        }
      ]
    },
    {
      "cell_type": "code",
      "metadata": {
        "id": "6A8aqOpnSL7B",
        "colab": {
          "base_uri": "https://localhost:8080/",
          "height": 1000
        },
        "outputId": "01659e8a-2472-40b7-9858-5054a6df9c77"
      },
      "source": [
        "dfOS2[['Region','Item','Value']]"
      ],
      "execution_count": null,
      "outputs": [
        {
          "output_type": "execute_result",
          "data": {
            "text/html": [
              "<div>\n",
              "<style scoped>\n",
              "    .dataframe tbody tr th:only-of-type {\n",
              "        vertical-align: middle;\n",
              "    }\n",
              "\n",
              "    .dataframe tbody tr th {\n",
              "        vertical-align: top;\n",
              "    }\n",
              "\n",
              "    .dataframe thead th {\n",
              "        text-align: right;\n",
              "    }\n",
              "</style>\n",
              "<table border=\"1\" class=\"dataframe\">\n",
              "  <thead>\n",
              "    <tr style=\"text-align: right;\">\n",
              "      <th></th>\n",
              "      <th>Region</th>\n",
              "      <th>Item</th>\n",
              "      <th>Value</th>\n",
              "    </tr>\n",
              "  </thead>\n",
              "  <tbody>\n",
              "    <tr>\n",
              "      <th>0</th>\n",
              "      <td>East</td>\n",
              "      <td>Pen Set</td>\n",
              "      <td>309.38</td>\n",
              "    </tr>\n",
              "    <tr>\n",
              "      <th>1</th>\n",
              "      <td>East</td>\n",
              "      <td>Binder</td>\n",
              "      <td>57.71</td>\n",
              "    </tr>\n",
              "    <tr>\n",
              "      <th>2</th>\n",
              "      <td>Central</td>\n",
              "      <td>Pen Set</td>\n",
              "      <td>686.95</td>\n",
              "    </tr>\n",
              "    <tr>\n",
              "      <th>3</th>\n",
              "      <td>East</td>\n",
              "      <td>Binder</td>\n",
              "      <td>1619.19</td>\n",
              "    </tr>\n",
              "    <tr>\n",
              "      <th>4</th>\n",
              "      <td>Central</td>\n",
              "      <td>Pen Set</td>\n",
              "      <td>1005.90</td>\n",
              "    </tr>\n",
              "    <tr>\n",
              "      <th>5</th>\n",
              "      <td>East</td>\n",
              "      <td>Pencil</td>\n",
              "      <td>174.65</td>\n",
              "    </tr>\n",
              "    <tr>\n",
              "      <th>6</th>\n",
              "      <td>West</td>\n",
              "      <td>Desk</td>\n",
              "      <td>825.00</td>\n",
              "    </tr>\n",
              "    <tr>\n",
              "      <th>7</th>\n",
              "      <td>Central</td>\n",
              "      <td>Desk</td>\n",
              "      <td>250.00</td>\n",
              "    </tr>\n",
              "    <tr>\n",
              "      <th>8</th>\n",
              "      <td>Central</td>\n",
              "      <td>Pencil</td>\n",
              "      <td>9.03</td>\n",
              "    </tr>\n",
              "    <tr>\n",
              "      <th>9</th>\n",
              "      <td>East</td>\n",
              "      <td>Pen Set</td>\n",
              "      <td>255.84</td>\n",
              "    </tr>\n",
              "    <tr>\n",
              "      <th>10</th>\n",
              "      <td>West</td>\n",
              "      <td>Pen</td>\n",
              "      <td>151.24</td>\n",
              "    </tr>\n",
              "    <tr>\n",
              "      <th>11</th>\n",
              "      <td>Central</td>\n",
              "      <td>Binder</td>\n",
              "      <td>251.72</td>\n",
              "    </tr>\n",
              "    <tr>\n",
              "      <th>12</th>\n",
              "      <td>West</td>\n",
              "      <td>Binder</td>\n",
              "      <td>1139.43</td>\n",
              "    </tr>\n",
              "    <tr>\n",
              "      <th>13</th>\n",
              "      <td>East</td>\n",
              "      <td>Pen</td>\n",
              "      <td>575.36</td>\n",
              "    </tr>\n",
              "    <tr>\n",
              "      <th>14</th>\n",
              "      <td>Central</td>\n",
              "      <td>Pencil</td>\n",
              "      <td>18.06</td>\n",
              "    </tr>\n",
              "    <tr>\n",
              "      <th>15</th>\n",
              "      <td>East</td>\n",
              "      <td>Pen</td>\n",
              "      <td>299.85</td>\n",
              "    </tr>\n",
              "    <tr>\n",
              "      <th>16</th>\n",
              "      <td>Central</td>\n",
              "      <td>Binder</td>\n",
              "      <td>54.89</td>\n",
              "    </tr>\n",
              "    <tr>\n",
              "      <th>17</th>\n",
              "      <td>Central</td>\n",
              "      <td>Pen Set</td>\n",
              "      <td>479.04</td>\n",
              "    </tr>\n",
              "    <tr>\n",
              "      <th>18</th>\n",
              "      <td>Central</td>\n",
              "      <td>Binder</td>\n",
              "      <td>1879.06</td>\n",
              "    </tr>\n",
              "    <tr>\n",
              "      <th>19</th>\n",
              "      <td>Central</td>\n",
              "      <td>Pencil</td>\n",
              "      <td>86.43</td>\n",
              "    </tr>\n",
              "    <tr>\n",
              "      <th>20</th>\n",
              "      <td>Central</td>\n",
              "      <td>Binder</td>\n",
              "      <td>139.72</td>\n",
              "    </tr>\n",
              "    <tr>\n",
              "      <th>21</th>\n",
              "      <td>East</td>\n",
              "      <td>Pen Set</td>\n",
              "      <td>1183.26</td>\n",
              "    </tr>\n",
              "    <tr>\n",
              "      <th>22</th>\n",
              "      <td>East</td>\n",
              "      <td>Pencil</td>\n",
              "      <td>189.05</td>\n",
              "    </tr>\n",
              "    <tr>\n",
              "      <th>23</th>\n",
              "      <td>Central</td>\n",
              "      <td>Binder</td>\n",
              "      <td>413.54</td>\n",
              "    </tr>\n",
              "    <tr>\n",
              "      <th>24</th>\n",
              "      <td>Central</td>\n",
              "      <td>Binder</td>\n",
              "      <td>999.50</td>\n",
              "    </tr>\n",
              "    <tr>\n",
              "      <th>25</th>\n",
              "      <td>Central</td>\n",
              "      <td>Binder</td>\n",
              "      <td>1305.00</td>\n",
              "    </tr>\n",
              "    <tr>\n",
              "      <th>26</th>\n",
              "      <td>Central</td>\n",
              "      <td>Pencil</td>\n",
              "      <td>179.64</td>\n",
              "    </tr>\n",
              "    <tr>\n",
              "      <th>27</th>\n",
              "      <td>East</td>\n",
              "      <td>Binder</td>\n",
              "      <td>19.96</td>\n",
              "    </tr>\n",
              "    <tr>\n",
              "      <th>28</th>\n",
              "      <td>Central</td>\n",
              "      <td>Pen</td>\n",
              "      <td>539.73</td>\n",
              "    </tr>\n",
              "    <tr>\n",
              "      <th>29</th>\n",
              "      <td>West</td>\n",
              "      <td>Binder</td>\n",
              "      <td>139.93</td>\n",
              "    </tr>\n",
              "    <tr>\n",
              "      <th>30</th>\n",
              "      <td>West</td>\n",
              "      <td>Pencil</td>\n",
              "      <td>167.44</td>\n",
              "    </tr>\n",
              "    <tr>\n",
              "      <th>31</th>\n",
              "      <td>Central</td>\n",
              "      <td>Pen Set</td>\n",
              "      <td>249.50</td>\n",
              "    </tr>\n",
              "    <tr>\n",
              "      <th>32</th>\n",
              "      <td>East</td>\n",
              "      <td>Binder</td>\n",
              "      <td>299.40</td>\n",
              "    </tr>\n",
              "    <tr>\n",
              "      <th>33</th>\n",
              "      <td>Central</td>\n",
              "      <td>Pencil</td>\n",
              "      <td>131.34</td>\n",
              "    </tr>\n",
              "    <tr>\n",
              "      <th>34</th>\n",
              "      <td>Central</td>\n",
              "      <td>Pencil</td>\n",
              "      <td>149.25</td>\n",
              "    </tr>\n",
              "    <tr>\n",
              "      <th>35</th>\n",
              "      <td>East</td>\n",
              "      <td>Pen</td>\n",
              "      <td>479.04</td>\n",
              "    </tr>\n",
              "    <tr>\n",
              "      <th>36</th>\n",
              "      <td>Central</td>\n",
              "      <td>Pencil</td>\n",
              "      <td>449.10</td>\n",
              "    </tr>\n",
              "    <tr>\n",
              "      <th>37</th>\n",
              "      <td>Central</td>\n",
              "      <td>Pencil</td>\n",
              "      <td>68.37</td>\n",
              "    </tr>\n",
              "    <tr>\n",
              "      <th>38</th>\n",
              "      <td>West</td>\n",
              "      <td>Pencil</td>\n",
              "      <td>63.68</td>\n",
              "    </tr>\n",
              "    <tr>\n",
              "      <th>39</th>\n",
              "      <td>Central</td>\n",
              "      <td>Binder</td>\n",
              "      <td>719.20</td>\n",
              "    </tr>\n",
              "    <tr>\n",
              "      <th>40</th>\n",
              "      <td>East</td>\n",
              "      <td>Binder</td>\n",
              "      <td>539.40</td>\n",
              "    </tr>\n",
              "    <tr>\n",
              "      <th>41</th>\n",
              "      <td>Central</td>\n",
              "      <td>Desk</td>\n",
              "      <td>625.00</td>\n",
              "    </tr>\n",
              "    <tr>\n",
              "      <th>42</th>\n",
              "      <td>Central</td>\n",
              "      <td>Pencil</td>\n",
              "      <td>449.10</td>\n",
              "    </tr>\n",
              "  </tbody>\n",
              "</table>\n",
              "</div>"
            ],
            "text/plain": [
              "     Region     Item    Value\n",
              "0      East  Pen Set   309.38\n",
              "1      East   Binder    57.71\n",
              "2   Central  Pen Set   686.95\n",
              "3      East   Binder  1619.19\n",
              "4   Central  Pen Set  1005.90\n",
              "5      East   Pencil   174.65\n",
              "6      West     Desk   825.00\n",
              "7   Central     Desk   250.00\n",
              "8   Central   Pencil     9.03\n",
              "9      East  Pen Set   255.84\n",
              "10     West      Pen   151.24\n",
              "11  Central   Binder   251.72\n",
              "12     West   Binder  1139.43\n",
              "13     East      Pen   575.36\n",
              "14  Central   Pencil    18.06\n",
              "15     East      Pen   299.85\n",
              "16  Central   Binder    54.89\n",
              "17  Central  Pen Set   479.04\n",
              "18  Central   Binder  1879.06\n",
              "19  Central   Pencil    86.43\n",
              "20  Central   Binder   139.72\n",
              "21     East  Pen Set  1183.26\n",
              "22     East   Pencil   189.05\n",
              "23  Central   Binder   413.54\n",
              "24  Central   Binder   999.50\n",
              "25  Central   Binder  1305.00\n",
              "26  Central   Pencil   179.64\n",
              "27     East   Binder    19.96\n",
              "28  Central      Pen   539.73\n",
              "29     West   Binder   139.93\n",
              "30     West   Pencil   167.44\n",
              "31  Central  Pen Set   249.50\n",
              "32     East   Binder   299.40\n",
              "33  Central   Pencil   131.34\n",
              "34  Central   Pencil   149.25\n",
              "35     East      Pen   479.04\n",
              "36  Central   Pencil   449.10\n",
              "37  Central   Pencil    68.37\n",
              "38     West   Pencil    63.68\n",
              "39  Central   Binder   719.20\n",
              "40     East   Binder   539.40\n",
              "41  Central     Desk   625.00\n",
              "42  Central   Pencil   449.10"
            ]
          },
          "metadata": {
            "tags": []
          },
          "execution_count": 21
        }
      ]
    }
  ]
}